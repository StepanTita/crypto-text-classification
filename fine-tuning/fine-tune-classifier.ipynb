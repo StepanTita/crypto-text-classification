{
 "cells": [
  {
   "cell_type": "code",
   "execution_count": 1,
   "id": "d60f19e1",
   "metadata": {
    "ExecuteTime": {
     "start_time": "2023-12-07T12:12:12.057821Z",
     "end_time": "2023-12-07T12:12:23.614835Z"
    }
   },
   "outputs": [
    {
     "name": "stdout",
     "output_type": "stream",
     "text": [
      "Collecting openai==0.25.0\r\n",
      "  Downloading openai-0.25.0.tar.gz (44 kB)\r\n",
      "\u001B[2K     \u001B[90m━━━━━━━━━━━━━━━━━━━━━━━━━━━━━━━━━━━━━━━━\u001B[0m \u001B[32m44.9/44.9 kB\u001B[0m \u001B[31m1.3 MB/s\u001B[0m eta \u001B[36m0:00:00\u001B[0m\r\n",
      "\u001B[?25h  Installing build dependencies ... \u001B[?25ldone\r\n",
      "\u001B[?25h  Getting requirements to build wheel ... \u001B[?25ldone\r\n",
      "\u001B[?25h  Preparing metadata (pyproject.toml) ... \u001B[?25ldone\r\n",
      "\u001B[?25hRequirement already satisfied: requests>=2.20 in /Users/stepantytarenko/opt/anaconda3/envs/py310/lib/python3.10/site-packages (from openai==0.25.0) (2.28.1)\r\n",
      "Collecting pandas-stubs>=1.1.0.11\r\n",
      "  Downloading pandas_stubs-2.1.1.230928-py3-none-any.whl (153 kB)\r\n",
      "\u001B[2K     \u001B[90m━━━━━━━━━━━━━━━━━━━━━━━━━━━━━━━━━━━━━━━\u001B[0m \u001B[32m153.5/153.5 kB\u001B[0m \u001B[31m6.0 MB/s\u001B[0m eta \u001B[36m0:00:00\u001B[0m\r\n",
      "\u001B[?25hRequirement already satisfied: typing-extensions in /Users/stepantytarenko/opt/anaconda3/envs/py310/lib/python3.10/site-packages (from openai==0.25.0) (4.4.0)\r\n",
      "Collecting openpyxl>=3.0.7\r\n",
      "  Downloading openpyxl-3.1.2-py2.py3-none-any.whl (249 kB)\r\n",
      "\u001B[2K     \u001B[90m━━━━━━━━━━━━━━━━━━━━━━━━━━━━━━━━━━━━━━\u001B[0m \u001B[32m250.0/250.0 kB\u001B[0m \u001B[31m11.6 MB/s\u001B[0m eta \u001B[36m0:00:00\u001B[0m\r\n",
      "\u001B[?25hRequirement already satisfied: pandas>=1.2.3 in /Users/stepantytarenko/opt/anaconda3/envs/py310/lib/python3.10/site-packages (from openai==0.25.0) (1.5.3)\r\n",
      "Requirement already satisfied: tqdm in /Users/stepantytarenko/opt/anaconda3/envs/py310/lib/python3.10/site-packages (from openai==0.25.0) (4.65.0)\r\n",
      "Requirement already satisfied: numpy in /Users/stepantytarenko/opt/anaconda3/envs/py310/lib/python3.10/site-packages (from openai==0.25.0) (1.24.2)\r\n",
      "Collecting et-xmlfile\r\n",
      "  Downloading et_xmlfile-1.1.0-py3-none-any.whl (4.7 kB)\r\n",
      "Requirement already satisfied: python-dateutil>=2.8.1 in /Users/stepantytarenko/opt/anaconda3/envs/py310/lib/python3.10/site-packages (from pandas>=1.2.3->openai==0.25.0) (2.8.2)\r\n",
      "Requirement already satisfied: pytz>=2020.1 in /Users/stepantytarenko/opt/anaconda3/envs/py310/lib/python3.10/site-packages (from pandas>=1.2.3->openai==0.25.0) (2022.7)\r\n",
      "Collecting numpy\r\n",
      "  Downloading numpy-1.26.2-cp310-cp310-macosx_10_9_x86_64.whl (20.6 MB)\r\n",
      "\u001B[2K     \u001B[90m━━━━━━━━━━━━━━━━━━━━━━━━━━━━━━━━━━━━━━━━\u001B[0m \u001B[32m20.6/20.6 MB\u001B[0m \u001B[31m6.0 MB/s\u001B[0m eta \u001B[36m0:00:00\u001B[0m00:01\u001B[0m00:01\u001B[0m\r\n",
      "\u001B[?25hCollecting types-pytz>=2022.1.1\r\n",
      "  Downloading types_pytz-2023.3.1.1-py3-none-any.whl (4.9 kB)\r\n",
      "Requirement already satisfied: charset-normalizer<3,>=2 in /Users/stepantytarenko/opt/anaconda3/envs/py310/lib/python3.10/site-packages (from requests>=2.20->openai==0.25.0) (2.0.4)\r\n",
      "Requirement already satisfied: certifi>=2017.4.17 in /Users/stepantytarenko/opt/anaconda3/envs/py310/lib/python3.10/site-packages (from requests>=2.20->openai==0.25.0) (2023.5.7)\r\n",
      "Requirement already satisfied: urllib3<1.27,>=1.21.1 in /Users/stepantytarenko/opt/anaconda3/envs/py310/lib/python3.10/site-packages (from requests>=2.20->openai==0.25.0) (1.26.14)\r\n",
      "Requirement already satisfied: idna<4,>=2.5 in /Users/stepantytarenko/opt/anaconda3/envs/py310/lib/python3.10/site-packages (from requests>=2.20->openai==0.25.0) (3.4)\r\n",
      "Requirement already satisfied: six>=1.5 in /Users/stepantytarenko/opt/anaconda3/envs/py310/lib/python3.10/site-packages (from python-dateutil>=2.8.1->pandas>=1.2.3->openai==0.25.0) (1.16.0)\r\n",
      "Building wheels for collected packages: openai\r\n",
      "  Building wheel for openai (pyproject.toml) ... \u001B[?25ldone\r\n",
      "\u001B[?25h  Created wheel for openai: filename=openai-0.25.0-py3-none-any.whl size=55848 sha256=eb2db7aba14bbbe11d1c86f2d70c8a35f95a495f7de4d6a0eabcb3c6da6a722b\r\n",
      "  Stored in directory: /Users/stepantytarenko/Library/Caches/pip/wheels/80/5f/5e/43a5c7e951736aa9c66faafc0d493b2e3f7467cfbd399db109\r\n",
      "Successfully built openai\r\n",
      "Installing collected packages: types-pytz, numpy, et-xmlfile, pandas-stubs, openpyxl, openai\r\n",
      "  Attempting uninstall: numpy\r\n",
      "    Found existing installation: numpy 1.24.2\r\n",
      "    Uninstalling numpy-1.24.2:\r\n",
      "      Successfully uninstalled numpy-1.24.2\r\n",
      "Successfully installed et-xmlfile-1.1.0 numpy-1.26.2 openai-0.25.0 openpyxl-3.1.2 pandas-stubs-2.1.1.230928 types-pytz-2023.3.1.1\r\n"
     ]
    }
   ],
   "source": [
    "# !pip install --upgrade openai\n",
    "# ! pip uninstall openai\n",
    "! pip install openai==0.25.0"
   ]
  },
  {
   "cell_type": "code",
   "execution_count": 2,
   "outputs": [],
   "source": [
    "import numpy as np\n",
    "import pandas as pd\n",
    "import openai"
   ],
   "metadata": {
    "collapsed": false,
    "ExecuteTime": {
     "start_time": "2023-12-07T12:12:35.378323Z",
     "end_time": "2023-12-07T12:12:42.343203Z"
    }
   }
  },
  {
   "cell_type": "code",
   "execution_count": 3,
   "id": "c5a1fdf2",
   "metadata": {
    "ExecuteTime": {
     "start_time": "2023-12-07T12:13:11.966112Z",
     "end_time": "2023-12-07T12:13:12.988613Z"
    }
   },
   "outputs": [
    {
     "name": "stdout",
     "output_type": "stream",
     "text": [
      "Analyzing...\r\n",
      "\r\n",
      "- Your file contains 1929 prompt-completion pairs\r\n",
      "- Based on your data it seems like you're trying to fine-tune a model for classification\r\n",
      "- For classification, we recommend you try one of the faster and cheaper models, such as `ada`\r\n",
      "- For classification, you can estimate the expected model performance by keeping a held out dataset, which is not used for training\r\n",
      "- All prompts end with suffix `\\n\\n###\\n\\n`\r\n",
      "- All prompts start with prefix `Source: `\r\n",
      "\r\n",
      "No remediations found.\r\n",
      "- [Recommended] Would you like to split into training and validation set? [Y/n]: Y\r\n",
      "\r\n",
      "\r\n",
      "Your data will be written to a new JSONL file. Proceed [Y/n]: Y\r\n",
      "\r\n",
      "Wrote modified files to `../output/classification/FINAL_source_title_description_prepared_train.jsonl` and `../output/classification/FINAL_source_title_description_prepared_valid.jsonl`\r\n",
      "Feel free to take a look!\r\n",
      "\r\n",
      "Now use that file when fine-tuning:\r\n",
      "> openai api fine_tunes.create -t \"../output/classification/FINAL_source_title_description_prepared_train.jsonl\" -v \"../output/classification/FINAL_source_title_description_prepared_valid.jsonl\" --compute_classification_metrics --classification_positive_class \" no effect END\"\r\n",
      "\r\n",
      "After you’ve fine-tuned a model, remember that your prompt has to end with the indicator string `\\n\\n###\\n\\n` for the model to start generating completions, rather than continuing with the prompt. Make sure to include `stop=[\" END\"]` so that the generated texts ends at the expected place.\r\n",
      "Once your model starts training, it'll approximately take 48.63 minutes to train a `curie` model, and less for `ada` and `babbage`. Queue will approximately take half an hour per job ahead of you.\r\n"
     ]
    }
   ],
   "source": [
    "!openai tools fine_tunes.prepare_data -f ../output/classification/FINAL_source_title_description.jsonl -q"
   ]
  },
  {
   "cell_type": "code",
   "execution_count": null,
   "id": "a07374e5",
   "metadata": {
    "ExecuteTime": {
     "start_time": "2023-12-07T12:13:38.513085Z",
     "end_time": "2023-12-07T12:13:38.519335Z"
    }
   },
   "outputs": [],
   "source": [
    "%env OPENAI_API_KEY=***"
   ]
  },
  {
   "cell_type": "code",
   "execution_count": null,
   "id": "099fd32b",
   "metadata": {},
   "outputs": [],
   "source": [
    "!printenv"
   ]
  },
  {
   "cell_type": "markdown",
   "id": "7db78aa9",
   "metadata": {},
   "source": [
    "# Fine-tuning"
   ]
  },
  {
   "cell_type": "code",
   "execution_count": 5,
   "id": "813afd8e",
   "metadata": {
    "ExecuteTime": {
     "start_time": "2023-12-07T12:14:14.309040Z",
     "end_time": "2023-12-07T12:15:19.223204Z"
    }
   },
   "outputs": [
    {
     "name": "stdout",
     "output_type": "stream",
     "text": [
      "Upload progress: 100%|███████████████████████| 598k/598k [00:00<00:00, 264Mit/s]\r\n",
      "Uploaded file from ../output/classification/FINAL_source_title_description_prepared_train.jsonl: file-2Wln6ApiPkBe0C13Xs7AC2OH\r\n",
      "Upload progress: 100%|██████████████████████| 149k/149k [00:00<00:00, 72.1Mit/s]\r\n",
      "Uploaded file from ../output/classification/FINAL_source_title_description_prepared_valid.jsonl: file-PLx5iT3BdDtlpzANCrOF5V8p\r\n",
      "Created fine-tune: ft-63AydrqjHDKxbb9WZzr6sPNc\r\n",
      "Streaming events until fine-tuning is complete...\r\n",
      "\r\n",
      "(Ctrl-C will interrupt the stream, but not cancel the fine-tune)\r\n",
      "[2023-12-07 12:14:18] Created fine-tune: ft-63AydrqjHDKxbb9WZzr6sPNc\r\n",
      "[2023-12-07 12:14:27] Fine-tune costs $0.10\r\n",
      "[2023-12-07 12:14:28] Fine-tune enqueued. Queue number: 0\r\n",
      "\r\n"
     ]
    }
   ],
   "source": [
    "! openai api fine_tunes.create -t \"../output/classification/FINAL_source_title_description_prepared_train.jsonl\" -v \"../output/classification/FINAL_source_title_description_prepared_valid.jsonl\" --compute_classification_metrics --classification_positive_class \" no effect END\" --n_epochs 2 --model 'ada'"
   ]
  },
  {
   "cell_type": "code",
   "execution_count": 14,
   "id": "0c16c557",
   "metadata": {
    "ExecuteTime": {
     "start_time": "2023-12-07T12:38:19.714829Z",
     "end_time": "2023-12-07T12:38:21.088520Z"
    }
   },
   "outputs": [
    {
     "name": "stdout",
     "output_type": "stream",
     "text": [
      "[2023-12-07 12:14:18] Created fine-tune: ft-63AydrqjHDKxbb9WZzr6sPNc\r\n",
      "[2023-12-07 12:14:27] Fine-tune costs $0.10\r\n",
      "[2023-12-07 12:14:28] Fine-tune enqueued. Queue number: 0\r\n",
      "[2023-12-07 12:24:33] Fine-tune started\r\n",
      "[2023-12-07 12:29:50] Completed epoch 1/2\r\n",
      "[2023-12-07 12:35:43] Uploaded model: ada:ft-personal-2023-12-07-17-35-42\r\n",
      "[2023-12-07 12:35:44] Uploaded result file: file-C61fvkVTbuu3JuvNLyQxK3vY\r\n",
      "[2023-12-07 12:35:44] Fine-tune succeeded\r\n",
      "\r\n",
      "Job complete! Status: succeeded 🎉\r\n",
      "Try out your fine-tuned model:\r\n",
      "\r\n",
      "openai api completions.create -m ada:ft-personal-2023-12-07-17-35-42 -p <YOUR_PROMPT>\r\n"
     ]
    }
   ],
   "source": [
    "! openai api fine_tunes.follow -i ft-63AydrqjHDKxbb9WZzr6sPNc"
   ]
  },
  {
   "cell_type": "code",
   "execution_count": 10,
   "id": "74524dc1",
   "metadata": {
    "ExecuteTime": {
     "start_time": "2023-12-07T12:37:50.900132Z",
     "end_time": "2023-12-07T12:37:52.291450Z"
    }
   },
   "outputs": [
    {
     "name": "stdout",
     "output_type": "stream",
     "text": [
      "{\r\n",
      "  \"data\": [\r\n",
      "    {\r\n",
      "      \"created_at\": 1701969258,\r\n",
      "      \"fine_tuned_model\": \"ada:ft-personal-2023-12-07-17-35-42\",\r\n",
      "      \"hyperparams\": {\r\n",
      "        \"batch_size\": 2,\r\n",
      "        \"classification_positive_class\": \" no effect END\",\r\n",
      "        \"compute_classification_metrics\": true,\r\n",
      "        \"learning_rate_multiplier\": 0.1,\r\n",
      "        \"n_epochs\": 2,\r\n",
      "        \"prompt_loss_weight\": 0.01\r\n",
      "      },\r\n",
      "      \"id\": \"ft-63AydrqjHDKxbb9WZzr6sPNc\",\r\n",
      "      \"model\": \"ada\",\r\n",
      "      \"object\": \"fine-tune\",\r\n",
      "      \"organization_id\": \"org-JQbJi4c5ylFS9TuzMGZP6rEO\",\r\n",
      "      \"result_files\": [\r\n",
      "        {\r\n",
      "          \"bytes\": 91100,\r\n",
      "          \"created_at\": 1701970543,\r\n",
      "          \"filename\": \"compiled_results.csv\",\r\n",
      "          \"id\": \"file-C61fvkVTbuu3JuvNLyQxK3vY\",\r\n",
      "          \"object\": \"file\",\r\n",
      "          \"purpose\": \"fine-tune-results\",\r\n",
      "          \"status\": \"processed\",\r\n",
      "          \"status_details\": null\r\n",
      "        }\r\n",
      "      ],\r\n",
      "      \"status\": \"succeeded\",\r\n",
      "      \"training_files\": [\r\n",
      "        {\r\n",
      "          \"bytes\": 597727,\r\n",
      "          \"created_at\": 1701969256,\r\n",
      "          \"filename\": \"../output/classification/FINAL_source_title_description_prepared_train.jsonl\",\r\n",
      "          \"id\": \"file-2Wln6ApiPkBe0C13Xs7AC2OH\",\r\n",
      "          \"object\": \"file\",\r\n",
      "          \"purpose\": \"fine-tune\",\r\n",
      "          \"status\": \"processed\",\r\n",
      "          \"status_details\": null\r\n",
      "        }\r\n",
      "      ],\r\n",
      "      \"updated_at\": 1701970544,\r\n",
      "      \"validation_files\": [\r\n",
      "        {\r\n",
      "          \"bytes\": 149055,\r\n",
      "          \"created_at\": 1701969258,\r\n",
      "          \"filename\": \"../output/classification/FINAL_source_title_description_prepared_valid.jsonl\",\r\n",
      "          \"id\": \"file-PLx5iT3BdDtlpzANCrOF5V8p\",\r\n",
      "          \"object\": \"file\",\r\n",
      "          \"purpose\": \"fine-tune\",\r\n",
      "          \"status\": \"processed\",\r\n",
      "          \"status_details\": null\r\n",
      "        }\r\n",
      "      ]\r\n",
      "    }\r\n",
      "  ],\r\n",
      "  \"next_starting_after\": null,\r\n",
      "  \"object\": \"list\"\r\n",
      "}\r\n"
     ]
    }
   ],
   "source": [
    "! openai api fine_tunes.list"
   ]
  },
  {
   "cell_type": "code",
   "execution_count": 15,
   "id": "db95f394",
   "metadata": {
    "ExecuteTime": {
     "start_time": "2023-12-07T12:38:39.866486Z",
     "end_time": "2023-12-07T12:38:43.504361Z"
    }
   },
   "outputs": [],
   "source": [
    "! openai api fine_tunes.results -i ft-63AydrqjHDKxbb9WZzr6sPNc > ../results_unsupervised.csv"
   ]
  },
  {
   "cell_type": "code",
   "execution_count": 16,
   "id": "b19a1e74",
   "metadata": {
    "ExecuteTime": {
     "start_time": "2023-12-07T12:38:44.122810Z",
     "end_time": "2023-12-07T12:38:44.152191Z"
    }
   },
   "outputs": [
    {
     "data": {
      "text/plain": "      step  elapsed_tokens  elapsed_examples  training_loss  \\\n0        1             226                 2       0.348536   \n1        2             484                 4       0.331520   \n2        3             758                 6       0.248810   \n3        4             984                 8       0.229617   \n4        5            1194                10       0.192315   \n...    ...             ...               ...            ...   \n1540  1541          311210              3082       0.032872   \n1541  1542          311468              3084       0.037244   \n1542  1543          311646              3086       0.037077   \n1543  1544          311856              3088       0.024495   \n1544  1545          312114              3090       0.019135   \n\n      training_sequence_accuracy  training_token_accuracy  validation_loss  \\\n0                            0.0                 0.000000         0.441382   \n1                            0.0                 0.000000              NaN   \n2                            0.0                 0.000000              NaN   \n3                            0.0                 0.000000              NaN   \n4                            0.0                 0.000000              NaN   \n...                          ...                      ...              ...   \n1540                         0.0                 0.600000              NaN   \n1541                         0.5                 0.800000              NaN   \n1542                         0.0                 0.666667              NaN   \n1543                         0.5                 0.800000              NaN   \n1544                         1.0                 1.000000         0.023455   \n\n      validation_sequence_accuracy  validation_token_accuracy  \\\n0                              0.0                        0.0   \n1                              NaN                        NaN   \n2                              NaN                        NaN   \n3                              NaN                        NaN   \n4                              NaN                        NaN   \n...                            ...                        ...   \n1540                           NaN                        NaN   \n1541                           NaN                        NaN   \n1542                           NaN                        NaN   \n1543                           NaN                        NaN   \n1544                           0.5                        0.8   \n\n      classification/accuracy  classification/precision  \\\n0                         NaN                       NaN   \n1                         NaN                       NaN   \n2                         NaN                       NaN   \n3                         NaN                       NaN   \n4                         NaN                       NaN   \n...                       ...                       ...   \n1540                      NaN                       NaN   \n1541                      NaN                       NaN   \n1542                      NaN                       NaN   \n1543                      NaN                       NaN   \n1544                 0.660622                  0.718487   \n\n      classification/recall  classification/auroc  classification/auprc  \\\n0                       NaN                   NaN                   NaN   \n1                       NaN                   NaN                   NaN   \n2                       NaN                   NaN                   NaN   \n3                       NaN                   NaN                   NaN   \n4                       NaN                   NaN                   NaN   \n...                     ...                   ...                   ...   \n1540                    NaN                   NaN                   NaN   \n1541                    NaN                   NaN                   NaN   \n1542                    NaN                   NaN                   NaN   \n1543                    NaN                   NaN                   NaN   \n1544                0.72766              0.687178              0.762502   \n\n      classification/f1.0  \n0                     NaN  \n1                     NaN  \n2                     NaN  \n3                     NaN  \n4                     NaN  \n...                   ...  \n1540                  NaN  \n1541                  NaN  \n1542                  NaN  \n1543                  NaN  \n1544             0.723044  \n\n[1545 rows x 15 columns]",
      "text/html": "<div>\n<style scoped>\n    .dataframe tbody tr th:only-of-type {\n        vertical-align: middle;\n    }\n\n    .dataframe tbody tr th {\n        vertical-align: top;\n    }\n\n    .dataframe thead th {\n        text-align: right;\n    }\n</style>\n<table border=\"1\" class=\"dataframe\">\n  <thead>\n    <tr style=\"text-align: right;\">\n      <th></th>\n      <th>step</th>\n      <th>elapsed_tokens</th>\n      <th>elapsed_examples</th>\n      <th>training_loss</th>\n      <th>training_sequence_accuracy</th>\n      <th>training_token_accuracy</th>\n      <th>validation_loss</th>\n      <th>validation_sequence_accuracy</th>\n      <th>validation_token_accuracy</th>\n      <th>classification/accuracy</th>\n      <th>classification/precision</th>\n      <th>classification/recall</th>\n      <th>classification/auroc</th>\n      <th>classification/auprc</th>\n      <th>classification/f1.0</th>\n    </tr>\n  </thead>\n  <tbody>\n    <tr>\n      <th>0</th>\n      <td>1</td>\n      <td>226</td>\n      <td>2</td>\n      <td>0.348536</td>\n      <td>0.0</td>\n      <td>0.000000</td>\n      <td>0.441382</td>\n      <td>0.0</td>\n      <td>0.0</td>\n      <td>NaN</td>\n      <td>NaN</td>\n      <td>NaN</td>\n      <td>NaN</td>\n      <td>NaN</td>\n      <td>NaN</td>\n    </tr>\n    <tr>\n      <th>1</th>\n      <td>2</td>\n      <td>484</td>\n      <td>4</td>\n      <td>0.331520</td>\n      <td>0.0</td>\n      <td>0.000000</td>\n      <td>NaN</td>\n      <td>NaN</td>\n      <td>NaN</td>\n      <td>NaN</td>\n      <td>NaN</td>\n      <td>NaN</td>\n      <td>NaN</td>\n      <td>NaN</td>\n      <td>NaN</td>\n    </tr>\n    <tr>\n      <th>2</th>\n      <td>3</td>\n      <td>758</td>\n      <td>6</td>\n      <td>0.248810</td>\n      <td>0.0</td>\n      <td>0.000000</td>\n      <td>NaN</td>\n      <td>NaN</td>\n      <td>NaN</td>\n      <td>NaN</td>\n      <td>NaN</td>\n      <td>NaN</td>\n      <td>NaN</td>\n      <td>NaN</td>\n      <td>NaN</td>\n    </tr>\n    <tr>\n      <th>3</th>\n      <td>4</td>\n      <td>984</td>\n      <td>8</td>\n      <td>0.229617</td>\n      <td>0.0</td>\n      <td>0.000000</td>\n      <td>NaN</td>\n      <td>NaN</td>\n      <td>NaN</td>\n      <td>NaN</td>\n      <td>NaN</td>\n      <td>NaN</td>\n      <td>NaN</td>\n      <td>NaN</td>\n      <td>NaN</td>\n    </tr>\n    <tr>\n      <th>4</th>\n      <td>5</td>\n      <td>1194</td>\n      <td>10</td>\n      <td>0.192315</td>\n      <td>0.0</td>\n      <td>0.000000</td>\n      <td>NaN</td>\n      <td>NaN</td>\n      <td>NaN</td>\n      <td>NaN</td>\n      <td>NaN</td>\n      <td>NaN</td>\n      <td>NaN</td>\n      <td>NaN</td>\n      <td>NaN</td>\n    </tr>\n    <tr>\n      <th>...</th>\n      <td>...</td>\n      <td>...</td>\n      <td>...</td>\n      <td>...</td>\n      <td>...</td>\n      <td>...</td>\n      <td>...</td>\n      <td>...</td>\n      <td>...</td>\n      <td>...</td>\n      <td>...</td>\n      <td>...</td>\n      <td>...</td>\n      <td>...</td>\n      <td>...</td>\n    </tr>\n    <tr>\n      <th>1540</th>\n      <td>1541</td>\n      <td>311210</td>\n      <td>3082</td>\n      <td>0.032872</td>\n      <td>0.0</td>\n      <td>0.600000</td>\n      <td>NaN</td>\n      <td>NaN</td>\n      <td>NaN</td>\n      <td>NaN</td>\n      <td>NaN</td>\n      <td>NaN</td>\n      <td>NaN</td>\n      <td>NaN</td>\n      <td>NaN</td>\n    </tr>\n    <tr>\n      <th>1541</th>\n      <td>1542</td>\n      <td>311468</td>\n      <td>3084</td>\n      <td>0.037244</td>\n      <td>0.5</td>\n      <td>0.800000</td>\n      <td>NaN</td>\n      <td>NaN</td>\n      <td>NaN</td>\n      <td>NaN</td>\n      <td>NaN</td>\n      <td>NaN</td>\n      <td>NaN</td>\n      <td>NaN</td>\n      <td>NaN</td>\n    </tr>\n    <tr>\n      <th>1542</th>\n      <td>1543</td>\n      <td>311646</td>\n      <td>3086</td>\n      <td>0.037077</td>\n      <td>0.0</td>\n      <td>0.666667</td>\n      <td>NaN</td>\n      <td>NaN</td>\n      <td>NaN</td>\n      <td>NaN</td>\n      <td>NaN</td>\n      <td>NaN</td>\n      <td>NaN</td>\n      <td>NaN</td>\n      <td>NaN</td>\n    </tr>\n    <tr>\n      <th>1543</th>\n      <td>1544</td>\n      <td>311856</td>\n      <td>3088</td>\n      <td>0.024495</td>\n      <td>0.5</td>\n      <td>0.800000</td>\n      <td>NaN</td>\n      <td>NaN</td>\n      <td>NaN</td>\n      <td>NaN</td>\n      <td>NaN</td>\n      <td>NaN</td>\n      <td>NaN</td>\n      <td>NaN</td>\n      <td>NaN</td>\n    </tr>\n    <tr>\n      <th>1544</th>\n      <td>1545</td>\n      <td>312114</td>\n      <td>3090</td>\n      <td>0.019135</td>\n      <td>1.0</td>\n      <td>1.000000</td>\n      <td>0.023455</td>\n      <td>0.5</td>\n      <td>0.8</td>\n      <td>0.660622</td>\n      <td>0.718487</td>\n      <td>0.72766</td>\n      <td>0.687178</td>\n      <td>0.762502</td>\n      <td>0.723044</td>\n    </tr>\n  </tbody>\n</table>\n<p>1545 rows × 15 columns</p>\n</div>"
     },
     "execution_count": 16,
     "metadata": {},
     "output_type": "execute_result"
    }
   ],
   "source": [
    "results_data = pd.read_csv('../results_unsupervised.csv', header=0)\n",
    "results_data"
   ]
  },
  {
   "cell_type": "code",
   "execution_count": 17,
   "id": "33a4bce1",
   "metadata": {
    "ExecuteTime": {
     "start_time": "2023-12-07T12:39:01.395198Z",
     "end_time": "2023-12-07T12:39:01.405179Z"
    }
   },
   "outputs": [
    {
     "data": {
      "text/plain": "      step  elapsed_tokens  elapsed_examples  training_loss  \\\n772    773          156058              1546       0.024510   \n1544  1545          312114              3090       0.019135   \n\n      training_sequence_accuracy  training_token_accuracy  validation_loss  \\\n772                          0.0                      0.5              NaN   \n1544                         1.0                      1.0         0.023455   \n\n      validation_sequence_accuracy  validation_token_accuracy  \\\n772                            NaN                        NaN   \n1544                           0.5                        0.8   \n\n      classification/accuracy  classification/precision  \\\n772                  0.629534                  0.649351   \n1544                 0.660622                  0.718487   \n\n      classification/recall  classification/auroc  classification/auprc  \\\n772                0.851064              0.635860              0.725926   \n1544               0.727660              0.687178              0.762502   \n\n      classification/f1.0  \n772              0.736648  \n1544             0.723044  ",
      "text/html": "<div>\n<style scoped>\n    .dataframe tbody tr th:only-of-type {\n        vertical-align: middle;\n    }\n\n    .dataframe tbody tr th {\n        vertical-align: top;\n    }\n\n    .dataframe thead th {\n        text-align: right;\n    }\n</style>\n<table border=\"1\" class=\"dataframe\">\n  <thead>\n    <tr style=\"text-align: right;\">\n      <th></th>\n      <th>step</th>\n      <th>elapsed_tokens</th>\n      <th>elapsed_examples</th>\n      <th>training_loss</th>\n      <th>training_sequence_accuracy</th>\n      <th>training_token_accuracy</th>\n      <th>validation_loss</th>\n      <th>validation_sequence_accuracy</th>\n      <th>validation_token_accuracy</th>\n      <th>classification/accuracy</th>\n      <th>classification/precision</th>\n      <th>classification/recall</th>\n      <th>classification/auroc</th>\n      <th>classification/auprc</th>\n      <th>classification/f1.0</th>\n    </tr>\n  </thead>\n  <tbody>\n    <tr>\n      <th>772</th>\n      <td>773</td>\n      <td>156058</td>\n      <td>1546</td>\n      <td>0.024510</td>\n      <td>0.0</td>\n      <td>0.5</td>\n      <td>NaN</td>\n      <td>NaN</td>\n      <td>NaN</td>\n      <td>0.629534</td>\n      <td>0.649351</td>\n      <td>0.851064</td>\n      <td>0.635860</td>\n      <td>0.725926</td>\n      <td>0.736648</td>\n    </tr>\n    <tr>\n      <th>1544</th>\n      <td>1545</td>\n      <td>312114</td>\n      <td>3090</td>\n      <td>0.019135</td>\n      <td>1.0</td>\n      <td>1.0</td>\n      <td>0.023455</td>\n      <td>0.5</td>\n      <td>0.8</td>\n      <td>0.660622</td>\n      <td>0.718487</td>\n      <td>0.727660</td>\n      <td>0.687178</td>\n      <td>0.762502</td>\n      <td>0.723044</td>\n    </tr>\n  </tbody>\n</table>\n</div>"
     },
     "execution_count": 17,
     "metadata": {},
     "output_type": "execute_result"
    }
   ],
   "source": [
    "results_data[~results_data['classification/accuracy'].isna()]"
   ]
  },
  {
   "cell_type": "code",
   "execution_count": 20,
   "outputs": [
    {
     "data": {
      "text/plain": "'step,elapsed_tokens,elapsed_examples,training_loss,training_sequence_accuracy,training_token_accuracy,validation_loss,validation_sequence_accuracy,validation_token_accuracy,classification/accuracy,classification/precision,classification/recall,classification/auroc,classification/auprc,classification/f1.0'"
     },
     "execution_count": 20,
     "metadata": {},
     "output_type": "execute_result"
    }
   ],
   "source": [
    "','.join(results_data.columns)"
   ],
   "metadata": {
    "collapsed": false,
    "ExecuteTime": {
     "start_time": "2023-12-07T12:40:34.825951Z",
     "end_time": "2023-12-07T12:40:34.834509Z"
    }
   }
  },
  {
   "cell_type": "code",
   "execution_count": 20,
   "id": "d950e053",
   "metadata": {},
   "outputs": [],
   "source": [
    "openai.api_key = '***'"
   ]
  },
  {
   "cell_type": "code",
   "execution_count": null,
   "id": "f979caae",
   "metadata": {},
   "outputs": [],
   "source": [
    "ft_model_name = 'ada:ft-boost-2023-01-10-16-30-46'\n",
    "res = openai.Completion.create(\n",
    "    model=ft_model_name, \n",
    "    prompt=\"Hunger,Europe,US\" + '\\n\\n###\\n\\n', \n",
    "    max_tokens=256, \n",
    "    temperature=0, \n",
    "    stop=[\" END\"]\n",
    ")\n",
    "res['choices'][0]['text']"
   ]
  },
  {
   "cell_type": "code",
   "execution_count": 11,
   "id": "8ed92e85",
   "metadata": {},
   "outputs": [
    {
     "name": "stdout",
     "output_type": "stream",
     "text": [
      "[2022-10-17 21:04:42] Created fine-tune: ft-8s8UatehCjaNod1zmO3UvUv6\n",
      "[2022-10-17 21:04:54] Fine-tune costs $0.44\n",
      "[2022-10-17 21:04:54] Fine-tune enqueued. Queue number: 0\n",
      "[2022-10-17 21:04:55] Fine-tune started\n",
      "[2022-10-17 21:14:17] Completed epoch 1/2\n",
      "[2022-10-17 21:22:44] Completed epoch 2/2\n",
      "[2022-10-17 21:23:21] Uploaded model: curie:ft-boost-2022-10-18-01-23-20\n",
      "[2022-10-17 21:23:22] Uploaded result file: file-R57TMKPWyotf9aN6YUD0Ftrc\n",
      "[2022-10-17 21:23:22] Fine-tune succeeded\n",
      "\n",
      "Job complete! Status: succeeded 🎉\n",
      "Try out your fine-tuned model:\n",
      "\n",
      "openai api completions.create -m curie:ft-boost-2022-10-18-01-23-20 -p <YOUR_PROMPT>\n"
     ]
    }
   ],
   "source": [
    "# ! openai api fine_tunes.follow -i ft-8s8UatehCjaNod1zmO3UvUv6"
   ]
  },
  {
   "cell_type": "code",
   "execution_count": null,
   "id": "bd6304a2",
   "metadata": {},
   "outputs": [],
   "source": []
  }
 ],
 "metadata": {
  "kernelspec": {
   "display_name": "Python 3 (ipykernel)",
   "language": "python",
   "name": "python3"
  },
  "language_info": {
   "codemirror_mode": {
    "name": "ipython",
    "version": 3
   },
   "file_extension": ".py",
   "mimetype": "text/x-python",
   "name": "python",
   "nbconvert_exporter": "python",
   "pygments_lexer": "ipython3",
   "version": "3.8.12"
  }
 },
 "nbformat": 4,
 "nbformat_minor": 5
}
