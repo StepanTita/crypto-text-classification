{
 "cells": [
  {
   "cell_type": "code",
   "execution_count": 1,
   "metadata": {
    "collapsed": true,
    "ExecuteTime": {
     "start_time": "2023-12-06T13:10:40.594617Z",
     "end_time": "2023-12-06T13:10:40.597011Z"
    }
   },
   "outputs": [],
   "source": [
    "import pandas as pd"
   ]
  },
  {
   "cell_type": "code",
   "execution_count": 2,
   "outputs": [
    {
     "data": {
      "text/plain": "                      date                                          sentiment  \\\n0      2023-04-05 06:52:09  {'class': 'negative', 'polarity': -0.03, 'subj...   \n1      2023-04-05 06:19:00  {'class': 'neutral', 'polarity': 0.0, 'subject...   \n2      2023-04-05 05:09:44  {'class': 'negative', 'polarity': -0.04, 'subj...   \n3      2023-04-05 01:09:52  {'class': 'positive', 'polarity': 0.07, 'subje...   \n4      2023-04-04 23:49:00  {'class': 'positive', 'polarity': 0.4, 'subjec...   \n...                    ...                                                ...   \n18538  2021-10-27 15:17:00  {'class': 'neutral', 'polarity': 0.0, 'subject...   \n18539  2021-10-19 13:39:00  {'class': 'positive', 'polarity': 0.1, 'subjec...   \n18540  2021-10-18 13:58:00  {'class': 'positive', 'polarity': 0.14, 'subje...   \n18541  2021-10-15 00:00:00  {'class': 'neutral', 'polarity': 0.0, 'subject...   \n18542  2021-10-12 20:00:00  {'class': 'positive', 'polarity': 0.16, 'subje...   \n\n              source     subject  \\\n0      CoinTelegraph        defi   \n1       CryptoPotato     bitcoin   \n2      CoinTelegraph     bitcoin   \n3      CoinTelegraph     bitcoin   \n4       CryptoPotato     altcoin   \n...              ...         ...   \n18538     CryptoNews        defi   \n18539     CryptoNews  blockchain   \n18540     CryptoNews  blockchain   \n18541     CryptoNews  blockchain   \n18542     CryptoNews  blockchain   \n\n                                                    text  \\\n0      The compensation process is expected to start ...   \n1      On-chain analytics revealed a sentiment shift ...   \n2      Ether has broken the $1,900 resistance level f...   \n3      With a new quarterly production record, Marath...   \n4      The stablecoin BTG Dol will supposedly become ...   \n...                                                  ...   \n18538  Cream Finance (CREAM) suffered another flash l...   \n18539  Banque de France disclosed the results of its ...   \n18540  Advancing its project to become \\x9caÂ\\xa0meta...   \n18541  Chinese companies are still topping the blockc...   \n18542  Within a little more than a year, Celo aims to...   \n\n                                                   title  \\\n0      Allbridge to first begin repaying stuck bridge...   \n1      Bitcoin Hodl Patterns Indicate Cycle Shift to ...   \n2      ETH hits 7-month high ahead of Shanghai and Ca...   \n3      Marathon Digital posts quarterly record of 2,1...   \n4      Brazilian Finance Giant BTG Pactual to Issue a...   \n...                                                  ...   \n18538  Cream Finance Suffers Another Exploit as Attac...   \n18539  French Central Bank's Blockchain Bond Trial Br...   \n18540  Facebook To Add 10,000 Jobs In EU For Metavers...   \n18541  Tech Crackdown Hasn't Halted Chinese Firms' Bl...   \n18542  Celo to Be Fastest EVM Chain by End of 2022, C...   \n\n                                                     url  \\\n0      https://cointelegraph.com/news/allbridge-to-fi...   \n1      https://cryptopotato.com/bitcoin-hodl-patterns...   \n2      https://cointelegraph.com/news/eth-hits-7-mont...   \n3      https://cointelegraph.com/news/marathon-digita...   \n4      https://cryptopotato.com/brazilian-finance-gia...   \n...                                                  ...   \n18538  https://cryptonews.com/news/cream-finance-suff...   \n18539  https://cryptonews.com/news/french-central-ban...   \n18540  https://cryptonews.com/news/facebook-to-add-10...   \n18541  https://cryptonews.com/news/tech-crackdown-has...   \n18542  https://cryptonews.com/news/celo-to-be-fastest...   \n\n                                              label_text  \\\n0      [effect:0]\\n\\nAccording to the web search resu...   \n1      [effect:1]\\n\\nThe news about the on-chain anal...   \n2      [effect:1]\\n\\nThe news about Ether breaking th...   \n3      [effect:1]\\n\\nThe news about Marathon Digital'...   \n4      [effect:0]\\n\\nThe news about the stablecoin BT...   \n...                                                  ...   \n18538                                                NaN   \n18539                                                NaN   \n18540                                                NaN   \n18541                                                NaN   \n18542                                                NaN   \n\n                                      label_sources_text  \n0      Learn more: [1. www.benzinga.com](https://www....  \n1      Learn more: [1. www.coindesk.com](https://www....  \n2      Learn more: [1. bing.com](https://bing.com/sea...  \n3      Learn more: [1. www.globenewswire.com](https:/...  \n4      Learn more: [1. www.coindesk.com](https://www....  \n...                                                  ...  \n18538                                                NaN  \n18539                                                NaN  \n18540                                                NaN  \n18541                                                NaN  \n18542                                                NaN  \n\n[18543 rows x 9 columns]",
      "text/html": "<div>\n<style scoped>\n    .dataframe tbody tr th:only-of-type {\n        vertical-align: middle;\n    }\n\n    .dataframe tbody tr th {\n        vertical-align: top;\n    }\n\n    .dataframe thead th {\n        text-align: right;\n    }\n</style>\n<table border=\"1\" class=\"dataframe\">\n  <thead>\n    <tr style=\"text-align: right;\">\n      <th></th>\n      <th>date</th>\n      <th>sentiment</th>\n      <th>source</th>\n      <th>subject</th>\n      <th>text</th>\n      <th>title</th>\n      <th>url</th>\n      <th>label_text</th>\n      <th>label_sources_text</th>\n    </tr>\n  </thead>\n  <tbody>\n    <tr>\n      <th>0</th>\n      <td>2023-04-05 06:52:09</td>\n      <td>{'class': 'negative', 'polarity': -0.03, 'subj...</td>\n      <td>CoinTelegraph</td>\n      <td>defi</td>\n      <td>The compensation process is expected to start ...</td>\n      <td>Allbridge to first begin repaying stuck bridge...</td>\n      <td>https://cointelegraph.com/news/allbridge-to-fi...</td>\n      <td>[effect:0]\\n\\nAccording to the web search resu...</td>\n      <td>Learn more: [1. www.benzinga.com](https://www....</td>\n    </tr>\n    <tr>\n      <th>1</th>\n      <td>2023-04-05 06:19:00</td>\n      <td>{'class': 'neutral', 'polarity': 0.0, 'subject...</td>\n      <td>CryptoPotato</td>\n      <td>bitcoin</td>\n      <td>On-chain analytics revealed a sentiment shift ...</td>\n      <td>Bitcoin Hodl Patterns Indicate Cycle Shift to ...</td>\n      <td>https://cryptopotato.com/bitcoin-hodl-patterns...</td>\n      <td>[effect:1]\\n\\nThe news about the on-chain anal...</td>\n      <td>Learn more: [1. www.coindesk.com](https://www....</td>\n    </tr>\n    <tr>\n      <th>2</th>\n      <td>2023-04-05 05:09:44</td>\n      <td>{'class': 'negative', 'polarity': -0.04, 'subj...</td>\n      <td>CoinTelegraph</td>\n      <td>bitcoin</td>\n      <td>Ether has broken the $1,900 resistance level f...</td>\n      <td>ETH hits 7-month high ahead of Shanghai and Ca...</td>\n      <td>https://cointelegraph.com/news/eth-hits-7-mont...</td>\n      <td>[effect:1]\\n\\nThe news about Ether breaking th...</td>\n      <td>Learn more: [1. bing.com](https://bing.com/sea...</td>\n    </tr>\n    <tr>\n      <th>3</th>\n      <td>2023-04-05 01:09:52</td>\n      <td>{'class': 'positive', 'polarity': 0.07, 'subje...</td>\n      <td>CoinTelegraph</td>\n      <td>bitcoin</td>\n      <td>With a new quarterly production record, Marath...</td>\n      <td>Marathon Digital posts quarterly record of 2,1...</td>\n      <td>https://cointelegraph.com/news/marathon-digita...</td>\n      <td>[effect:1]\\n\\nThe news about Marathon Digital'...</td>\n      <td>Learn more: [1. www.globenewswire.com](https:/...</td>\n    </tr>\n    <tr>\n      <th>4</th>\n      <td>2023-04-04 23:49:00</td>\n      <td>{'class': 'positive', 'polarity': 0.4, 'subjec...</td>\n      <td>CryptoPotato</td>\n      <td>altcoin</td>\n      <td>The stablecoin BTG Dol will supposedly become ...</td>\n      <td>Brazilian Finance Giant BTG Pactual to Issue a...</td>\n      <td>https://cryptopotato.com/brazilian-finance-gia...</td>\n      <td>[effect:0]\\n\\nThe news about the stablecoin BT...</td>\n      <td>Learn more: [1. www.coindesk.com](https://www....</td>\n    </tr>\n    <tr>\n      <th>...</th>\n      <td>...</td>\n      <td>...</td>\n      <td>...</td>\n      <td>...</td>\n      <td>...</td>\n      <td>...</td>\n      <td>...</td>\n      <td>...</td>\n      <td>...</td>\n    </tr>\n    <tr>\n      <th>18538</th>\n      <td>2021-10-27 15:17:00</td>\n      <td>{'class': 'neutral', 'polarity': 0.0, 'subject...</td>\n      <td>CryptoNews</td>\n      <td>defi</td>\n      <td>Cream Finance (CREAM) suffered another flash l...</td>\n      <td>Cream Finance Suffers Another Exploit as Attac...</td>\n      <td>https://cryptonews.com/news/cream-finance-suff...</td>\n      <td>NaN</td>\n      <td>NaN</td>\n    </tr>\n    <tr>\n      <th>18539</th>\n      <td>2021-10-19 13:39:00</td>\n      <td>{'class': 'positive', 'polarity': 0.1, 'subjec...</td>\n      <td>CryptoNews</td>\n      <td>blockchain</td>\n      <td>Banque de France disclosed the results of its ...</td>\n      <td>French Central Bank's Blockchain Bond Trial Br...</td>\n      <td>https://cryptonews.com/news/french-central-ban...</td>\n      <td>NaN</td>\n      <td>NaN</td>\n    </tr>\n    <tr>\n      <th>18540</th>\n      <td>2021-10-18 13:58:00</td>\n      <td>{'class': 'positive', 'polarity': 0.14, 'subje...</td>\n      <td>CryptoNews</td>\n      <td>blockchain</td>\n      <td>Advancing its project to become \\x9caÂ\\xa0meta...</td>\n      <td>Facebook To Add 10,000 Jobs In EU For Metavers...</td>\n      <td>https://cryptonews.com/news/facebook-to-add-10...</td>\n      <td>NaN</td>\n      <td>NaN</td>\n    </tr>\n    <tr>\n      <th>18541</th>\n      <td>2021-10-15 00:00:00</td>\n      <td>{'class': 'neutral', 'polarity': 0.0, 'subject...</td>\n      <td>CryptoNews</td>\n      <td>blockchain</td>\n      <td>Chinese companies are still topping the blockc...</td>\n      <td>Tech Crackdown Hasn't Halted Chinese Firms' Bl...</td>\n      <td>https://cryptonews.com/news/tech-crackdown-has...</td>\n      <td>NaN</td>\n      <td>NaN</td>\n    </tr>\n    <tr>\n      <th>18542</th>\n      <td>2021-10-12 20:00:00</td>\n      <td>{'class': 'positive', 'polarity': 0.16, 'subje...</td>\n      <td>CryptoNews</td>\n      <td>blockchain</td>\n      <td>Within a little more than a year, Celo aims to...</td>\n      <td>Celo to Be Fastest EVM Chain by End of 2022, C...</td>\n      <td>https://cryptonews.com/news/celo-to-be-fastest...</td>\n      <td>NaN</td>\n      <td>NaN</td>\n    </tr>\n  </tbody>\n</table>\n<p>18543 rows × 9 columns</p>\n</div>"
     },
     "execution_count": 2,
     "metadata": {},
     "output_type": "execute_result"
    }
   ],
   "source": [
    "data = pd.read_csv('output/classification/crypto_news_plus_2.csv')\n",
    "data"
   ],
   "metadata": {
    "collapsed": false,
    "ExecuteTime": {
     "start_time": "2023-12-06T13:10:53.248356Z",
     "end_time": "2023-12-06T13:10:53.382883Z"
    }
   }
  },
  {
   "cell_type": "code",
   "execution_count": 3,
   "outputs": [
    {
     "data": {
      "text/plain": "                    date                                          sentiment  \\\n0    2023-04-05 06:52:09  {'class': 'negative', 'polarity': -0.03, 'subj...   \n1    2023-04-05 06:19:00  {'class': 'neutral', 'polarity': 0.0, 'subject...   \n2    2023-04-05 05:09:44  {'class': 'negative', 'polarity': -0.04, 'subj...   \n3    2023-04-05 01:09:52  {'class': 'positive', 'polarity': 0.07, 'subje...   \n4    2023-04-04 23:49:00  {'class': 'positive', 'polarity': 0.4, 'subjec...   \n..                   ...                                                ...   \n725  2023-03-18 12:40:00  {'class': 'neutral', 'polarity': 0.0, 'subject...   \n726  2023-03-18 11:00:05  {'class': 'negative', 'polarity': -0.02, 'subj...   \n727  2023-03-18 09:04:48  {'class': 'negative', 'polarity': -0.12, 'subj...   \n728  2023-03-18 08:33:00  {'class': 'positive', 'polarity': 0.3, 'subjec...   \n729  2023-03-18 08:05:40  {'class': 'neutral', 'polarity': 0.0, 'subject...   \n\n            source   subject  \\\n0    CoinTelegraph      defi   \n1     CryptoPotato   bitcoin   \n2    CoinTelegraph   bitcoin   \n3    CoinTelegraph   bitcoin   \n4     CryptoPotato   altcoin   \n..             ...       ...   \n725   CryptoPotato   bitcoin   \n726  CoinTelegraph   bitcoin   \n727  CoinTelegraph  ethereum   \n728     CryptoNews   altcoin   \n729  CoinTelegraph   bitcoin   \n\n                                                  text  \\\n0    The compensation process is expected to start ...   \n1    On-chain analytics revealed a sentiment shift ...   \n2    Ether has broken the $1,900 resistance level f...   \n3    With a new quarterly production record, Marath...   \n4    The stablecoin BTG Dol will supposedly become ...   \n..                                                 ...   \n725  The months-long program will offer credit and ...   \n726  Ordinals NFTs have split the Bitcoin community...   \n727  Chances that the hacker will return the entire...   \n728  Bitcoin (BTC) and Ethereum (ETH) have seen sig...   \n729  Bitcoin has decoupled from stocks and rising t...   \n\n                                                 title  \\\n0    Allbridge to first begin repaying stuck bridge...   \n1    Bitcoin Hodl Patterns Indicate Cycle Shift to ...   \n2    ETH hits 7-month high ahead of Shanghai and Ca...   \n3    Marathon Digital posts quarterly record of 2,1...   \n4    Brazilian Finance Giant BTG Pactual to Issue a...   \n..                                                 ...   \n725  El Salvador Launches Bitcoin, Lightning Dev Tr...   \n726  Worlds collide at Bitcoin-based DeFi project —...   \n727  Euler Finance hacker starts returning stolen E...   \n728  Bitcoin Price and Ethereum Prediction: BTC and...   \n729  Bitcoin market cap grows 60% in 2023 as top Wa...   \n\n                                                   url  \\\n0    https://cointelegraph.com/news/allbridge-to-fi...   \n1    https://cryptopotato.com/bitcoin-hodl-patterns...   \n2    https://cointelegraph.com/news/eth-hits-7-mont...   \n3    https://cointelegraph.com/news/marathon-digita...   \n4    https://cryptopotato.com/brazilian-finance-gia...   \n..                                                 ...   \n725  https://cryptopotato.com/el-salvador-launches-...   \n726  https://cointelegraph.com/news/worlds-collide-...   \n727  https://cointelegraph.com/news/euler-finance-h...   \n728  https://cryptonews.com/news/bitcoin-price-ethe...   \n729  https://cointelegraph.com/news/bitcoin-market-...   \n\n                                            label_text  \\\n0    [effect:0]\\n\\nAccording to the web search resu...   \n1    [effect:1]\\n\\nThe news about the on-chain anal...   \n2    [effect:1]\\n\\nThe news about Ether breaking th...   \n3    [effect:1]\\n\\nThe news about Marathon Digital'...   \n4    [effect:0]\\n\\nThe news about the stablecoin BT...   \n..                                                 ...   \n725  [effect:0]\\n\\nThe news about the months-long p...   \n726  [effect:1]\\n\\nThe news about Ordinals NFTs spl...   \n727  [effect:1]\\n\\nThe news about the hacker return...   \n728  [effect:1]\\n\\nThe news about Bitcoin and Ether...   \n729  [effect:1]\\n\\nThe news about Bitcoin decouplin...   \n\n                                    label_sources_text  \n0    Learn more: [1. www.benzinga.com](https://www....  \n1    Learn more: [1. www.coindesk.com](https://www....  \n2    Learn more: [1. bing.com](https://bing.com/sea...  \n3    Learn more: [1. www.globenewswire.com](https:/...  \n4    Learn more: [1. www.coindesk.com](https://www....  \n..                                                 ...  \n725  Learn more: [1. educationusa.state.gov](https:...  \n726  Learn more: [1. decrypt.co](https://decrypt.co...  \n727  Learn more: [1. cointelegraph.com](https://coi...  \n728  Learn more: [1. www.msn.com](https://www.msn.c...  \n729  Learn more: [1. www.coindesk.com](https://www....  \n\n[621 rows x 9 columns]",
      "text/html": "<div>\n<style scoped>\n    .dataframe tbody tr th:only-of-type {\n        vertical-align: middle;\n    }\n\n    .dataframe tbody tr th {\n        vertical-align: top;\n    }\n\n    .dataframe thead th {\n        text-align: right;\n    }\n</style>\n<table border=\"1\" class=\"dataframe\">\n  <thead>\n    <tr style=\"text-align: right;\">\n      <th></th>\n      <th>date</th>\n      <th>sentiment</th>\n      <th>source</th>\n      <th>subject</th>\n      <th>text</th>\n      <th>title</th>\n      <th>url</th>\n      <th>label_text</th>\n      <th>label_sources_text</th>\n    </tr>\n  </thead>\n  <tbody>\n    <tr>\n      <th>0</th>\n      <td>2023-04-05 06:52:09</td>\n      <td>{'class': 'negative', 'polarity': -0.03, 'subj...</td>\n      <td>CoinTelegraph</td>\n      <td>defi</td>\n      <td>The compensation process is expected to start ...</td>\n      <td>Allbridge to first begin repaying stuck bridge...</td>\n      <td>https://cointelegraph.com/news/allbridge-to-fi...</td>\n      <td>[effect:0]\\n\\nAccording to the web search resu...</td>\n      <td>Learn more: [1. www.benzinga.com](https://www....</td>\n    </tr>\n    <tr>\n      <th>1</th>\n      <td>2023-04-05 06:19:00</td>\n      <td>{'class': 'neutral', 'polarity': 0.0, 'subject...</td>\n      <td>CryptoPotato</td>\n      <td>bitcoin</td>\n      <td>On-chain analytics revealed a sentiment shift ...</td>\n      <td>Bitcoin Hodl Patterns Indicate Cycle Shift to ...</td>\n      <td>https://cryptopotato.com/bitcoin-hodl-patterns...</td>\n      <td>[effect:1]\\n\\nThe news about the on-chain anal...</td>\n      <td>Learn more: [1. www.coindesk.com](https://www....</td>\n    </tr>\n    <tr>\n      <th>2</th>\n      <td>2023-04-05 05:09:44</td>\n      <td>{'class': 'negative', 'polarity': -0.04, 'subj...</td>\n      <td>CoinTelegraph</td>\n      <td>bitcoin</td>\n      <td>Ether has broken the $1,900 resistance level f...</td>\n      <td>ETH hits 7-month high ahead of Shanghai and Ca...</td>\n      <td>https://cointelegraph.com/news/eth-hits-7-mont...</td>\n      <td>[effect:1]\\n\\nThe news about Ether breaking th...</td>\n      <td>Learn more: [1. bing.com](https://bing.com/sea...</td>\n    </tr>\n    <tr>\n      <th>3</th>\n      <td>2023-04-05 01:09:52</td>\n      <td>{'class': 'positive', 'polarity': 0.07, 'subje...</td>\n      <td>CoinTelegraph</td>\n      <td>bitcoin</td>\n      <td>With a new quarterly production record, Marath...</td>\n      <td>Marathon Digital posts quarterly record of 2,1...</td>\n      <td>https://cointelegraph.com/news/marathon-digita...</td>\n      <td>[effect:1]\\n\\nThe news about Marathon Digital'...</td>\n      <td>Learn more: [1. www.globenewswire.com](https:/...</td>\n    </tr>\n    <tr>\n      <th>4</th>\n      <td>2023-04-04 23:49:00</td>\n      <td>{'class': 'positive', 'polarity': 0.4, 'subjec...</td>\n      <td>CryptoPotato</td>\n      <td>altcoin</td>\n      <td>The stablecoin BTG Dol will supposedly become ...</td>\n      <td>Brazilian Finance Giant BTG Pactual to Issue a...</td>\n      <td>https://cryptopotato.com/brazilian-finance-gia...</td>\n      <td>[effect:0]\\n\\nThe news about the stablecoin BT...</td>\n      <td>Learn more: [1. www.coindesk.com](https://www....</td>\n    </tr>\n    <tr>\n      <th>...</th>\n      <td>...</td>\n      <td>...</td>\n      <td>...</td>\n      <td>...</td>\n      <td>...</td>\n      <td>...</td>\n      <td>...</td>\n      <td>...</td>\n      <td>...</td>\n    </tr>\n    <tr>\n      <th>725</th>\n      <td>2023-03-18 12:40:00</td>\n      <td>{'class': 'neutral', 'polarity': 0.0, 'subject...</td>\n      <td>CryptoPotato</td>\n      <td>bitcoin</td>\n      <td>The months-long program will offer credit and ...</td>\n      <td>El Salvador Launches Bitcoin, Lightning Dev Tr...</td>\n      <td>https://cryptopotato.com/el-salvador-launches-...</td>\n      <td>[effect:0]\\n\\nThe news about the months-long p...</td>\n      <td>Learn more: [1. educationusa.state.gov](https:...</td>\n    </tr>\n    <tr>\n      <th>726</th>\n      <td>2023-03-18 11:00:05</td>\n      <td>{'class': 'negative', 'polarity': -0.02, 'subj...</td>\n      <td>CoinTelegraph</td>\n      <td>bitcoin</td>\n      <td>Ordinals NFTs have split the Bitcoin community...</td>\n      <td>Worlds collide at Bitcoin-based DeFi project —...</td>\n      <td>https://cointelegraph.com/news/worlds-collide-...</td>\n      <td>[effect:1]\\n\\nThe news about Ordinals NFTs spl...</td>\n      <td>Learn more: [1. decrypt.co](https://decrypt.co...</td>\n    </tr>\n    <tr>\n      <th>727</th>\n      <td>2023-03-18 09:04:48</td>\n      <td>{'class': 'negative', 'polarity': -0.12, 'subj...</td>\n      <td>CoinTelegraph</td>\n      <td>ethereum</td>\n      <td>Chances that the hacker will return the entire...</td>\n      <td>Euler Finance hacker starts returning stolen E...</td>\n      <td>https://cointelegraph.com/news/euler-finance-h...</td>\n      <td>[effect:1]\\n\\nThe news about the hacker return...</td>\n      <td>Learn more: [1. cointelegraph.com](https://coi...</td>\n    </tr>\n    <tr>\n      <th>728</th>\n      <td>2023-03-18 08:33:00</td>\n      <td>{'class': 'positive', 'polarity': 0.3, 'subjec...</td>\n      <td>CryptoNews</td>\n      <td>altcoin</td>\n      <td>Bitcoin (BTC) and Ethereum (ETH) have seen sig...</td>\n      <td>Bitcoin Price and Ethereum Prediction: BTC and...</td>\n      <td>https://cryptonews.com/news/bitcoin-price-ethe...</td>\n      <td>[effect:1]\\n\\nThe news about Bitcoin and Ether...</td>\n      <td>Learn more: [1. www.msn.com](https://www.msn.c...</td>\n    </tr>\n    <tr>\n      <th>729</th>\n      <td>2023-03-18 08:05:40</td>\n      <td>{'class': 'neutral', 'polarity': 0.0, 'subject...</td>\n      <td>CoinTelegraph</td>\n      <td>bitcoin</td>\n      <td>Bitcoin has decoupled from stocks and rising t...</td>\n      <td>Bitcoin market cap grows 60% in 2023 as top Wa...</td>\n      <td>https://cointelegraph.com/news/bitcoin-market-...</td>\n      <td>[effect:1]\\n\\nThe news about Bitcoin decouplin...</td>\n      <td>Learn more: [1. www.coindesk.com](https://www....</td>\n    </tr>\n  </tbody>\n</table>\n<p>621 rows × 9 columns</p>\n</div>"
     },
     "execution_count": 3,
     "metadata": {},
     "output_type": "execute_result"
    }
   ],
   "source": [
    "data = data[data['label_text'].notnull()]\n",
    "data"
   ],
   "metadata": {
    "collapsed": false,
    "ExecuteTime": {
     "start_time": "2023-12-06T13:11:28.445638Z",
     "end_time": "2023-12-06T13:11:28.465500Z"
    }
   }
  },
  {
   "cell_type": "code",
   "execution_count": 4,
   "outputs": [
    {
     "name": "stderr",
     "output_type": "stream",
     "text": [
      "/var/folders/tn/_r_b9n8d0bg1fzccsh7yq_sc0000gn/T/ipykernel_18855/1915544609.py:1: SettingWithCopyWarning: \n",
      "A value is trying to be set on a copy of a slice from a DataFrame.\n",
      "Try using .loc[row_indexer,col_indexer] = value instead\n",
      "\n",
      "See the caveats in the documentation: https://pandas.pydata.org/pandas-docs/stable/user_guide/indexing.html#returning-a-view-versus-a-copy\n",
      "  data['combined'] = 'Source: ' + data['source'] + ' Title: ' + data['title'] + ' Description: ' + data['text']\n"
     ]
    },
    {
     "data": {
      "text/plain": "0      Source: CoinTelegraph Title: Allbridge to firs...\n1      Source: CryptoPotato Title: Bitcoin Hodl Patte...\n2      Source: CoinTelegraph Title: ETH hits 7-month ...\n3      Source: CoinTelegraph Title: Marathon Digital ...\n4      Source: CryptoPotato Title: Brazilian Finance ...\n                             ...                        \n725    Source: CryptoPotato Title: El Salvador Launch...\n726    Source: CoinTelegraph Title: Worlds collide at...\n727    Source: CoinTelegraph Title: Euler Finance hac...\n728    Source: CryptoNews Title: Bitcoin Price and Et...\n729    Source: CoinTelegraph Title: Bitcoin market ca...\nName: combined, Length: 621, dtype: object"
     },
     "execution_count": 4,
     "metadata": {},
     "output_type": "execute_result"
    }
   ],
   "source": [
    "data['combined'] = 'Source: ' + data['source'] + ' Title: ' + data['title'] + ' Description: ' + data['text']\n",
    "data['combined']"
   ],
   "metadata": {
    "collapsed": false,
    "ExecuteTime": {
     "start_time": "2023-12-06T13:12:46.387966Z",
     "end_time": "2023-12-06T13:12:46.393624Z"
    }
   }
  },
  {
   "cell_type": "code",
   "execution_count": 5,
   "outputs": [],
   "source": [
    "def extract_label(text: str) -> int:\n",
    "    if '[effect:1]' in text:\n",
    "        return 1\n",
    "    else:\n",
    "        return 0"
   ],
   "metadata": {
    "collapsed": false,
    "ExecuteTime": {
     "start_time": "2023-12-06T13:14:28.403753Z",
     "end_time": "2023-12-06T13:14:28.408442Z"
    }
   }
  },
  {
   "cell_type": "code",
   "execution_count": 6,
   "outputs": [
    {
     "name": "stderr",
     "output_type": "stream",
     "text": [
      "/var/folders/tn/_r_b9n8d0bg1fzccsh7yq_sc0000gn/T/ipykernel_18855/2291543574.py:1: SettingWithCopyWarning: \n",
      "A value is trying to be set on a copy of a slice from a DataFrame.\n",
      "Try using .loc[row_indexer,col_indexer] = value instead\n",
      "\n",
      "See the caveats in the documentation: https://pandas.pydata.org/pandas-docs/stable/user_guide/indexing.html#returning-a-view-versus-a-copy\n",
      "  data['label'] = data['label_text'].apply(extract_label)\n"
     ]
    },
    {
     "data": {
      "text/plain": "                    date                                          sentiment  \\\n0    2023-04-05 06:52:09  {'class': 'negative', 'polarity': -0.03, 'subj...   \n1    2023-04-05 06:19:00  {'class': 'neutral', 'polarity': 0.0, 'subject...   \n2    2023-04-05 05:09:44  {'class': 'negative', 'polarity': -0.04, 'subj...   \n3    2023-04-05 01:09:52  {'class': 'positive', 'polarity': 0.07, 'subje...   \n4    2023-04-04 23:49:00  {'class': 'positive', 'polarity': 0.4, 'subjec...   \n..                   ...                                                ...   \n725  2023-03-18 12:40:00  {'class': 'neutral', 'polarity': 0.0, 'subject...   \n726  2023-03-18 11:00:05  {'class': 'negative', 'polarity': -0.02, 'subj...   \n727  2023-03-18 09:04:48  {'class': 'negative', 'polarity': -0.12, 'subj...   \n728  2023-03-18 08:33:00  {'class': 'positive', 'polarity': 0.3, 'subjec...   \n729  2023-03-18 08:05:40  {'class': 'neutral', 'polarity': 0.0, 'subject...   \n\n            source   subject  \\\n0    CoinTelegraph      defi   \n1     CryptoPotato   bitcoin   \n2    CoinTelegraph   bitcoin   \n3    CoinTelegraph   bitcoin   \n4     CryptoPotato   altcoin   \n..             ...       ...   \n725   CryptoPotato   bitcoin   \n726  CoinTelegraph   bitcoin   \n727  CoinTelegraph  ethereum   \n728     CryptoNews   altcoin   \n729  CoinTelegraph   bitcoin   \n\n                                                  text  \\\n0    The compensation process is expected to start ...   \n1    On-chain analytics revealed a sentiment shift ...   \n2    Ether has broken the $1,900 resistance level f...   \n3    With a new quarterly production record, Marath...   \n4    The stablecoin BTG Dol will supposedly become ...   \n..                                                 ...   \n725  The months-long program will offer credit and ...   \n726  Ordinals NFTs have split the Bitcoin community...   \n727  Chances that the hacker will return the entire...   \n728  Bitcoin (BTC) and Ethereum (ETH) have seen sig...   \n729  Bitcoin has decoupled from stocks and rising t...   \n\n                                                 title  \\\n0    Allbridge to first begin repaying stuck bridge...   \n1    Bitcoin Hodl Patterns Indicate Cycle Shift to ...   \n2    ETH hits 7-month high ahead of Shanghai and Ca...   \n3    Marathon Digital posts quarterly record of 2,1...   \n4    Brazilian Finance Giant BTG Pactual to Issue a...   \n..                                                 ...   \n725  El Salvador Launches Bitcoin, Lightning Dev Tr...   \n726  Worlds collide at Bitcoin-based DeFi project —...   \n727  Euler Finance hacker starts returning stolen E...   \n728  Bitcoin Price and Ethereum Prediction: BTC and...   \n729  Bitcoin market cap grows 60% in 2023 as top Wa...   \n\n                                                   url  \\\n0    https://cointelegraph.com/news/allbridge-to-fi...   \n1    https://cryptopotato.com/bitcoin-hodl-patterns...   \n2    https://cointelegraph.com/news/eth-hits-7-mont...   \n3    https://cointelegraph.com/news/marathon-digita...   \n4    https://cryptopotato.com/brazilian-finance-gia...   \n..                                                 ...   \n725  https://cryptopotato.com/el-salvador-launches-...   \n726  https://cointelegraph.com/news/worlds-collide-...   \n727  https://cointelegraph.com/news/euler-finance-h...   \n728  https://cryptonews.com/news/bitcoin-price-ethe...   \n729  https://cointelegraph.com/news/bitcoin-market-...   \n\n                                            label_text  \\\n0    [effect:0]\\n\\nAccording to the web search resu...   \n1    [effect:1]\\n\\nThe news about the on-chain anal...   \n2    [effect:1]\\n\\nThe news about Ether breaking th...   \n3    [effect:1]\\n\\nThe news about Marathon Digital'...   \n4    [effect:0]\\n\\nThe news about the stablecoin BT...   \n..                                                 ...   \n725  [effect:0]\\n\\nThe news about the months-long p...   \n726  [effect:1]\\n\\nThe news about Ordinals NFTs spl...   \n727  [effect:1]\\n\\nThe news about the hacker return...   \n728  [effect:1]\\n\\nThe news about Bitcoin and Ether...   \n729  [effect:1]\\n\\nThe news about Bitcoin decouplin...   \n\n                                    label_sources_text  \\\n0    Learn more: [1. www.benzinga.com](https://www....   \n1    Learn more: [1. www.coindesk.com](https://www....   \n2    Learn more: [1. bing.com](https://bing.com/sea...   \n3    Learn more: [1. www.globenewswire.com](https:/...   \n4    Learn more: [1. www.coindesk.com](https://www....   \n..                                                 ...   \n725  Learn more: [1. educationusa.state.gov](https:...   \n726  Learn more: [1. decrypt.co](https://decrypt.co...   \n727  Learn more: [1. cointelegraph.com](https://coi...   \n728  Learn more: [1. www.msn.com](https://www.msn.c...   \n729  Learn more: [1. www.coindesk.com](https://www....   \n\n                                              combined  label  \n0    Source: CoinTelegraph Title: Allbridge to firs...      0  \n1    Source: CryptoPotato Title: Bitcoin Hodl Patte...      1  \n2    Source: CoinTelegraph Title: ETH hits 7-month ...      1  \n3    Source: CoinTelegraph Title: Marathon Digital ...      1  \n4    Source: CryptoPotato Title: Brazilian Finance ...      0  \n..                                                 ...    ...  \n725  Source: CryptoPotato Title: El Salvador Launch...      0  \n726  Source: CoinTelegraph Title: Worlds collide at...      1  \n727  Source: CoinTelegraph Title: Euler Finance hac...      1  \n728  Source: CryptoNews Title: Bitcoin Price and Et...      1  \n729  Source: CoinTelegraph Title: Bitcoin market ca...      1  \n\n[621 rows x 11 columns]",
      "text/html": "<div>\n<style scoped>\n    .dataframe tbody tr th:only-of-type {\n        vertical-align: middle;\n    }\n\n    .dataframe tbody tr th {\n        vertical-align: top;\n    }\n\n    .dataframe thead th {\n        text-align: right;\n    }\n</style>\n<table border=\"1\" class=\"dataframe\">\n  <thead>\n    <tr style=\"text-align: right;\">\n      <th></th>\n      <th>date</th>\n      <th>sentiment</th>\n      <th>source</th>\n      <th>subject</th>\n      <th>text</th>\n      <th>title</th>\n      <th>url</th>\n      <th>label_text</th>\n      <th>label_sources_text</th>\n      <th>combined</th>\n      <th>label</th>\n    </tr>\n  </thead>\n  <tbody>\n    <tr>\n      <th>0</th>\n      <td>2023-04-05 06:52:09</td>\n      <td>{'class': 'negative', 'polarity': -0.03, 'subj...</td>\n      <td>CoinTelegraph</td>\n      <td>defi</td>\n      <td>The compensation process is expected to start ...</td>\n      <td>Allbridge to first begin repaying stuck bridge...</td>\n      <td>https://cointelegraph.com/news/allbridge-to-fi...</td>\n      <td>[effect:0]\\n\\nAccording to the web search resu...</td>\n      <td>Learn more: [1. www.benzinga.com](https://www....</td>\n      <td>Source: CoinTelegraph Title: Allbridge to firs...</td>\n      <td>0</td>\n    </tr>\n    <tr>\n      <th>1</th>\n      <td>2023-04-05 06:19:00</td>\n      <td>{'class': 'neutral', 'polarity': 0.0, 'subject...</td>\n      <td>CryptoPotato</td>\n      <td>bitcoin</td>\n      <td>On-chain analytics revealed a sentiment shift ...</td>\n      <td>Bitcoin Hodl Patterns Indicate Cycle Shift to ...</td>\n      <td>https://cryptopotato.com/bitcoin-hodl-patterns...</td>\n      <td>[effect:1]\\n\\nThe news about the on-chain anal...</td>\n      <td>Learn more: [1. www.coindesk.com](https://www....</td>\n      <td>Source: CryptoPotato Title: Bitcoin Hodl Patte...</td>\n      <td>1</td>\n    </tr>\n    <tr>\n      <th>2</th>\n      <td>2023-04-05 05:09:44</td>\n      <td>{'class': 'negative', 'polarity': -0.04, 'subj...</td>\n      <td>CoinTelegraph</td>\n      <td>bitcoin</td>\n      <td>Ether has broken the $1,900 resistance level f...</td>\n      <td>ETH hits 7-month high ahead of Shanghai and Ca...</td>\n      <td>https://cointelegraph.com/news/eth-hits-7-mont...</td>\n      <td>[effect:1]\\n\\nThe news about Ether breaking th...</td>\n      <td>Learn more: [1. bing.com](https://bing.com/sea...</td>\n      <td>Source: CoinTelegraph Title: ETH hits 7-month ...</td>\n      <td>1</td>\n    </tr>\n    <tr>\n      <th>3</th>\n      <td>2023-04-05 01:09:52</td>\n      <td>{'class': 'positive', 'polarity': 0.07, 'subje...</td>\n      <td>CoinTelegraph</td>\n      <td>bitcoin</td>\n      <td>With a new quarterly production record, Marath...</td>\n      <td>Marathon Digital posts quarterly record of 2,1...</td>\n      <td>https://cointelegraph.com/news/marathon-digita...</td>\n      <td>[effect:1]\\n\\nThe news about Marathon Digital'...</td>\n      <td>Learn more: [1. www.globenewswire.com](https:/...</td>\n      <td>Source: CoinTelegraph Title: Marathon Digital ...</td>\n      <td>1</td>\n    </tr>\n    <tr>\n      <th>4</th>\n      <td>2023-04-04 23:49:00</td>\n      <td>{'class': 'positive', 'polarity': 0.4, 'subjec...</td>\n      <td>CryptoPotato</td>\n      <td>altcoin</td>\n      <td>The stablecoin BTG Dol will supposedly become ...</td>\n      <td>Brazilian Finance Giant BTG Pactual to Issue a...</td>\n      <td>https://cryptopotato.com/brazilian-finance-gia...</td>\n      <td>[effect:0]\\n\\nThe news about the stablecoin BT...</td>\n      <td>Learn more: [1. www.coindesk.com](https://www....</td>\n      <td>Source: CryptoPotato Title: Brazilian Finance ...</td>\n      <td>0</td>\n    </tr>\n    <tr>\n      <th>...</th>\n      <td>...</td>\n      <td>...</td>\n      <td>...</td>\n      <td>...</td>\n      <td>...</td>\n      <td>...</td>\n      <td>...</td>\n      <td>...</td>\n      <td>...</td>\n      <td>...</td>\n      <td>...</td>\n    </tr>\n    <tr>\n      <th>725</th>\n      <td>2023-03-18 12:40:00</td>\n      <td>{'class': 'neutral', 'polarity': 0.0, 'subject...</td>\n      <td>CryptoPotato</td>\n      <td>bitcoin</td>\n      <td>The months-long program will offer credit and ...</td>\n      <td>El Salvador Launches Bitcoin, Lightning Dev Tr...</td>\n      <td>https://cryptopotato.com/el-salvador-launches-...</td>\n      <td>[effect:0]\\n\\nThe news about the months-long p...</td>\n      <td>Learn more: [1. educationusa.state.gov](https:...</td>\n      <td>Source: CryptoPotato Title: El Salvador Launch...</td>\n      <td>0</td>\n    </tr>\n    <tr>\n      <th>726</th>\n      <td>2023-03-18 11:00:05</td>\n      <td>{'class': 'negative', 'polarity': -0.02, 'subj...</td>\n      <td>CoinTelegraph</td>\n      <td>bitcoin</td>\n      <td>Ordinals NFTs have split the Bitcoin community...</td>\n      <td>Worlds collide at Bitcoin-based DeFi project —...</td>\n      <td>https://cointelegraph.com/news/worlds-collide-...</td>\n      <td>[effect:1]\\n\\nThe news about Ordinals NFTs spl...</td>\n      <td>Learn more: [1. decrypt.co](https://decrypt.co...</td>\n      <td>Source: CoinTelegraph Title: Worlds collide at...</td>\n      <td>1</td>\n    </tr>\n    <tr>\n      <th>727</th>\n      <td>2023-03-18 09:04:48</td>\n      <td>{'class': 'negative', 'polarity': -0.12, 'subj...</td>\n      <td>CoinTelegraph</td>\n      <td>ethereum</td>\n      <td>Chances that the hacker will return the entire...</td>\n      <td>Euler Finance hacker starts returning stolen E...</td>\n      <td>https://cointelegraph.com/news/euler-finance-h...</td>\n      <td>[effect:1]\\n\\nThe news about the hacker return...</td>\n      <td>Learn more: [1. cointelegraph.com](https://coi...</td>\n      <td>Source: CoinTelegraph Title: Euler Finance hac...</td>\n      <td>1</td>\n    </tr>\n    <tr>\n      <th>728</th>\n      <td>2023-03-18 08:33:00</td>\n      <td>{'class': 'positive', 'polarity': 0.3, 'subjec...</td>\n      <td>CryptoNews</td>\n      <td>altcoin</td>\n      <td>Bitcoin (BTC) and Ethereum (ETH) have seen sig...</td>\n      <td>Bitcoin Price and Ethereum Prediction: BTC and...</td>\n      <td>https://cryptonews.com/news/bitcoin-price-ethe...</td>\n      <td>[effect:1]\\n\\nThe news about Bitcoin and Ether...</td>\n      <td>Learn more: [1. www.msn.com](https://www.msn.c...</td>\n      <td>Source: CryptoNews Title: Bitcoin Price and Et...</td>\n      <td>1</td>\n    </tr>\n    <tr>\n      <th>729</th>\n      <td>2023-03-18 08:05:40</td>\n      <td>{'class': 'neutral', 'polarity': 0.0, 'subject...</td>\n      <td>CoinTelegraph</td>\n      <td>bitcoin</td>\n      <td>Bitcoin has decoupled from stocks and rising t...</td>\n      <td>Bitcoin market cap grows 60% in 2023 as top Wa...</td>\n      <td>https://cointelegraph.com/news/bitcoin-market-...</td>\n      <td>[effect:1]\\n\\nThe news about Bitcoin decouplin...</td>\n      <td>Learn more: [1. www.coindesk.com](https://www....</td>\n      <td>Source: CoinTelegraph Title: Bitcoin market ca...</td>\n      <td>1</td>\n    </tr>\n  </tbody>\n</table>\n<p>621 rows × 11 columns</p>\n</div>"
     },
     "execution_count": 6,
     "metadata": {},
     "output_type": "execute_result"
    }
   ],
   "source": [
    "data['label'] = data['label_text'].apply(extract_label)\n",
    "data"
   ],
   "metadata": {
    "collapsed": false,
    "ExecuteTime": {
     "start_time": "2023-12-06T13:14:46.277094Z",
     "end_time": "2023-12-06T13:14:46.296079Z"
    }
   }
  },
  {
   "cell_type": "code",
   "execution_count": 8,
   "outputs": [
    {
     "data": {
      "text/plain": "label\n0    328\n1    293\nName: text, dtype: int64"
     },
     "execution_count": 8,
     "metadata": {},
     "output_type": "execute_result"
    }
   ],
   "source": [
    "data.groupby(['label'])['text'].count()"
   ],
   "metadata": {
    "collapsed": false,
    "ExecuteTime": {
     "start_time": "2023-12-06T13:15:16.716917Z",
     "end_time": "2023-12-06T13:15:16.719522Z"
    }
   }
  },
  {
   "cell_type": "code",
   "execution_count": 15,
   "outputs": [],
   "source": [
    "data[['source', 'title', 'text', 'combined', 'label']].rename({'combined': 'text', 'text': 'description'}, axis=1).to_csv('output/classification/BING_source_title_description_bin_clf.csv', index=False)"
   ],
   "metadata": {
    "collapsed": false,
    "ExecuteTime": {
     "start_time": "2023-12-06T21:46:30.397261Z",
     "end_time": "2023-12-06T21:46:30.416168Z"
    }
   }
  },
  {
   "cell_type": "code",
   "execution_count": 17,
   "outputs": [
    {
     "name": "stderr",
     "output_type": "stream",
     "text": [
      "/var/folders/tn/_r_b9n8d0bg1fzccsh7yq_sc0000gn/T/ipykernel_18855/766405669.py:1: SettingWithCopyWarning: \n",
      "A value is trying to be set on a copy of a slice from a DataFrame.\n",
      "Try using .loc[row_indexer,col_indexer] = value instead\n",
      "\n",
      "See the caveats in the documentation: https://pandas.pydata.org/pandas-docs/stable/user_guide/indexing.html#returning-a-view-versus-a-copy\n",
      "  data['label'] = data['label'].apply(lambda x: 'change' if x in [-1, 1] else 'no effect')\n"
     ]
    }
   ],
   "source": [
    "data['label'] = data['label'].apply(lambda x: 'change' if x in [-1, 1] else 'no effect')"
   ],
   "metadata": {
    "collapsed": false,
    "ExecuteTime": {
     "start_time": "2023-12-07T11:29:05.020732Z",
     "end_time": "2023-12-07T11:29:05.024608Z"
    }
   }
  },
  {
   "cell_type": "code",
   "execution_count": 19,
   "outputs": [
    {
     "data": {
      "text/plain": "                                                prompt      completion\n0    Source: CoinTelegraph Title: Allbridge to firs...   no effect END\n1    Source: CryptoPotato Title: Bitcoin Hodl Patte...      change END\n2    Source: CoinTelegraph Title: ETH hits 7-month ...      change END\n3    Source: CoinTelegraph Title: Marathon Digital ...      change END\n4    Source: CryptoPotato Title: Brazilian Finance ...   no effect END\n..                                                 ...             ...\n725  Source: CryptoPotato Title: El Salvador Launch...   no effect END\n726  Source: CoinTelegraph Title: Worlds collide at...      change END\n727  Source: CoinTelegraph Title: Euler Finance hac...      change END\n728  Source: CryptoNews Title: Bitcoin Price and Et...      change END\n729  Source: CoinTelegraph Title: Bitcoin market ca...      change END\n\n[621 rows x 2 columns]",
      "text/html": "<div>\n<style scoped>\n    .dataframe tbody tr th:only-of-type {\n        vertical-align: middle;\n    }\n\n    .dataframe tbody tr th {\n        vertical-align: top;\n    }\n\n    .dataframe thead th {\n        text-align: right;\n    }\n</style>\n<table border=\"1\" class=\"dataframe\">\n  <thead>\n    <tr style=\"text-align: right;\">\n      <th></th>\n      <th>prompt</th>\n      <th>completion</th>\n    </tr>\n  </thead>\n  <tbody>\n    <tr>\n      <th>0</th>\n      <td>Source: CoinTelegraph Title: Allbridge to firs...</td>\n      <td>no effect END</td>\n    </tr>\n    <tr>\n      <th>1</th>\n      <td>Source: CryptoPotato Title: Bitcoin Hodl Patte...</td>\n      <td>change END</td>\n    </tr>\n    <tr>\n      <th>2</th>\n      <td>Source: CoinTelegraph Title: ETH hits 7-month ...</td>\n      <td>change END</td>\n    </tr>\n    <tr>\n      <th>3</th>\n      <td>Source: CoinTelegraph Title: Marathon Digital ...</td>\n      <td>change END</td>\n    </tr>\n    <tr>\n      <th>4</th>\n      <td>Source: CryptoPotato Title: Brazilian Finance ...</td>\n      <td>no effect END</td>\n    </tr>\n    <tr>\n      <th>...</th>\n      <td>...</td>\n      <td>...</td>\n    </tr>\n    <tr>\n      <th>725</th>\n      <td>Source: CryptoPotato Title: El Salvador Launch...</td>\n      <td>no effect END</td>\n    </tr>\n    <tr>\n      <th>726</th>\n      <td>Source: CoinTelegraph Title: Worlds collide at...</td>\n      <td>change END</td>\n    </tr>\n    <tr>\n      <th>727</th>\n      <td>Source: CoinTelegraph Title: Euler Finance hac...</td>\n      <td>change END</td>\n    </tr>\n    <tr>\n      <th>728</th>\n      <td>Source: CryptoNews Title: Bitcoin Price and Et...</td>\n      <td>change END</td>\n    </tr>\n    <tr>\n      <th>729</th>\n      <td>Source: CoinTelegraph Title: Bitcoin market ca...</td>\n      <td>change END</td>\n    </tr>\n  </tbody>\n</table>\n<p>621 rows × 2 columns</p>\n</div>"
     },
     "execution_count": 19,
     "metadata": {},
     "output_type": "execute_result"
    }
   ],
   "source": [
    "data_input = data[['combined', 'label']].copy()\n",
    "data_input.columns = ['prompt', 'completion']\n",
    "data_input['prompt'] = data_input['prompt'] + '\\n\\n###\\n\\n'\n",
    "data_input['completion'] = ' ' + data_input['completion'] + ' END'\n",
    "data_input"
   ],
   "metadata": {
    "collapsed": false,
    "ExecuteTime": {
     "start_time": "2023-12-07T11:29:17.247298Z",
     "end_time": "2023-12-07T11:29:17.250315Z"
    }
   }
  },
  {
   "cell_type": "code",
   "execution_count": 21,
   "outputs": [],
   "source": [
    "data_input.to_json('./output/classification/UNSUP_source_title_description.jsonl', orient='records', lines=True)\n",
    "data_input.to_csv('./output/classification/UNSUP_source_title_description.csv', index=False)"
   ],
   "metadata": {
    "collapsed": false,
    "ExecuteTime": {
     "start_time": "2023-12-07T12:06:09.399210Z",
     "end_time": "2023-12-07T12:06:09.423433Z"
    }
   }
  },
  {
   "cell_type": "code",
   "execution_count": null,
   "outputs": [],
   "source": [],
   "metadata": {
    "collapsed": false
   }
  }
 ],
 "metadata": {
  "kernelspec": {
   "display_name": "Python 3",
   "language": "python",
   "name": "python3"
  },
  "language_info": {
   "codemirror_mode": {
    "name": "ipython",
    "version": 2
   },
   "file_extension": ".py",
   "mimetype": "text/x-python",
   "name": "python",
   "nbconvert_exporter": "python",
   "pygments_lexer": "ipython2",
   "version": "2.7.6"
  }
 },
 "nbformat": 4,
 "nbformat_minor": 0
}
