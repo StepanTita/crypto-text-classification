{
 "cells": [
  {
   "cell_type": "code",
   "execution_count": 1,
   "id": "77e875cb",
   "metadata": {
    "ExecuteTime": {
     "start_time": "2023-12-07T12:26:21.419458Z",
     "end_time": "2023-12-07T12:26:22.748671Z"
    }
   },
   "outputs": [],
   "source": [
    "import os\n",
    "from textwrap import wrap\n",
    "\n",
    "import matplotlib.pyplot as plt\n",
    "import nltk\n",
    "import numpy as np\n",
    "import pandas as pd\n",
    "import plotly.express as px\n",
    "import requests\n",
    "import seaborn as sns\n",
    "from PIL import Image\n",
    "from nltk.corpus import stopwords\n",
    "from sklearn.cluster import KMeans\n",
    "from sklearn.feature_extraction.text import CountVectorizer, TfidfVectorizer\n",
    "# from wordcloud import WordCloud"
   ]
  },
  {
   "cell_type": "code",
   "execution_count": 2,
   "id": "d9032083",
   "metadata": {
    "ExecuteTime": {
     "start_time": "2023-12-07T12:26:24.813591Z",
     "end_time": "2023-12-07T12:26:31.813539Z"
    }
   },
   "outputs": [
    {
     "name": "stderr",
     "output_type": "stream",
     "text": [
      "[nltk_data] Downloading package stopwords to\n",
      "[nltk_data]     /Users/stepantytarenko/nltk_data...\n",
      "[nltk_data]   Unzipping corpora/stopwords.zip.\n",
      "[nltk_data] Downloading package punkt to\n",
      "[nltk_data]     /Users/stepantytarenko/nltk_data...\n",
      "[nltk_data]   Unzipping tokenizers/punkt.zip.\n",
      "[nltk_data] Downloading package wordnet to\n",
      "[nltk_data]     /Users/stepantytarenko/nltk_data...\n",
      "[nltk_data] Downloading package omw-1.4 to\n",
      "[nltk_data]     /Users/stepantytarenko/nltk_data...\n",
      "[nltk_data] Downloading package words to\n",
      "[nltk_data]     /Users/stepantytarenko/nltk_data...\n",
      "[nltk_data]   Unzipping corpora/words.zip.\n"
     ]
    },
    {
     "data": {
      "text/plain": "True"
     },
     "execution_count": 2,
     "metadata": {},
     "output_type": "execute_result"
    }
   ],
   "source": [
    "nltk.download('stopwords')\n",
    "nltk.download('punkt')\n",
    "nltk.download('wordnet')\n",
    "nltk.download('omw-1.4')\n",
    "nltk.download('words')"
   ]
  },
  {
   "cell_type": "code",
   "execution_count": 69,
   "id": "ba30f74e",
   "metadata": {},
   "outputs": [],
   "source": [
    "nltk.data.path.append('../../Resources/')"
   ]
  },
  {
   "cell_type": "code",
   "execution_count": 18,
   "id": "10103764",
   "metadata": {},
   "outputs": [
    {
     "name": "stdout",
     "output_type": "stream",
     "text": [
      "news1.csv news3.csv news5.csv news7.csv news9.csv\r\n",
      "news2.csv news4.csv news6.csv news8.csv\r\n"
     ]
    }
   ],
   "source": [
    "# ! ls ../../Data/boost_labelled"
   ]
  },
  {
   "cell_type": "code",
   "execution_count": 3,
   "id": "f0aa0c12",
   "metadata": {
    "ExecuteTime": {
     "start_time": "2023-12-07T12:26:47.924225Z",
     "end_time": "2023-12-07T12:26:47.935494Z"
    }
   },
   "outputs": [],
   "source": [
    "BASIC_PATH = '../data/boost_labelled'"
   ]
  },
  {
   "cell_type": "code",
   "execution_count": 4,
   "id": "a0207aa1",
   "metadata": {
    "ExecuteTime": {
     "start_time": "2023-12-07T12:26:48.730363Z",
     "end_time": "2023-12-07T12:26:48.745996Z"
    }
   },
   "outputs": [],
   "source": [
    "filenames = []"
   ]
  },
  {
   "cell_type": "code",
   "execution_count": 5,
   "id": "d911982c",
   "metadata": {
    "ExecuteTime": {
     "start_time": "2023-12-07T12:26:49.230423Z",
     "end_time": "2023-12-07T12:26:49.241020Z"
    }
   },
   "outputs": [
    {
     "data": {
      "text/plain": "['../data/boost_labelled/news3.csv',\n '../data/boost_labelled/news2.csv',\n '../data/boost_labelled/news1.csv',\n '../data/boost_labelled/news5.csv',\n '../data/boost_labelled/news4.csv',\n '../data/boost_labelled/news6.csv',\n '../data/boost_labelled/news7.csv',\n '../data/boost_labelled/news9.csv',\n '../data/boost_labelled/news8.csv']"
     },
     "execution_count": 5,
     "metadata": {},
     "output_type": "execute_result"
    }
   ],
   "source": [
    "for filename in os.listdir(BASIC_PATH):\n",
    "    if not filename.startswith('.'):\n",
    "        filenames.append(f'{BASIC_PATH}/{filename}')\n",
    "filenames"
   ]
  },
  {
   "cell_type": "code",
   "execution_count": 6,
   "id": "f8fc0110",
   "metadata": {
    "ExecuteTime": {
     "start_time": "2023-12-07T12:26:52.365807Z",
     "end_time": "2023-12-07T12:26:52.411653Z"
    }
   },
   "outputs": [
    {
     "name": "stdout",
     "output_type": "stream",
     "text": [
      "Reading ../data/boost_labelled/news3.csv\n",
      "Reading ../data/boost_labelled/news2.csv\n",
      "Reading ../data/boost_labelled/news1.csv\n",
      "Reading ../data/boost_labelled/news5.csv\n",
      "Reading ../data/boost_labelled/news4.csv\n",
      "Reading ../data/boost_labelled/news6.csv\n",
      "Reading ../data/boost_labelled/news7.csv\n",
      "Reading ../data/boost_labelled/news9.csv\n",
      "Reading ../data/boost_labelled/news8.csv\n"
     ]
    },
    {
     "data": {
      "text/plain": "                       source  \\\n0          Executive Chairman   \n1               CoinTelegraph   \n2              The Daily Hodl   \n3              The Daily Hodl   \n4            Bitcoin Magazine   \n...                       ...   \n1673  Feed - Cryptopotato.Com   \n1674              CryptoSlate   \n1675   Co-founder of Ethereum   \n1676           The Daily Hodl   \n1677            onXRP Twitter   \n\n                                                  title          published_at  \\\n0     RT @justmoon: This is a post I've been wanting...  2022-12-07T19:13:11Z   \n1     Bitcoin options data shows bulls aiming for $1...  2022-12-07T19:12:11Z   \n2     Crypto Exchange Coinbase Adds Support for Two ...  2022-12-07T19:05:54Z   \n3     BitKeep Wallet Goes Live With .Bayc and Other ...  2022-12-07T19:05:16Z   \n4     Kazakhstan Presses On With Restrictive Bitcoin...  2022-12-07T18:53:00Z   \n...                                                 ...                   ...   \n1673  OKX Proof-of-Reserves Report: Bitcoin, Ether, ...  2022-12-23T18:10:53Z   \n1674  Bitcoin miners increased hash rate and product...  2022-12-23T18:00:30Z   \n1675  Looking forward to seeing who the next CEO is ...  2022-12-23T17:57:19Z   \n1676  Twitter Adds Bitcoin (BTC) and Ethereum (ETH) ...  2022-12-23T17:55:29Z   \n1677  RT @AnonymousRealx: A.A. XRP Cyborg #NFTs LIVE...  2022-12-23T17:42:40Z   \n\n     currencies  News value  \\\n0           XRP         0.0   \n1           BTC         1.0   \n2       ETH,RPL         0.0   \n3           ETH         0.0   \n4           BTC         0.0   \n...         ...         ...   \n1673       USDT         1.0   \n1674        BTC         0.0   \n1675        ETH         0.0   \n1676    BTC,ETH         1.0   \n1677    OXP,XRP         0.0   \n\n                                          full_news_url  \\\n0     https://cryptopanic.com/news/17094657/RT-justm...   \n1     https://cryptopanic.com/news/17094680/Bitcoin-...   \n2     https://cryptopanic.com/news/17094653/Crypto-E...   \n3     https://cryptopanic.com/news/17094654/BitKeep-...   \n4     https://cryptopanic.com/news/17094603/Kazakhst...   \n...                                                 ...   \n1673  https://cryptopanic.com/news/17225884/OKX-Proo...   \n1674  https://cryptopanic.com/news/17225863/Bitcoin-...   \n1675  https://cryptopanic.com/news/17225833/Looking-...   \n1676  https://cryptopanic.com/news/17225843/Twitter-...   \n1677  https://cryptopanic.com/news/17231923/RT-Anony...   \n\n                                            description  \n0                                                   NaN  \n1     <p>BTC bulls could secure a $130 million profi...  \n2     <p>Top US crypto exchange Coinbase has given s...  \n3     <p>December 5, 2022 As simplified wallet addre...  \n4     <p>A bill that would create new licensing and ...  \n...                                                 ...  \n1673  <p>The recently published Merkle tree PoR prog...  \n1674  <p>The price of Bitcoin (BTC) fell by 64.68% t...  \n1675                                                NaN  \n1676  <p>Social media giant Twitter is adding Bitcoi...  \n1677                                                NaN  \n\n[1678 rows x 7 columns]",
      "text/html": "<div>\n<style scoped>\n    .dataframe tbody tr th:only-of-type {\n        vertical-align: middle;\n    }\n\n    .dataframe tbody tr th {\n        vertical-align: top;\n    }\n\n    .dataframe thead th {\n        text-align: right;\n    }\n</style>\n<table border=\"1\" class=\"dataframe\">\n  <thead>\n    <tr style=\"text-align: right;\">\n      <th></th>\n      <th>source</th>\n      <th>title</th>\n      <th>published_at</th>\n      <th>currencies</th>\n      <th>News value</th>\n      <th>full_news_url</th>\n      <th>description</th>\n    </tr>\n  </thead>\n  <tbody>\n    <tr>\n      <th>0</th>\n      <td>Executive Chairman</td>\n      <td>RT @justmoon: This is a post I've been wanting...</td>\n      <td>2022-12-07T19:13:11Z</td>\n      <td>XRP</td>\n      <td>0.0</td>\n      <td>https://cryptopanic.com/news/17094657/RT-justm...</td>\n      <td>NaN</td>\n    </tr>\n    <tr>\n      <th>1</th>\n      <td>CoinTelegraph</td>\n      <td>Bitcoin options data shows bulls aiming for $1...</td>\n      <td>2022-12-07T19:12:11Z</td>\n      <td>BTC</td>\n      <td>1.0</td>\n      <td>https://cryptopanic.com/news/17094680/Bitcoin-...</td>\n      <td>&lt;p&gt;BTC bulls could secure a $130 million profi...</td>\n    </tr>\n    <tr>\n      <th>2</th>\n      <td>The Daily Hodl</td>\n      <td>Crypto Exchange Coinbase Adds Support for Two ...</td>\n      <td>2022-12-07T19:05:54Z</td>\n      <td>ETH,RPL</td>\n      <td>0.0</td>\n      <td>https://cryptopanic.com/news/17094653/Crypto-E...</td>\n      <td>&lt;p&gt;Top US crypto exchange Coinbase has given s...</td>\n    </tr>\n    <tr>\n      <th>3</th>\n      <td>The Daily Hodl</td>\n      <td>BitKeep Wallet Goes Live With .Bayc and Other ...</td>\n      <td>2022-12-07T19:05:16Z</td>\n      <td>ETH</td>\n      <td>0.0</td>\n      <td>https://cryptopanic.com/news/17094654/BitKeep-...</td>\n      <td>&lt;p&gt;December 5, 2022 As simplified wallet addre...</td>\n    </tr>\n    <tr>\n      <th>4</th>\n      <td>Bitcoin Magazine</td>\n      <td>Kazakhstan Presses On With Restrictive Bitcoin...</td>\n      <td>2022-12-07T18:53:00Z</td>\n      <td>BTC</td>\n      <td>0.0</td>\n      <td>https://cryptopanic.com/news/17094603/Kazakhst...</td>\n      <td>&lt;p&gt;A bill that would create new licensing and ...</td>\n    </tr>\n    <tr>\n      <th>...</th>\n      <td>...</td>\n      <td>...</td>\n      <td>...</td>\n      <td>...</td>\n      <td>...</td>\n      <td>...</td>\n      <td>...</td>\n    </tr>\n    <tr>\n      <th>1673</th>\n      <td>Feed - Cryptopotato.Com</td>\n      <td>OKX Proof-of-Reserves Report: Bitcoin, Ether, ...</td>\n      <td>2022-12-23T18:10:53Z</td>\n      <td>USDT</td>\n      <td>1.0</td>\n      <td>https://cryptopanic.com/news/17225884/OKX-Proo...</td>\n      <td>&lt;p&gt;The recently published Merkle tree PoR prog...</td>\n    </tr>\n    <tr>\n      <th>1674</th>\n      <td>CryptoSlate</td>\n      <td>Bitcoin miners increased hash rate and product...</td>\n      <td>2022-12-23T18:00:30Z</td>\n      <td>BTC</td>\n      <td>0.0</td>\n      <td>https://cryptopanic.com/news/17225863/Bitcoin-...</td>\n      <td>&lt;p&gt;The price of Bitcoin (BTC) fell by 64.68% t...</td>\n    </tr>\n    <tr>\n      <th>1675</th>\n      <td>Co-founder of Ethereum</td>\n      <td>Looking forward to seeing who the next CEO is ...</td>\n      <td>2022-12-23T17:57:19Z</td>\n      <td>ETH</td>\n      <td>0.0</td>\n      <td>https://cryptopanic.com/news/17225833/Looking-...</td>\n      <td>NaN</td>\n    </tr>\n    <tr>\n      <th>1676</th>\n      <td>The Daily Hodl</td>\n      <td>Twitter Adds Bitcoin (BTC) and Ethereum (ETH) ...</td>\n      <td>2022-12-23T17:55:29Z</td>\n      <td>BTC,ETH</td>\n      <td>1.0</td>\n      <td>https://cryptopanic.com/news/17225843/Twitter-...</td>\n      <td>&lt;p&gt;Social media giant Twitter is adding Bitcoi...</td>\n    </tr>\n    <tr>\n      <th>1677</th>\n      <td>onXRP Twitter</td>\n      <td>RT @AnonymousRealx: A.A. XRP Cyborg #NFTs LIVE...</td>\n      <td>2022-12-23T17:42:40Z</td>\n      <td>OXP,XRP</td>\n      <td>0.0</td>\n      <td>https://cryptopanic.com/news/17231923/RT-Anony...</td>\n      <td>NaN</td>\n    </tr>\n  </tbody>\n</table>\n<p>1678 rows × 7 columns</p>\n</div>"
     },
     "execution_count": 6,
     "metadata": {},
     "output_type": "execute_result"
    }
   ],
   "source": [
    "data = pd.DataFrame()\n",
    "for filename in filenames:\n",
    "    print('Reading', filename)\n",
    "    df = pd.read_csv(filename, sep=';', header=0)\n",
    "    data = pd.concat([data, df]).reset_index(drop=True)\n",
    "data"
   ]
  },
  {
   "cell_type": "code",
   "execution_count": 8,
   "id": "a0813d96",
   "metadata": {
    "ExecuteTime": {
     "start_time": "2023-12-07T12:27:00.393816Z",
     "end_time": "2023-12-07T12:27:00.533178Z"
    }
   },
   "outputs": [
    {
     "data": {
      "text/plain": "<Axes: xlabel='News value', ylabel='count'>"
     },
     "execution_count": 8,
     "metadata": {},
     "output_type": "execute_result"
    },
    {
     "data": {
      "text/plain": "<Figure size 1200x800 with 1 Axes>",
      "image/png": "[encoded data removed]"
     },
     "metadata": {},
     "output_type": "display_data"
    }
   ],
   "source": [
    "plt.figure(figsize=(12, 8))\n",
    "sns.countplot(x=data['News value'])"
   ]
  },
  {
   "cell_type": "code",
   "execution_count": 15,
   "id": "c9834a67",
   "metadata": {
    "ExecuteTime": {
     "start_time": "2023-12-07T12:29:12.573614Z",
     "end_time": "2023-12-07T12:29:12.577611Z"
    }
   },
   "outputs": [],
   "source": [
    "from io import StringIO\n",
    "from html.parser import HTMLParser\n",
    "\n",
    "class MLStripper(HTMLParser):\n",
    "    def __init__(self):\n",
    "        super().__init__()\n",
    "        self.reset()\n",
    "        self.strict = False\n",
    "        self.convert_charrefs= True\n",
    "        self.text = StringIO()\n",
    "    def handle_data(self, d):\n",
    "        self.text.write(d)\n",
    "    def get_data(self):\n",
    "        return self.text.getvalue()\n",
    "\n",
    "def strip_tags(html):\n",
    "    s = MLStripper()\n",
    "    s.feed(html)\n",
    "    return s.get_data()"
   ]
  },
  {
   "cell_type": "code",
   "execution_count": 16,
   "id": "9cd5176a",
   "metadata": {
    "ExecuteTime": {
     "start_time": "2023-12-07T12:29:12.914398Z",
     "end_time": "2023-12-07T12:29:12.931659Z"
    }
   },
   "outputs": [
    {
     "name": "stdout",
     "output_type": "stream",
     "text": [
      "<class 'pandas.core.frame.DataFrame'>\n",
      "RangeIndex: 1336 entries, 0 to 1335\n",
      "Data columns (total 7 columns):\n",
      " #   Column         Non-Null Count  Dtype  \n",
      "---  ------         --------------  -----  \n",
      " 0   source         1318 non-null   object \n",
      " 1   title          1330 non-null   object \n",
      " 2   published_at   1318 non-null   object \n",
      " 3   currencies     1288 non-null   object \n",
      " 4   News value     1334 non-null   float64\n",
      " 5   full_news_url  1336 non-null   object \n",
      " 6   description    1336 non-null   object \n",
      "dtypes: float64(1), object(6)\n",
      "memory usage: 73.2+ KB\n"
     ]
    }
   ],
   "source": [
    "data.info()"
   ]
  },
  {
   "cell_type": "code",
   "execution_count": 17,
   "id": "9b1e6485",
   "metadata": {
    "ExecuteTime": {
     "start_time": "2023-12-07T12:29:14.002732Z",
     "end_time": "2023-12-07T12:29:14.026664Z"
    }
   },
   "outputs": [
    {
     "data": {
      "text/plain": "                source                                              title  \\\n0        CoinTelegraph  Bitcoin options data shows bulls aiming for $1...   \n1       The Daily Hodl  Crypto Exchange Coinbase Adds Support for Two ...   \n2       The Daily Hodl  BitKeep Wallet Goes Live With .Bayc and Other ...   \n3     Bitcoin Magazine  Kazakhstan Presses On With Restrictive Bitcoin...   \n4        CoinTelegraph   The blockchain trilemma: Can it ever be tackled?   \n...                ...                                                ...   \n1331           U.Today      Ethereum (ETH) Price Analysis for December 23   \n1332          ZyCrypto  Digital Assets Amongst Vulnerabilities Within ...   \n1333    The Daily Hodl  Cardano, Litecoin and Monero Will Not Be Added...   \n1334          ZyCrypto  Binance plans to invest in India’s web3 startu...   \n1335          ZyCrypto  Regulation Alone Isn’t Enough To Address Short...   \n\n              published_at           currencies  News value  \\\n0     2022-12-07T19:12:11Z                  BTC         1.0   \n1     2022-12-07T19:05:54Z              ETH,RPL         0.0   \n2     2022-12-07T19:05:16Z                  ETH         0.0   \n3     2022-12-07T18:53:00Z                  BTC         0.0   \n4     2022-12-07T18:33:00Z            ETH,MATIC         0.0   \n...                    ...                  ...         ...   \n1331  2022-12-23T20:00:00Z                  ETH         0.0   \n1332  2022-12-23T19:47:30Z              ETH,XRP         0.0   \n1333  2022-12-23T19:41:41Z  BTC,ETH,ADA,LTC,XMR         1.0   \n1334  2022-12-23T19:24:08Z          BTC,ETH,XRP         1.0   \n1335  2022-12-23T19:04:34Z              ETH,XRP         0.0   \n\n                                          full_news_url  \\\n0     https://cryptopanic.com/news/17094680/Bitcoin-...   \n1     https://cryptopanic.com/news/17094653/Crypto-E...   \n2     https://cryptopanic.com/news/17094654/BitKeep-...   \n3     https://cryptopanic.com/news/17094603/Kazakhst...   \n4     https://cryptopanic.com/news/17094549/The-bloc...   \n...                                                 ...   \n1331  https://cryptopanic.com/news/17226113/Ethereum...   \n1332  https://cryptopanic.com/news/17226085/Digital-...   \n1333  https://cryptopanic.com/news/17226084/Cardano-...   \n1334  https://cryptopanic.com/news/17226053/Binance-...   \n1335  https://cryptopanic.com/news/17226015/Regulati...   \n\n                                            description  \n0     BTC bulls could secure a $130 million profit i...  \n1     Top US crypto exchange Coinbase has given supp...  \n2     December 5, 2022 As simplified wallet addresse...  \n3     A bill that would create new licensing and ele...  \n4     Blockchain trilemma is arguably the hardest te...  \n...                                                 ...  \n1331  How great are chances for continued rise of Et...  \n1332  The Financial Stability Oversight Council (FSO...  \n1333  A top executive of peer-to-peer crypto exchang...  \n1334  Binance’s Chief Technology Officer (CTO) Rohit...  \n1335  According to Fabio Panetta, a Member of the Ex...  \n\n[1336 rows x 7 columns]",
      "text/html": "<div>\n<style scoped>\n    .dataframe tbody tr th:only-of-type {\n        vertical-align: middle;\n    }\n\n    .dataframe tbody tr th {\n        vertical-align: top;\n    }\n\n    .dataframe thead th {\n        text-align: right;\n    }\n</style>\n<table border=\"1\" class=\"dataframe\">\n  <thead>\n    <tr style=\"text-align: right;\">\n      <th></th>\n      <th>source</th>\n      <th>title</th>\n      <th>published_at</th>\n      <th>currencies</th>\n      <th>News value</th>\n      <th>full_news_url</th>\n      <th>description</th>\n    </tr>\n  </thead>\n  <tbody>\n    <tr>\n      <th>0</th>\n      <td>CoinTelegraph</td>\n      <td>Bitcoin options data shows bulls aiming for $1...</td>\n      <td>2022-12-07T19:12:11Z</td>\n      <td>BTC</td>\n      <td>1.0</td>\n      <td>https://cryptopanic.com/news/17094680/Bitcoin-...</td>\n      <td>BTC bulls could secure a $130 million profit i...</td>\n    </tr>\n    <tr>\n      <th>1</th>\n      <td>The Daily Hodl</td>\n      <td>Crypto Exchange Coinbase Adds Support for Two ...</td>\n      <td>2022-12-07T19:05:54Z</td>\n      <td>ETH,RPL</td>\n      <td>0.0</td>\n      <td>https://cryptopanic.com/news/17094653/Crypto-E...</td>\n      <td>Top US crypto exchange Coinbase has given supp...</td>\n    </tr>\n    <tr>\n      <th>2</th>\n      <td>The Daily Hodl</td>\n      <td>BitKeep Wallet Goes Live With .Bayc and Other ...</td>\n      <td>2022-12-07T19:05:16Z</td>\n      <td>ETH</td>\n      <td>0.0</td>\n      <td>https://cryptopanic.com/news/17094654/BitKeep-...</td>\n      <td>December 5, 2022 As simplified wallet addresse...</td>\n    </tr>\n    <tr>\n      <th>3</th>\n      <td>Bitcoin Magazine</td>\n      <td>Kazakhstan Presses On With Restrictive Bitcoin...</td>\n      <td>2022-12-07T18:53:00Z</td>\n      <td>BTC</td>\n      <td>0.0</td>\n      <td>https://cryptopanic.com/news/17094603/Kazakhst...</td>\n      <td>A bill that would create new licensing and ele...</td>\n    </tr>\n    <tr>\n      <th>4</th>\n      <td>CoinTelegraph</td>\n      <td>The blockchain trilemma: Can it ever be tackled?</td>\n      <td>2022-12-07T18:33:00Z</td>\n      <td>ETH,MATIC</td>\n      <td>0.0</td>\n      <td>https://cryptopanic.com/news/17094549/The-bloc...</td>\n      <td>Blockchain trilemma is arguably the hardest te...</td>\n    </tr>\n    <tr>\n      <th>...</th>\n      <td>...</td>\n      <td>...</td>\n      <td>...</td>\n      <td>...</td>\n      <td>...</td>\n      <td>...</td>\n      <td>...</td>\n    </tr>\n    <tr>\n      <th>1331</th>\n      <td>U.Today</td>\n      <td>Ethereum (ETH) Price Analysis for December 23</td>\n      <td>2022-12-23T20:00:00Z</td>\n      <td>ETH</td>\n      <td>0.0</td>\n      <td>https://cryptopanic.com/news/17226113/Ethereum...</td>\n      <td>How great are chances for continued rise of Et...</td>\n    </tr>\n    <tr>\n      <th>1332</th>\n      <td>ZyCrypto</td>\n      <td>Digital Assets Amongst Vulnerabilities Within ...</td>\n      <td>2022-12-23T19:47:30Z</td>\n      <td>ETH,XRP</td>\n      <td>0.0</td>\n      <td>https://cryptopanic.com/news/17226085/Digital-...</td>\n      <td>The Financial Stability Oversight Council (FSO...</td>\n    </tr>\n    <tr>\n      <th>1333</th>\n      <td>The Daily Hodl</td>\n      <td>Cardano, Litecoin and Monero Will Not Be Added...</td>\n      <td>2022-12-23T19:41:41Z</td>\n      <td>BTC,ETH,ADA,LTC,XMR</td>\n      <td>1.0</td>\n      <td>https://cryptopanic.com/news/17226084/Cardano-...</td>\n      <td>A top executive of peer-to-peer crypto exchang...</td>\n    </tr>\n    <tr>\n      <th>1334</th>\n      <td>ZyCrypto</td>\n      <td>Binance plans to invest in India’s web3 startu...</td>\n      <td>2022-12-23T19:24:08Z</td>\n      <td>BTC,ETH,XRP</td>\n      <td>1.0</td>\n      <td>https://cryptopanic.com/news/17226053/Binance-...</td>\n      <td>Binance’s Chief Technology Officer (CTO) Rohit...</td>\n    </tr>\n    <tr>\n      <th>1335</th>\n      <td>ZyCrypto</td>\n      <td>Regulation Alone Isn’t Enough To Address Short...</td>\n      <td>2022-12-23T19:04:34Z</td>\n      <td>ETH,XRP</td>\n      <td>0.0</td>\n      <td>https://cryptopanic.com/news/17226015/Regulati...</td>\n      <td>According to Fabio Panetta, a Member of the Ex...</td>\n    </tr>\n  </tbody>\n</table>\n<p>1336 rows × 7 columns</p>\n</div>"
     },
     "execution_count": 17,
     "metadata": {},
     "output_type": "execute_result"
    }
   ],
   "source": [
    "data = data[~data['description'].isna()]\n",
    "data"
   ]
  },
  {
   "cell_type": "code",
   "execution_count": 18,
   "id": "ae8bc4bf",
   "metadata": {
    "ExecuteTime": {
     "start_time": "2023-12-07T12:29:15.533072Z",
     "end_time": "2023-12-07T12:29:15.546219Z"
    }
   },
   "outputs": [
    {
     "data": {
      "text/plain": "                source                                              title  \\\n0        CoinTelegraph  Bitcoin options data shows bulls aiming for $1...   \n1       The Daily Hodl  Crypto Exchange Coinbase Adds Support for Two ...   \n2       The Daily Hodl  BitKeep Wallet Goes Live With .Bayc and Other ...   \n3     Bitcoin Magazine  Kazakhstan Presses On With Restrictive Bitcoin...   \n4        CoinTelegraph   The blockchain trilemma: Can it ever be tackled?   \n...                ...                                                ...   \n1331           U.Today      Ethereum (ETH) Price Analysis for December 23   \n1332          ZyCrypto  Digital Assets Amongst Vulnerabilities Within ...   \n1333    The Daily Hodl  Cardano, Litecoin and Monero Will Not Be Added...   \n1334          ZyCrypto  Binance plans to invest in India’s web3 startu...   \n1335          ZyCrypto  Regulation Alone Isn’t Enough To Address Short...   \n\n              published_at           currencies  News value  \\\n0     2022-12-07T19:12:11Z                  BTC         1.0   \n1     2022-12-07T19:05:54Z              ETH,RPL         0.0   \n2     2022-12-07T19:05:16Z                  ETH         0.0   \n3     2022-12-07T18:53:00Z                  BTC         0.0   \n4     2022-12-07T18:33:00Z            ETH,MATIC         0.0   \n...                    ...                  ...         ...   \n1331  2022-12-23T20:00:00Z                  ETH         0.0   \n1332  2022-12-23T19:47:30Z              ETH,XRP         0.0   \n1333  2022-12-23T19:41:41Z  BTC,ETH,ADA,LTC,XMR         1.0   \n1334  2022-12-23T19:24:08Z          BTC,ETH,XRP         1.0   \n1335  2022-12-23T19:04:34Z              ETH,XRP         0.0   \n\n                                          full_news_url  \\\n0     https://cryptopanic.com/news/17094680/Bitcoin-...   \n1     https://cryptopanic.com/news/17094653/Crypto-E...   \n2     https://cryptopanic.com/news/17094654/BitKeep-...   \n3     https://cryptopanic.com/news/17094603/Kazakhst...   \n4     https://cryptopanic.com/news/17094549/The-bloc...   \n...                                                 ...   \n1331  https://cryptopanic.com/news/17226113/Ethereum...   \n1332  https://cryptopanic.com/news/17226085/Digital-...   \n1333  https://cryptopanic.com/news/17226084/Cardano-...   \n1334  https://cryptopanic.com/news/17226053/Binance-...   \n1335  https://cryptopanic.com/news/17226015/Regulati...   \n\n                                            description  \n0     BTC bulls could secure a $130 million profit i...  \n1     Top US crypto exchange Coinbase has given supp...  \n2     December 5, 2022 As simplified wallet addresse...  \n3     A bill that would create new licensing and ele...  \n4     Blockchain trilemma is arguably the hardest te...  \n...                                                 ...  \n1331  How great are chances for continued rise of Et...  \n1332  The Financial Stability Oversight Council (FSO...  \n1333  A top executive of peer-to-peer crypto exchang...  \n1334  Binance’s Chief Technology Officer (CTO) Rohit...  \n1335  According to Fabio Panetta, a Member of the Ex...  \n\n[1336 rows x 7 columns]",
      "text/html": "<div>\n<style scoped>\n    .dataframe tbody tr th:only-of-type {\n        vertical-align: middle;\n    }\n\n    .dataframe tbody tr th {\n        vertical-align: top;\n    }\n\n    .dataframe thead th {\n        text-align: right;\n    }\n</style>\n<table border=\"1\" class=\"dataframe\">\n  <thead>\n    <tr style=\"text-align: right;\">\n      <th></th>\n      <th>source</th>\n      <th>title</th>\n      <th>published_at</th>\n      <th>currencies</th>\n      <th>News value</th>\n      <th>full_news_url</th>\n      <th>description</th>\n    </tr>\n  </thead>\n  <tbody>\n    <tr>\n      <th>0</th>\n      <td>CoinTelegraph</td>\n      <td>Bitcoin options data shows bulls aiming for $1...</td>\n      <td>2022-12-07T19:12:11Z</td>\n      <td>BTC</td>\n      <td>1.0</td>\n      <td>https://cryptopanic.com/news/17094680/Bitcoin-...</td>\n      <td>BTC bulls could secure a $130 million profit i...</td>\n    </tr>\n    <tr>\n      <th>1</th>\n      <td>The Daily Hodl</td>\n      <td>Crypto Exchange Coinbase Adds Support for Two ...</td>\n      <td>2022-12-07T19:05:54Z</td>\n      <td>ETH,RPL</td>\n      <td>0.0</td>\n      <td>https://cryptopanic.com/news/17094653/Crypto-E...</td>\n      <td>Top US crypto exchange Coinbase has given supp...</td>\n    </tr>\n    <tr>\n      <th>2</th>\n      <td>The Daily Hodl</td>\n      <td>BitKeep Wallet Goes Live With .Bayc and Other ...</td>\n      <td>2022-12-07T19:05:16Z</td>\n      <td>ETH</td>\n      <td>0.0</td>\n      <td>https://cryptopanic.com/news/17094654/BitKeep-...</td>\n      <td>December 5, 2022 As simplified wallet addresse...</td>\n    </tr>\n    <tr>\n      <th>3</th>\n      <td>Bitcoin Magazine</td>\n      <td>Kazakhstan Presses On With Restrictive Bitcoin...</td>\n      <td>2022-12-07T18:53:00Z</td>\n      <td>BTC</td>\n      <td>0.0</td>\n      <td>https://cryptopanic.com/news/17094603/Kazakhst...</td>\n      <td>A bill that would create new licensing and ele...</td>\n    </tr>\n    <tr>\n      <th>4</th>\n      <td>CoinTelegraph</td>\n      <td>The blockchain trilemma: Can it ever be tackled?</td>\n      <td>2022-12-07T18:33:00Z</td>\n      <td>ETH,MATIC</td>\n      <td>0.0</td>\n      <td>https://cryptopanic.com/news/17094549/The-bloc...</td>\n      <td>Blockchain trilemma is arguably the hardest te...</td>\n    </tr>\n    <tr>\n      <th>...</th>\n      <td>...</td>\n      <td>...</td>\n      <td>...</td>\n      <td>...</td>\n      <td>...</td>\n      <td>...</td>\n      <td>...</td>\n    </tr>\n    <tr>\n      <th>1331</th>\n      <td>U.Today</td>\n      <td>Ethereum (ETH) Price Analysis for December 23</td>\n      <td>2022-12-23T20:00:00Z</td>\n      <td>ETH</td>\n      <td>0.0</td>\n      <td>https://cryptopanic.com/news/17226113/Ethereum...</td>\n      <td>How great are chances for continued rise of Et...</td>\n    </tr>\n    <tr>\n      <th>1332</th>\n      <td>ZyCrypto</td>\n      <td>Digital Assets Amongst Vulnerabilities Within ...</td>\n      <td>2022-12-23T19:47:30Z</td>\n      <td>ETH,XRP</td>\n      <td>0.0</td>\n      <td>https://cryptopanic.com/news/17226085/Digital-...</td>\n      <td>The Financial Stability Oversight Council (FSO...</td>\n    </tr>\n    <tr>\n      <th>1333</th>\n      <td>The Daily Hodl</td>\n      <td>Cardano, Litecoin and Monero Will Not Be Added...</td>\n      <td>2022-12-23T19:41:41Z</td>\n      <td>BTC,ETH,ADA,LTC,XMR</td>\n      <td>1.0</td>\n      <td>https://cryptopanic.com/news/17226084/Cardano-...</td>\n      <td>A top executive of peer-to-peer crypto exchang...</td>\n    </tr>\n    <tr>\n      <th>1334</th>\n      <td>ZyCrypto</td>\n      <td>Binance plans to invest in India’s web3 startu...</td>\n      <td>2022-12-23T19:24:08Z</td>\n      <td>BTC,ETH,XRP</td>\n      <td>1.0</td>\n      <td>https://cryptopanic.com/news/17226053/Binance-...</td>\n      <td>Binance’s Chief Technology Officer (CTO) Rohit...</td>\n    </tr>\n    <tr>\n      <th>1335</th>\n      <td>ZyCrypto</td>\n      <td>Regulation Alone Isn’t Enough To Address Short...</td>\n      <td>2022-12-23T19:04:34Z</td>\n      <td>ETH,XRP</td>\n      <td>0.0</td>\n      <td>https://cryptopanic.com/news/17226015/Regulati...</td>\n      <td>According to Fabio Panetta, a Member of the Ex...</td>\n    </tr>\n  </tbody>\n</table>\n<p>1336 rows × 7 columns</p>\n</div>"
     },
     "execution_count": 18,
     "metadata": {},
     "output_type": "execute_result"
    }
   ],
   "source": [
    "data = data.drop_duplicates(['description'])\n",
    "data"
   ]
  },
  {
   "cell_type": "code",
   "execution_count": 19,
   "id": "d97ee377",
   "metadata": {
    "ExecuteTime": {
     "start_time": "2023-12-07T12:29:16.057776Z",
     "end_time": "2023-12-07T12:29:16.076472Z"
    }
   },
   "outputs": [
    {
     "data": {
      "text/plain": "                source                                              title  \\\n0        CoinTelegraph  Bitcoin options data shows bulls aiming for $1...   \n1       The Daily Hodl  Crypto Exchange Coinbase Adds Support for Two ...   \n2       The Daily Hodl  BitKeep Wallet Goes Live With .Bayc and Other ...   \n3     Bitcoin Magazine  Kazakhstan Presses On With Restrictive Bitcoin...   \n4        CoinTelegraph   The blockchain trilemma: Can it ever be tackled?   \n...                ...                                                ...   \n1331           U.Today      Ethereum (ETH) Price Analysis for December 23   \n1332          ZyCrypto  Digital Assets Amongst Vulnerabilities Within ...   \n1333    The Daily Hodl  Cardano, Litecoin and Monero Will Not Be Added...   \n1334          ZyCrypto  Binance plans to invest in India’s web3 startu...   \n1335          ZyCrypto  Regulation Alone Isn’t Enough To Address Short...   \n\n              published_at           currencies  News value  \\\n0     2022-12-07T19:12:11Z                  BTC         1.0   \n1     2022-12-07T19:05:54Z              ETH,RPL         0.0   \n2     2022-12-07T19:05:16Z                  ETH         0.0   \n3     2022-12-07T18:53:00Z                  BTC         0.0   \n4     2022-12-07T18:33:00Z            ETH,MATIC         0.0   \n...                    ...                  ...         ...   \n1331  2022-12-23T20:00:00Z                  ETH         0.0   \n1332  2022-12-23T19:47:30Z              ETH,XRP         0.0   \n1333  2022-12-23T19:41:41Z  BTC,ETH,ADA,LTC,XMR         1.0   \n1334  2022-12-23T19:24:08Z          BTC,ETH,XRP         1.0   \n1335  2022-12-23T19:04:34Z              ETH,XRP         0.0   \n\n                                          full_news_url  \\\n0     https://cryptopanic.com/news/17094680/Bitcoin-...   \n1     https://cryptopanic.com/news/17094653/Crypto-E...   \n2     https://cryptopanic.com/news/17094654/BitKeep-...   \n3     https://cryptopanic.com/news/17094603/Kazakhst...   \n4     https://cryptopanic.com/news/17094549/The-bloc...   \n...                                                 ...   \n1331  https://cryptopanic.com/news/17226113/Ethereum...   \n1332  https://cryptopanic.com/news/17226085/Digital-...   \n1333  https://cryptopanic.com/news/17226084/Cardano-...   \n1334  https://cryptopanic.com/news/17226053/Binance-...   \n1335  https://cryptopanic.com/news/17226015/Regulati...   \n\n                                            description  \n0     BTC bulls could secure a $130 million profit i...  \n1     Top US crypto exchange Coinbase has given supp...  \n2     December 5, 2022 As simplified wallet addresse...  \n3     A bill that would create new licensing and ele...  \n4     Blockchain trilemma is arguably the hardest te...  \n...                                                 ...  \n1331  How great are chances for continued rise of Et...  \n1332  The Financial Stability Oversight Council (FSO...  \n1333  A top executive of peer-to-peer crypto exchang...  \n1334  Binance’s Chief Technology Officer (CTO) Rohit...  \n1335  According to Fabio Panetta, a Member of the Ex...  \n\n[1336 rows x 7 columns]",
      "text/html": "<div>\n<style scoped>\n    .dataframe tbody tr th:only-of-type {\n        vertical-align: middle;\n    }\n\n    .dataframe tbody tr th {\n        vertical-align: top;\n    }\n\n    .dataframe thead th {\n        text-align: right;\n    }\n</style>\n<table border=\"1\" class=\"dataframe\">\n  <thead>\n    <tr style=\"text-align: right;\">\n      <th></th>\n      <th>source</th>\n      <th>title</th>\n      <th>published_at</th>\n      <th>currencies</th>\n      <th>News value</th>\n      <th>full_news_url</th>\n      <th>description</th>\n    </tr>\n  </thead>\n  <tbody>\n    <tr>\n      <th>0</th>\n      <td>CoinTelegraph</td>\n      <td>Bitcoin options data shows bulls aiming for $1...</td>\n      <td>2022-12-07T19:12:11Z</td>\n      <td>BTC</td>\n      <td>1.0</td>\n      <td>https://cryptopanic.com/news/17094680/Bitcoin-...</td>\n      <td>BTC bulls could secure a $130 million profit i...</td>\n    </tr>\n    <tr>\n      <th>1</th>\n      <td>The Daily Hodl</td>\n      <td>Crypto Exchange Coinbase Adds Support for Two ...</td>\n      <td>2022-12-07T19:05:54Z</td>\n      <td>ETH,RPL</td>\n      <td>0.0</td>\n      <td>https://cryptopanic.com/news/17094653/Crypto-E...</td>\n      <td>Top US crypto exchange Coinbase has given supp...</td>\n    </tr>\n    <tr>\n      <th>2</th>\n      <td>The Daily Hodl</td>\n      <td>BitKeep Wallet Goes Live With .Bayc and Other ...</td>\n      <td>2022-12-07T19:05:16Z</td>\n      <td>ETH</td>\n      <td>0.0</td>\n      <td>https://cryptopanic.com/news/17094654/BitKeep-...</td>\n      <td>December 5, 2022 As simplified wallet addresse...</td>\n    </tr>\n    <tr>\n      <th>3</th>\n      <td>Bitcoin Magazine</td>\n      <td>Kazakhstan Presses On With Restrictive Bitcoin...</td>\n      <td>2022-12-07T18:53:00Z</td>\n      <td>BTC</td>\n      <td>0.0</td>\n      <td>https://cryptopanic.com/news/17094603/Kazakhst...</td>\n      <td>A bill that would create new licensing and ele...</td>\n    </tr>\n    <tr>\n      <th>4</th>\n      <td>CoinTelegraph</td>\n      <td>The blockchain trilemma: Can it ever be tackled?</td>\n      <td>2022-12-07T18:33:00Z</td>\n      <td>ETH,MATIC</td>\n      <td>0.0</td>\n      <td>https://cryptopanic.com/news/17094549/The-bloc...</td>\n      <td>Blockchain trilemma is arguably the hardest te...</td>\n    </tr>\n    <tr>\n      <th>...</th>\n      <td>...</td>\n      <td>...</td>\n      <td>...</td>\n      <td>...</td>\n      <td>...</td>\n      <td>...</td>\n      <td>...</td>\n    </tr>\n    <tr>\n      <th>1331</th>\n      <td>U.Today</td>\n      <td>Ethereum (ETH) Price Analysis for December 23</td>\n      <td>2022-12-23T20:00:00Z</td>\n      <td>ETH</td>\n      <td>0.0</td>\n      <td>https://cryptopanic.com/news/17226113/Ethereum...</td>\n      <td>How great are chances for continued rise of Et...</td>\n    </tr>\n    <tr>\n      <th>1332</th>\n      <td>ZyCrypto</td>\n      <td>Digital Assets Amongst Vulnerabilities Within ...</td>\n      <td>2022-12-23T19:47:30Z</td>\n      <td>ETH,XRP</td>\n      <td>0.0</td>\n      <td>https://cryptopanic.com/news/17226085/Digital-...</td>\n      <td>The Financial Stability Oversight Council (FSO...</td>\n    </tr>\n    <tr>\n      <th>1333</th>\n      <td>The Daily Hodl</td>\n      <td>Cardano, Litecoin and Monero Will Not Be Added...</td>\n      <td>2022-12-23T19:41:41Z</td>\n      <td>BTC,ETH,ADA,LTC,XMR</td>\n      <td>1.0</td>\n      <td>https://cryptopanic.com/news/17226084/Cardano-...</td>\n      <td>A top executive of peer-to-peer crypto exchang...</td>\n    </tr>\n    <tr>\n      <th>1334</th>\n      <td>ZyCrypto</td>\n      <td>Binance plans to invest in India’s web3 startu...</td>\n      <td>2022-12-23T19:24:08Z</td>\n      <td>BTC,ETH,XRP</td>\n      <td>1.0</td>\n      <td>https://cryptopanic.com/news/17226053/Binance-...</td>\n      <td>Binance’s Chief Technology Officer (CTO) Rohit...</td>\n    </tr>\n    <tr>\n      <th>1335</th>\n      <td>ZyCrypto</td>\n      <td>Regulation Alone Isn’t Enough To Address Short...</td>\n      <td>2022-12-23T19:04:34Z</td>\n      <td>ETH,XRP</td>\n      <td>0.0</td>\n      <td>https://cryptopanic.com/news/17226015/Regulati...</td>\n      <td>According to Fabio Panetta, a Member of the Ex...</td>\n    </tr>\n  </tbody>\n</table>\n<p>1336 rows × 7 columns</p>\n</div>"
     },
     "execution_count": 19,
     "metadata": {},
     "output_type": "execute_result"
    }
   ],
   "source": [
    "data['description'] = data['description'].apply(strip_tags)\n",
    "data = data.reset_index(drop=True)\n",
    "data"
   ]
  },
  {
   "cell_type": "code",
   "execution_count": 20,
   "id": "b5526108",
   "metadata": {
    "ExecuteTime": {
     "start_time": "2023-12-07T12:29:19.854697Z",
     "end_time": "2023-12-07T12:29:19.874535Z"
    }
   },
   "outputs": [],
   "source": [
    "STOPWORDS = stopwords.words('english')"
   ]
  },
  {
   "cell_type": "code",
   "execution_count": 22,
   "id": "66ae8932",
   "metadata": {
    "ExecuteTime": {
     "start_time": "2023-12-07T12:29:24.550160Z",
     "end_time": "2023-12-07T12:29:24.669286Z"
    }
   },
   "outputs": [
    {
     "data": {
      "text/plain": "              Word  Frequency\n0          bitcoin        654\n1           crypto        543\n2            price        413\n3           market        330\n4              btc        253\n5         ethereum        248\n6          trading        206\n7              new        179\n8         exchange        167\n9   cryptocurrency        158\n10              us        154\n11             eth        150\n12             ftx        148\n13            2022        142\n14            last        136\n15            data        133\n16           could        120\n17             xrp        115\n18             one        114\n19       according        109\n20            year        109\n21         digital        104\n22        december         99\n23            says         97\n24      resistance         92",
      "text/html": "<div>\n<style scoped>\n    .dataframe tbody tr th:only-of-type {\n        vertical-align: middle;\n    }\n\n    .dataframe tbody tr th {\n        vertical-align: top;\n    }\n\n    .dataframe thead th {\n        text-align: right;\n    }\n</style>\n<table border=\"1\" class=\"dataframe\">\n  <thead>\n    <tr style=\"text-align: right;\">\n      <th></th>\n      <th>Word</th>\n      <th>Frequency</th>\n    </tr>\n  </thead>\n  <tbody>\n    <tr>\n      <th>0</th>\n      <td>bitcoin</td>\n      <td>654</td>\n    </tr>\n    <tr>\n      <th>1</th>\n      <td>crypto</td>\n      <td>543</td>\n    </tr>\n    <tr>\n      <th>2</th>\n      <td>price</td>\n      <td>413</td>\n    </tr>\n    <tr>\n      <th>3</th>\n      <td>market</td>\n      <td>330</td>\n    </tr>\n    <tr>\n      <th>4</th>\n      <td>btc</td>\n      <td>253</td>\n    </tr>\n    <tr>\n      <th>5</th>\n      <td>ethereum</td>\n      <td>248</td>\n    </tr>\n    <tr>\n      <th>6</th>\n      <td>trading</td>\n      <td>206</td>\n    </tr>\n    <tr>\n      <th>7</th>\n      <td>new</td>\n      <td>179</td>\n    </tr>\n    <tr>\n      <th>8</th>\n      <td>exchange</td>\n      <td>167</td>\n    </tr>\n    <tr>\n      <th>9</th>\n      <td>cryptocurrency</td>\n      <td>158</td>\n    </tr>\n    <tr>\n      <th>10</th>\n      <td>us</td>\n      <td>154</td>\n    </tr>\n    <tr>\n      <th>11</th>\n      <td>eth</td>\n      <td>150</td>\n    </tr>\n    <tr>\n      <th>12</th>\n      <td>ftx</td>\n      <td>148</td>\n    </tr>\n    <tr>\n      <th>13</th>\n      <td>2022</td>\n      <td>142</td>\n    </tr>\n    <tr>\n      <th>14</th>\n      <td>last</td>\n      <td>136</td>\n    </tr>\n    <tr>\n      <th>15</th>\n      <td>data</td>\n      <td>133</td>\n    </tr>\n    <tr>\n      <th>16</th>\n      <td>could</td>\n      <td>120</td>\n    </tr>\n    <tr>\n      <th>17</th>\n      <td>xrp</td>\n      <td>115</td>\n    </tr>\n    <tr>\n      <th>18</th>\n      <td>one</td>\n      <td>114</td>\n    </tr>\n    <tr>\n      <th>19</th>\n      <td>according</td>\n      <td>109</td>\n    </tr>\n    <tr>\n      <th>20</th>\n      <td>year</td>\n      <td>109</td>\n    </tr>\n    <tr>\n      <th>21</th>\n      <td>digital</td>\n      <td>104</td>\n    </tr>\n    <tr>\n      <th>22</th>\n      <td>december</td>\n      <td>99</td>\n    </tr>\n    <tr>\n      <th>23</th>\n      <td>says</td>\n      <td>97</td>\n    </tr>\n    <tr>\n      <th>24</th>\n      <td>resistance</td>\n      <td>92</td>\n    </tr>\n  </tbody>\n</table>\n</div>"
     },
     "execution_count": 22,
     "metadata": {},
     "output_type": "execute_result"
    }
   ],
   "source": [
    "top_N = 25\n",
    "a = data['description'].str.lower().str.replace(r'[^\\w\\s]', '', regex=True).str.cat(sep=' ')\n",
    "words = list(filter(lambda w: w not in STOPWORDS, nltk.tokenize.word_tokenize(a)))\n",
    "word_dist = nltk.FreqDist(words)\n",
    "freq_title = pd.DataFrame(word_dist.most_common(top_N),\n",
    "                    columns=['Word', 'Frequency'])\n",
    "freq_title"
   ]
  },
  {
   "cell_type": "code",
   "execution_count": 23,
   "outputs": [],
   "source": [
    "import matplotlib\n",
    "matplotlib.rcParams.update({'font.size': 22})"
   ],
   "metadata": {
    "collapsed": false,
    "ExecuteTime": {
     "start_time": "2023-12-07T12:29:54.219950Z",
     "end_time": "2023-12-07T12:29:54.223840Z"
    }
   }
  },
  {
   "cell_type": "code",
   "execution_count": 29,
   "id": "b5a60322",
   "metadata": {
    "ExecuteTime": {
     "start_time": "2023-12-07T12:31:15.401285Z",
     "end_time": "2023-12-07T12:31:15.753842Z"
    }
   },
   "outputs": [
    {
     "data": {
      "text/plain": "(array([ 0,  1,  2,  3,  4,  5,  6,  7,  8,  9, 10, 11, 12, 13, 14, 15, 16,\n        17, 18, 19, 20, 21, 22, 23, 24]),\n [Text(0, 0, 'bitcoin'),\n  Text(1, 0, 'crypto'),\n  Text(2, 0, 'price'),\n  Text(3, 0, 'market'),\n  Text(4, 0, 'btc'),\n  Text(5, 0, 'ethereum'),\n  Text(6, 0, 'trading'),\n  Text(7, 0, 'new'),\n  Text(8, 0, 'exchange'),\n  Text(9, 0, 'cryptocurrency'),\n  Text(10, 0, 'us'),\n  Text(11, 0, 'eth'),\n  Text(12, 0, 'ftx'),\n  Text(13, 0, '2022'),\n  Text(14, 0, 'last'),\n  Text(15, 0, 'data'),\n  Text(16, 0, 'could'),\n  Text(17, 0, 'xrp'),\n  Text(18, 0, 'one'),\n  Text(19, 0, 'according'),\n  Text(20, 0, 'year'),\n  Text(21, 0, 'digital'),\n  Text(22, 0, 'december'),\n  Text(23, 0, 'says'),\n  Text(24, 0, 'resistance')])"
     },
     "execution_count": 29,
     "metadata": {},
     "output_type": "execute_result"
    },
    {
     "data": {
      "text/plain": "<Figure size 1800x1200 with 1 Axes>",
      "image/png": "[encoded data removed]"
     },
     "metadata": {},
     "output_type": "display_data"
    }
   ],
   "source": [
    "plt.figure(figsize=(18, 12))\n",
    "sns.barplot(data=freq_title, x='Word', y='Frequency')\n",
    "plt.xticks(rotation=90)"
   ]
  },
  {
   "cell_type": "code",
   "execution_count": 25,
   "id": "abecf653",
   "metadata": {
    "ExecuteTime": {
     "start_time": "2023-12-07T12:30:00.701894Z",
     "end_time": "2023-12-07T12:30:00.709895Z"
    }
   },
   "outputs": [],
   "source": [
    "def find_ngrams(input_list, n):\n",
    "    return list(zip(*(input_list[i:] for i in range(n))))"
   ]
  },
  {
   "cell_type": "code",
   "execution_count": 26,
   "id": "9f6f6fd4",
   "metadata": {
    "ExecuteTime": {
     "start_time": "2023-12-07T12:30:01.345315Z",
     "end_time": "2023-12-07T12:30:01.354653Z"
    }
   },
   "outputs": [],
   "source": [
    "bigrams = find_ngrams(words, 2)"
   ]
  },
  {
   "cell_type": "code",
   "execution_count": 27,
   "id": "9477884b",
   "metadata": {
    "ExecuteTime": {
     "start_time": "2023-12-07T12:30:07.590990Z",
     "end_time": "2023-12-07T12:30:07.623341Z"
    }
   },
   "outputs": [
    {
     "data": {
      "text/plain": "                      N-gram  Frequency\n0             (bitcoin, btc)         97\n1            (ethereum, eth)         60\n2           (crypto, market)         53\n3           (bitcoin, price)         48\n4         (crypto, exchange)         47\n5             (bear, market)         41\n6                (24, hours)         39\n7          (moving, average)         38\n8               (us, dollar)         37\n9           (price, trading)         37\n10             (market, cap)         34\n11          (digital, asset)         34\n12  (cryptocurrency, market)         32\n13          (simple, moving)         31\n14              (btc, price)         30\n15             (data, shows)         28\n16         (bitcoin, mining)         26\n17                (last, 24)         26\n18       (price, prediction)         25\n19             (trend, line)         25\n20           (price, action)         24\n21              (last, week)         23\n22           (onchain, data)         23\n23                 (top, 10)         22\n24      (twitter, followers)         22",
      "text/html": "<div>\n<style scoped>\n    .dataframe tbody tr th:only-of-type {\n        vertical-align: middle;\n    }\n\n    .dataframe tbody tr th {\n        vertical-align: top;\n    }\n\n    .dataframe thead th {\n        text-align: right;\n    }\n</style>\n<table border=\"1\" class=\"dataframe\">\n  <thead>\n    <tr style=\"text-align: right;\">\n      <th></th>\n      <th>N-gram</th>\n      <th>Frequency</th>\n    </tr>\n  </thead>\n  <tbody>\n    <tr>\n      <th>0</th>\n      <td>(bitcoin, btc)</td>\n      <td>97</td>\n    </tr>\n    <tr>\n      <th>1</th>\n      <td>(ethereum, eth)</td>\n      <td>60</td>\n    </tr>\n    <tr>\n      <th>2</th>\n      <td>(crypto, market)</td>\n      <td>53</td>\n    </tr>\n    <tr>\n      <th>3</th>\n      <td>(bitcoin, price)</td>\n      <td>48</td>\n    </tr>\n    <tr>\n      <th>4</th>\n      <td>(crypto, exchange)</td>\n      <td>47</td>\n    </tr>\n    <tr>\n      <th>5</th>\n      <td>(bear, market)</td>\n      <td>41</td>\n    </tr>\n    <tr>\n      <th>6</th>\n      <td>(24, hours)</td>\n      <td>39</td>\n    </tr>\n    <tr>\n      <th>7</th>\n      <td>(moving, average)</td>\n      <td>38</td>\n    </tr>\n    <tr>\n      <th>8</th>\n      <td>(us, dollar)</td>\n      <td>37</td>\n    </tr>\n    <tr>\n      <th>9</th>\n      <td>(price, trading)</td>\n      <td>37</td>\n    </tr>\n    <tr>\n      <th>10</th>\n      <td>(market, cap)</td>\n      <td>34</td>\n    </tr>\n    <tr>\n      <th>11</th>\n      <td>(digital, asset)</td>\n      <td>34</td>\n    </tr>\n    <tr>\n      <th>12</th>\n      <td>(cryptocurrency, market)</td>\n      <td>32</td>\n    </tr>\n    <tr>\n      <th>13</th>\n      <td>(simple, moving)</td>\n      <td>31</td>\n    </tr>\n    <tr>\n      <th>14</th>\n      <td>(btc, price)</td>\n      <td>30</td>\n    </tr>\n    <tr>\n      <th>15</th>\n      <td>(data, shows)</td>\n      <td>28</td>\n    </tr>\n    <tr>\n      <th>16</th>\n      <td>(bitcoin, mining)</td>\n      <td>26</td>\n    </tr>\n    <tr>\n      <th>17</th>\n      <td>(last, 24)</td>\n      <td>26</td>\n    </tr>\n    <tr>\n      <th>18</th>\n      <td>(price, prediction)</td>\n      <td>25</td>\n    </tr>\n    <tr>\n      <th>19</th>\n      <td>(trend, line)</td>\n      <td>25</td>\n    </tr>\n    <tr>\n      <th>20</th>\n      <td>(price, action)</td>\n      <td>24</td>\n    </tr>\n    <tr>\n      <th>21</th>\n      <td>(last, week)</td>\n      <td>23</td>\n    </tr>\n    <tr>\n      <th>22</th>\n      <td>(onchain, data)</td>\n      <td>23</td>\n    </tr>\n    <tr>\n      <th>23</th>\n      <td>(top, 10)</td>\n      <td>22</td>\n    </tr>\n    <tr>\n      <th>24</th>\n      <td>(twitter, followers)</td>\n      <td>22</td>\n    </tr>\n  </tbody>\n</table>\n</div>"
     },
     "execution_count": 27,
     "metadata": {},
     "output_type": "execute_result"
    }
   ],
   "source": [
    "bigrams_dist = nltk.FreqDist(bigrams)\n",
    "bigram_freq_title = pd.DataFrame(bigrams_dist.most_common(top_N),\n",
    "                    columns=['N-gram', 'Frequency'])\n",
    "bigram_freq_title"
   ]
  },
  {
   "cell_type": "code",
   "execution_count": 30,
   "id": "af596bf7",
   "metadata": {
    "ExecuteTime": {
     "start_time": "2023-12-07T12:31:24.791427Z",
     "end_time": "2023-12-07T12:31:25.221876Z"
    }
   },
   "outputs": [
    {
     "data": {
      "text/plain": "(array([ 0,  1,  2,  3,  4,  5,  6,  7,  8,  9, 10, 11, 12, 13, 14, 15, 16,\n        17, 18, 19, 20, 21, 22, 23, 24]),\n [Text(0, 0, \"('bitcoin', 'btc')\"),\n  Text(1, 0, \"('ethereum', 'eth')\"),\n  Text(2, 0, \"('crypto', 'market')\"),\n  Text(3, 0, \"('bitcoin', 'price')\"),\n  Text(4, 0, \"('crypto', 'exchange')\"),\n  Text(5, 0, \"('bear', 'market')\"),\n  Text(6, 0, \"('24', 'hours')\"),\n  Text(7, 0, \"('moving', 'average')\"),\n  Text(8, 0, \"('us', 'dollar')\"),\n  Text(9, 0, \"('price', 'trading')\"),\n  Text(10, 0, \"('market', 'cap')\"),\n  Text(11, 0, \"('digital', 'asset')\"),\n  Text(12, 0, \"('cryptocurrency', 'market')\"),\n  Text(13, 0, \"('simple', 'moving')\"),\n  Text(14, 0, \"('btc', 'price')\"),\n  Text(15, 0, \"('data', 'shows')\"),\n  Text(16, 0, \"('bitcoin', 'mining')\"),\n  Text(17, 0, \"('last', '24')\"),\n  Text(18, 0, \"('price', 'prediction')\"),\n  Text(19, 0, \"('trend', 'line')\"),\n  Text(20, 0, \"('price', 'action')\"),\n  Text(21, 0, \"('last', 'week')\"),\n  Text(22, 0, \"('onchain', 'data')\"),\n  Text(23, 0, \"('top', '10')\"),\n  Text(24, 0, \"('twitter', 'followers')\")])"
     },
     "execution_count": 30,
     "metadata": {},
     "output_type": "execute_result"
    },
    {
     "data": {
      "text/plain": "<Figure size 1800x1200 with 1 Axes>",
      "image/png": "[encoded data removed]"
     },
     "metadata": {},
     "output_type": "display_data"
    }
   ],
   "source": [
    "plt.figure(figsize=(18, 12))\n",
    "sns.barplot(data=bigram_freq_title, x='N-gram', y='Frequency')\n",
    "plt.xticks(rotation=90)"
   ]
  },
  {
   "cell_type": "code",
   "execution_count": 80,
   "id": "3474271c",
   "metadata": {},
   "outputs": [],
   "source": [
    "trigrams = find_ngrams(words, 3)"
   ]
  },
  {
   "cell_type": "code",
   "execution_count": 81,
   "id": "454ce3f6",
   "metadata": {},
   "outputs": [
    {
     "data": {
      "text/html": [
       "<div>\n",
       "<style scoped>\n",
       "    .dataframe tbody tr th:only-of-type {\n",
       "        vertical-align: middle;\n",
       "    }\n",
       "\n",
       "    .dataframe tbody tr th {\n",
       "        vertical-align: top;\n",
       "    }\n",
       "\n",
       "    .dataframe thead th {\n",
       "        text-align: right;\n",
       "    }\n",
       "</style>\n",
       "<table border=\"1\" class=\"dataframe\">\n",
       "  <thead>\n",
       "    <tr style=\"text-align: right;\">\n",
       "      <th></th>\n",
       "      <th>N-gram</th>\n",
       "      <th>Frequency</th>\n",
       "    </tr>\n",
       "  </thead>\n",
       "  <tbody>\n",
       "    <tr>\n",
       "      <th>0</th>\n",
       "      <td>(simple, moving, average)</td>\n",
       "      <td>31</td>\n",
       "    </tr>\n",
       "    <tr>\n",
       "      <th>1</th>\n",
       "      <td>(last, 24, hours)</td>\n",
       "      <td>25</td>\n",
       "    </tr>\n",
       "    <tr>\n",
       "      <th>2</th>\n",
       "      <td>(securities, exchange, commission)</td>\n",
       "      <td>19</td>\n",
       "    </tr>\n",
       "    <tr>\n",
       "      <th>3</th>\n",
       "      <td>(exchange, commission, sec)</td>\n",
       "      <td>16</td>\n",
       "    </tr>\n",
       "    <tr>\n",
       "      <th>4</th>\n",
       "      <td>(moving, average, 4hours)</td>\n",
       "      <td>16</td>\n",
       "    </tr>\n",
       "    <tr>\n",
       "      <th>5</th>\n",
       "      <td>(bearish, trend, line)</td>\n",
       "      <td>16</td>\n",
       "    </tr>\n",
       "    <tr>\n",
       "      <th>6</th>\n",
       "      <td>(trend, line, forming)</td>\n",
       "      <td>15</td>\n",
       "    </tr>\n",
       "    <tr>\n",
       "      <th>7</th>\n",
       "      <td>(100, hourly, simple)</td>\n",
       "      <td>15</td>\n",
       "    </tr>\n",
       "    <tr>\n",
       "      <th>8</th>\n",
       "      <td>(hourly, simple, moving)</td>\n",
       "      <td>15</td>\n",
       "    </tr>\n",
       "    <tr>\n",
       "      <th>9</th>\n",
       "      <td>(zone, us, dollar)</td>\n",
       "      <td>13</td>\n",
       "    </tr>\n",
       "    <tr>\n",
       "      <th>10</th>\n",
       "      <td>(major, bearish, trend)</td>\n",
       "      <td>13</td>\n",
       "    </tr>\n",
       "    <tr>\n",
       "      <th>11</th>\n",
       "      <td>(onchain, data, shows)</td>\n",
       "      <td>13</td>\n",
       "    </tr>\n",
       "    <tr>\n",
       "      <th>12</th>\n",
       "      <td>(us, securities, exchange)</td>\n",
       "      <td>12</td>\n",
       "    </tr>\n",
       "    <tr>\n",
       "      <th>13</th>\n",
       "      <td>(55, simple, moving)</td>\n",
       "      <td>12</td>\n",
       "    </tr>\n",
       "    <tr>\n",
       "      <th>14</th>\n",
       "      <td>(bitcoin, price, prediction)</td>\n",
       "      <td>12</td>\n",
       "    </tr>\n",
       "    <tr>\n",
       "      <th>15</th>\n",
       "      <td>(us, dollar, price)</td>\n",
       "      <td>11</td>\n",
       "    </tr>\n",
       "    <tr>\n",
       "      <th>16</th>\n",
       "      <td>(widely, followed, crypto)</td>\n",
       "      <td>11</td>\n",
       "    </tr>\n",
       "    <tr>\n",
       "      <th>17</th>\n",
       "      <td>(internet, city, dubai)</td>\n",
       "      <td>11</td>\n",
       "    </tr>\n",
       "    <tr>\n",
       "      <th>18</th>\n",
       "      <td>(analyst, cryptoquant, post)</td>\n",
       "      <td>11</td>\n",
       "    </tr>\n",
       "    <tr>\n",
       "      <th>19</th>\n",
       "      <td>(past, 24, hours)</td>\n",
       "      <td>10</td>\n",
       "    </tr>\n",
       "    <tr>\n",
       "      <th>20</th>\n",
       "      <td>(last, seven, days)</td>\n",
       "      <td>10</td>\n",
       "    </tr>\n",
       "    <tr>\n",
       "      <th>21</th>\n",
       "      <td>(dollar, price, trading)</td>\n",
       "      <td>10</td>\n",
       "    </tr>\n",
       "    <tr>\n",
       "      <th>22</th>\n",
       "      <td>(digital, asset, trading)</td>\n",
       "      <td>10</td>\n",
       "    </tr>\n",
       "    <tr>\n",
       "      <th>23</th>\n",
       "      <td>(asset, trading, platform)</td>\n",
       "      <td>10</td>\n",
       "    </tr>\n",
       "    <tr>\n",
       "      <th>24</th>\n",
       "      <td>(pointed, analyst, cryptoquant)</td>\n",
       "      <td>10</td>\n",
       "    </tr>\n",
       "    <tr>\n",
       "      <th>25</th>\n",
       "      <td>(van, de, poppe)</td>\n",
       "      <td>9</td>\n",
       "    </tr>\n",
       "    <tr>\n",
       "      <th>26</th>\n",
       "      <td>(bullish, trend, line)</td>\n",
       "      <td>9</td>\n",
       "    </tr>\n",
       "    <tr>\n",
       "      <th>27</th>\n",
       "      <td>(us, dollar, eth)</td>\n",
       "      <td>9</td>\n",
       "    </tr>\n",
       "    <tr>\n",
       "      <th>28</th>\n",
       "      <td>(says, bitcoin, btc)</td>\n",
       "      <td>9</td>\n",
       "    </tr>\n",
       "    <tr>\n",
       "      <th>29</th>\n",
       "      <td>(imf, world, bank)</td>\n",
       "      <td>9</td>\n",
       "    </tr>\n",
       "    <tr>\n",
       "      <th>30</th>\n",
       "      <td>(read, bitcoin, price)</td>\n",
       "      <td>9</td>\n",
       "    </tr>\n",
       "    <tr>\n",
       "      <th>31</th>\n",
       "      <td>(president, nayib, bukele)</td>\n",
       "      <td>9</td>\n",
       "    </tr>\n",
       "    <tr>\n",
       "      <th>32</th>\n",
       "      <td>(city, dubai, dec)</td>\n",
       "      <td>9</td>\n",
       "    </tr>\n",
       "    <tr>\n",
       "      <th>33</th>\n",
       "      <td>(2022, lbank, exchange)</td>\n",
       "      <td>9</td>\n",
       "    </tr>\n",
       "    <tr>\n",
       "      <th>34</th>\n",
       "      <td>(lbank, exchange, global)</td>\n",
       "      <td>9</td>\n",
       "    </tr>\n",
       "    <tr>\n",
       "      <th>35</th>\n",
       "      <td>(exchange, global, digital)</td>\n",
       "      <td>9</td>\n",
       "    </tr>\n",
       "    <tr>\n",
       "      <th>36</th>\n",
       "      <td>(global, digital, asset)</td>\n",
       "      <td>9</td>\n",
       "    </tr>\n",
       "    <tr>\n",
       "      <th>37</th>\n",
       "      <td>(2022, users, lbank)</td>\n",
       "      <td>9</td>\n",
       "    </tr>\n",
       "    <tr>\n",
       "      <th>38</th>\n",
       "      <td>(users, lbank, exchange)</td>\n",
       "      <td>9</td>\n",
       "    </tr>\n",
       "    <tr>\n",
       "      <th>39</th>\n",
       "      <td>(trading, pair, officially)</td>\n",
       "      <td>9</td>\n",
       "    </tr>\n",
       "    <tr>\n",
       "      <th>40</th>\n",
       "      <td>(pair, officially, available)</td>\n",
       "      <td>9</td>\n",
       "    </tr>\n",
       "    <tr>\n",
       "      <th>41</th>\n",
       "      <td>(officially, available, trading)</td>\n",
       "      <td>9</td>\n",
       "    </tr>\n",
       "    <tr>\n",
       "      <th>42</th>\n",
       "      <td>(disclaimer, information, presented)</td>\n",
       "      <td>9</td>\n",
       "    </tr>\n",
       "    <tr>\n",
       "      <th>43</th>\n",
       "      <td>(information, presented, constitute)</td>\n",
       "      <td>9</td>\n",
       "    </tr>\n",
       "    <tr>\n",
       "      <th>44</th>\n",
       "      <td>(presented, constitute, financial)</td>\n",
       "      <td>9</td>\n",
       "    </tr>\n",
       "    <tr>\n",
       "      <th>45</th>\n",
       "      <td>(constitute, financial, investment)</td>\n",
       "      <td>9</td>\n",
       "    </tr>\n",
       "    <tr>\n",
       "      <th>46</th>\n",
       "      <td>(financial, investment, trading)</td>\n",
       "      <td>9</td>\n",
       "    </tr>\n",
       "    <tr>\n",
       "      <th>47</th>\n",
       "      <td>(investment, trading, types)</td>\n",
       "      <td>9</td>\n",
       "    </tr>\n",
       "    <tr>\n",
       "      <th>48</th>\n",
       "      <td>(trading, types, advice)</td>\n",
       "      <td>9</td>\n",
       "    </tr>\n",
       "    <tr>\n",
       "      <th>49</th>\n",
       "      <td>(types, advice, solely)</td>\n",
       "      <td>9</td>\n",
       "    </tr>\n",
       "  </tbody>\n",
       "</table>\n",
       "</div>"
      ],
      "text/plain": [
       "                                  N-gram  Frequency\n",
       "0              (simple, moving, average)         31\n",
       "1                      (last, 24, hours)         25\n",
       "2     (securities, exchange, commission)         19\n",
       "3            (exchange, commission, sec)         16\n",
       "4              (moving, average, 4hours)         16\n",
       "5                 (bearish, trend, line)         16\n",
       "6                 (trend, line, forming)         15\n",
       "7                  (100, hourly, simple)         15\n",
       "8               (hourly, simple, moving)         15\n",
       "9                     (zone, us, dollar)         13\n",
       "10               (major, bearish, trend)         13\n",
       "11                (onchain, data, shows)         13\n",
       "12            (us, securities, exchange)         12\n",
       "13                  (55, simple, moving)         12\n",
       "14          (bitcoin, price, prediction)         12\n",
       "15                   (us, dollar, price)         11\n",
       "16            (widely, followed, crypto)         11\n",
       "17               (internet, city, dubai)         11\n",
       "18          (analyst, cryptoquant, post)         11\n",
       "19                     (past, 24, hours)         10\n",
       "20                   (last, seven, days)         10\n",
       "21              (dollar, price, trading)         10\n",
       "22             (digital, asset, trading)         10\n",
       "23            (asset, trading, platform)         10\n",
       "24       (pointed, analyst, cryptoquant)         10\n",
       "25                      (van, de, poppe)          9\n",
       "26                (bullish, trend, line)          9\n",
       "27                     (us, dollar, eth)          9\n",
       "28                  (says, bitcoin, btc)          9\n",
       "29                    (imf, world, bank)          9\n",
       "30                (read, bitcoin, price)          9\n",
       "31            (president, nayib, bukele)          9\n",
       "32                    (city, dubai, dec)          9\n",
       "33               (2022, lbank, exchange)          9\n",
       "34             (lbank, exchange, global)          9\n",
       "35           (exchange, global, digital)          9\n",
       "36              (global, digital, asset)          9\n",
       "37                  (2022, users, lbank)          9\n",
       "38              (users, lbank, exchange)          9\n",
       "39           (trading, pair, officially)          9\n",
       "40         (pair, officially, available)          9\n",
       "41      (officially, available, trading)          9\n",
       "42  (disclaimer, information, presented)          9\n",
       "43  (information, presented, constitute)          9\n",
       "44    (presented, constitute, financial)          9\n",
       "45   (constitute, financial, investment)          9\n",
       "46      (financial, investment, trading)          9\n",
       "47          (investment, trading, types)          9\n",
       "48              (trading, types, advice)          9\n",
       "49               (types, advice, solely)          9"
      ]
     },
     "execution_count": 81,
     "metadata": {},
     "output_type": "execute_result"
    }
   ],
   "source": [
    "trigrams_dist = nltk.FreqDist(trigrams)\n",
    "trigram_freq_title = pd.DataFrame(trigrams_dist.most_common(top_N),\n",
    "                    columns=['N-gram', 'Frequency'])\n",
    "trigram_freq_title"
   ]
  },
  {
   "cell_type": "code",
   "execution_count": 94,
   "id": "63de577a",
   "metadata": {},
   "outputs": [
    {
     "data": {
      "text/html": [
       "<div>\n",
       "<style scoped>\n",
       "    .dataframe tbody tr th:only-of-type {\n",
       "        vertical-align: middle;\n",
       "    }\n",
       "\n",
       "    .dataframe tbody tr th {\n",
       "        vertical-align: top;\n",
       "    }\n",
       "\n",
       "    .dataframe thead th {\n",
       "        text-align: right;\n",
       "    }\n",
       "</style>\n",
       "<table border=\"1\" class=\"dataframe\">\n",
       "  <thead>\n",
       "    <tr style=\"text-align: right;\">\n",
       "      <th></th>\n",
       "      <th>00</th>\n",
       "      <th>000</th>\n",
       "      <th>00001</th>\n",
       "      <th>01</th>\n",
       "      <th>018</th>\n",
       "      <th>02</th>\n",
       "      <th>03</th>\n",
       "      <th>030</th>\n",
       "      <th>04</th>\n",
       "      <th>05</th>\n",
       "      <th>...</th>\n",
       "      <th>zeldin</th>\n",
       "      <th>zero</th>\n",
       "      <th>zhao</th>\n",
       "      <th>zilliqa</th>\n",
       "      <th>zk</th>\n",
       "      <th>zk_nhpq0</th>\n",
       "      <th>zkevm</th>\n",
       "      <th>zksync</th>\n",
       "      <th>zone</th>\n",
       "      <th>zuckerberg</th>\n",
       "    </tr>\n",
       "  </thead>\n",
       "  <tbody>\n",
       "    <tr>\n",
       "      <th>0</th>\n",
       "      <td>0</td>\n",
       "      <td>1</td>\n",
       "      <td>0</td>\n",
       "      <td>0</td>\n",
       "      <td>0</td>\n",
       "      <td>0</td>\n",
       "      <td>0</td>\n",
       "      <td>0</td>\n",
       "      <td>0</td>\n",
       "      <td>0</td>\n",
       "      <td>...</td>\n",
       "      <td>0</td>\n",
       "      <td>0</td>\n",
       "      <td>0</td>\n",
       "      <td>0</td>\n",
       "      <td>0</td>\n",
       "      <td>0</td>\n",
       "      <td>0</td>\n",
       "      <td>0</td>\n",
       "      <td>0</td>\n",
       "      <td>0</td>\n",
       "    </tr>\n",
       "    <tr>\n",
       "      <th>1</th>\n",
       "      <td>0</td>\n",
       "      <td>0</td>\n",
       "      <td>0</td>\n",
       "      <td>0</td>\n",
       "      <td>0</td>\n",
       "      <td>0</td>\n",
       "      <td>0</td>\n",
       "      <td>0</td>\n",
       "      <td>0</td>\n",
       "      <td>0</td>\n",
       "      <td>...</td>\n",
       "      <td>0</td>\n",
       "      <td>0</td>\n",
       "      <td>0</td>\n",
       "      <td>0</td>\n",
       "      <td>0</td>\n",
       "      <td>0</td>\n",
       "      <td>0</td>\n",
       "      <td>0</td>\n",
       "      <td>0</td>\n",
       "      <td>0</td>\n",
       "    </tr>\n",
       "    <tr>\n",
       "      <th>2</th>\n",
       "      <td>0</td>\n",
       "      <td>0</td>\n",
       "      <td>0</td>\n",
       "      <td>0</td>\n",
       "      <td>0</td>\n",
       "      <td>0</td>\n",
       "      <td>0</td>\n",
       "      <td>0</td>\n",
       "      <td>0</td>\n",
       "      <td>0</td>\n",
       "      <td>...</td>\n",
       "      <td>0</td>\n",
       "      <td>0</td>\n",
       "      <td>0</td>\n",
       "      <td>0</td>\n",
       "      <td>0</td>\n",
       "      <td>0</td>\n",
       "      <td>0</td>\n",
       "      <td>0</td>\n",
       "      <td>0</td>\n",
       "      <td>0</td>\n",
       "    </tr>\n",
       "    <tr>\n",
       "      <th>3</th>\n",
       "      <td>0</td>\n",
       "      <td>0</td>\n",
       "      <td>0</td>\n",
       "      <td>0</td>\n",
       "      <td>0</td>\n",
       "      <td>0</td>\n",
       "      <td>0</td>\n",
       "      <td>0</td>\n",
       "      <td>0</td>\n",
       "      <td>0</td>\n",
       "      <td>...</td>\n",
       "      <td>0</td>\n",
       "      <td>0</td>\n",
       "      <td>0</td>\n",
       "      <td>0</td>\n",
       "      <td>0</td>\n",
       "      <td>0</td>\n",
       "      <td>0</td>\n",
       "      <td>0</td>\n",
       "      <td>0</td>\n",
       "      <td>0</td>\n",
       "    </tr>\n",
       "    <tr>\n",
       "      <th>4</th>\n",
       "      <td>0</td>\n",
       "      <td>0</td>\n",
       "      <td>0</td>\n",
       "      <td>0</td>\n",
       "      <td>0</td>\n",
       "      <td>0</td>\n",
       "      <td>0</td>\n",
       "      <td>0</td>\n",
       "      <td>0</td>\n",
       "      <td>0</td>\n",
       "      <td>...</td>\n",
       "      <td>0</td>\n",
       "      <td>0</td>\n",
       "      <td>0</td>\n",
       "      <td>0</td>\n",
       "      <td>0</td>\n",
       "      <td>0</td>\n",
       "      <td>0</td>\n",
       "      <td>0</td>\n",
       "      <td>0</td>\n",
       "      <td>0</td>\n",
       "    </tr>\n",
       "  </tbody>\n",
       "</table>\n",
       "<p>5 rows × 6560 columns</p>\n",
       "</div>"
      ],
      "text/plain": [
       "   00  000  00001  01  018  02  03  030  04  05  ...  zeldin  zero  zhao  \\\n",
       "0   0    1      0   0    0   0   0    0   0   0  ...       0     0     0   \n",
       "1   0    0      0   0    0   0   0    0   0   0  ...       0     0     0   \n",
       "2   0    0      0   0    0   0   0    0   0   0  ...       0     0     0   \n",
       "3   0    0      0   0    0   0   0    0   0   0  ...       0     0     0   \n",
       "4   0    0      0   0    0   0   0    0   0   0  ...       0     0     0   \n",
       "\n",
       "   zilliqa  zk  zk_nhpq0  zkevm  zksync  zone  zuckerberg  \n",
       "0        0   0         0      0       0     0           0  \n",
       "1        0   0         0      0       0     0           0  \n",
       "2        0   0         0      0       0     0           0  \n",
       "3        0   0         0      0       0     0           0  \n",
       "4        0   0         0      0       0     0           0  \n",
       "\n",
       "[5 rows x 6560 columns]"
      ]
     },
     "execution_count": 94,
     "metadata": {},
     "output_type": "execute_result"
    }
   ],
   "source": [
    "cv = CountVectorizer(analyzer='word')\n",
    "cv_data = cv.fit_transform(data['description'])\n",
    "dtm_data = pd.DataFrame(cv_data.toarray(), columns=cv.get_feature_names_out())\n",
    "dtm_data.index = data.index\n",
    "dtm_data.head(5)"
   ]
  },
  {
   "cell_type": "code",
   "execution_count": 95,
   "id": "aaa97f71",
   "metadata": {},
   "outputs": [
    {
     "data": {
      "text/plain": [
       "00             21\n",
       "000           145\n",
       "00001           1\n",
       "01              4\n",
       "018             3\n",
       "             ... \n",
       "zk_nhpq0        1\n",
       "zkevm           9\n",
       "zksync          2\n",
       "zone           39\n",
       "zuckerberg      1\n",
       "Length: 6560, dtype: int64"
      ]
     },
     "execution_count": 95,
     "metadata": {},
     "output_type": "execute_result"
    }
   ],
   "source": [
    "dtm_data.T.sum(axis=1)"
   ]
  },
  {
   "cell_type": "code",
   "execution_count": 84,
   "id": "d7483af4",
   "metadata": {},
   "outputs": [],
   "source": [
    "assets = ['100.png', '500.png', 'cloud.png', 'thumb-down.png', 'thumb-up.png']"
   ]
  },
  {
   "cell_type": "code",
   "execution_count": 86,
   "id": "47f05efd",
   "metadata": {},
   "outputs": [
    {
     "name": "stdout",
     "output_type": "stream",
     "text": [
      "<Response [200]>\n",
      "<Response [200]>\n",
      "<Response [200]>\n",
      "<Response [200]>\n",
      "<Response [200]>\n"
     ]
    }
   ],
   "source": [
    "assets_url = 'https://raw.githubusercontent.com/StepanTita/fds-final-project/main/assets/'\n",
    "for asset in assets:\n",
    "    response = requests.get(assets_url + asset)\n",
    "    print(response)\n",
    "    open(f'./assets/{asset}', \"wb\").write(response.content)"
   ]
  },
  {
   "cell_type": "code",
   "execution_count": 87,
   "id": "6fc4d100",
   "metadata": {},
   "outputs": [],
   "source": [
    "ASSETS_PATH = './assets'"
   ]
  },
  {
   "cell_type": "code",
   "execution_count": 89,
   "id": "98103aca",
   "metadata": {},
   "outputs": [],
   "source": [
    "# Function for generating word clouds\n",
    "def generate_wordcloud(data, title, bg='black', colormap='Dark2', mask=None):\n",
    "    wc = WordCloud(width=1600, height=1080, max_words=150, colormap=colormap, mask=mask, background_color=bg).generate_from_frequencies(data)\n",
    "    plt.figure(figsize=(16,12))\n",
    "    plt.imshow(wc, interpolation='bilinear')\n",
    "    plt.axis('off')\n",
    "    plt.title('\\n'.join(wrap(title,60)),fontsize=26)\n",
    "    plt.show()"
   ]
  },
  {
   "cell_type": "code",
   "execution_count": 106,
   "id": "67aa2adf",
   "metadata": {},
   "outputs": [],
   "source": [
    "cloud_mask = np.array(Image.open(ASSETS_PATH + '/thumb-up.png'))"
   ]
  },
  {
   "cell_type": "code",
   "execution_count": 107,
   "id": "5ba8389c",
   "metadata": {},
   "outputs": [
    {
     "data": {
      "image/png": "[encoded data removed]",
      "text/plain": [
       "<Figure size 1152x864 with 1 Axes>"
      ]
     },
     "metadata": {
      "needs_background": "light"
     },
     "output_type": "display_data"
    }
   ],
   "source": [
    "generate_wordcloud(dtm_data.T.sum(axis=1), 'Words', mask=cloud_mask)"
   ]
  },
  {
   "cell_type": "code",
   "execution_count": 145,
   "id": "4c9abf11",
   "metadata": {},
   "outputs": [],
   "source": [
    "TRIM_QUANTILE = 0.2"
   ]
  },
  {
   "cell_type": "code",
   "execution_count": 146,
   "id": "88a88db6",
   "metadata": {},
   "outputs": [],
   "source": [
    "stopwords = list(freq_title[freq_title['Frequency'] < freq_title['Frequency'].quantile(TRIM_QUANTILE)]['Word'])\n",
    "vec_vocab = list(freq_title[freq_title['Frequency'] >= freq_title['Frequency'].quantile(TRIM_QUANTILE)]['Word'])"
   ]
  },
  {
   "cell_type": "code",
   "execution_count": 147,
   "id": "64a69011",
   "metadata": {},
   "outputs": [
    {
     "data": {
      "text/plain": [
       "TfidfVectorizer(stop_words=['markets', 'assets', 'still', 'collapse',\n",
       "                            'continued', 'platform', 'since'],\n",
       "                vocabulary=['bitcoin', 'crypto', 'price', 'market', 'btc',\n",
       "                            'ethereum', 'trading', 'new', 'exchange',\n",
       "                            'cryptocurrency', 'us', 'eth', 'ftx', '2022',\n",
       "                            'last', 'data', 'could', 'xrp', 'one', 'according',\n",
       "                            'year', 'digital', 'december', 'says', 'resistance',\n",
       "                            'twitter', 'investors', 'level', 'time', 'support', ...])"
      ]
     },
     "execution_count": 147,
     "metadata": {},
     "output_type": "execute_result"
    }
   ],
   "source": [
    "tfidf_vectorizer = TfidfVectorizer(analyzer='word', stop_words=stopwords, vocabulary=vec_vocab)\n",
    "tfidf_vectorizer"
   ]
  },
  {
   "cell_type": "code",
   "execution_count": 148,
   "id": "2b741d3f",
   "metadata": {},
   "outputs": [
    {
     "data": {
      "text/plain": [
       "<1336x43 sparse matrix of type '<class 'numpy.float64'>'\n",
       "\twith 5189 stored elements in Compressed Sparse Row format>"
      ]
     },
     "execution_count": 148,
     "metadata": {},
     "output_type": "execute_result"
    }
   ],
   "source": [
    "tfidf_matrix = tfidf_vectorizer.fit_transform(data['description'])\n",
    "tfidf_matrix"
   ]
  },
  {
   "cell_type": "code",
   "execution_count": 149,
   "id": "fcd9ecaa",
   "metadata": {},
   "outputs": [
    {
     "data": {
      "text/html": [
       "<div>\n",
       "<style scoped>\n",
       "    .dataframe tbody tr th:only-of-type {\n",
       "        vertical-align: middle;\n",
       "    }\n",
       "\n",
       "    .dataframe tbody tr th {\n",
       "        vertical-align: top;\n",
       "    }\n",
       "\n",
       "    .dataframe thead th {\n",
       "        text-align: right;\n",
       "    }\n",
       "</style>\n",
       "<table border=\"1\" class=\"dataframe\">\n",
       "  <thead>\n",
       "    <tr style=\"text-align: right;\">\n",
       "      <th></th>\n",
       "      <th>0</th>\n",
       "      <th>1</th>\n",
       "      <th>2</th>\n",
       "      <th>3</th>\n",
       "      <th>4</th>\n",
       "      <th>5</th>\n",
       "      <th>6</th>\n",
       "      <th>7</th>\n",
       "      <th>8</th>\n",
       "      <th>9</th>\n",
       "      <th>...</th>\n",
       "      <th>33</th>\n",
       "      <th>34</th>\n",
       "      <th>35</th>\n",
       "      <th>36</th>\n",
       "      <th>37</th>\n",
       "      <th>38</th>\n",
       "      <th>39</th>\n",
       "      <th>40</th>\n",
       "      <th>41</th>\n",
       "      <th>42</th>\n",
       "    </tr>\n",
       "  </thead>\n",
       "  <tbody>\n",
       "    <tr>\n",
       "      <th>0</th>\n",
       "      <td>0.285493</td>\n",
       "      <td>0.000000</td>\n",
       "      <td>0.379654</td>\n",
       "      <td>0.000000</td>\n",
       "      <td>0.408868</td>\n",
       "      <td>0.000000</td>\n",
       "      <td>0.0</td>\n",
       "      <td>0.000000</td>\n",
       "      <td>0.000000</td>\n",
       "      <td>0.0</td>\n",
       "      <td>...</td>\n",
       "      <td>0.0</td>\n",
       "      <td>0.59006</td>\n",
       "      <td>0.000000</td>\n",
       "      <td>0.00000</td>\n",
       "      <td>0.0</td>\n",
       "      <td>0.000000</td>\n",
       "      <td>0.000000</td>\n",
       "      <td>0.0</td>\n",
       "      <td>0.0</td>\n",
       "      <td>0.0</td>\n",
       "    </tr>\n",
       "    <tr>\n",
       "      <th>1</th>\n",
       "      <td>0.000000</td>\n",
       "      <td>0.152294</td>\n",
       "      <td>0.000000</td>\n",
       "      <td>0.179712</td>\n",
       "      <td>0.000000</td>\n",
       "      <td>0.390095</td>\n",
       "      <td>0.0</td>\n",
       "      <td>0.000000</td>\n",
       "      <td>0.219957</td>\n",
       "      <td>0.0</td>\n",
       "      <td>...</td>\n",
       "      <td>0.0</td>\n",
       "      <td>0.00000</td>\n",
       "      <td>0.000000</td>\n",
       "      <td>0.00000</td>\n",
       "      <td>0.0</td>\n",
       "      <td>0.000000</td>\n",
       "      <td>0.269908</td>\n",
       "      <td>0.0</td>\n",
       "      <td>0.0</td>\n",
       "      <td>0.0</td>\n",
       "    </tr>\n",
       "    <tr>\n",
       "      <th>2</th>\n",
       "      <td>0.000000</td>\n",
       "      <td>0.000000</td>\n",
       "      <td>0.000000</td>\n",
       "      <td>0.000000</td>\n",
       "      <td>0.000000</td>\n",
       "      <td>0.280754</td>\n",
       "      <td>0.0</td>\n",
       "      <td>0.000000</td>\n",
       "      <td>0.000000</td>\n",
       "      <td>0.0</td>\n",
       "      <td>...</td>\n",
       "      <td>0.0</td>\n",
       "      <td>0.00000</td>\n",
       "      <td>0.728895</td>\n",
       "      <td>0.38158</td>\n",
       "      <td>0.0</td>\n",
       "      <td>0.000000</td>\n",
       "      <td>0.000000</td>\n",
       "      <td>0.0</td>\n",
       "      <td>0.0</td>\n",
       "      <td>0.0</td>\n",
       "    </tr>\n",
       "    <tr>\n",
       "      <th>3</th>\n",
       "      <td>0.000000</td>\n",
       "      <td>0.000000</td>\n",
       "      <td>0.000000</td>\n",
       "      <td>0.000000</td>\n",
       "      <td>0.000000</td>\n",
       "      <td>0.000000</td>\n",
       "      <td>0.0</td>\n",
       "      <td>1.000000</td>\n",
       "      <td>0.000000</td>\n",
       "      <td>0.0</td>\n",
       "      <td>...</td>\n",
       "      <td>0.0</td>\n",
       "      <td>0.00000</td>\n",
       "      <td>0.000000</td>\n",
       "      <td>0.00000</td>\n",
       "      <td>0.0</td>\n",
       "      <td>0.000000</td>\n",
       "      <td>0.000000</td>\n",
       "      <td>0.0</td>\n",
       "      <td>0.0</td>\n",
       "      <td>0.0</td>\n",
       "    </tr>\n",
       "    <tr>\n",
       "      <th>4</th>\n",
       "      <td>0.000000</td>\n",
       "      <td>0.000000</td>\n",
       "      <td>0.000000</td>\n",
       "      <td>0.000000</td>\n",
       "      <td>0.000000</td>\n",
       "      <td>0.000000</td>\n",
       "      <td>0.0</td>\n",
       "      <td>0.000000</td>\n",
       "      <td>0.000000</td>\n",
       "      <td>0.0</td>\n",
       "      <td>...</td>\n",
       "      <td>0.0</td>\n",
       "      <td>0.00000</td>\n",
       "      <td>1.000000</td>\n",
       "      <td>0.00000</td>\n",
       "      <td>0.0</td>\n",
       "      <td>0.000000</td>\n",
       "      <td>0.000000</td>\n",
       "      <td>0.0</td>\n",
       "      <td>0.0</td>\n",
       "      <td>0.0</td>\n",
       "    </tr>\n",
       "    <tr>\n",
       "      <th>...</th>\n",
       "      <td>...</td>\n",
       "      <td>...</td>\n",
       "      <td>...</td>\n",
       "      <td>...</td>\n",
       "      <td>...</td>\n",
       "      <td>...</td>\n",
       "      <td>...</td>\n",
       "      <td>...</td>\n",
       "      <td>...</td>\n",
       "      <td>...</td>\n",
       "      <td>...</td>\n",
       "      <td>...</td>\n",
       "      <td>...</td>\n",
       "      <td>...</td>\n",
       "      <td>...</td>\n",
       "      <td>...</td>\n",
       "      <td>...</td>\n",
       "      <td>...</td>\n",
       "      <td>...</td>\n",
       "      <td>...</td>\n",
       "      <td>...</td>\n",
       "    </tr>\n",
       "    <tr>\n",
       "      <th>1331</th>\n",
       "      <td>0.000000</td>\n",
       "      <td>0.000000</td>\n",
       "      <td>0.000000</td>\n",
       "      <td>0.000000</td>\n",
       "      <td>0.000000</td>\n",
       "      <td>0.648166</td>\n",
       "      <td>0.0</td>\n",
       "      <td>0.000000</td>\n",
       "      <td>0.000000</td>\n",
       "      <td>0.0</td>\n",
       "      <td>...</td>\n",
       "      <td>0.0</td>\n",
       "      <td>0.00000</td>\n",
       "      <td>0.000000</td>\n",
       "      <td>0.00000</td>\n",
       "      <td>0.0</td>\n",
       "      <td>0.000000</td>\n",
       "      <td>0.000000</td>\n",
       "      <td>0.0</td>\n",
       "      <td>0.0</td>\n",
       "      <td>0.0</td>\n",
       "    </tr>\n",
       "    <tr>\n",
       "      <th>1332</th>\n",
       "      <td>0.000000</td>\n",
       "      <td>0.000000</td>\n",
       "      <td>0.000000</td>\n",
       "      <td>0.000000</td>\n",
       "      <td>0.000000</td>\n",
       "      <td>0.000000</td>\n",
       "      <td>0.0</td>\n",
       "      <td>0.000000</td>\n",
       "      <td>0.000000</td>\n",
       "      <td>0.0</td>\n",
       "      <td>...</td>\n",
       "      <td>0.0</td>\n",
       "      <td>0.00000</td>\n",
       "      <td>0.000000</td>\n",
       "      <td>0.00000</td>\n",
       "      <td>0.0</td>\n",
       "      <td>0.000000</td>\n",
       "      <td>0.000000</td>\n",
       "      <td>0.0</td>\n",
       "      <td>0.0</td>\n",
       "      <td>0.0</td>\n",
       "    </tr>\n",
       "    <tr>\n",
       "      <th>1333</th>\n",
       "      <td>0.152138</td>\n",
       "      <td>0.518116</td>\n",
       "      <td>0.000000</td>\n",
       "      <td>0.000000</td>\n",
       "      <td>0.217884</td>\n",
       "      <td>0.000000</td>\n",
       "      <td>0.0</td>\n",
       "      <td>0.000000</td>\n",
       "      <td>0.249438</td>\n",
       "      <td>0.0</td>\n",
       "      <td>...</td>\n",
       "      <td>0.0</td>\n",
       "      <td>0.00000</td>\n",
       "      <td>0.000000</td>\n",
       "      <td>0.00000</td>\n",
       "      <td>0.0</td>\n",
       "      <td>0.300625</td>\n",
       "      <td>0.306083</td>\n",
       "      <td>0.0</td>\n",
       "      <td>0.0</td>\n",
       "      <td>0.0</td>\n",
       "    </tr>\n",
       "    <tr>\n",
       "      <th>1334</th>\n",
       "      <td>0.000000</td>\n",
       "      <td>0.000000</td>\n",
       "      <td>0.000000</td>\n",
       "      <td>0.000000</td>\n",
       "      <td>0.000000</td>\n",
       "      <td>0.000000</td>\n",
       "      <td>0.0</td>\n",
       "      <td>0.624451</td>\n",
       "      <td>0.000000</td>\n",
       "      <td>0.0</td>\n",
       "      <td>...</td>\n",
       "      <td>0.0</td>\n",
       "      <td>0.00000</td>\n",
       "      <td>0.000000</td>\n",
       "      <td>0.00000</td>\n",
       "      <td>0.0</td>\n",
       "      <td>0.000000</td>\n",
       "      <td>0.781064</td>\n",
       "      <td>0.0</td>\n",
       "      <td>0.0</td>\n",
       "      <td>0.0</td>\n",
       "    </tr>\n",
       "    <tr>\n",
       "      <th>1335</th>\n",
       "      <td>0.000000</td>\n",
       "      <td>0.000000</td>\n",
       "      <td>0.000000</td>\n",
       "      <td>0.000000</td>\n",
       "      <td>0.000000</td>\n",
       "      <td>0.000000</td>\n",
       "      <td>0.0</td>\n",
       "      <td>0.000000</td>\n",
       "      <td>0.000000</td>\n",
       "      <td>0.0</td>\n",
       "      <td>...</td>\n",
       "      <td>0.0</td>\n",
       "      <td>0.00000</td>\n",
       "      <td>0.000000</td>\n",
       "      <td>0.00000</td>\n",
       "      <td>0.0</td>\n",
       "      <td>0.000000</td>\n",
       "      <td>0.000000</td>\n",
       "      <td>0.0</td>\n",
       "      <td>0.0</td>\n",
       "      <td>0.0</td>\n",
       "    </tr>\n",
       "  </tbody>\n",
       "</table>\n",
       "<p>1336 rows × 43 columns</p>\n",
       "</div>"
      ],
      "text/plain": [
       "            0         1         2         3         4         5    6   \\\n",
       "0     0.285493  0.000000  0.379654  0.000000  0.408868  0.000000  0.0   \n",
       "1     0.000000  0.152294  0.000000  0.179712  0.000000  0.390095  0.0   \n",
       "2     0.000000  0.000000  0.000000  0.000000  0.000000  0.280754  0.0   \n",
       "3     0.000000  0.000000  0.000000  0.000000  0.000000  0.000000  0.0   \n",
       "4     0.000000  0.000000  0.000000  0.000000  0.000000  0.000000  0.0   \n",
       "...        ...       ...       ...       ...       ...       ...  ...   \n",
       "1331  0.000000  0.000000  0.000000  0.000000  0.000000  0.648166  0.0   \n",
       "1332  0.000000  0.000000  0.000000  0.000000  0.000000  0.000000  0.0   \n",
       "1333  0.152138  0.518116  0.000000  0.000000  0.217884  0.000000  0.0   \n",
       "1334  0.000000  0.000000  0.000000  0.000000  0.000000  0.000000  0.0   \n",
       "1335  0.000000  0.000000  0.000000  0.000000  0.000000  0.000000  0.0   \n",
       "\n",
       "            7         8    9   ...   33       34        35       36   37  \\\n",
       "0     0.000000  0.000000  0.0  ...  0.0  0.59006  0.000000  0.00000  0.0   \n",
       "1     0.000000  0.219957  0.0  ...  0.0  0.00000  0.000000  0.00000  0.0   \n",
       "2     0.000000  0.000000  0.0  ...  0.0  0.00000  0.728895  0.38158  0.0   \n",
       "3     1.000000  0.000000  0.0  ...  0.0  0.00000  0.000000  0.00000  0.0   \n",
       "4     0.000000  0.000000  0.0  ...  0.0  0.00000  1.000000  0.00000  0.0   \n",
       "...        ...       ...  ...  ...  ...      ...       ...      ...  ...   \n",
       "1331  0.000000  0.000000  0.0  ...  0.0  0.00000  0.000000  0.00000  0.0   \n",
       "1332  0.000000  0.000000  0.0  ...  0.0  0.00000  0.000000  0.00000  0.0   \n",
       "1333  0.000000  0.249438  0.0  ...  0.0  0.00000  0.000000  0.00000  0.0   \n",
       "1334  0.624451  0.000000  0.0  ...  0.0  0.00000  0.000000  0.00000  0.0   \n",
       "1335  0.000000  0.000000  0.0  ...  0.0  0.00000  0.000000  0.00000  0.0   \n",
       "\n",
       "            38        39   40   41   42  \n",
       "0     0.000000  0.000000  0.0  0.0  0.0  \n",
       "1     0.000000  0.269908  0.0  0.0  0.0  \n",
       "2     0.000000  0.000000  0.0  0.0  0.0  \n",
       "3     0.000000  0.000000  0.0  0.0  0.0  \n",
       "4     0.000000  0.000000  0.0  0.0  0.0  \n",
       "...        ...       ...  ...  ...  ...  \n",
       "1331  0.000000  0.000000  0.0  0.0  0.0  \n",
       "1332  0.000000  0.000000  0.0  0.0  0.0  \n",
       "1333  0.300625  0.306083  0.0  0.0  0.0  \n",
       "1334  0.000000  0.781064  0.0  0.0  0.0  \n",
       "1335  0.000000  0.000000  0.0  0.0  0.0  \n",
       "\n",
       "[1336 rows x 43 columns]"
      ]
     },
     "execution_count": 149,
     "metadata": {},
     "output_type": "execute_result"
    }
   ],
   "source": [
    "tfidf_data = pd.DataFrame(tfidf_matrix.toarray())\n",
    "tfidf_data"
   ]
  },
  {
   "cell_type": "code",
   "execution_count": 150,
   "id": "a5582cd8",
   "metadata": {},
   "outputs": [
    {
     "data": {
      "text/plain": [
       "array(['bitcoin', 'crypto', 'price', 'market', 'btc', 'ethereum',\n",
       "       'trading', 'new', 'exchange', 'cryptocurrency', 'us', 'eth', 'ftx',\n",
       "       '2022', 'last', 'data', 'could', 'xrp', 'one', 'according', 'year',\n",
       "       'digital', 'december', 'says', 'resistance', 'twitter',\n",
       "       'investors', 'level', 'time', 'support', 'recent', 'network',\n",
       "       'week', 'bearish', 'million', 'blockchain', 'users', 'analyst',\n",
       "       'asset', 'top', 'bitcoins', 'mining', 'days'], dtype=object)"
      ]
     },
     "execution_count": 150,
     "metadata": {},
     "output_type": "execute_result"
    }
   ],
   "source": [
    "feature_names = tfidf_vectorizer.get_feature_names_out()\n",
    "feature_names"
   ]
  },
  {
   "cell_type": "code",
   "execution_count": 151,
   "id": "770036f0",
   "metadata": {},
   "outputs": [
    {
     "data": {
      "text/html": [
       "<div>\n",
       "<style scoped>\n",
       "    .dataframe tbody tr th:only-of-type {\n",
       "        vertical-align: middle;\n",
       "    }\n",
       "\n",
       "    .dataframe tbody tr th {\n",
       "        vertical-align: top;\n",
       "    }\n",
       "\n",
       "    .dataframe thead th {\n",
       "        text-align: right;\n",
       "    }\n",
       "</style>\n",
       "<table border=\"1\" class=\"dataframe\">\n",
       "  <thead>\n",
       "    <tr style=\"text-align: right;\">\n",
       "      <th></th>\n",
       "      <th>bitcoin</th>\n",
       "      <th>crypto</th>\n",
       "      <th>price</th>\n",
       "      <th>market</th>\n",
       "      <th>btc</th>\n",
       "      <th>ethereum</th>\n",
       "      <th>trading</th>\n",
       "      <th>new</th>\n",
       "      <th>exchange</th>\n",
       "      <th>cryptocurrency</th>\n",
       "      <th>...</th>\n",
       "      <th>bearish</th>\n",
       "      <th>million</th>\n",
       "      <th>blockchain</th>\n",
       "      <th>users</th>\n",
       "      <th>analyst</th>\n",
       "      <th>asset</th>\n",
       "      <th>top</th>\n",
       "      <th>bitcoins</th>\n",
       "      <th>mining</th>\n",
       "      <th>days</th>\n",
       "    </tr>\n",
       "  </thead>\n",
       "  <tbody>\n",
       "    <tr>\n",
       "      <th>0</th>\n",
       "      <td>0.285493</td>\n",
       "      <td>0.000000</td>\n",
       "      <td>0.379654</td>\n",
       "      <td>0.000000</td>\n",
       "      <td>0.408868</td>\n",
       "      <td>0.000000</td>\n",
       "      <td>0.0</td>\n",
       "      <td>0.000000</td>\n",
       "      <td>0.000000</td>\n",
       "      <td>0.0</td>\n",
       "      <td>...</td>\n",
       "      <td>0.0</td>\n",
       "      <td>0.59006</td>\n",
       "      <td>0.000000</td>\n",
       "      <td>0.00000</td>\n",
       "      <td>0.0</td>\n",
       "      <td>0.000000</td>\n",
       "      <td>0.000000</td>\n",
       "      <td>0.0</td>\n",
       "      <td>0.0</td>\n",
       "      <td>0.0</td>\n",
       "    </tr>\n",
       "    <tr>\n",
       "      <th>1</th>\n",
       "      <td>0.000000</td>\n",
       "      <td>0.152294</td>\n",
       "      <td>0.000000</td>\n",
       "      <td>0.179712</td>\n",
       "      <td>0.000000</td>\n",
       "      <td>0.390095</td>\n",
       "      <td>0.0</td>\n",
       "      <td>0.000000</td>\n",
       "      <td>0.219957</td>\n",
       "      <td>0.0</td>\n",
       "      <td>...</td>\n",
       "      <td>0.0</td>\n",
       "      <td>0.00000</td>\n",
       "      <td>0.000000</td>\n",
       "      <td>0.00000</td>\n",
       "      <td>0.0</td>\n",
       "      <td>0.000000</td>\n",
       "      <td>0.269908</td>\n",
       "      <td>0.0</td>\n",
       "      <td>0.0</td>\n",
       "      <td>0.0</td>\n",
       "    </tr>\n",
       "    <tr>\n",
       "      <th>2</th>\n",
       "      <td>0.000000</td>\n",
       "      <td>0.000000</td>\n",
       "      <td>0.000000</td>\n",
       "      <td>0.000000</td>\n",
       "      <td>0.000000</td>\n",
       "      <td>0.280754</td>\n",
       "      <td>0.0</td>\n",
       "      <td>0.000000</td>\n",
       "      <td>0.000000</td>\n",
       "      <td>0.0</td>\n",
       "      <td>...</td>\n",
       "      <td>0.0</td>\n",
       "      <td>0.00000</td>\n",
       "      <td>0.728895</td>\n",
       "      <td>0.38158</td>\n",
       "      <td>0.0</td>\n",
       "      <td>0.000000</td>\n",
       "      <td>0.000000</td>\n",
       "      <td>0.0</td>\n",
       "      <td>0.0</td>\n",
       "      <td>0.0</td>\n",
       "    </tr>\n",
       "    <tr>\n",
       "      <th>3</th>\n",
       "      <td>0.000000</td>\n",
       "      <td>0.000000</td>\n",
       "      <td>0.000000</td>\n",
       "      <td>0.000000</td>\n",
       "      <td>0.000000</td>\n",
       "      <td>0.000000</td>\n",
       "      <td>0.0</td>\n",
       "      <td>1.000000</td>\n",
       "      <td>0.000000</td>\n",
       "      <td>0.0</td>\n",
       "      <td>...</td>\n",
       "      <td>0.0</td>\n",
       "      <td>0.00000</td>\n",
       "      <td>0.000000</td>\n",
       "      <td>0.00000</td>\n",
       "      <td>0.0</td>\n",
       "      <td>0.000000</td>\n",
       "      <td>0.000000</td>\n",
       "      <td>0.0</td>\n",
       "      <td>0.0</td>\n",
       "      <td>0.0</td>\n",
       "    </tr>\n",
       "    <tr>\n",
       "      <th>4</th>\n",
       "      <td>0.000000</td>\n",
       "      <td>0.000000</td>\n",
       "      <td>0.000000</td>\n",
       "      <td>0.000000</td>\n",
       "      <td>0.000000</td>\n",
       "      <td>0.000000</td>\n",
       "      <td>0.0</td>\n",
       "      <td>0.000000</td>\n",
       "      <td>0.000000</td>\n",
       "      <td>0.0</td>\n",
       "      <td>...</td>\n",
       "      <td>0.0</td>\n",
       "      <td>0.00000</td>\n",
       "      <td>1.000000</td>\n",
       "      <td>0.00000</td>\n",
       "      <td>0.0</td>\n",
       "      <td>0.000000</td>\n",
       "      <td>0.000000</td>\n",
       "      <td>0.0</td>\n",
       "      <td>0.0</td>\n",
       "      <td>0.0</td>\n",
       "    </tr>\n",
       "    <tr>\n",
       "      <th>...</th>\n",
       "      <td>...</td>\n",
       "      <td>...</td>\n",
       "      <td>...</td>\n",
       "      <td>...</td>\n",
       "      <td>...</td>\n",
       "      <td>...</td>\n",
       "      <td>...</td>\n",
       "      <td>...</td>\n",
       "      <td>...</td>\n",
       "      <td>...</td>\n",
       "      <td>...</td>\n",
       "      <td>...</td>\n",
       "      <td>...</td>\n",
       "      <td>...</td>\n",
       "      <td>...</td>\n",
       "      <td>...</td>\n",
       "      <td>...</td>\n",
       "      <td>...</td>\n",
       "      <td>...</td>\n",
       "      <td>...</td>\n",
       "      <td>...</td>\n",
       "    </tr>\n",
       "    <tr>\n",
       "      <th>1331</th>\n",
       "      <td>0.000000</td>\n",
       "      <td>0.000000</td>\n",
       "      <td>0.000000</td>\n",
       "      <td>0.000000</td>\n",
       "      <td>0.000000</td>\n",
       "      <td>0.648166</td>\n",
       "      <td>0.0</td>\n",
       "      <td>0.000000</td>\n",
       "      <td>0.000000</td>\n",
       "      <td>0.0</td>\n",
       "      <td>...</td>\n",
       "      <td>0.0</td>\n",
       "      <td>0.00000</td>\n",
       "      <td>0.000000</td>\n",
       "      <td>0.00000</td>\n",
       "      <td>0.0</td>\n",
       "      <td>0.000000</td>\n",
       "      <td>0.000000</td>\n",
       "      <td>0.0</td>\n",
       "      <td>0.0</td>\n",
       "      <td>0.0</td>\n",
       "    </tr>\n",
       "    <tr>\n",
       "      <th>1332</th>\n",
       "      <td>0.000000</td>\n",
       "      <td>0.000000</td>\n",
       "      <td>0.000000</td>\n",
       "      <td>0.000000</td>\n",
       "      <td>0.000000</td>\n",
       "      <td>0.000000</td>\n",
       "      <td>0.0</td>\n",
       "      <td>0.000000</td>\n",
       "      <td>0.000000</td>\n",
       "      <td>0.0</td>\n",
       "      <td>...</td>\n",
       "      <td>0.0</td>\n",
       "      <td>0.00000</td>\n",
       "      <td>0.000000</td>\n",
       "      <td>0.00000</td>\n",
       "      <td>0.0</td>\n",
       "      <td>0.000000</td>\n",
       "      <td>0.000000</td>\n",
       "      <td>0.0</td>\n",
       "      <td>0.0</td>\n",
       "      <td>0.0</td>\n",
       "    </tr>\n",
       "    <tr>\n",
       "      <th>1333</th>\n",
       "      <td>0.152138</td>\n",
       "      <td>0.518116</td>\n",
       "      <td>0.000000</td>\n",
       "      <td>0.000000</td>\n",
       "      <td>0.217884</td>\n",
       "      <td>0.000000</td>\n",
       "      <td>0.0</td>\n",
       "      <td>0.000000</td>\n",
       "      <td>0.249438</td>\n",
       "      <td>0.0</td>\n",
       "      <td>...</td>\n",
       "      <td>0.0</td>\n",
       "      <td>0.00000</td>\n",
       "      <td>0.000000</td>\n",
       "      <td>0.00000</td>\n",
       "      <td>0.0</td>\n",
       "      <td>0.300625</td>\n",
       "      <td>0.306083</td>\n",
       "      <td>0.0</td>\n",
       "      <td>0.0</td>\n",
       "      <td>0.0</td>\n",
       "    </tr>\n",
       "    <tr>\n",
       "      <th>1334</th>\n",
       "      <td>0.000000</td>\n",
       "      <td>0.000000</td>\n",
       "      <td>0.000000</td>\n",
       "      <td>0.000000</td>\n",
       "      <td>0.000000</td>\n",
       "      <td>0.000000</td>\n",
       "      <td>0.0</td>\n",
       "      <td>0.624451</td>\n",
       "      <td>0.000000</td>\n",
       "      <td>0.0</td>\n",
       "      <td>...</td>\n",
       "      <td>0.0</td>\n",
       "      <td>0.00000</td>\n",
       "      <td>0.000000</td>\n",
       "      <td>0.00000</td>\n",
       "      <td>0.0</td>\n",
       "      <td>0.000000</td>\n",
       "      <td>0.781064</td>\n",
       "      <td>0.0</td>\n",
       "      <td>0.0</td>\n",
       "      <td>0.0</td>\n",
       "    </tr>\n",
       "    <tr>\n",
       "      <th>1335</th>\n",
       "      <td>0.000000</td>\n",
       "      <td>0.000000</td>\n",
       "      <td>0.000000</td>\n",
       "      <td>0.000000</td>\n",
       "      <td>0.000000</td>\n",
       "      <td>0.000000</td>\n",
       "      <td>0.0</td>\n",
       "      <td>0.000000</td>\n",
       "      <td>0.000000</td>\n",
       "      <td>0.0</td>\n",
       "      <td>...</td>\n",
       "      <td>0.0</td>\n",
       "      <td>0.00000</td>\n",
       "      <td>0.000000</td>\n",
       "      <td>0.00000</td>\n",
       "      <td>0.0</td>\n",
       "      <td>0.000000</td>\n",
       "      <td>0.000000</td>\n",
       "      <td>0.0</td>\n",
       "      <td>0.0</td>\n",
       "      <td>0.0</td>\n",
       "    </tr>\n",
       "  </tbody>\n",
       "</table>\n",
       "<p>1336 rows × 43 columns</p>\n",
       "</div>"
      ],
      "text/plain": [
       "       bitcoin    crypto     price    market       btc  ethereum  trading  \\\n",
       "0     0.285493  0.000000  0.379654  0.000000  0.408868  0.000000      0.0   \n",
       "1     0.000000  0.152294  0.000000  0.179712  0.000000  0.390095      0.0   \n",
       "2     0.000000  0.000000  0.000000  0.000000  0.000000  0.280754      0.0   \n",
       "3     0.000000  0.000000  0.000000  0.000000  0.000000  0.000000      0.0   \n",
       "4     0.000000  0.000000  0.000000  0.000000  0.000000  0.000000      0.0   \n",
       "...        ...       ...       ...       ...       ...       ...      ...   \n",
       "1331  0.000000  0.000000  0.000000  0.000000  0.000000  0.648166      0.0   \n",
       "1332  0.000000  0.000000  0.000000  0.000000  0.000000  0.000000      0.0   \n",
       "1333  0.152138  0.518116  0.000000  0.000000  0.217884  0.000000      0.0   \n",
       "1334  0.000000  0.000000  0.000000  0.000000  0.000000  0.000000      0.0   \n",
       "1335  0.000000  0.000000  0.000000  0.000000  0.000000  0.000000      0.0   \n",
       "\n",
       "           new  exchange  cryptocurrency  ...  bearish  million  blockchain  \\\n",
       "0     0.000000  0.000000             0.0  ...      0.0  0.59006    0.000000   \n",
       "1     0.000000  0.219957             0.0  ...      0.0  0.00000    0.000000   \n",
       "2     0.000000  0.000000             0.0  ...      0.0  0.00000    0.728895   \n",
       "3     1.000000  0.000000             0.0  ...      0.0  0.00000    0.000000   \n",
       "4     0.000000  0.000000             0.0  ...      0.0  0.00000    1.000000   \n",
       "...        ...       ...             ...  ...      ...      ...         ...   \n",
       "1331  0.000000  0.000000             0.0  ...      0.0  0.00000    0.000000   \n",
       "1332  0.000000  0.000000             0.0  ...      0.0  0.00000    0.000000   \n",
       "1333  0.000000  0.249438             0.0  ...      0.0  0.00000    0.000000   \n",
       "1334  0.624451  0.000000             0.0  ...      0.0  0.00000    0.000000   \n",
       "1335  0.000000  0.000000             0.0  ...      0.0  0.00000    0.000000   \n",
       "\n",
       "        users  analyst     asset       top  bitcoins  mining  days  \n",
       "0     0.00000      0.0  0.000000  0.000000       0.0     0.0   0.0  \n",
       "1     0.00000      0.0  0.000000  0.269908       0.0     0.0   0.0  \n",
       "2     0.38158      0.0  0.000000  0.000000       0.0     0.0   0.0  \n",
       "3     0.00000      0.0  0.000000  0.000000       0.0     0.0   0.0  \n",
       "4     0.00000      0.0  0.000000  0.000000       0.0     0.0   0.0  \n",
       "...       ...      ...       ...       ...       ...     ...   ...  \n",
       "1331  0.00000      0.0  0.000000  0.000000       0.0     0.0   0.0  \n",
       "1332  0.00000      0.0  0.000000  0.000000       0.0     0.0   0.0  \n",
       "1333  0.00000      0.0  0.300625  0.306083       0.0     0.0   0.0  \n",
       "1334  0.00000      0.0  0.000000  0.781064       0.0     0.0   0.0  \n",
       "1335  0.00000      0.0  0.000000  0.000000       0.0     0.0   0.0  \n",
       "\n",
       "[1336 rows x 43 columns]"
      ]
     },
     "execution_count": 151,
     "metadata": {},
     "output_type": "execute_result"
    }
   ],
   "source": [
    "tfidf_data.columns = feature_names\n",
    "tfidf_data"
   ]
  },
  {
   "cell_type": "code",
   "execution_count": 154,
   "id": "c4af7299",
   "metadata": {},
   "outputs": [
    {
     "data": {
      "text/plain": [
       "<1336x43 sparse matrix of type '<class 'numpy.float64'>'\n",
       "\twith 5189 stored elements in Compressed Sparse Row format>"
      ]
     },
     "execution_count": 154,
     "metadata": {},
     "output_type": "execute_result"
    }
   ],
   "source": [
    "#tsvd = TruncatedSVD(n_components=100, random_state=37)\n",
    "vec_matrix_tsvd = tfidf_matrix#tsvd.fit_transform(tfidf_matrix)\n",
    "vec_matrix_tsvd"
   ]
  },
  {
   "cell_type": "code",
   "execution_count": 155,
   "id": "fe51b699",
   "metadata": {},
   "outputs": [],
   "source": [
    "def to_viz_data(data, tfidf_data, labels):\n",
    "    transformed_data = []\n",
    "    for label in labels:\n",
    "        new_data = tfidf_data[tfidf_data[data['label'] == label].idxmax(axis=1)].max()[:200]\n",
    "        transformed_data.append(pd.concat([new_data.reset_index(), pd.Series([label] * len(new_data))], axis=1))\n",
    "    viz_data = pd.concat(transformed_data)\n",
    "    viz_data.columns = ['word', 'tfidf', 'label']\n",
    "    return viz_data"
   ]
  },
  {
   "cell_type": "code",
   "execution_count": 156,
   "id": "1d9200ff",
   "metadata": {},
   "outputs": [
    {
     "data": {
      "text/plain": [
       "KMeans(n_clusters=3, random_state=37)"
      ]
     },
     "execution_count": 156,
     "metadata": {},
     "output_type": "execute_result"
    }
   ],
   "source": [
    "clst10 = KMeans(n_clusters=3, verbose=0, random_state=37)\n",
    "clst10.fit(vec_matrix_tsvd)"
   ]
  },
  {
   "cell_type": "code",
   "execution_count": 157,
   "id": "d4608dc3",
   "metadata": {},
   "outputs": [
    {
     "data": {
      "text/html": [
       "<div>\n",
       "<style scoped>\n",
       "    .dataframe tbody tr th:only-of-type {\n",
       "        vertical-align: middle;\n",
       "    }\n",
       "\n",
       "    .dataframe tbody tr th {\n",
       "        vertical-align: top;\n",
       "    }\n",
       "\n",
       "    .dataframe thead th {\n",
       "        text-align: right;\n",
       "    }\n",
       "</style>\n",
       "<table border=\"1\" class=\"dataframe\">\n",
       "  <thead>\n",
       "    <tr style=\"text-align: right;\">\n",
       "      <th></th>\n",
       "      <th>source</th>\n",
       "      <th>title</th>\n",
       "      <th>published_at</th>\n",
       "      <th>currencies</th>\n",
       "      <th>News value</th>\n",
       "      <th>full_news_url</th>\n",
       "      <th>description</th>\n",
       "      <th>label</th>\n",
       "    </tr>\n",
       "  </thead>\n",
       "  <tbody>\n",
       "    <tr>\n",
       "      <th>0</th>\n",
       "      <td>CoinTelegraph</td>\n",
       "      <td>Bitcoin options data shows bulls aiming for $1...</td>\n",
       "      <td>2022-12-07T19:12:11Z</td>\n",
       "      <td>BTC</td>\n",
       "      <td>1.0</td>\n",
       "      <td>https://cryptopanic.com/news/17094680/Bitcoin-...</td>\n",
       "      <td>BTC bulls could secure a $130 million profit i...</td>\n",
       "      <td>1</td>\n",
       "    </tr>\n",
       "    <tr>\n",
       "      <th>1</th>\n",
       "      <td>The Daily Hodl</td>\n",
       "      <td>Crypto Exchange Coinbase Adds Support for Two ...</td>\n",
       "      <td>2022-12-07T19:05:54Z</td>\n",
       "      <td>ETH,RPL</td>\n",
       "      <td>0.0</td>\n",
       "      <td>https://cryptopanic.com/news/17094653/Crypto-E...</td>\n",
       "      <td>Top US crypto exchange Coinbase has given supp...</td>\n",
       "      <td>0</td>\n",
       "    </tr>\n",
       "    <tr>\n",
       "      <th>2</th>\n",
       "      <td>The Daily Hodl</td>\n",
       "      <td>BitKeep Wallet Goes Live With .Bayc and Other ...</td>\n",
       "      <td>2022-12-07T19:05:16Z</td>\n",
       "      <td>ETH</td>\n",
       "      <td>0.0</td>\n",
       "      <td>https://cryptopanic.com/news/17094654/BitKeep-...</td>\n",
       "      <td>December 5, 2022 As simplified wallet addresse...</td>\n",
       "      <td>0</td>\n",
       "    </tr>\n",
       "    <tr>\n",
       "      <th>3</th>\n",
       "      <td>Bitcoin Magazine</td>\n",
       "      <td>Kazakhstan Presses On With Restrictive Bitcoin...</td>\n",
       "      <td>2022-12-07T18:53:00Z</td>\n",
       "      <td>BTC</td>\n",
       "      <td>0.0</td>\n",
       "      <td>https://cryptopanic.com/news/17094603/Kazakhst...</td>\n",
       "      <td>A bill that would create new licensing and ele...</td>\n",
       "      <td>0</td>\n",
       "    </tr>\n",
       "    <tr>\n",
       "      <th>4</th>\n",
       "      <td>CoinTelegraph</td>\n",
       "      <td>The blockchain trilemma: Can it ever be tackled?</td>\n",
       "      <td>2022-12-07T18:33:00Z</td>\n",
       "      <td>ETH,MATIC</td>\n",
       "      <td>0.0</td>\n",
       "      <td>https://cryptopanic.com/news/17094549/The-bloc...</td>\n",
       "      <td>Blockchain trilemma is arguably the hardest te...</td>\n",
       "      <td>0</td>\n",
       "    </tr>\n",
       "    <tr>\n",
       "      <th>...</th>\n",
       "      <td>...</td>\n",
       "      <td>...</td>\n",
       "      <td>...</td>\n",
       "      <td>...</td>\n",
       "      <td>...</td>\n",
       "      <td>...</td>\n",
       "      <td>...</td>\n",
       "      <td>...</td>\n",
       "    </tr>\n",
       "    <tr>\n",
       "      <th>1331</th>\n",
       "      <td>U.Today</td>\n",
       "      <td>Ethereum (ETH) Price Analysis for December 23</td>\n",
       "      <td>2022-12-23T20:00:00Z</td>\n",
       "      <td>ETH</td>\n",
       "      <td>0.0</td>\n",
       "      <td>https://cryptopanic.com/news/17226113/Ethereum...</td>\n",
       "      <td>How great are chances for continued rise of Et...</td>\n",
       "      <td>0</td>\n",
       "    </tr>\n",
       "    <tr>\n",
       "      <th>1332</th>\n",
       "      <td>ZyCrypto</td>\n",
       "      <td>Digital Assets Amongst Vulnerabilities Within ...</td>\n",
       "      <td>2022-12-23T19:47:30Z</td>\n",
       "      <td>ETH,XRP</td>\n",
       "      <td>0.0</td>\n",
       "      <td>https://cryptopanic.com/news/17226085/Digital-...</td>\n",
       "      <td>The Financial Stability Oversight Council (FSO...</td>\n",
       "      <td>0</td>\n",
       "    </tr>\n",
       "    <tr>\n",
       "      <th>1333</th>\n",
       "      <td>The Daily Hodl</td>\n",
       "      <td>Cardano, Litecoin and Monero Will Not Be Added...</td>\n",
       "      <td>2022-12-23T19:41:41Z</td>\n",
       "      <td>BTC,ETH,ADA,LTC,XMR</td>\n",
       "      <td>1.0</td>\n",
       "      <td>https://cryptopanic.com/news/17226084/Cardano-...</td>\n",
       "      <td>A top executive of peer-to-peer crypto exchang...</td>\n",
       "      <td>2</td>\n",
       "    </tr>\n",
       "    <tr>\n",
       "      <th>1334</th>\n",
       "      <td>ZyCrypto</td>\n",
       "      <td>Binance plans to invest in India’s web3 startu...</td>\n",
       "      <td>2022-12-23T19:24:08Z</td>\n",
       "      <td>BTC,ETH,XRP</td>\n",
       "      <td>1.0</td>\n",
       "      <td>https://cryptopanic.com/news/17226053/Binance-...</td>\n",
       "      <td>Binance’s Chief Technology Officer (CTO) Rohit...</td>\n",
       "      <td>0</td>\n",
       "    </tr>\n",
       "    <tr>\n",
       "      <th>1335</th>\n",
       "      <td>ZyCrypto</td>\n",
       "      <td>Regulation Alone Isn’t Enough To Address Short...</td>\n",
       "      <td>2022-12-23T19:04:34Z</td>\n",
       "      <td>ETH,XRP</td>\n",
       "      <td>0.0</td>\n",
       "      <td>https://cryptopanic.com/news/17226015/Regulati...</td>\n",
       "      <td>According to Fabio Panetta, a Member of the Ex...</td>\n",
       "      <td>0</td>\n",
       "    </tr>\n",
       "  </tbody>\n",
       "</table>\n",
       "<p>1336 rows × 8 columns</p>\n",
       "</div>"
      ],
      "text/plain": [
       "                source                                              title  \\\n",
       "0        CoinTelegraph  Bitcoin options data shows bulls aiming for $1...   \n",
       "1       The Daily Hodl  Crypto Exchange Coinbase Adds Support for Two ...   \n",
       "2       The Daily Hodl  BitKeep Wallet Goes Live With .Bayc and Other ...   \n",
       "3     Bitcoin Magazine  Kazakhstan Presses On With Restrictive Bitcoin...   \n",
       "4        CoinTelegraph   The blockchain trilemma: Can it ever be tackled?   \n",
       "...                ...                                                ...   \n",
       "1331           U.Today      Ethereum (ETH) Price Analysis for December 23   \n",
       "1332          ZyCrypto  Digital Assets Amongst Vulnerabilities Within ...   \n",
       "1333    The Daily Hodl  Cardano, Litecoin and Monero Will Not Be Added...   \n",
       "1334          ZyCrypto  Binance plans to invest in India’s web3 startu...   \n",
       "1335          ZyCrypto  Regulation Alone Isn’t Enough To Address Short...   \n",
       "\n",
       "              published_at           currencies  News value  \\\n",
       "0     2022-12-07T19:12:11Z                  BTC         1.0   \n",
       "1     2022-12-07T19:05:54Z              ETH,RPL         0.0   \n",
       "2     2022-12-07T19:05:16Z                  ETH         0.0   \n",
       "3     2022-12-07T18:53:00Z                  BTC         0.0   \n",
       "4     2022-12-07T18:33:00Z            ETH,MATIC         0.0   \n",
       "...                    ...                  ...         ...   \n",
       "1331  2022-12-23T20:00:00Z                  ETH         0.0   \n",
       "1332  2022-12-23T19:47:30Z              ETH,XRP         0.0   \n",
       "1333  2022-12-23T19:41:41Z  BTC,ETH,ADA,LTC,XMR         1.0   \n",
       "1334  2022-12-23T19:24:08Z          BTC,ETH,XRP         1.0   \n",
       "1335  2022-12-23T19:04:34Z              ETH,XRP         0.0   \n",
       "\n",
       "                                          full_news_url  \\\n",
       "0     https://cryptopanic.com/news/17094680/Bitcoin-...   \n",
       "1     https://cryptopanic.com/news/17094653/Crypto-E...   \n",
       "2     https://cryptopanic.com/news/17094654/BitKeep-...   \n",
       "3     https://cryptopanic.com/news/17094603/Kazakhst...   \n",
       "4     https://cryptopanic.com/news/17094549/The-bloc...   \n",
       "...                                                 ...   \n",
       "1331  https://cryptopanic.com/news/17226113/Ethereum...   \n",
       "1332  https://cryptopanic.com/news/17226085/Digital-...   \n",
       "1333  https://cryptopanic.com/news/17226084/Cardano-...   \n",
       "1334  https://cryptopanic.com/news/17226053/Binance-...   \n",
       "1335  https://cryptopanic.com/news/17226015/Regulati...   \n",
       "\n",
       "                                            description  label  \n",
       "0     BTC bulls could secure a $130 million profit i...      1  \n",
       "1     Top US crypto exchange Coinbase has given supp...      0  \n",
       "2     December 5, 2022 As simplified wallet addresse...      0  \n",
       "3     A bill that would create new licensing and ele...      0  \n",
       "4     Blockchain trilemma is arguably the hardest te...      0  \n",
       "...                                                 ...    ...  \n",
       "1331  How great are chances for continued rise of Et...      0  \n",
       "1332  The Financial Stability Oversight Council (FSO...      0  \n",
       "1333  A top executive of peer-to-peer crypto exchang...      2  \n",
       "1334  Binance’s Chief Technology Officer (CTO) Rohit...      0  \n",
       "1335  According to Fabio Panetta, a Member of the Ex...      0  \n",
       "\n",
       "[1336 rows x 8 columns]"
      ]
     },
     "execution_count": 157,
     "metadata": {},
     "output_type": "execute_result"
    }
   ],
   "source": [
    "data['label'] = clst10.labels_\n",
    "data"
   ]
  },
  {
   "cell_type": "code",
   "execution_count": 158,
   "id": "7bf54c0a",
   "metadata": {},
   "outputs": [
    {
     "data": {
      "text/html": [
       "<div>\n",
       "<style scoped>\n",
       "    .dataframe tbody tr th:only-of-type {\n",
       "        vertical-align: middle;\n",
       "    }\n",
       "\n",
       "    .dataframe tbody tr th {\n",
       "        vertical-align: top;\n",
       "    }\n",
       "\n",
       "    .dataframe thead th {\n",
       "        text-align: right;\n",
       "    }\n",
       "</style>\n",
       "<table border=\"1\" class=\"dataframe\">\n",
       "  <thead>\n",
       "    <tr style=\"text-align: right;\">\n",
       "      <th></th>\n",
       "      <th></th>\n",
       "      <th>News value</th>\n",
       "    </tr>\n",
       "    <tr>\n",
       "      <th>label</th>\n",
       "      <th>description</th>\n",
       "      <th></th>\n",
       "    </tr>\n",
       "  </thead>\n",
       "  <tbody>\n",
       "    <tr>\n",
       "      <th rowspan=\"5\" valign=\"top\">0</th>\n",
       "      <th>\\tDogecoin has gained over 100% in the last ten days as bulls rub their hands in glee for even larger gains.\\n\\tThe price rally has been attributed to Elon Musk’s acquisition of Twitter, with some speculating that DOGE will be integrated into the platform.\\n\\tDOGE short traders suffered liquidations in excess of 50 million over the weekend during the meteoric rally.\\nAfter several months in the doldrums of lethargic price movements, Dogecoin bucked the trend over the weekend, and enthusiasts have Elon Musk to thank for the spike.\\nLast week, Elon Musk’s purchase of microblogging site Twitter became official in a $44 billion deal that created ripples of excitement throughout the digital assets industry. The effect of the sale was visible in the price movement of Dogecoin (DOGE) as it climbed to its highest point in five months.\\nDays after sealing the deal, DOGE gained 106% to reach $0.1494 in a blistering move, and only seven days earlier, the asset was hovering at the $0.0588 mark. The market capitalization for DOGE surpassed Cardano and Solana over the weekend and pegged at $16.5 billion, while trading volumes in the last 24 hours are well above $6 billion.\\nAccording to data from on-chain analysis firm IntoTheBlock, the rally has put 62% of all DOGE holders in the green. For short sellers, the rally led to over 50 million worth of liquidations in the futures market during the unexpected short squeeze.\\nEven bigger numbers for DOGE\\nThe new run has triggered renewed faith amongst enthusiasts that DOGE can surpass the $1 mark for the first time in its history. While it may appear to be a long shot, DOGE has several factors working for it that analysts say would be instrumental in reaching new highs.\\nAdvertisement  \\nFirst is the multiple reports that Musk’s Twitter could integrate DOGE as an option for tipping creators on the site.\\n“Now that Twitter is in the hands of Elon Musk I can see a real possibility that doge will somehow merge with the platform,” said Charles Hoskinson, Cardano’s founder. \\nOther accounts have shared a similar opinion with Matt Wallace, noting that integrating DOGE with Twitter will “showcase to the entire world what Dogecoin is capable of!”\\nMusk’s affinity with Dogecoin has been a long-running affair that peaked in 2021. The Tesla CEO had utilized his Twitter account to share Doge-related memes and appeared on Saturday Night Live to seemingly “promote” the asset.\\nIn Jan 2022, Musk took things up a notch by announcing that Tesla customers can use DOGE to pay for merchandise and hinted that SpaceX could toe the same path in the coming months.\\n</th>\n",
       "      <td>1</td>\n",
       "    </tr>\n",
       "    <tr>\n",
       "      <th>\\tHelium Network has announced its partnership with Solana Saga crypto phones.\\n\\tUnder the new partnership, Solana Saga phones are all set to be powered by Helium Network’s newly launched 5G carrier services.\\nSolana’s widely anticipated Solana Saga phone has announced its partnership with newly launched Helium wireless carrier services.\\nThe said collaboration will permit Solana Saga phones to access Helium’s seamless wireless carrier services, which will offer unlimited calling and messaging to users for up to 30 days.\\nHelium Network x Solana Saga\\nThe founder of Helium Network, Nova Labs, had earlier announced its newest venture, dubbed “Helium Mobile,” with an intention to offer seamless 5G services to its customers residing in the US. The venture is still in its early stages of development and is due to launch in 2023.\\n\\nAs per the new details, the network is all set to expand its base up a notch and has recently announced a new collaboration with Solana Saga, a smartphone built by the Solana blockchain team.\\nAccording to a new announcement, the upcoming Solana Saga phones will be powered by Helium carrier service that will permit users to access the network’s newly launched 5G services. The announcement was made at Solana’s Breakpoint Conference in Lisbon earlier today.\\nHelium Network’s 5G services will also offer a free 30-day trial to its users based in the United States. Under the free trial rule, users will be able to make unlimited calls to their friends and family, followed by the option to send unlimited texts to anyone for a period of 30 days.\\nIn an interview with Decrypt, Helium Network’s representative clarified that users will not be mandated to opt for Helium Network’s 5G services to use their Solana Saga phones; they can also select other carrier services as per their choice and preference.\\n“Not only will this partnership ultimately drive usage to the Helium Network, but Saga customers who sign up for Helium Mobile will be able to have a seamless and integrated user experience and could earn crypto rewards for using their cell service.” Boris Renski, general manager of Wireless Nova Labs, told Decrypt\\nThe Solana Saga phone is dubbed one of the most widely anticipated smartphone launches of 2023. According to the official statement released by Solana, Saga smartphones will comprise “unique functionality and features tightly integrated with the Solana blockchain, making it easy and secure to transact in Web3 and manage digital assets, such as tokens and NFTs.”\\n</th>\n",
       "      <td>1</td>\n",
       "    </tr>\n",
       "    <tr>\n",
       "      <th>\\n.\\n@Meta\\n has selected \\n@0xpolygon\\n for minting digital collectables \\n\\nFor the 1st time ever, \\n@Meta\\n is empowering creators to mint &amp; sell \\n@0xpolygon\\n powered digital collectibles on &amp; off \\n@instagram\\n \\n</th>\n",
       "      <td>1</td>\n",
       "    </tr>\n",
       "    <tr>\n",
       "      <th>\\nXRP is experiencing sustained buying pressure sparking a short-term rally amid the ongoing case with the Securities Exchange Commission (SEC) and Ripple Labs. Notably, the gains are correlated with events deemed positive for the prospects of Ripple in the high-profile case. \\n\\nIndeed, by press time as of November 4, XRP was trading at $0.489, recording gains of almost 8% in the last 24 hours. The daily chart indicates that the token peaked at $0.5 before retracing, according to CoinMarketCap data. \\n\\nXRP one-day price chart. Source: CoinMarketCap\\nAdditionally, XRP could be poised to extend the rally if the token successfully breaks past and sustains the key $0.5 resistance level. In this line, if the token moves to retest the $0.55 barrier, it will likely hit the $0.60 mark putting the next target at $1. \\nElsewhere, the rally has been inspired by growing investor confidence, as reflected in the market capitalization. By press time, the asset controlled a market cap of $24.52 billion, adding over $1.62 billion within 24 hours. \\n\\nXRP one-day market cap chart. Source: CoinMarketCap\\nRipple receives industry support\\n\\n\\n\\n\\n\\nIn general, the spike in value for XRP centers around the SEC case after Ripple continued to receive support from different entities. In particular, on November 4, Ripple CEO Brad Garlinghouse revealed that at least 12 entities involving developers, exchanges, associations, and investors were officially supporting the firm in the case. \\nSome entities to express support for XRP include crypto exchange Coinbase, the Chamber of Digital Commerce, the Crypto Council for Innovation, the Blockchain Association, Investor Choice Advocates Network (ICAN), and over 75,000 XRP holders. \\nSEC’s motion \\nInterestingly, the industry support comes as legal experts increasingly stated that the case where Ripple is accused of issuing XRP in violation of the SEC might be ruled in favor of the fintech firm. Such a scenario could be bullish for XRP and the general crypto market. \\nFurthermore, the support for Ripple follows the November 3 SEC motion to extend the time to file all reply briefs until November 30. The regulator called on the presiding judge Analisa Torres to rule that any additional amicus briefs be filed by November 11.</th>\n",
       "      <td>1</td>\n",
       "    </tr>\n",
       "    <tr>\n",
       "      <th>Margin trading and futures are used in cryptocurrency to multiply gains. Here’s what you need to know about these tools, how they work, and their differences.</th>\n",
       "      <td>1</td>\n",
       "    </tr>\n",
       "    <tr>\n",
       "      <th>...</th>\n",
       "      <th>...</th>\n",
       "      <td>...</td>\n",
       "    </tr>\n",
       "    <tr>\n",
       "      <th rowspan=\"5\" valign=\"top\">2</th>\n",
       "      <th>With its partial autonomy, the island city of Hong Kong has traditionally served as a gate to China, but with crypto, there is a catch.</th>\n",
       "      <td>1</td>\n",
       "    </tr>\n",
       "    <tr>\n",
       "      <th>Zamsino Crypto Casino Metaverse, a blockchain-based virtual casino metaverse, is set to change how token-based crypto casinos work, and the project is set to launch in Q3 next year. Built on the Ethereum blockchain, players can build and monetise their own casino games in this virtual world with rewards for playing and earning revenue from...</th>\n",
       "      <td>1</td>\n",
       "    </tr>\n",
       "    <tr>\n",
       "      <th>[Crypto News]💸 BYBIT 0% Maker Fees &amp; $30,030 BONUS 👉 https://cryptolark.co/BYBIT🔥 GET MY FREE INVESTOR REPORT 👉 https://cryptolark.co/WEALTHMASTERY#bitcoin #crypto #investing 🌟🌟🌟 BEST EXCHANGES TO BUY CRYPTO 🌟🌟🌟💰 BINANCE: BEST EXCHANGE FOR BUYING CRYPTO IN THE WORLD👉 10% OFF FEES &amp; $600 BONUS ►► https://cryptolark.co/10📺  BINANCE TUTORIAL: https://www.youtube.com/watch?v=2tZ6sEyx56s🐙 USA #1 EXCHANGE TO BUY AND SELL CRYPTO👉 BUY BITCOIN ON KRAKEN ►►  http://cryptolark.co/KRAKENBTC🚀🚀🚀 BEST EXCHANGES TO TRADE CRYPTO 🚀🚀🚀🥇 BYBIT: BTC FUTURES TRADING EXCHANGE 👉 0% SPOT FEES AND $30,030 IN BONUSES ►► https://cryptolark.co/BYBIT100 📺  BYBIT TUTORIAL: https://youtu.be/mw3sAX6XdDE🥈 PHEMEX: BTC FUTURES TRADING 👉  10% OFF FEES $3,600 SIGN UP BONUS ►► https://cryptolark.co/PHEMEX ⚜️⚜️⚜️ TOP CRYPTO SERVICES &amp; PRODUCTS ⚜️⚜️⚜️🤵 NUMBER ONE BROKER - PROFESSIONAL PERSONAL WEALTH MANAGEMENT👉 CALEB &amp; BROWN  - 30% OFF ►► https://cryptolark.co/CB🤖 NFT DOMAIN NAMES - THE HOTTEST NFTS ON THE MARKET👉 BUY ON UNSTOPPABLE DOMAINS ►► https://cryptolark.co/UNSTOPPABLE🔒 BEST CRYPTO WALLET TO KEEP YOUR ASSETS SAFE👉  BUY LEDGER WALLET HERE ►► https://cryptolark.co/LEDGERNOTE: The above are affiliate links and I receive a small comission when you use these links to start your accounts. Thank you for your support. FULL PORTFOLIO AND DISCLOSURE OF VENTURE INVESTMENTShttps://thewealthmastery.io/lark-davis-crypto-portfolio-disclosures/Subscribe for more great crypto videos https://www.youtube.com/channel/UCl2oCaw8hdR_kbqyqd2klIAESSENTIAL VIEWINGSecurity Tips https://www.youtube.com/watch?v=-qRpW20AB8k&amp;t=2sTake Profits https://www.youtube.com/watch?v=4ej6Uiynyso&amp;t=5sBinance Tutorial https://www.youtube.com/watch?v=2tZ6sEyx56s&amp;t=5sBybit Tutorial https://www.youtube.com/watch?v=mw3sAX6XdDEWatch more great crypto videos on this playlist https://www.youtube.com/watch?v=LAPH8BB2eoo&amp;list=PLzaAzw5kr19jXML35T1FaxwGAgbLJdhg0DisclaimerEverything expressed here is my opinion and not official investment advice - please do your own research before risking your own money. Lark Davis (The Crypto Lark) is not providing you individually tailored investment advice. Nor is The Crypto Lark registered to provide investment advice, is not a financial adviser, and is not a broker-dealer. The material provided is for educational purposes only. The Crypto Lark is not responsible for any gains or losses that result from your cryptocurrency investments. Investing in cryptocurrency involves a high degree of risk and should be considered only by persons who can afford to sustain a loss of their entire investment. Investors should consult their financial adviser before investing in cryptocurrency.</th>\n",
       "      <td>1</td>\n",
       "    </tr>\n",
       "    <tr>\n",
       "      <th>✴︎ Sign Up Here for the CT Club! https://patreon.com/cryptotips✴︎ Join our Public Discord Channels Here: https://discord.gg/Hseq2nkeHr✴︎Ledger hardware wallets 👉 https://shop.ledger.com/pages/ledger-nano-x/?r=67ef✴︎Trezor hardware wallet 👉 https://shop.trezor.io/?offer_id=10&amp;aff_id=10937✴︎Buy Gift Cards with Your Crypto! 👉 https://www.bitrefill.com/signup?code=47y2uwl4✴︎Begin Trading with Tradingview 👉 https://www.tradingview.com/gopro/?share_your_love=RealCryptoTips✴︎Heidi Twitter: https://twitter.com/blockchainchick✴︎Toby Twitter: https://twitter.com/sircryptotips✴︎TicToc: https://www.tiktok.com/@realcryptotips✴︎Instagram: https://www.instagram.com/realcryptotips/ ✴︎LBRY: https://lbry.tv/@Crypto-Tips:b Video Suggestions for Beginners to Crypto: - When did Crypto Start?: youtu.be/rd5gv6X70ew- Why Bitcoin?: youtu.be/GVwWwWUj3NU- 3 Mistakes to Avoid When Storing Cryptos: https://www.youtube.com/watch?v=rhhu3Uh8iHE- If Your Hardware Wallet is Lost or Stolen: youtu.be/KTIDY7kYSIQ- Complete Guide to Ledger Nano X: youtu.be/PC60Ju_iMQE- Proper Introduction to Crypto Exchanges: youtube.com/watch?v=91f-QNSmzrA- 3 Things You Should Never Do on a Crypto Exchange: youtu.be/pgZP-voLGpE- 5 Things Crypto Exchanges Don't Want You to Know: youtu.be/_VcdEovm8u8- My Recommendations for Centralized Exchanges: youtu.be/kCYj2tdYufE- My Recommendations for Decentralized Exchanges (DEX): youtu.be/AMsp3knAfBs- Calling Out Fake DEXs: youtu.be/h_cZyGqjKrs- Why is DeFi the Hottest Topic in Crypto?: youtu.be/mqdD_2rX4-0- Without This, Crypto Won't Survive: youtu.be/Jg-zk_Nhpq0- How To Use the Most Popular Privacy Coins: youtu.be/WLckSKzFp</th>\n",
       "      <td>1</td>\n",
       "    </tr>\n",
       "    <tr>\n",
       "      <th>🟢 10X Your Trades w/ Our Strategies: https://elite.readyset.trade/🟡 Beat The Market w/ On-Chain Analysis: https://www.readyset.vision/🔴 Discuss Crypto w/ The RSC Community: https://discord.gg/F4HqbmN👉 See Doc's latest Market Minute here!: https://www.youtube.com/watch?v=rA2cUpO2as4🚀 SPECIAL 21% OFF Our OMNIA Analysis Service: http://readysetcrypto.com/2021👫 Our Second Channel: https://bit.ly/3eG8vML👫 Twitter: https://twitter.com/readysetcrypto/👫 Instagram: https://www.instagram.com/readysetcrypto/👫 Facebook: https://www.facebook.com/readysetcrypto/** Statements on this site do not represent the views or policies of anyone other than myself. The information on this site is provided for discussion purposes only, and are not investing recommendations. Under no circumstances does this information represent a recommendation to buy or sell securities.#crypto #altcoin #nft</th>\n",
       "      <td>1</td>\n",
       "    </tr>\n",
       "  </tbody>\n",
       "</table>\n",
       "<p>1336 rows × 1 columns</p>\n",
       "</div>"
      ],
      "text/plain": [
       "                                                          News value\n",
       "label description                                                   \n",
       "0     \\tDogecoin has gained over 100% in the last ten...           1\n",
       "      \\tHelium Network has announced its partnership ...           1\n",
       "      \\n.\\n@Meta\\n has selected \\n@0xpolygon\\n for mi...           1\n",
       "      \\nXRP is experiencing sustained buying pressure...           1\n",
       "                              Margin trading and futu...           1\n",
       "...                                                              ...\n",
       "2     With its partial autonomy, the island city of H...           1\n",
       "      Zamsino Crypto Casino Metaverse, a blockchain-b...           1\n",
       "      [Crypto News]💸 BYBIT 0% Maker Fees & $30,030 BO...           1\n",
       "      ✴︎ Sign Up Here for the CT Club! https://patreo...           1\n",
       "      🟢 10X Your Trades w/ Our Strategies: https://el...           1\n",
       "\n",
       "[1336 rows x 1 columns]"
      ]
     },
     "execution_count": 158,
     "metadata": {},
     "output_type": "execute_result"
    }
   ],
   "source": [
    "labels_count_data = data[['description', 'label', 'News value']].groupby(['label', 'description']).count()\n",
    "labels_count_data"
   ]
  },
  {
   "cell_type": "code",
   "execution_count": 159,
   "id": "cc8f9560",
   "metadata": {},
   "outputs": [
    {
     "data": {
      "text/plain": [
       "0    0.512725\n",
       "1    0.296407\n",
       "2    0.190868\n",
       "Name: label, dtype: float64"
      ]
     },
     "execution_count": 159,
     "metadata": {},
     "output_type": "execute_result"
    }
   ],
   "source": [
    "assign_ratio = labels_count_data.reset_index()['label'].value_counts() / labels_count_data.shape[0]\n",
    "assign_ratio"
   ]
  },
  {
   "cell_type": "code",
   "execution_count": 160,
   "id": "5500056e",
   "metadata": {},
   "outputs": [
    {
     "data": {
      "text/html": [
       "<div>\n",
       "<style scoped>\n",
       "    .dataframe tbody tr th:only-of-type {\n",
       "        vertical-align: middle;\n",
       "    }\n",
       "\n",
       "    .dataframe tbody tr th {\n",
       "        vertical-align: top;\n",
       "    }\n",
       "\n",
       "    .dataframe thead th {\n",
       "        text-align: right;\n",
       "    }\n",
       "</style>\n",
       "<table border=\"1\" class=\"dataframe\">\n",
       "  <thead>\n",
       "    <tr style=\"text-align: right;\">\n",
       "      <th></th>\n",
       "      <th></th>\n",
       "      <th></th>\n",
       "      <th>News value</th>\n",
       "    </tr>\n",
       "    <tr>\n",
       "      <th>label</th>\n",
       "      <th>ratio</th>\n",
       "      <th>description</th>\n",
       "      <th></th>\n",
       "    </tr>\n",
       "  </thead>\n",
       "  <tbody>\n",
       "    <tr>\n",
       "      <th rowspan=\"5\" valign=\"top\">0</th>\n",
       "      <th rowspan=\"5\" valign=\"top\">0.512725</th>\n",
       "      <th>\\tDogecoin has gained over 100% in the last ten days as bulls rub their hands in glee for even larger gains.\\n\\tThe price rally has been attributed to Elon Musk’s acquisition of Twitter, with some speculating that DOGE will be integrated into the platform.\\n\\tDOGE short traders suffered liquidations in excess of 50 million over the weekend during the meteoric rally.\\nAfter several months in the doldrums of lethargic price movements, Dogecoin bucked the trend over the weekend, and enthusiasts have Elon Musk to thank for the spike.\\nLast week, Elon Musk’s purchase of microblogging site Twitter became official in a $44 billion deal that created ripples of excitement throughout the digital assets industry. The effect of the sale was visible in the price movement of Dogecoin (DOGE) as it climbed to its highest point in five months.\\nDays after sealing the deal, DOGE gained 106% to reach $0.1494 in a blistering move, and only seven days earlier, the asset was hovering at the $0.0588 mark. The market capitalization for DOGE surpassed Cardano and Solana over the weekend and pegged at $16.5 billion, while trading volumes in the last 24 hours are well above $6 billion.\\nAccording to data from on-chain analysis firm IntoTheBlock, the rally has put 62% of all DOGE holders in the green. For short sellers, the rally led to over 50 million worth of liquidations in the futures market during the unexpected short squeeze.\\nEven bigger numbers for DOGE\\nThe new run has triggered renewed faith amongst enthusiasts that DOGE can surpass the $1 mark for the first time in its history. While it may appear to be a long shot, DOGE has several factors working for it that analysts say would be instrumental in reaching new highs.\\nAdvertisement  \\nFirst is the multiple reports that Musk’s Twitter could integrate DOGE as an option for tipping creators on the site.\\n“Now that Twitter is in the hands of Elon Musk I can see a real possibility that doge will somehow merge with the platform,” said Charles Hoskinson, Cardano’s founder. \\nOther accounts have shared a similar opinion with Matt Wallace, noting that integrating DOGE with Twitter will “showcase to the entire world what Dogecoin is capable of!”\\nMusk’s affinity with Dogecoin has been a long-running affair that peaked in 2021. The Tesla CEO had utilized his Twitter account to share Doge-related memes and appeared on Saturday Night Live to seemingly “promote” the asset.\\nIn Jan 2022, Musk took things up a notch by announcing that Tesla customers can use DOGE to pay for merchandise and hinted that SpaceX could toe the same path in the coming months.\\n</th>\n",
       "      <td>1</td>\n",
       "    </tr>\n",
       "    <tr>\n",
       "      <th>\\tHelium Network has announced its partnership with Solana Saga crypto phones.\\n\\tUnder the new partnership, Solana Saga phones are all set to be powered by Helium Network’s newly launched 5G carrier services.\\nSolana’s widely anticipated Solana Saga phone has announced its partnership with newly launched Helium wireless carrier services.\\nThe said collaboration will permit Solana Saga phones to access Helium’s seamless wireless carrier services, which will offer unlimited calling and messaging to users for up to 30 days.\\nHelium Network x Solana Saga\\nThe founder of Helium Network, Nova Labs, had earlier announced its newest venture, dubbed “Helium Mobile,” with an intention to offer seamless 5G services to its customers residing in the US. The venture is still in its early stages of development and is due to launch in 2023.\\n\\nAs per the new details, the network is all set to expand its base up a notch and has recently announced a new collaboration with Solana Saga, a smartphone built by the Solana blockchain team.\\nAccording to a new announcement, the upcoming Solana Saga phones will be powered by Helium carrier service that will permit users to access the network’s newly launched 5G services. The announcement was made at Solana’s Breakpoint Conference in Lisbon earlier today.\\nHelium Network’s 5G services will also offer a free 30-day trial to its users based in the United States. Under the free trial rule, users will be able to make unlimited calls to their friends and family, followed by the option to send unlimited texts to anyone for a period of 30 days.\\nIn an interview with Decrypt, Helium Network’s representative clarified that users will not be mandated to opt for Helium Network’s 5G services to use their Solana Saga phones; they can also select other carrier services as per their choice and preference.\\n“Not only will this partnership ultimately drive usage to the Helium Network, but Saga customers who sign up for Helium Mobile will be able to have a seamless and integrated user experience and could earn crypto rewards for using their cell service.” Boris Renski, general manager of Wireless Nova Labs, told Decrypt\\nThe Solana Saga phone is dubbed one of the most widely anticipated smartphone launches of 2023. According to the official statement released by Solana, Saga smartphones will comprise “unique functionality and features tightly integrated with the Solana blockchain, making it easy and secure to transact in Web3 and manage digital assets, such as tokens and NFTs.”\\n</th>\n",
       "      <td>1</td>\n",
       "    </tr>\n",
       "    <tr>\n",
       "      <th>\\n.\\n@Meta\\n has selected \\n@0xpolygon\\n for minting digital collectables \\n\\nFor the 1st time ever, \\n@Meta\\n is empowering creators to mint &amp; sell \\n@0xpolygon\\n powered digital collectibles on &amp; off \\n@instagram\\n \\n</th>\n",
       "      <td>1</td>\n",
       "    </tr>\n",
       "    <tr>\n",
       "      <th>\\nXRP is experiencing sustained buying pressure sparking a short-term rally amid the ongoing case with the Securities Exchange Commission (SEC) and Ripple Labs. Notably, the gains are correlated with events deemed positive for the prospects of Ripple in the high-profile case. \\n\\nIndeed, by press time as of November 4, XRP was trading at $0.489, recording gains of almost 8% in the last 24 hours. The daily chart indicates that the token peaked at $0.5 before retracing, according to CoinMarketCap data. \\n\\nXRP one-day price chart. Source: CoinMarketCap\\nAdditionally, XRP could be poised to extend the rally if the token successfully breaks past and sustains the key $0.5 resistance level. In this line, if the token moves to retest the $0.55 barrier, it will likely hit the $0.60 mark putting the next target at $1. \\nElsewhere, the rally has been inspired by growing investor confidence, as reflected in the market capitalization. By press time, the asset controlled a market cap of $24.52 billion, adding over $1.62 billion within 24 hours. \\n\\nXRP one-day market cap chart. Source: CoinMarketCap\\nRipple receives industry support\\n\\n\\n\\n\\n\\nIn general, the spike in value for XRP centers around the SEC case after Ripple continued to receive support from different entities. In particular, on November 4, Ripple CEO Brad Garlinghouse revealed that at least 12 entities involving developers, exchanges, associations, and investors were officially supporting the firm in the case. \\nSome entities to express support for XRP include crypto exchange Coinbase, the Chamber of Digital Commerce, the Crypto Council for Innovation, the Blockchain Association, Investor Choice Advocates Network (ICAN), and over 75,000 XRP holders. \\nSEC’s motion \\nInterestingly, the industry support comes as legal experts increasingly stated that the case where Ripple is accused of issuing XRP in violation of the SEC might be ruled in favor of the fintech firm. Such a scenario could be bullish for XRP and the general crypto market. \\nFurthermore, the support for Ripple follows the November 3 SEC motion to extend the time to file all reply briefs until November 30. The regulator called on the presiding judge Analisa Torres to rule that any additional amicus briefs be filed by November 11.</th>\n",
       "      <td>1</td>\n",
       "    </tr>\n",
       "    <tr>\n",
       "      <th>Margin trading and futures are used in cryptocurrency to multiply gains. Here’s what you need to know about these tools, how they work, and their differences.</th>\n",
       "      <td>1</td>\n",
       "    </tr>\n",
       "    <tr>\n",
       "      <th>...</th>\n",
       "      <th>...</th>\n",
       "      <th>...</th>\n",
       "      <td>...</td>\n",
       "    </tr>\n",
       "    <tr>\n",
       "      <th rowspan=\"5\" valign=\"top\">2</th>\n",
       "      <th rowspan=\"5\" valign=\"top\">0.190868</th>\n",
       "      <th>With its partial autonomy, the island city of Hong Kong has traditionally served as a gate to China, but with crypto, there is a catch.</th>\n",
       "      <td>1</td>\n",
       "    </tr>\n",
       "    <tr>\n",
       "      <th>Zamsino Crypto Casino Metaverse, a blockchain-based virtual casino metaverse, is set to change how token-based crypto casinos work, and the project is set to launch in Q3 next year. Built on the Ethereum blockchain, players can build and monetise their own casino games in this virtual world with rewards for playing and earning revenue from...</th>\n",
       "      <td>1</td>\n",
       "    </tr>\n",
       "    <tr>\n",
       "      <th>[Crypto News]💸 BYBIT 0% Maker Fees &amp; $30,030 BONUS 👉 https://cryptolark.co/BYBIT🔥 GET MY FREE INVESTOR REPORT 👉 https://cryptolark.co/WEALTHMASTERY#bitcoin #crypto #investing 🌟🌟🌟 BEST EXCHANGES TO BUY CRYPTO 🌟🌟🌟💰 BINANCE: BEST EXCHANGE FOR BUYING CRYPTO IN THE WORLD👉 10% OFF FEES &amp; $600 BONUS ►► https://cryptolark.co/10📺  BINANCE TUTORIAL: https://www.youtube.com/watch?v=2tZ6sEyx56s🐙 USA #1 EXCHANGE TO BUY AND SELL CRYPTO👉 BUY BITCOIN ON KRAKEN ►►  http://cryptolark.co/KRAKENBTC🚀🚀🚀 BEST EXCHANGES TO TRADE CRYPTO 🚀🚀🚀🥇 BYBIT: BTC FUTURES TRADING EXCHANGE 👉 0% SPOT FEES AND $30,030 IN BONUSES ►► https://cryptolark.co/BYBIT100 📺  BYBIT TUTORIAL: https://youtu.be/mw3sAX6XdDE🥈 PHEMEX: BTC FUTURES TRADING 👉  10% OFF FEES $3,600 SIGN UP BONUS ►► https://cryptolark.co/PHEMEX ⚜️⚜️⚜️ TOP CRYPTO SERVICES &amp; PRODUCTS ⚜️⚜️⚜️🤵 NUMBER ONE BROKER - PROFESSIONAL PERSONAL WEALTH MANAGEMENT👉 CALEB &amp; BROWN  - 30% OFF ►► https://cryptolark.co/CB🤖 NFT DOMAIN NAMES - THE HOTTEST NFTS ON THE MARKET👉 BUY ON UNSTOPPABLE DOMAINS ►► https://cryptolark.co/UNSTOPPABLE🔒 BEST CRYPTO WALLET TO KEEP YOUR ASSETS SAFE👉  BUY LEDGER WALLET HERE ►► https://cryptolark.co/LEDGERNOTE: The above are affiliate links and I receive a small comission when you use these links to start your accounts. Thank you for your support. FULL PORTFOLIO AND DISCLOSURE OF VENTURE INVESTMENTShttps://thewealthmastery.io/lark-davis-crypto-portfolio-disclosures/Subscribe for more great crypto videos https://www.youtube.com/channel/UCl2oCaw8hdR_kbqyqd2klIAESSENTIAL VIEWINGSecurity Tips https://www.youtube.com/watch?v=-qRpW20AB8k&amp;t=2sTake Profits https://www.youtube.com/watch?v=4ej6Uiynyso&amp;t=5sBinance Tutorial https://www.youtube.com/watch?v=2tZ6sEyx56s&amp;t=5sBybit Tutorial https://www.youtube.com/watch?v=mw3sAX6XdDEWatch more great crypto videos on this playlist https://www.youtube.com/watch?v=LAPH8BB2eoo&amp;list=PLzaAzw5kr19jXML35T1FaxwGAgbLJdhg0DisclaimerEverything expressed here is my opinion and not official investment advice - please do your own research before risking your own money. Lark Davis (The Crypto Lark) is not providing you individually tailored investment advice. Nor is The Crypto Lark registered to provide investment advice, is not a financial adviser, and is not a broker-dealer. The material provided is for educational purposes only. The Crypto Lark is not responsible for any gains or losses that result from your cryptocurrency investments. Investing in cryptocurrency involves a high degree of risk and should be considered only by persons who can afford to sustain a loss of their entire investment. Investors should consult their financial adviser before investing in cryptocurrency.</th>\n",
       "      <td>1</td>\n",
       "    </tr>\n",
       "    <tr>\n",
       "      <th>✴︎ Sign Up Here for the CT Club! https://patreon.com/cryptotips✴︎ Join our Public Discord Channels Here: https://discord.gg/Hseq2nkeHr✴︎Ledger hardware wallets 👉 https://shop.ledger.com/pages/ledger-nano-x/?r=67ef✴︎Trezor hardware wallet 👉 https://shop.trezor.io/?offer_id=10&amp;aff_id=10937✴︎Buy Gift Cards with Your Crypto! 👉 https://www.bitrefill.com/signup?code=47y2uwl4✴︎Begin Trading with Tradingview 👉 https://www.tradingview.com/gopro/?share_your_love=RealCryptoTips✴︎Heidi Twitter: https://twitter.com/blockchainchick✴︎Toby Twitter: https://twitter.com/sircryptotips✴︎TicToc: https://www.tiktok.com/@realcryptotips✴︎Instagram: https://www.instagram.com/realcryptotips/ ✴︎LBRY: https://lbry.tv/@Crypto-Tips:b Video Suggestions for Beginners to Crypto: - When did Crypto Start?: youtu.be/rd5gv6X70ew- Why Bitcoin?: youtu.be/GVwWwWUj3NU- 3 Mistakes to Avoid When Storing Cryptos: https://www.youtube.com/watch?v=rhhu3Uh8iHE- If Your Hardware Wallet is Lost or Stolen: youtu.be/KTIDY7kYSIQ- Complete Guide to Ledger Nano X: youtu.be/PC60Ju_iMQE- Proper Introduction to Crypto Exchanges: youtube.com/watch?v=91f-QNSmzrA- 3 Things You Should Never Do on a Crypto Exchange: youtu.be/pgZP-voLGpE- 5 Things Crypto Exchanges Don't Want You to Know: youtu.be/_VcdEovm8u8- My Recommendations for Centralized Exchanges: youtu.be/kCYj2tdYufE- My Recommendations for Decentralized Exchanges (DEX): youtu.be/AMsp3knAfBs- Calling Out Fake DEXs: youtu.be/h_cZyGqjKrs- Why is DeFi the Hottest Topic in Crypto?: youtu.be/mqdD_2rX4-0- Without This, Crypto Won't Survive: youtu.be/Jg-zk_Nhpq0- How To Use the Most Popular Privacy Coins: youtu.be/WLckSKzFp</th>\n",
       "      <td>1</td>\n",
       "    </tr>\n",
       "    <tr>\n",
       "      <th>🟢 10X Your Trades w/ Our Strategies: https://elite.readyset.trade/🟡 Beat The Market w/ On-Chain Analysis: https://www.readyset.vision/🔴 Discuss Crypto w/ The RSC Community: https://discord.gg/F4HqbmN👉 See Doc's latest Market Minute here!: https://www.youtube.com/watch?v=rA2cUpO2as4🚀 SPECIAL 21% OFF Our OMNIA Analysis Service: http://readysetcrypto.com/2021👫 Our Second Channel: https://bit.ly/3eG8vML👫 Twitter: https://twitter.com/readysetcrypto/👫 Instagram: https://www.instagram.com/readysetcrypto/👫 Facebook: https://www.facebook.com/readysetcrypto/** Statements on this site do not represent the views or policies of anyone other than myself. The information on this site is provided for discussion purposes only, and are not investing recommendations. Under no circumstances does this information represent a recommendation to buy or sell securities.#crypto #altcoin #nft</th>\n",
       "      <td>1</td>\n",
       "    </tr>\n",
       "  </tbody>\n",
       "</table>\n",
       "<p>1336 rows × 1 columns</p>\n",
       "</div>"
      ],
      "text/plain": [
       "                                                                   News value\n",
       "label ratio    description                                                   \n",
       "0     0.512725 \\tDogecoin has gained over 100% in the last ten...           1\n",
       "               \\tHelium Network has announced its partnership ...           1\n",
       "               \\n.\\n@Meta\\n has selected \\n@0xpolygon\\n for mi...           1\n",
       "               \\nXRP is experiencing sustained buying pressure...           1\n",
       "                                       Margin trading and futu...           1\n",
       "...                                                                       ...\n",
       "2     0.190868 With its partial autonomy, the island city of H...           1\n",
       "               Zamsino Crypto Casino Metaverse, a blockchain-b...           1\n",
       "               [Crypto News]💸 BYBIT 0% Maker Fees & $30,030 BO...           1\n",
       "               ✴︎ Sign Up Here for the CT Club! https://patreo...           1\n",
       "               🟢 10X Your Trades w/ Our Strategies: https://el...           1\n",
       "\n",
       "[1336 rows x 1 columns]"
      ]
     },
     "execution_count": 160,
     "metadata": {},
     "output_type": "execute_result"
    }
   ],
   "source": [
    "flat_labels_count_data = labels_count_data.reset_index()\n",
    "for i in assign_ratio.index:\n",
    "    flat_labels_count_data.loc[flat_labels_count_data['label'] == i, 'ratio'] = assign_ratio.loc[i]\n",
    "flat_labels_count_data.groupby(['label', 'ratio', 'description']).first(5)"
   ]
  },
  {
   "cell_type": "code",
   "execution_count": 161,
   "id": "ae004ed6",
   "metadata": {},
   "outputs": [
    {
     "data": {
      "text/html": [
       "<div>\n",
       "<style scoped>\n",
       "    .dataframe tbody tr th:only-of-type {\n",
       "        vertical-align: middle;\n",
       "    }\n",
       "\n",
       "    .dataframe tbody tr th {\n",
       "        vertical-align: top;\n",
       "    }\n",
       "\n",
       "    .dataframe thead th {\n",
       "        text-align: right;\n",
       "    }\n",
       "</style>\n",
       "<table border=\"1\" class=\"dataframe\">\n",
       "  <thead>\n",
       "    <tr style=\"text-align: right;\">\n",
       "      <th></th>\n",
       "      <th>word</th>\n",
       "      <th>tfidf</th>\n",
       "      <th>label</th>\n",
       "    </tr>\n",
       "  </thead>\n",
       "  <tbody>\n",
       "    <tr>\n",
       "      <th>0</th>\n",
       "      <td>million</td>\n",
       "      <td>1.0</td>\n",
       "      <td>1</td>\n",
       "    </tr>\n",
       "    <tr>\n",
       "      <th>1</th>\n",
       "      <td>btc</td>\n",
       "      <td>1.0</td>\n",
       "      <td>1</td>\n",
       "    </tr>\n",
       "    <tr>\n",
       "      <th>2</th>\n",
       "      <td>time</td>\n",
       "      <td>1.0</td>\n",
       "      <td>1</td>\n",
       "    </tr>\n",
       "    <tr>\n",
       "      <th>3</th>\n",
       "      <td>bitcoin</td>\n",
       "      <td>1.0</td>\n",
       "      <td>1</td>\n",
       "    </tr>\n",
       "    <tr>\n",
       "      <th>4</th>\n",
       "      <td>mining</td>\n",
       "      <td>1.0</td>\n",
       "      <td>1</td>\n",
       "    </tr>\n",
       "    <tr>\n",
       "      <th>...</th>\n",
       "      <td>...</td>\n",
       "      <td>...</td>\n",
       "      <td>...</td>\n",
       "    </tr>\n",
       "    <tr>\n",
       "      <th>195</th>\n",
       "      <td>crypto</td>\n",
       "      <td>1.0</td>\n",
       "      <td>2</td>\n",
       "    </tr>\n",
       "    <tr>\n",
       "      <th>196</th>\n",
       "      <td>ftx</td>\n",
       "      <td>1.0</td>\n",
       "      <td>2</td>\n",
       "    </tr>\n",
       "    <tr>\n",
       "      <th>197</th>\n",
       "      <td>blockchain</td>\n",
       "      <td>1.0</td>\n",
       "      <td>2</td>\n",
       "    </tr>\n",
       "    <tr>\n",
       "      <th>198</th>\n",
       "      <td>crypto</td>\n",
       "      <td>1.0</td>\n",
       "      <td>2</td>\n",
       "    </tr>\n",
       "    <tr>\n",
       "      <th>199</th>\n",
       "      <td>market</td>\n",
       "      <td>1.0</td>\n",
       "      <td>2</td>\n",
       "    </tr>\n",
       "  </tbody>\n",
       "</table>\n",
       "<p>600 rows × 3 columns</p>\n",
       "</div>"
      ],
      "text/plain": [
       "           word  tfidf  label\n",
       "0       million    1.0      1\n",
       "1           btc    1.0      1\n",
       "2          time    1.0      1\n",
       "3       bitcoin    1.0      1\n",
       "4        mining    1.0      1\n",
       "..          ...    ...    ...\n",
       "195      crypto    1.0      2\n",
       "196         ftx    1.0      2\n",
       "197  blockchain    1.0      2\n",
       "198      crypto    1.0      2\n",
       "199      market    1.0      2\n",
       "\n",
       "[600 rows x 3 columns]"
      ]
     },
     "execution_count": 161,
     "metadata": {},
     "output_type": "execute_result"
    }
   ],
   "source": [
    "viz_data = to_viz_data(data, tfidf_data, data['label'].unique())\n",
    "viz_data"
   ]
  },
  {
   "cell_type": "code",
   "execution_count": 174,
   "id": "cd83b2d4",
   "metadata": {},
   "outputs": [],
   "source": [
    "def visualize_clusters(viz_data):\n",
    "    viz_data = viz_data.copy()\n",
    "    viz_data['label'] += np.abs(viz_data['label'].min())\n",
    "    viz_data = viz_data.sort_values('label').groupby('label').head(10)\n",
    "    fig = px.scatter(viz_data, x='label', y='tfidf', color='label', text='word', hover_data=['label', 'tfidf', 'word'])\n",
    "    fig.update_layout(\n",
    "        font=dict(\n",
    "            family='Courier New, monospace',\n",
    "            size=18,  # Set the font size here\n",
    "            color='black'\n",
    "        ),\n",
    "        xaxis = dict(\n",
    "            tickmode = 'linear',\n",
    "            tick0 = 0,\n",
    "            dtick = 1\n",
    "        ),\n",
    "        yaxis = dict(\n",
    "            tickmode = 'linear',\n",
    "            tick0 = 0,\n",
    "            dtick = 0.05\n",
    "        )\n",
    "    )\n",
    "    fig.update_traces(mode='text', selector=dict(type='scatter'), textfont_size=(viz_data['tfidf'] * 10 ** 1.5).values)\n",
    "    fig.for_each_trace(lambda t: t.update(textfont_color=np.array(px.colors.qualitative.Dark24)[t.marker.color], textposition='bottom center'))\n",
    "    fig.show()"
   ]
  },
  {
   "cell_type": "code",
   "execution_count": 175,
   "id": "c264b4ea",
   "metadata": {},
   "outputs": [
    {
     "data": {
      "application/vnd.plotly.v1+json": {
       "config": {
        "plotlyServerURL": "https://plot.ly"
       },
       "data": [
        {
         "customdata": [
          [
           "exchange"
          ],
          [
           "according"
          ],
          [
           "bitcoin"
          ],
          [
           "twitter"
          ],
          [
           "data"
          ],
          [
           "ftx"
          ],
          [
           "eth"
          ],
          [
           "bitcoin"
          ],
          [
           "bitcoin"
          ],
          [
           "million"
          ],
          [
           "million"
          ],
          [
           "bearish"
          ],
          [
           "bitcoin"
          ],
          [
           "analyst"
          ],
          [
           "price"
          ],
          [
           "last"
          ],
          [
           "btc"
          ],
          [
           "mining"
          ],
          [
           "analyst"
          ],
          [
           "bitcoin"
          ],
          [
           "million"
          ],
          [
           "crypto"
          ],
          [
           "users"
          ],
          [
           "crypto"
          ],
          [
           "year"
          ],
          [
           "cryptocurrency"
          ],
          [
           "users"
          ],
          [
           "crypto"
          ],
          [
           "week"
          ],
          [
           "us"
          ]
         ],
         "hovertemplate": "label=%{marker.color}<br>tfidf=%{y}<br>word=%{customdata[0]}<extra></extra>",
         "legendgroup": "",
         "marker": {
          "color": [
           0,
           0,
           0,
           0,
           0,
           0,
           0,
           0,
           0,
           0,
           1,
           1,
           1,
           1,
           1,
           1,
           1,
           1,
           1,
           1,
           2,
           2,
           2,
           2,
           2,
           2,
           2,
           2,
           2,
           2
          ],
          "coloraxis": "coloraxis",
          "symbol": "circle"
         },
         "mode": "text",
         "name": "",
         "orientation": "v",
         "showlegend": false,
         "text": [
          "exchange",
          "according",
          "bitcoin",
          "twitter",
          "data",
          "ftx",
          "eth",
          "bitcoin",
          "bitcoin",
          "million",
          "million",
          "bearish",
          "bitcoin",
          "analyst",
          "price",
          "last",
          "btc",
          "mining",
          "analyst",
          "bitcoin",
          "million",
          "crypto",
          "users",
          "crypto",
          "year",
          "cryptocurrency",
          "users",
          "crypto",
          "week",
          "us"
         ],
         "textfont": {
          "color": [
           "#2E91E5",
           "#2E91E5",
           "#2E91E5",
           "#2E91E5",
           "#2E91E5",
           "#2E91E5",
           "#2E91E5",
           "#2E91E5",
           "#2E91E5",
           "#2E91E5",
           "#E15F99",
           "#E15F99",
           "#E15F99",
           "#E15F99",
           "#E15F99",
           "#E15F99",
           "#E15F99",
           "#E15F99",
           "#E15F99",
           "#E15F99",
           "#1CA71C",
           "#1CA71C",
           "#1CA71C",
           "#1CA71C",
           "#1CA71C",
           "#1CA71C",
           "#1CA71C",
           "#1CA71C",
           "#1CA71C",
           "#1CA71C"
          ],
          "size": [
           31.622776601683793,
           31.622776601683793,
           31.622776601683793,
           31.622776601683793,
           31.622776601683793,
           31.622776601683793,
           31.622776601683793,
           31.622776601683793,
           31.622776601683793,
           31.622776601683793,
           31.622776601683793,
           28.063198729027118,
           31.622776601683793,
           31.622776601683793,
           31.622776601683793,
           31.622776601683793,
           31.622776601683793,
           31.622776601683793,
           31.622776601683793,
           31.622776601683793,
           31.622776601683793,
           31.622776601683793,
           31.622776601683793,
           31.622776601683793,
           31.622776601683793,
           31.622776601683793,
           31.622776601683793,
           31.622776601683793,
           31.622776601683793,
           31.622776601683793
          ]
         },
         "textposition": "bottom center",
         "type": "scatter",
         "x": [
          0,
          0,
          0,
          0,
          0,
          0,
          0,
          0,
          0,
          0,
          1,
          1,
          1,
          1,
          1,
          1,
          1,
          1,
          1,
          1,
          2,
          2,
          2,
          2,
          2,
          2,
          2,
          2,
          2,
          2
         ],
         "xaxis": "x",
         "y": [
          1,
          1,
          1,
          1,
          1,
          1,
          1,
          1,
          1,
          1,
          1,
          0.8874362641366811,
          1,
          1,
          1,
          1,
          1,
          1,
          1,
          1,
          1,
          1,
          1,
          1,
          1,
          1,
          1,
          1,
          1,
          1
         ],
         "yaxis": "y"
        }
       ],
       "layout": {
        "coloraxis": {
         "colorbar": {
          "title": {
           "text": "label"
          }
         },
         "colorscale": [
          [
           0,
           "#0d0887"
          ],
          [
           0.1111111111111111,
           "#46039f"
          ],
          [
           0.2222222222222222,
           "#7201a8"
          ],
          [
           0.3333333333333333,
           "#9c179e"
          ],
          [
           0.4444444444444444,
           "#bd3786"
          ],
          [
           0.5555555555555556,
           "#d8576b"
          ],
          [
           0.6666666666666666,
           "#ed7953"
          ],
          [
           0.7777777777777778,
           "#fb9f3a"
          ],
          [
           0.8888888888888888,
           "#fdca26"
          ],
          [
           1,
           "#f0f921"
          ]
         ]
        },
        "font": {
         "color": "black",
         "family": "Courier New, monospace",
         "size": 18
        },
        "legend": {
         "tracegroupgap": 0
        },
        "margin": {
         "t": 60
        },
        "template": {
         "data": {
          "bar": [
           {
            "error_x": {
             "color": "#2a3f5f"
            },
            "error_y": {
             "color": "#2a3f5f"
            },
            "marker": {
             "line": {
              "color": "#E5ECF6",
              "width": 0.5
             },
             "pattern": {
              "fillmode": "overlay",
              "size": 10,
              "solidity": 0.2
             }
            },
            "type": "bar"
           }
          ],
          "barpolar": [
           {
            "marker": {
             "line": {
              "color": "#E5ECF6",
              "width": 0.5
             },
             "pattern": {
              "fillmode": "overlay",
              "size": 10,
              "solidity": 0.2
             }
            },
            "type": "barpolar"
           }
          ],
          "carpet": [
           {
            "aaxis": {
             "endlinecolor": "#2a3f5f",
             "gridcolor": "white",
             "linecolor": "white",
             "minorgridcolor": "white",
             "startlinecolor": "#2a3f5f"
            },
            "baxis": {
             "endlinecolor": "#2a3f5f",
             "gridcolor": "white",
             "linecolor": "white",
             "minorgridcolor": "white",
             "startlinecolor": "#2a3f5f"
            },
            "type": "carpet"
           }
          ],
          "choropleth": [
           {
            "colorbar": {
             "outlinewidth": 0,
             "ticks": ""
            },
            "type": "choropleth"
           }
          ],
          "contour": [
           {
            "colorbar": {
             "outlinewidth": 0,
             "ticks": ""
            },
            "colorscale": [
             [
              0,
              "#0d0887"
             ],
             [
              0.1111111111111111,
              "#46039f"
             ],
             [
              0.2222222222222222,
              "#7201a8"
             ],
             [
              0.3333333333333333,
              "#9c179e"
             ],
             [
              0.4444444444444444,
              "#bd3786"
             ],
             [
              0.5555555555555556,
              "#d8576b"
             ],
             [
              0.6666666666666666,
              "#ed7953"
             ],
             [
              0.7777777777777778,
              "#fb9f3a"
             ],
             [
              0.8888888888888888,
              "#fdca26"
             ],
             [
              1,
              "#f0f921"
             ]
            ],
            "type": "contour"
           }
          ],
          "contourcarpet": [
           {
            "colorbar": {
             "outlinewidth": 0,
             "ticks": ""
            },
            "type": "contourcarpet"
           }
          ],
          "heatmap": [
           {
            "colorbar": {
             "outlinewidth": 0,
             "ticks": ""
            },
            "colorscale": [
             [
              0,
              "#0d0887"
             ],
             [
              0.1111111111111111,
              "#46039f"
             ],
             [
              0.2222222222222222,
              "#7201a8"
             ],
             [
              0.3333333333333333,
              "#9c179e"
             ],
             [
              0.4444444444444444,
              "#bd3786"
             ],
             [
              0.5555555555555556,
              "#d8576b"
             ],
             [
              0.6666666666666666,
              "#ed7953"
             ],
             [
              0.7777777777777778,
              "#fb9f3a"
             ],
             [
              0.8888888888888888,
              "#fdca26"
             ],
             [
              1,
              "#f0f921"
             ]
            ],
            "type": "heatmap"
           }
          ],
          "heatmapgl": [
           {
            "colorbar": {
             "outlinewidth": 0,
             "ticks": ""
            },
            "colorscale": [
             [
              0,
              "#0d0887"
             ],
             [
              0.1111111111111111,
              "#46039f"
             ],
             [
              0.2222222222222222,
              "#7201a8"
             ],
             [
              0.3333333333333333,
              "#9c179e"
             ],
             [
              0.4444444444444444,
              "#bd3786"
             ],
             [
              0.5555555555555556,
              "#d8576b"
             ],
             [
              0.6666666666666666,
              "#ed7953"
             ],
             [
              0.7777777777777778,
              "#fb9f3a"
             ],
             [
              0.8888888888888888,
              "#fdca26"
             ],
             [
              1,
              "#f0f921"
             ]
            ],
            "type": "heatmapgl"
           }
          ],
          "histogram": [
           {
            "marker": {
             "pattern": {
              "fillmode": "overlay",
              "size": 10,
              "solidity": 0.2
             }
            },
            "type": "histogram"
           }
          ],
          "histogram2d": [
           {
            "colorbar": {
             "outlinewidth": 0,
             "ticks": ""
            },
            "colorscale": [
             [
              0,
              "#0d0887"
             ],
             [
              0.1111111111111111,
              "#46039f"
             ],
             [
              0.2222222222222222,
              "#7201a8"
             ],
             [
              0.3333333333333333,
              "#9c179e"
             ],
             [
              0.4444444444444444,
              "#bd3786"
             ],
             [
              0.5555555555555556,
              "#d8576b"
             ],
             [
              0.6666666666666666,
              "#ed7953"
             ],
             [
              0.7777777777777778,
              "#fb9f3a"
             ],
             [
              0.8888888888888888,
              "#fdca26"
             ],
             [
              1,
              "#f0f921"
             ]
            ],
            "type": "histogram2d"
           }
          ],
          "histogram2dcontour": [
           {
            "colorbar": {
             "outlinewidth": 0,
             "ticks": ""
            },
            "colorscale": [
             [
              0,
              "#0d0887"
             ],
             [
              0.1111111111111111,
              "#46039f"
             ],
             [
              0.2222222222222222,
              "#7201a8"
             ],
             [
              0.3333333333333333,
              "#9c179e"
             ],
             [
              0.4444444444444444,
              "#bd3786"
             ],
             [
              0.5555555555555556,
              "#d8576b"
             ],
             [
              0.6666666666666666,
              "#ed7953"
             ],
             [
              0.7777777777777778,
              "#fb9f3a"
             ],
             [
              0.8888888888888888,
              "#fdca26"
             ],
             [
              1,
              "#f0f921"
             ]
            ],
            "type": "histogram2dcontour"
           }
          ],
          "mesh3d": [
           {
            "colorbar": {
             "outlinewidth": 0,
             "ticks": ""
            },
            "type": "mesh3d"
           }
          ],
          "parcoords": [
           {
            "line": {
             "colorbar": {
              "outlinewidth": 0,
              "ticks": ""
             }
            },
            "type": "parcoords"
           }
          ],
          "pie": [
           {
            "automargin": true,
            "type": "pie"
           }
          ],
          "scatter": [
           {
            "marker": {
             "colorbar": {
              "outlinewidth": 0,
              "ticks": ""
             }
            },
            "type": "scatter"
           }
          ],
          "scatter3d": [
           {
            "line": {
             "colorbar": {
              "outlinewidth": 0,
              "ticks": ""
             }
            },
            "marker": {
             "colorbar": {
              "outlinewidth": 0,
              "ticks": ""
             }
            },
            "type": "scatter3d"
           }
          ],
          "scattercarpet": [
           {
            "marker": {
             "colorbar": {
              "outlinewidth": 0,
              "ticks": ""
             }
            },
            "type": "scattercarpet"
           }
          ],
          "scattergeo": [
           {
            "marker": {
             "colorbar": {
              "outlinewidth": 0,
              "ticks": ""
             }
            },
            "type": "scattergeo"
           }
          ],
          "scattergl": [
           {
            "marker": {
             "colorbar": {
              "outlinewidth": 0,
              "ticks": ""
             }
            },
            "type": "scattergl"
           }
          ],
          "scattermapbox": [
           {
            "marker": {
             "colorbar": {
              "outlinewidth": 0,
              "ticks": ""
             }
            },
            "type": "scattermapbox"
           }
          ],
          "scatterpolar": [
           {
            "marker": {
             "colorbar": {
              "outlinewidth": 0,
              "ticks": ""
             }
            },
            "type": "scatterpolar"
           }
          ],
          "scatterpolargl": [
           {
            "marker": {
             "colorbar": {
              "outlinewidth": 0,
              "ticks": ""
             }
            },
            "type": "scatterpolargl"
           }
          ],
          "scatterternary": [
           {
            "marker": {
             "colorbar": {
              "outlinewidth": 0,
              "ticks": ""
             }
            },
            "type": "scatterternary"
           }
          ],
          "surface": [
           {
            "colorbar": {
             "outlinewidth": 0,
             "ticks": ""
            },
            "colorscale": [
             [
              0,
              "#0d0887"
             ],
             [
              0.1111111111111111,
              "#46039f"
             ],
             [
              0.2222222222222222,
              "#7201a8"
             ],
             [
              0.3333333333333333,
              "#9c179e"
             ],
             [
              0.4444444444444444,
              "#bd3786"
             ],
             [
              0.5555555555555556,
              "#d8576b"
             ],
             [
              0.6666666666666666,
              "#ed7953"
             ],
             [
              0.7777777777777778,
              "#fb9f3a"
             ],
             [
              0.8888888888888888,
              "#fdca26"
             ],
             [
              1,
              "#f0f921"
             ]
            ],
            "type": "surface"
           }
          ],
          "table": [
           {
            "cells": {
             "fill": {
              "color": "#EBF0F8"
             },
             "line": {
              "color": "white"
             }
            },
            "header": {
             "fill": {
              "color": "#C8D4E3"
             },
             "line": {
              "color": "white"
             }
            },
            "type": "table"
           }
          ]
         },
         "layout": {
          "annotationdefaults": {
           "arrowcolor": "#2a3f5f",
           "arrowhead": 0,
           "arrowwidth": 1
          },
          "autotypenumbers": "strict",
          "coloraxis": {
           "colorbar": {
            "outlinewidth": 0,
            "ticks": ""
           }
          },
          "colorscale": {
           "diverging": [
            [
             0,
             "#8e0152"
            ],
            [
             0.1,
             "#c51b7d"
            ],
            [
             0.2,
             "#de77ae"
            ],
            [
             0.3,
             "#f1b6da"
            ],
            [
             0.4,
             "#fde0ef"
            ],
            [
             0.5,
             "#f7f7f7"
            ],
            [
             0.6,
             "#e6f5d0"
            ],
            [
             0.7,
             "#b8e186"
            ],
            [
             0.8,
             "#7fbc41"
            ],
            [
             0.9,
             "#4d9221"
            ],
            [
             1,
             "#276419"
            ]
           ],
           "sequential": [
            [
             0,
             "#0d0887"
            ],
            [
             0.1111111111111111,
             "#46039f"
            ],
            [
             0.2222222222222222,
             "#7201a8"
            ],
            [
             0.3333333333333333,
             "#9c179e"
            ],
            [
             0.4444444444444444,
             "#bd3786"
            ],
            [
             0.5555555555555556,
             "#d8576b"
            ],
            [
             0.6666666666666666,
             "#ed7953"
            ],
            [
             0.7777777777777778,
             "#fb9f3a"
            ],
            [
             0.8888888888888888,
             "#fdca26"
            ],
            [
             1,
             "#f0f921"
            ]
           ],
           "sequentialminus": [
            [
             0,
             "#0d0887"
            ],
            [
             0.1111111111111111,
             "#46039f"
            ],
            [
             0.2222222222222222,
             "#7201a8"
            ],
            [
             0.3333333333333333,
             "#9c179e"
            ],
            [
             0.4444444444444444,
             "#bd3786"
            ],
            [
             0.5555555555555556,
             "#d8576b"
            ],
            [
             0.6666666666666666,
             "#ed7953"
            ],
            [
             0.7777777777777778,
             "#fb9f3a"
            ],
            [
             0.8888888888888888,
             "#fdca26"
            ],
            [
             1,
             "#f0f921"
            ]
           ]
          },
          "colorway": [
           "#636efa",
           "#EF553B",
           "#00cc96",
           "#ab63fa",
           "#FFA15A",
           "#19d3f3",
           "#FF6692",
           "#B6E880",
           "#FF97FF",
           "#FECB52"
          ],
          "font": {
           "color": "#2a3f5f"
          },
          "geo": {
           "bgcolor": "white",
           "lakecolor": "white",
           "landcolor": "#E5ECF6",
           "showlakes": true,
           "showland": true,
           "subunitcolor": "white"
          },
          "hoverlabel": {
           "align": "left"
          },
          "hovermode": "closest",
          "mapbox": {
           "style": "light"
          },
          "paper_bgcolor": "white",
          "plot_bgcolor": "#E5ECF6",
          "polar": {
           "angularaxis": {
            "gridcolor": "white",
            "linecolor": "white",
            "ticks": ""
           },
           "bgcolor": "#E5ECF6",
           "radialaxis": {
            "gridcolor": "white",
            "linecolor": "white",
            "ticks": ""
           }
          },
          "scene": {
           "xaxis": {
            "backgroundcolor": "#E5ECF6",
            "gridcolor": "white",
            "gridwidth": 2,
            "linecolor": "white",
            "showbackground": true,
            "ticks": "",
            "zerolinecolor": "white"
           },
           "yaxis": {
            "backgroundcolor": "#E5ECF6",
            "gridcolor": "white",
            "gridwidth": 2,
            "linecolor": "white",
            "showbackground": true,
            "ticks": "",
            "zerolinecolor": "white"
           },
           "zaxis": {
            "backgroundcolor": "#E5ECF6",
            "gridcolor": "white",
            "gridwidth": 2,
            "linecolor": "white",
            "showbackground": true,
            "ticks": "",
            "zerolinecolor": "white"
           }
          },
          "shapedefaults": {
           "line": {
            "color": "#2a3f5f"
           }
          },
          "ternary": {
           "aaxis": {
            "gridcolor": "white",
            "linecolor": "white",
            "ticks": ""
           },
           "baxis": {
            "gridcolor": "white",
            "linecolor": "white",
            "ticks": ""
           },
           "bgcolor": "#E5ECF6",
           "caxis": {
            "gridcolor": "white",
            "linecolor": "white",
            "ticks": ""
           }
          },
          "title": {
           "x": 0.05
          },
          "xaxis": {
           "automargin": true,
           "gridcolor": "white",
           "linecolor": "white",
           "ticks": "",
           "title": {
            "standoff": 15
           },
           "zerolinecolor": "white",
           "zerolinewidth": 2
          },
          "yaxis": {
           "automargin": true,
           "gridcolor": "white",
           "linecolor": "white",
           "ticks": "",
           "title": {
            "standoff": 15
           },
           "zerolinecolor": "white",
           "zerolinewidth": 2
          }
         }
        },
        "xaxis": {
         "anchor": "y",
         "domain": [
          0,
          1
         ],
         "dtick": 1,
         "tick0": 0,
         "tickmode": "linear",
         "title": {
          "text": "label"
         }
        },
        "yaxis": {
         "anchor": "x",
         "domain": [
          0,
          1
         ],
         "dtick": 0.05,
         "tick0": 0,
         "tickmode": "linear",
         "title": {
          "text": "tfidf"
         }
        }
       }
      },
      "text/html": [
       "<div>                            <div id=\"98c6a6f3-6678-4bac-9c54-1c063058ab28\" class=\"plotly-graph-div\" style=\"height:525px; width:100%;\"></div>            <script type=\"text/javascript\">                require([\"plotly\"], function(Plotly) {                    window.PLOTLYENV=window.PLOTLYENV || {};                                    if (document.getElementById(\"98c6a6f3-6678-4bac-9c54-1c063058ab28\")) {                    Plotly.newPlot(                        \"98c6a6f3-6678-4bac-9c54-1c063058ab28\",                        [{\"customdata\":[[\"exchange\"],[\"according\"],[\"bitcoin\"],[\"twitter\"],[\"data\"],[\"ftx\"],[\"eth\"],[\"bitcoin\"],[\"bitcoin\"],[\"million\"],[\"million\"],[\"bearish\"],[\"bitcoin\"],[\"analyst\"],[\"price\"],[\"last\"],[\"btc\"],[\"mining\"],[\"analyst\"],[\"bitcoin\"],[\"million\"],[\"crypto\"],[\"users\"],[\"crypto\"],[\"year\"],[\"cryptocurrency\"],[\"users\"],[\"crypto\"],[\"week\"],[\"us\"]],\"hovertemplate\":\"label=%{marker.color}<br>tfidf=%{y}<br>word=%{customdata[0]}<extra></extra>\",\"legendgroup\":\"\",\"marker\":{\"color\":[0,0,0,0,0,0,0,0,0,0,1,1,1,1,1,1,1,1,1,1,2,2,2,2,2,2,2,2,2,2],\"coloraxis\":\"coloraxis\",\"symbol\":\"circle\"},\"mode\":\"text\",\"name\":\"\",\"orientation\":\"v\",\"showlegend\":false,\"text\":[\"exchange\",\"according\",\"bitcoin\",\"twitter\",\"data\",\"ftx\",\"eth\",\"bitcoin\",\"bitcoin\",\"million\",\"million\",\"bearish\",\"bitcoin\",\"analyst\",\"price\",\"last\",\"btc\",\"mining\",\"analyst\",\"bitcoin\",\"million\",\"crypto\",\"users\",\"crypto\",\"year\",\"cryptocurrency\",\"users\",\"crypto\",\"week\",\"us\"],\"x\":[0,0,0,0,0,0,0,0,0,0,1,1,1,1,1,1,1,1,1,1,2,2,2,2,2,2,2,2,2,2],\"xaxis\":\"x\",\"y\":[1.0,1.0,1.0,1.0,1.0,1.0,1.0,1.0,1.0,1.0,1.0,0.8874362641366811,1.0,1.0,1.0,1.0,1.0,1.0,1.0,1.0,1.0,1.0,1.0,1.0,1.0,1.0,1.0,1.0,1.0,1.0],\"yaxis\":\"y\",\"type\":\"scatter\",\"textfont\":{\"size\":[31.622776601683793,31.622776601683793,31.622776601683793,31.622776601683793,31.622776601683793,31.622776601683793,31.622776601683793,31.622776601683793,31.622776601683793,31.622776601683793,31.622776601683793,28.063198729027118,31.622776601683793,31.622776601683793,31.622776601683793,31.622776601683793,31.622776601683793,31.622776601683793,31.622776601683793,31.622776601683793,31.622776601683793,31.622776601683793,31.622776601683793,31.622776601683793,31.622776601683793,31.622776601683793,31.622776601683793,31.622776601683793,31.622776601683793,31.622776601683793],\"color\":[\"#2E91E5\",\"#2E91E5\",\"#2E91E5\",\"#2E91E5\",\"#2E91E5\",\"#2E91E5\",\"#2E91E5\",\"#2E91E5\",\"#2E91E5\",\"#2E91E5\",\"#E15F99\",\"#E15F99\",\"#E15F99\",\"#E15F99\",\"#E15F99\",\"#E15F99\",\"#E15F99\",\"#E15F99\",\"#E15F99\",\"#E15F99\",\"#1CA71C\",\"#1CA71C\",\"#1CA71C\",\"#1CA71C\",\"#1CA71C\",\"#1CA71C\",\"#1CA71C\",\"#1CA71C\",\"#1CA71C\",\"#1CA71C\"]},\"textposition\":\"bottom center\"}],                        {\"template\":{\"data\":{\"bar\":[{\"error_x\":{\"color\":\"#2a3f5f\"},\"error_y\":{\"color\":\"#2a3f5f\"},\"marker\":{\"line\":{\"color\":\"#E5ECF6\",\"width\":0.5},\"pattern\":{\"fillmode\":\"overlay\",\"size\":10,\"solidity\":0.2}},\"type\":\"bar\"}],\"barpolar\":[{\"marker\":{\"line\":{\"color\":\"#E5ECF6\",\"width\":0.5},\"pattern\":{\"fillmode\":\"overlay\",\"size\":10,\"solidity\":0.2}},\"type\":\"barpolar\"}],\"carpet\":[{\"aaxis\":{\"endlinecolor\":\"#2a3f5f\",\"gridcolor\":\"white\",\"linecolor\":\"white\",\"minorgridcolor\":\"white\",\"startlinecolor\":\"#2a3f5f\"},\"baxis\":{\"endlinecolor\":\"#2a3f5f\",\"gridcolor\":\"white\",\"linecolor\":\"white\",\"minorgridcolor\":\"white\",\"startlinecolor\":\"#2a3f5f\"},\"type\":\"carpet\"}],\"choropleth\":[{\"colorbar\":{\"outlinewidth\":0,\"ticks\":\"\"},\"type\":\"choropleth\"}],\"contour\":[{\"colorbar\":{\"outlinewidth\":0,\"ticks\":\"\"},\"colorscale\":[[0.0,\"#0d0887\"],[0.1111111111111111,\"#46039f\"],[0.2222222222222222,\"#7201a8\"],[0.3333333333333333,\"#9c179e\"],[0.4444444444444444,\"#bd3786\"],[0.5555555555555556,\"#d8576b\"],[0.6666666666666666,\"#ed7953\"],[0.7777777777777778,\"#fb9f3a\"],[0.8888888888888888,\"#fdca26\"],[1.0,\"#f0f921\"]],\"type\":\"contour\"}],\"contourcarpet\":[{\"colorbar\":{\"outlinewidth\":0,\"ticks\":\"\"},\"type\":\"contourcarpet\"}],\"heatmap\":[{\"colorbar\":{\"outlinewidth\":0,\"ticks\":\"\"},\"colorscale\":[[0.0,\"#0d0887\"],[0.1111111111111111,\"#46039f\"],[0.2222222222222222,\"#7201a8\"],[0.3333333333333333,\"#9c179e\"],[0.4444444444444444,\"#bd3786\"],[0.5555555555555556,\"#d8576b\"],[0.6666666666666666,\"#ed7953\"],[0.7777777777777778,\"#fb9f3a\"],[0.8888888888888888,\"#fdca26\"],[1.0,\"#f0f921\"]],\"type\":\"heatmap\"}],\"heatmapgl\":[{\"colorbar\":{\"outlinewidth\":0,\"ticks\":\"\"},\"colorscale\":[[0.0,\"#0d0887\"],[0.1111111111111111,\"#46039f\"],[0.2222222222222222,\"#7201a8\"],[0.3333333333333333,\"#9c179e\"],[0.4444444444444444,\"#bd3786\"],[0.5555555555555556,\"#d8576b\"],[0.6666666666666666,\"#ed7953\"],[0.7777777777777778,\"#fb9f3a\"],[0.8888888888888888,\"#fdca26\"],[1.0,\"#f0f921\"]],\"type\":\"heatmapgl\"}],\"histogram\":[{\"marker\":{\"pattern\":{\"fillmode\":\"overlay\",\"size\":10,\"solidity\":0.2}},\"type\":\"histogram\"}],\"histogram2d\":[{\"colorbar\":{\"outlinewidth\":0,\"ticks\":\"\"},\"colorscale\":[[0.0,\"#0d0887\"],[0.1111111111111111,\"#46039f\"],[0.2222222222222222,\"#7201a8\"],[0.3333333333333333,\"#9c179e\"],[0.4444444444444444,\"#bd3786\"],[0.5555555555555556,\"#d8576b\"],[0.6666666666666666,\"#ed7953\"],[0.7777777777777778,\"#fb9f3a\"],[0.8888888888888888,\"#fdca26\"],[1.0,\"#f0f921\"]],\"type\":\"histogram2d\"}],\"histogram2dcontour\":[{\"colorbar\":{\"outlinewidth\":0,\"ticks\":\"\"},\"colorscale\":[[0.0,\"#0d0887\"],[0.1111111111111111,\"#46039f\"],[0.2222222222222222,\"#7201a8\"],[0.3333333333333333,\"#9c179e\"],[0.4444444444444444,\"#bd3786\"],[0.5555555555555556,\"#d8576b\"],[0.6666666666666666,\"#ed7953\"],[0.7777777777777778,\"#fb9f3a\"],[0.8888888888888888,\"#fdca26\"],[1.0,\"#f0f921\"]],\"type\":\"histogram2dcontour\"}],\"mesh3d\":[{\"colorbar\":{\"outlinewidth\":0,\"ticks\":\"\"},\"type\":\"mesh3d\"}],\"parcoords\":[{\"line\":{\"colorbar\":{\"outlinewidth\":0,\"ticks\":\"\"}},\"type\":\"parcoords\"}],\"pie\":[{\"automargin\":true,\"type\":\"pie\"}],\"scatter\":[{\"marker\":{\"colorbar\":{\"outlinewidth\":0,\"ticks\":\"\"}},\"type\":\"scatter\"}],\"scatter3d\":[{\"line\":{\"colorbar\":{\"outlinewidth\":0,\"ticks\":\"\"}},\"marker\":{\"colorbar\":{\"outlinewidth\":0,\"ticks\":\"\"}},\"type\":\"scatter3d\"}],\"scattercarpet\":[{\"marker\":{\"colorbar\":{\"outlinewidth\":0,\"ticks\":\"\"}},\"type\":\"scattercarpet\"}],\"scattergeo\":[{\"marker\":{\"colorbar\":{\"outlinewidth\":0,\"ticks\":\"\"}},\"type\":\"scattergeo\"}],\"scattergl\":[{\"marker\":{\"colorbar\":{\"outlinewidth\":0,\"ticks\":\"\"}},\"type\":\"scattergl\"}],\"scattermapbox\":[{\"marker\":{\"colorbar\":{\"outlinewidth\":0,\"ticks\":\"\"}},\"type\":\"scattermapbox\"}],\"scatterpolar\":[{\"marker\":{\"colorbar\":{\"outlinewidth\":0,\"ticks\":\"\"}},\"type\":\"scatterpolar\"}],\"scatterpolargl\":[{\"marker\":{\"colorbar\":{\"outlinewidth\":0,\"ticks\":\"\"}},\"type\":\"scatterpolargl\"}],\"scatterternary\":[{\"marker\":{\"colorbar\":{\"outlinewidth\":0,\"ticks\":\"\"}},\"type\":\"scatterternary\"}],\"surface\":[{\"colorbar\":{\"outlinewidth\":0,\"ticks\":\"\"},\"colorscale\":[[0.0,\"#0d0887\"],[0.1111111111111111,\"#46039f\"],[0.2222222222222222,\"#7201a8\"],[0.3333333333333333,\"#9c179e\"],[0.4444444444444444,\"#bd3786\"],[0.5555555555555556,\"#d8576b\"],[0.6666666666666666,\"#ed7953\"],[0.7777777777777778,\"#fb9f3a\"],[0.8888888888888888,\"#fdca26\"],[1.0,\"#f0f921\"]],\"type\":\"surface\"}],\"table\":[{\"cells\":{\"fill\":{\"color\":\"#EBF0F8\"},\"line\":{\"color\":\"white\"}},\"header\":{\"fill\":{\"color\":\"#C8D4E3\"},\"line\":{\"color\":\"white\"}},\"type\":\"table\"}]},\"layout\":{\"annotationdefaults\":{\"arrowcolor\":\"#2a3f5f\",\"arrowhead\":0,\"arrowwidth\":1},\"autotypenumbers\":\"strict\",\"coloraxis\":{\"colorbar\":{\"outlinewidth\":0,\"ticks\":\"\"}},\"colorscale\":{\"diverging\":[[0,\"#8e0152\"],[0.1,\"#c51b7d\"],[0.2,\"#de77ae\"],[0.3,\"#f1b6da\"],[0.4,\"#fde0ef\"],[0.5,\"#f7f7f7\"],[0.6,\"#e6f5d0\"],[0.7,\"#b8e186\"],[0.8,\"#7fbc41\"],[0.9,\"#4d9221\"],[1,\"#276419\"]],\"sequential\":[[0.0,\"#0d0887\"],[0.1111111111111111,\"#46039f\"],[0.2222222222222222,\"#7201a8\"],[0.3333333333333333,\"#9c179e\"],[0.4444444444444444,\"#bd3786\"],[0.5555555555555556,\"#d8576b\"],[0.6666666666666666,\"#ed7953\"],[0.7777777777777778,\"#fb9f3a\"],[0.8888888888888888,\"#fdca26\"],[1.0,\"#f0f921\"]],\"sequentialminus\":[[0.0,\"#0d0887\"],[0.1111111111111111,\"#46039f\"],[0.2222222222222222,\"#7201a8\"],[0.3333333333333333,\"#9c179e\"],[0.4444444444444444,\"#bd3786\"],[0.5555555555555556,\"#d8576b\"],[0.6666666666666666,\"#ed7953\"],[0.7777777777777778,\"#fb9f3a\"],[0.8888888888888888,\"#fdca26\"],[1.0,\"#f0f921\"]]},\"colorway\":[\"#636efa\",\"#EF553B\",\"#00cc96\",\"#ab63fa\",\"#FFA15A\",\"#19d3f3\",\"#FF6692\",\"#B6E880\",\"#FF97FF\",\"#FECB52\"],\"font\":{\"color\":\"#2a3f5f\"},\"geo\":{\"bgcolor\":\"white\",\"lakecolor\":\"white\",\"landcolor\":\"#E5ECF6\",\"showlakes\":true,\"showland\":true,\"subunitcolor\":\"white\"},\"hoverlabel\":{\"align\":\"left\"},\"hovermode\":\"closest\",\"mapbox\":{\"style\":\"light\"},\"paper_bgcolor\":\"white\",\"plot_bgcolor\":\"#E5ECF6\",\"polar\":{\"angularaxis\":{\"gridcolor\":\"white\",\"linecolor\":\"white\",\"ticks\":\"\"},\"bgcolor\":\"#E5ECF6\",\"radialaxis\":{\"gridcolor\":\"white\",\"linecolor\":\"white\",\"ticks\":\"\"}},\"scene\":{\"xaxis\":{\"backgroundcolor\":\"#E5ECF6\",\"gridcolor\":\"white\",\"gridwidth\":2,\"linecolor\":\"white\",\"showbackground\":true,\"ticks\":\"\",\"zerolinecolor\":\"white\"},\"yaxis\":{\"backgroundcolor\":\"#E5ECF6\",\"gridcolor\":\"white\",\"gridwidth\":2,\"linecolor\":\"white\",\"showbackground\":true,\"ticks\":\"\",\"zerolinecolor\":\"white\"},\"zaxis\":{\"backgroundcolor\":\"#E5ECF6\",\"gridcolor\":\"white\",\"gridwidth\":2,\"linecolor\":\"white\",\"showbackground\":true,\"ticks\":\"\",\"zerolinecolor\":\"white\"}},\"shapedefaults\":{\"line\":{\"color\":\"#2a3f5f\"}},\"ternary\":{\"aaxis\":{\"gridcolor\":\"white\",\"linecolor\":\"white\",\"ticks\":\"\"},\"baxis\":{\"gridcolor\":\"white\",\"linecolor\":\"white\",\"ticks\":\"\"},\"bgcolor\":\"#E5ECF6\",\"caxis\":{\"gridcolor\":\"white\",\"linecolor\":\"white\",\"ticks\":\"\"}},\"title\":{\"x\":0.05},\"xaxis\":{\"automargin\":true,\"gridcolor\":\"white\",\"linecolor\":\"white\",\"ticks\":\"\",\"title\":{\"standoff\":15},\"zerolinecolor\":\"white\",\"zerolinewidth\":2},\"yaxis\":{\"automargin\":true,\"gridcolor\":\"white\",\"linecolor\":\"white\",\"ticks\":\"\",\"title\":{\"standoff\":15},\"zerolinecolor\":\"white\",\"zerolinewidth\":2}}},\"xaxis\":{\"anchor\":\"y\",\"domain\":[0.0,1.0],\"title\":{\"text\":\"label\"},\"tickmode\":\"linear\",\"tick0\":0,\"dtick\":1},\"yaxis\":{\"anchor\":\"x\",\"domain\":[0.0,1.0],\"title\":{\"text\":\"tfidf\"},\"tickmode\":\"linear\",\"tick0\":0,\"dtick\":0.05},\"coloraxis\":{\"colorbar\":{\"title\":{\"text\":\"label\"}},\"colorscale\":[[0.0,\"#0d0887\"],[0.1111111111111111,\"#46039f\"],[0.2222222222222222,\"#7201a8\"],[0.3333333333333333,\"#9c179e\"],[0.4444444444444444,\"#bd3786\"],[0.5555555555555556,\"#d8576b\"],[0.6666666666666666,\"#ed7953\"],[0.7777777777777778,\"#fb9f3a\"],[0.8888888888888888,\"#fdca26\"],[1.0,\"#f0f921\"]]},\"legend\":{\"tracegroupgap\":0},\"margin\":{\"t\":60},\"font\":{\"family\":\"Courier New, monospace\",\"size\":18,\"color\":\"black\"}},                        {\"responsive\": true}                    ).then(function(){\n",
       "                            \n",
       "var gd = document.getElementById('98c6a6f3-6678-4bac-9c54-1c063058ab28');\n",
       "var x = new MutationObserver(function (mutations, observer) {{\n",
       "        var display = window.getComputedStyle(gd).display;\n",
       "        if (!display || display === 'none') {{\n",
       "            console.log([gd, 'removed!']);\n",
       "            Plotly.purge(gd);\n",
       "            observer.disconnect();\n",
       "        }}\n",
       "}});\n",
       "\n",
       "// Listen for the removal of the full notebook cells\n",
       "var notebookContainer = gd.closest('#notebook-container');\n",
       "if (notebookContainer) {{\n",
       "    x.observe(notebookContainer, {childList: true});\n",
       "}}\n",
       "\n",
       "// Listen for the clearing of the current output cell\n",
       "var outputEl = gd.closest('.output');\n",
       "if (outputEl) {{\n",
       "    x.observe(outputEl, {childList: true});\n",
       "}}\n",
       "\n",
       "                        })                };                });            </script>        </div>"
      ]
     },
     "metadata": {},
     "output_type": "display_data"
    }
   ],
   "source": [
    "visualize_clusters(viz_data)"
   ]
  },
  {
   "cell_type": "code",
   "execution_count": 67,
   "id": "06f62ea3",
   "metadata": {},
   "outputs": [
    {
     "data": {
      "text/plain": [
       "0                                                    NaN\n",
       "1      Source: CoinTelegraph Title: Bitcoin options d...\n",
       "2      Source: The Daily Hodl Title: Crypto Exchange ...\n",
       "3      Source: The Daily Hodl Title: BitKeep Wallet G...\n",
       "4      Source: Bitcoin Magazine Title: Kazakhstan Pre...\n",
       "                             ...                        \n",
       "873    Source: The Daily Hodl Title: DeFiChain’s Much...\n",
       "874                                                  NaN\n",
       "875    Source: Blockworks Title: Ex-Blockparty CTO Ar...\n",
       "876    Source: NewsBTC Title: Bitcoin Price Predictio...\n",
       "877    Source: The Block Title: Ethereum developers t...\n",
       "Name: combined, Length: 878, dtype: object"
      ]
     },
     "execution_count": 67,
     "metadata": {},
     "output_type": "execute_result"
    }
   ],
   "source": [
    "data['combined'] = 'Source: ' + data['source'] + ' Title: ' + data['title'] + ' Description: ' + data['description']\n",
    "data['combined']"
   ]
  },
  {
   "cell_type": "code",
   "execution_count": 68,
   "id": "e022d7a0",
   "metadata": {},
   "outputs": [
    {
     "data": {
      "text/plain": [
       "1      Source: CoinTelegraph Title: Bitcoin options d...\n",
       "2      Source: The Daily Hodl Title: Crypto Exchange ...\n",
       "3      Source: The Daily Hodl Title: BitKeep Wallet G...\n",
       "4      Source: Bitcoin Magazine Title: Kazakhstan Pre...\n",
       "5      Source: CoinTelegraph Title: The blockchain tr...\n",
       "                             ...                        \n",
       "872    Source: Cryptonews Title: Ethereum Price Predi...\n",
       "873    Source: The Daily Hodl Title: DeFiChain’s Much...\n",
       "875    Source: Blockworks Title: Ex-Blockparty CTO Ar...\n",
       "876    Source: NewsBTC Title: Bitcoin Price Predictio...\n",
       "877    Source: The Block Title: Ethereum developers t...\n",
       "Name: combined, Length: 699, dtype: object"
      ]
     },
     "execution_count": 68,
     "metadata": {},
     "output_type": "execute_result"
    }
   ],
   "source": [
    "data = data[~data['combined'].isna()]\n",
    "data['combined']"
   ]
  },
  {
   "cell_type": "code",
   "execution_count": 71,
   "id": "fdad5848",
   "metadata": {},
   "outputs": [
    {
     "name": "stderr",
     "output_type": "stream",
     "text": [
      "/var/folders/l4/kkbfk_xs52n01x_2cs6bv8g40000gp/T/ipykernel_12028/2628942119.py:1: SettingWithCopyWarning: \n",
      "A value is trying to be set on a copy of a slice from a DataFrame.\n",
      "Try using .loc[row_indexer,col_indexer] = value instead\n",
      "\n",
      "See the caveats in the documentation: https://pandas.pydata.org/pandas-docs/stable/user_guide/indexing.html#returning-a-view-versus-a-copy\n",
      "  data['combined'] = data['combined'].apply(cleanhtml)\n"
     ]
    }
   ],
   "source": [
    "data['combined'] = data['combined'].apply(cleanhtml)"
   ]
  },
  {
   "cell_type": "code",
   "execution_count": 85,
   "id": "cbc52ef9",
   "metadata": {},
   "outputs": [
    {
     "data": {
      "text/html": [
       "<div>\n",
       "<style scoped>\n",
       "    .dataframe tbody tr th:only-of-type {\n",
       "        vertical-align: middle;\n",
       "    }\n",
       "\n",
       "    .dataframe tbody tr th {\n",
       "        vertical-align: top;\n",
       "    }\n",
       "\n",
       "    .dataframe thead th {\n",
       "        text-align: right;\n",
       "    }\n",
       "</style>\n",
       "<table border=\"1\" class=\"dataframe\">\n",
       "  <thead>\n",
       "    <tr style=\"text-align: right;\">\n",
       "      <th></th>\n",
       "      <th>source</th>\n",
       "      <th>title</th>\n",
       "      <th>published_at</th>\n",
       "      <th>currencies</th>\n",
       "      <th>News value</th>\n",
       "      <th>full_news_url</th>\n",
       "      <th>description</th>\n",
       "      <th>combined</th>\n",
       "      <th>source_one_hot</th>\n",
       "      <th>label</th>\n",
       "    </tr>\n",
       "  </thead>\n",
       "  <tbody>\n",
       "    <tr>\n",
       "      <th>0</th>\n",
       "      <td>CoinTelegraph</td>\n",
       "      <td>Bitcoin options data shows bulls aiming for $1...</td>\n",
       "      <td>2022-12-07T19:12:11Z</td>\n",
       "      <td>BTC</td>\n",
       "      <td>1.0</td>\n",
       "      <td>https://cryptopanic.com/news/17094680/Bitcoin-...</td>\n",
       "      <td>&lt;p&gt;BTC bulls could secure a $130 million profi...</td>\n",
       "      <td>Source: CoinTelegraph Title: Bitcoin options d...</td>\n",
       "      <td>0</td>\n",
       "      <td>growth</td>\n",
       "    </tr>\n",
       "    <tr>\n",
       "      <th>1</th>\n",
       "      <td>The Daily Hodl</td>\n",
       "      <td>Crypto Exchange Coinbase Adds Support for Two ...</td>\n",
       "      <td>2022-12-07T19:05:54Z</td>\n",
       "      <td>ETH,RPL</td>\n",
       "      <td>0.0</td>\n",
       "      <td>https://cryptopanic.com/news/17094653/Crypto-E...</td>\n",
       "      <td>&lt;p&gt;Top US crypto exchange Coinbase has given s...</td>\n",
       "      <td>Source: The Daily Hodl Title: Crypto Exchange ...</td>\n",
       "      <td>1</td>\n",
       "      <td>no effect</td>\n",
       "    </tr>\n",
       "    <tr>\n",
       "      <th>2</th>\n",
       "      <td>The Daily Hodl</td>\n",
       "      <td>BitKeep Wallet Goes Live With .Bayc and Other ...</td>\n",
       "      <td>2022-12-07T19:05:16Z</td>\n",
       "      <td>ETH</td>\n",
       "      <td>0.0</td>\n",
       "      <td>https://cryptopanic.com/news/17094654/BitKeep-...</td>\n",
       "      <td>&lt;p&gt;December 5, 2022 As simplified wallet addre...</td>\n",
       "      <td>Source: The Daily Hodl Title: BitKeep Wallet G...</td>\n",
       "      <td>1</td>\n",
       "      <td>no effect</td>\n",
       "    </tr>\n",
       "    <tr>\n",
       "      <th>3</th>\n",
       "      <td>Bitcoin Magazine</td>\n",
       "      <td>Kazakhstan Presses On With Restrictive Bitcoin...</td>\n",
       "      <td>2022-12-07T18:53:00Z</td>\n",
       "      <td>BTC</td>\n",
       "      <td>0.0</td>\n",
       "      <td>https://cryptopanic.com/news/17094603/Kazakhst...</td>\n",
       "      <td>&lt;p&gt;A bill that would create new licensing and ...</td>\n",
       "      <td>Source: Bitcoin Magazine Title: Kazakhstan Pre...</td>\n",
       "      <td>2</td>\n",
       "      <td>no effect</td>\n",
       "    </tr>\n",
       "    <tr>\n",
       "      <th>4</th>\n",
       "      <td>CoinTelegraph</td>\n",
       "      <td>The blockchain trilemma: Can it ever be tackled?</td>\n",
       "      <td>2022-12-07T18:33:00Z</td>\n",
       "      <td>ETH,MATIC</td>\n",
       "      <td>0.0</td>\n",
       "      <td>https://cryptopanic.com/news/17094549/The-bloc...</td>\n",
       "      <td>&lt;p&gt;Blockchain trilemma is arguably the hardest...</td>\n",
       "      <td>Source: CoinTelegraph Title: The blockchain tr...</td>\n",
       "      <td>0</td>\n",
       "      <td>no effect</td>\n",
       "    </tr>\n",
       "    <tr>\n",
       "      <th>...</th>\n",
       "      <td>...</td>\n",
       "      <td>...</td>\n",
       "      <td>...</td>\n",
       "      <td>...</td>\n",
       "      <td>...</td>\n",
       "      <td>...</td>\n",
       "      <td>...</td>\n",
       "      <td>...</td>\n",
       "      <td>...</td>\n",
       "      <td>...</td>\n",
       "    </tr>\n",
       "    <tr>\n",
       "      <th>684</th>\n",
       "      <td>Cryptonews</td>\n",
       "      <td>Ethereum Price Prediction with ETH Down 4.5% f...</td>\n",
       "      <td>2022-12-08T17:43:00Z</td>\n",
       "      <td>ETH</td>\n",
       "      <td>0.0</td>\n",
       "      <td>https://cryptopanic.com/news/17103762/Ethereum...</td>\n",
       "      <td>&lt;p&gt;Ethereum (ETH), the cryptocurrency that pow...</td>\n",
       "      <td>Source: Cryptonews Title: Ethereum Price Predi...</td>\n",
       "      <td>7</td>\n",
       "      <td>no effect</td>\n",
       "    </tr>\n",
       "    <tr>\n",
       "      <th>685</th>\n",
       "      <td>The Daily Hodl</td>\n",
       "      <td>DeFiChain’s Much Anticipated ‘Grand Central’ H...</td>\n",
       "      <td>2022-12-08T17:42:49Z</td>\n",
       "      <td>BTC</td>\n",
       "      <td>1.0</td>\n",
       "      <td>https://cryptopanic.com/news/17103767/DeFiChai...</td>\n",
       "      <td>&lt;p&gt;December 8, 2022 – Singapore, Singapore DeF...</td>\n",
       "      <td>Source: The Daily Hodl Title: DeFiChain’s Much...</td>\n",
       "      <td>1</td>\n",
       "      <td>growth</td>\n",
       "    </tr>\n",
       "    <tr>\n",
       "      <th>686</th>\n",
       "      <td>Blockworks</td>\n",
       "      <td>Ex-Blockparty CTO Arrested for Stealing Compan...</td>\n",
       "      <td>2022-12-08T17:26:18Z</td>\n",
       "      <td>BTC</td>\n",
       "      <td>0.0</td>\n",
       "      <td>https://cryptopanic.com/news/17103734/Ex-Block...</td>\n",
       "      <td>&lt;p&gt;Rikesh Thapa was arrested in California for...</td>\n",
       "      <td>Source: Blockworks Title: Ex-Blockparty CTO Ar...</td>\n",
       "      <td>42</td>\n",
       "      <td>no effect</td>\n",
       "    </tr>\n",
       "    <tr>\n",
       "      <th>687</th>\n",
       "      <td>NewsBTC</td>\n",
       "      <td>Bitcoin Price Prediction: What Elliott Wave Th...</td>\n",
       "      <td>2022-12-08T17:25:56Z</td>\n",
       "      <td>BTC,FLOW</td>\n",
       "      <td>0.0</td>\n",
       "      <td>https://cryptopanic.com/news/17103713/Bitcoin-...</td>\n",
       "      <td>&lt;p&gt;Any Bitcoin price prediction is just a gues...</td>\n",
       "      <td>Source: NewsBTC Title: Bitcoin Price Predictio...</td>\n",
       "      <td>17</td>\n",
       "      <td>no effect</td>\n",
       "    </tr>\n",
       "    <tr>\n",
       "      <th>688</th>\n",
       "      <td>The Block</td>\n",
       "      <td>Ethereum developers target March 2023 for Shan...</td>\n",
       "      <td>2022-12-08T17:25:17Z</td>\n",
       "      <td>ETH</td>\n",
       "      <td>0.0</td>\n",
       "      <td>https://cryptopanic.com/news/17103715/Ethereum...</td>\n",
       "      <td>&lt;p&gt;In a meeting today, core Ethereum developer...</td>\n",
       "      <td>Source: The Block Title: Ethereum developers t...</td>\n",
       "      <td>11</td>\n",
       "      <td>no effect</td>\n",
       "    </tr>\n",
       "  </tbody>\n",
       "</table>\n",
       "<p>689 rows × 10 columns</p>\n",
       "</div>"
      ],
      "text/plain": [
       "               source                                              title  \\\n",
       "0       CoinTelegraph  Bitcoin options data shows bulls aiming for $1...   \n",
       "1      The Daily Hodl  Crypto Exchange Coinbase Adds Support for Two ...   \n",
       "2      The Daily Hodl  BitKeep Wallet Goes Live With .Bayc and Other ...   \n",
       "3    Bitcoin Magazine  Kazakhstan Presses On With Restrictive Bitcoin...   \n",
       "4       CoinTelegraph   The blockchain trilemma: Can it ever be tackled?   \n",
       "..                ...                                                ...   \n",
       "684        Cryptonews  Ethereum Price Prediction with ETH Down 4.5% f...   \n",
       "685    The Daily Hodl  DeFiChain’s Much Anticipated ‘Grand Central’ H...   \n",
       "686        Blockworks  Ex-Blockparty CTO Arrested for Stealing Compan...   \n",
       "687           NewsBTC  Bitcoin Price Prediction: What Elliott Wave Th...   \n",
       "688         The Block  Ethereum developers target March 2023 for Shan...   \n",
       "\n",
       "             published_at currencies  News value  \\\n",
       "0    2022-12-07T19:12:11Z        BTC         1.0   \n",
       "1    2022-12-07T19:05:54Z    ETH,RPL         0.0   \n",
       "2    2022-12-07T19:05:16Z        ETH         0.0   \n",
       "3    2022-12-07T18:53:00Z        BTC         0.0   \n",
       "4    2022-12-07T18:33:00Z  ETH,MATIC         0.0   \n",
       "..                    ...        ...         ...   \n",
       "684  2022-12-08T17:43:00Z        ETH         0.0   \n",
       "685  2022-12-08T17:42:49Z        BTC         1.0   \n",
       "686  2022-12-08T17:26:18Z        BTC         0.0   \n",
       "687  2022-12-08T17:25:56Z   BTC,FLOW         0.0   \n",
       "688  2022-12-08T17:25:17Z        ETH         0.0   \n",
       "\n",
       "                                         full_news_url  \\\n",
       "0    https://cryptopanic.com/news/17094680/Bitcoin-...   \n",
       "1    https://cryptopanic.com/news/17094653/Crypto-E...   \n",
       "2    https://cryptopanic.com/news/17094654/BitKeep-...   \n",
       "3    https://cryptopanic.com/news/17094603/Kazakhst...   \n",
       "4    https://cryptopanic.com/news/17094549/The-bloc...   \n",
       "..                                                 ...   \n",
       "684  https://cryptopanic.com/news/17103762/Ethereum...   \n",
       "685  https://cryptopanic.com/news/17103767/DeFiChai...   \n",
       "686  https://cryptopanic.com/news/17103734/Ex-Block...   \n",
       "687  https://cryptopanic.com/news/17103713/Bitcoin-...   \n",
       "688  https://cryptopanic.com/news/17103715/Ethereum...   \n",
       "\n",
       "                                           description  \\\n",
       "0    <p>BTC bulls could secure a $130 million profi...   \n",
       "1    <p>Top US crypto exchange Coinbase has given s...   \n",
       "2    <p>December 5, 2022 As simplified wallet addre...   \n",
       "3    <p>A bill that would create new licensing and ...   \n",
       "4    <p>Blockchain trilemma is arguably the hardest...   \n",
       "..                                                 ...   \n",
       "684  <p>Ethereum (ETH), the cryptocurrency that pow...   \n",
       "685  <p>December 8, 2022 – Singapore, Singapore DeF...   \n",
       "686  <p>Rikesh Thapa was arrested in California for...   \n",
       "687  <p>Any Bitcoin price prediction is just a gues...   \n",
       "688  <p>In a meeting today, core Ethereum developer...   \n",
       "\n",
       "                                              combined  source_one_hot  \\\n",
       "0    Source: CoinTelegraph Title: Bitcoin options d...               0   \n",
       "1    Source: The Daily Hodl Title: Crypto Exchange ...               1   \n",
       "2    Source: The Daily Hodl Title: BitKeep Wallet G...               1   \n",
       "3    Source: Bitcoin Magazine Title: Kazakhstan Pre...               2   \n",
       "4    Source: CoinTelegraph Title: The blockchain tr...               0   \n",
       "..                                                 ...             ...   \n",
       "684  Source: Cryptonews Title: Ethereum Price Predi...               7   \n",
       "685  Source: The Daily Hodl Title: DeFiChain’s Much...               1   \n",
       "686  Source: Blockworks Title: Ex-Blockparty CTO Ar...              42   \n",
       "687  Source: NewsBTC Title: Bitcoin Price Predictio...              17   \n",
       "688  Source: The Block Title: Ethereum developers t...              11   \n",
       "\n",
       "         label  \n",
       "0       growth  \n",
       "1    no effect  \n",
       "2    no effect  \n",
       "3    no effect  \n",
       "4    no effect  \n",
       "..         ...  \n",
       "684  no effect  \n",
       "685     growth  \n",
       "686  no effect  \n",
       "687  no effect  \n",
       "688  no effect  \n",
       "\n",
       "[689 rows x 10 columns]"
      ]
     },
     "execution_count": 85,
     "metadata": {},
     "output_type": "execute_result"
    }
   ],
   "source": [
    "data = data.drop_duplicates(['combined']).reset_index(drop=True)\n",
    "data"
   ]
  },
  {
   "cell_type": "code",
   "execution_count": 86,
   "id": "270edac4",
   "metadata": {},
   "outputs": [],
   "source": [
    "sources = list(data['source'].unique())"
   ]
  },
  {
   "cell_type": "code",
   "execution_count": 87,
   "id": "ec674f70",
   "metadata": {},
   "outputs": [
    {
     "data": {
      "text/plain": [
       "0       0\n",
       "1       1\n",
       "2       1\n",
       "3       2\n",
       "4       0\n",
       "       ..\n",
       "684     7\n",
       "685     1\n",
       "686    42\n",
       "687    17\n",
       "688    11\n",
       "Name: source_one_hot, Length: 689, dtype: int64"
      ]
     },
     "execution_count": 87,
     "metadata": {},
     "output_type": "execute_result"
    }
   ],
   "source": [
    "data['source_one_hot'] = data['source'].apply(lambda x: sources.index(x))\n",
    "data['source_one_hot']"
   ]
  },
  {
   "cell_type": "code",
   "execution_count": 88,
   "id": "75f1b239",
   "metadata": {},
   "outputs": [
    {
     "data": {
      "text/html": [
       "<div>\n",
       "<style scoped>\n",
       "    .dataframe tbody tr th:only-of-type {\n",
       "        vertical-align: middle;\n",
       "    }\n",
       "\n",
       "    .dataframe tbody tr th {\n",
       "        vertical-align: top;\n",
       "    }\n",
       "\n",
       "    .dataframe thead th {\n",
       "        text-align: right;\n",
       "    }\n",
       "</style>\n",
       "<table border=\"1\" class=\"dataframe\">\n",
       "  <thead>\n",
       "    <tr style=\"text-align: right;\">\n",
       "      <th></th>\n",
       "      <th>source_one_hot</th>\n",
       "      <th>News value</th>\n",
       "    </tr>\n",
       "  </thead>\n",
       "  <tbody>\n",
       "    <tr>\n",
       "      <th>source_one_hot</th>\n",
       "      <td>1.000000</td>\n",
       "      <td>-0.031553</td>\n",
       "    </tr>\n",
       "    <tr>\n",
       "      <th>News value</th>\n",
       "      <td>-0.031553</td>\n",
       "      <td>1.000000</td>\n",
       "    </tr>\n",
       "  </tbody>\n",
       "</table>\n",
       "</div>"
      ],
      "text/plain": [
       "                source_one_hot  News value\n",
       "source_one_hot        1.000000   -0.031553\n",
       "News value           -0.031553    1.000000"
      ]
     },
     "execution_count": 88,
     "metadata": {},
     "output_type": "execute_result"
    }
   ],
   "source": [
    "data[['source_one_hot', 'News value']].corr()"
   ]
  },
  {
   "cell_type": "code",
   "execution_count": 89,
   "id": "b9f69207",
   "metadata": {},
   "outputs": [],
   "source": [
    "data['label'] = data['News value'].apply(lambda x: 'growth' if x == 1 else 'decay' if x == -1 else 'no effect')"
   ]
  },
  {
   "cell_type": "code",
   "execution_count": 90,
   "id": "6ac0a9ee",
   "metadata": {},
   "outputs": [
    {
     "data": {
      "text/html": [
       "<div>\n",
       "<style scoped>\n",
       "    .dataframe tbody tr th:only-of-type {\n",
       "        vertical-align: middle;\n",
       "    }\n",
       "\n",
       "    .dataframe tbody tr th {\n",
       "        vertical-align: top;\n",
       "    }\n",
       "\n",
       "    .dataframe thead th {\n",
       "        text-align: right;\n",
       "    }\n",
       "</style>\n",
       "<table border=\"1\" class=\"dataframe\">\n",
       "  <thead>\n",
       "    <tr style=\"text-align: right;\">\n",
       "      <th></th>\n",
       "      <th>prompt</th>\n",
       "      <th>completion</th>\n",
       "    </tr>\n",
       "  </thead>\n",
       "  <tbody>\n",
       "    <tr>\n",
       "      <th>0</th>\n",
       "      <td>Source: CoinTelegraph Title: Bitcoin options d...</td>\n",
       "      <td>growth END</td>\n",
       "    </tr>\n",
       "    <tr>\n",
       "      <th>1</th>\n",
       "      <td>Source: The Daily Hodl Title: Crypto Exchange ...</td>\n",
       "      <td>no effect END</td>\n",
       "    </tr>\n",
       "    <tr>\n",
       "      <th>2</th>\n",
       "      <td>Source: The Daily Hodl Title: BitKeep Wallet G...</td>\n",
       "      <td>no effect END</td>\n",
       "    </tr>\n",
       "    <tr>\n",
       "      <th>3</th>\n",
       "      <td>Source: Bitcoin Magazine Title: Kazakhstan Pre...</td>\n",
       "      <td>no effect END</td>\n",
       "    </tr>\n",
       "    <tr>\n",
       "      <th>4</th>\n",
       "      <td>Source: CoinTelegraph Title: The blockchain tr...</td>\n",
       "      <td>no effect END</td>\n",
       "    </tr>\n",
       "    <tr>\n",
       "      <th>...</th>\n",
       "      <td>...</td>\n",
       "      <td>...</td>\n",
       "    </tr>\n",
       "    <tr>\n",
       "      <th>684</th>\n",
       "      <td>Source: Cryptonews Title: Ethereum Price Predi...</td>\n",
       "      <td>no effect END</td>\n",
       "    </tr>\n",
       "    <tr>\n",
       "      <th>685</th>\n",
       "      <td>Source: The Daily Hodl Title: DeFiChain’s Much...</td>\n",
       "      <td>growth END</td>\n",
       "    </tr>\n",
       "    <tr>\n",
       "      <th>686</th>\n",
       "      <td>Source: Blockworks Title: Ex-Blockparty CTO Ar...</td>\n",
       "      <td>no effect END</td>\n",
       "    </tr>\n",
       "    <tr>\n",
       "      <th>687</th>\n",
       "      <td>Source: NewsBTC Title: Bitcoin Price Predictio...</td>\n",
       "      <td>no effect END</td>\n",
       "    </tr>\n",
       "    <tr>\n",
       "      <th>688</th>\n",
       "      <td>Source: The Block Title: Ethereum developers t...</td>\n",
       "      <td>no effect END</td>\n",
       "    </tr>\n",
       "  </tbody>\n",
       "</table>\n",
       "<p>689 rows × 2 columns</p>\n",
       "</div>"
      ],
      "text/plain": [
       "                                                prompt      completion\n",
       "0    Source: CoinTelegraph Title: Bitcoin options d...      growth END\n",
       "1    Source: The Daily Hodl Title: Crypto Exchange ...   no effect END\n",
       "2    Source: The Daily Hodl Title: BitKeep Wallet G...   no effect END\n",
       "3    Source: Bitcoin Magazine Title: Kazakhstan Pre...   no effect END\n",
       "4    Source: CoinTelegraph Title: The blockchain tr...   no effect END\n",
       "..                                                 ...             ...\n",
       "684  Source: Cryptonews Title: Ethereum Price Predi...   no effect END\n",
       "685  Source: The Daily Hodl Title: DeFiChain’s Much...      growth END\n",
       "686  Source: Blockworks Title: Ex-Blockparty CTO Ar...   no effect END\n",
       "687  Source: NewsBTC Title: Bitcoin Price Predictio...   no effect END\n",
       "688  Source: The Block Title: Ethereum developers t...   no effect END\n",
       "\n",
       "[689 rows x 2 columns]"
      ]
     },
     "execution_count": 90,
     "metadata": {},
     "output_type": "execute_result"
    }
   ],
   "source": [
    "data_input = data[['combined', 'label']].copy()\n",
    "data_input.columns = ['prompt', 'completion']\n",
    "data_input['prompt'] = data_input['prompt'] + '\\n\\n###\\n\\n'\n",
    "data_input['completion'] = ' ' + data_input['completion'] + ' END'\n",
    "data_input"
   ]
  },
  {
   "cell_type": "code",
   "execution_count": 91,
   "id": "c297a95a",
   "metadata": {},
   "outputs": [],
   "source": [
    "data_input.to_json('./output/classification/source_title_description.jsonl', orient='records', lines=True)\n",
    "data_input.to_csv('./output/classification/source_title_description.csv', index=False)"
   ]
  },
  {
   "cell_type": "code",
   "execution_count": null,
   "id": "e9624a5a",
   "metadata": {},
   "outputs": [],
   "source": []
  }
 ],
 "metadata": {
  "kernelspec": {
   "display_name": "Python 3 (ipykernel)",
   "language": "python",
   "name": "python3"
  },
  "language_info": {
   "codemirror_mode": {
    "name": "ipython",
    "version": 3
   },
   "file_extension": ".py",
   "mimetype": "text/x-python",
   "name": "python",
   "nbconvert_exporter": "python",
   "pygments_lexer": "ipython3",
   "version": "3.8.12"
  }
 },
 "nbformat": 4,
 "nbformat_minor": 5
}
