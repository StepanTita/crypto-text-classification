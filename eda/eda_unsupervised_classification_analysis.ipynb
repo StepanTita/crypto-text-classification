{
 "cells": [
  {
   "cell_type": "code",
   "execution_count": 67,
   "id": "77e875cb",
   "metadata": {
    "ExecuteTime": {
     "start_time": "2023-12-07T11:56:16.017939Z",
     "end_time": "2023-12-07T11:56:16.022008Z"
    }
   },
   "outputs": [],
   "source": [
    "import os\n",
    "\n",
    "import matplotlib.pyplot as plt\n",
    "import numpy as np\n",
    "import pandas as pd\n",
    "import seaborn as sns\n",
    "from sklearn.decomposition import TruncatedSVD\n",
    "from sklearn.discriminant_analysis import QuadraticDiscriminantAnalysis\n",
    "from sklearn.ensemble import RandomForestClassifier, AdaBoostClassifier\n",
    "from sklearn.feature_extraction.text import TfidfVectorizer\n",
    "from sklearn.gaussian_process import GaussianProcessClassifier\n",
    "from sklearn.gaussian_process.kernels import RBF\n",
    "from sklearn.metrics import classification_report\n",
    "from sklearn.model_selection import train_test_split, GridSearchCV\n",
    "from sklearn.neighbors import KNeighborsClassifier\n",
    "from sklearn.neural_network import MLPClassifier\n",
    "from sklearn.svm import SVC\n",
    "from sklearn.tree import DecisionTreeClassifier"
   ]
  },
  {
   "cell_type": "code",
   "execution_count": 2,
   "id": "e97ef4be",
   "metadata": {
    "ExecuteTime": {
     "start_time": "2023-12-06T21:59:45.105197Z",
     "end_time": "2023-12-06T21:59:45.112312Z"
    }
   },
   "outputs": [],
   "source": [
    "import warnings\n",
    "warnings.filterwarnings(\"ignore\")"
   ]
  },
  {
   "cell_type": "code",
   "execution_count": 43,
   "outputs": [
    {
     "data": {
      "text/plain": "                source                                              title  \\\n0        CoinTelegraph  Bitcoin options data shows bulls aiming for $1...   \n1       The Daily Hodl  Crypto Exchange Coinbase Adds Support for Two ...   \n2       The Daily Hodl  BitKeep Wallet Goes Live With .Bayc and Other ...   \n3     Bitcoin Magazine  Kazakhstan Presses On With Restrictive Bitcoin...   \n4        CoinTelegraph   The blockchain trilemma: Can it ever be tackled?   \n...                ...                                                ...   \n1313           U.Today      Ethereum (ETH) Price Analysis for December 23   \n1314          ZyCrypto  Digital Assets Amongst Vulnerabilities Within ...   \n1315    The Daily Hodl  Cardano, Litecoin and Monero Will Not Be Added...   \n1316          ZyCrypto  Binance plans to invest in India’s web3 startu...   \n1317          ZyCrypto  Regulation Alone Isn’t Enough To Address Short...   \n\n                                            description  \\\n0     BTC bulls could secure a $130 million profit i...   \n1     Top US crypto exchange Coinbase has given supp...   \n2     December 5, 2022 As simplified wallet addresse...   \n3     A bill that would create new licensing and ele...   \n4     Blockchain trilemma is arguably the hardest te...   \n...                                                 ...   \n1313  How great are chances for continued rise of Et...   \n1314  The Financial Stability Oversight Council (FSO...   \n1315  A top executive of peer-to-peer crypto exchang...   \n1316  Binance’s Chief Technology Officer (CTO) Rohit...   \n1317  According to Fabio Panetta, a Member of the Ex...   \n\n                                                   text  label  \n0     Source: CoinTelegraph Title: Bitcoin options d...      1  \n1     Source: The Daily Hodl Title: Crypto Exchange ...      0  \n2     Source: The Daily Hodl Title: BitKeep Wallet G...      0  \n3     Source: Bitcoin Magazine Title: Kazakhstan Pre...      0  \n4     Source: CoinTelegraph Title: The blockchain tr...      0  \n...                                                 ...    ...  \n1313  Source: U.Today Title: Ethereum (ETH) Price An...      0  \n1314  Source: ZyCrypto Title: Digital Assets Amongst...      0  \n1315  Source: The Daily Hodl Title: Cardano, Litecoi...      1  \n1316  Source: ZyCrypto Title: Binance plans to inves...      1  \n1317  Source: ZyCrypto Title: Regulation Alone Isn’t...      0  \n\n[1318 rows x 5 columns]",
      "text/html": "<div>\n<style scoped>\n    .dataframe tbody tr th:only-of-type {\n        vertical-align: middle;\n    }\n\n    .dataframe tbody tr th {\n        vertical-align: top;\n    }\n\n    .dataframe thead th {\n        text-align: right;\n    }\n</style>\n<table border=\"1\" class=\"dataframe\">\n  <thead>\n    <tr style=\"text-align: right;\">\n      <th></th>\n      <th>source</th>\n      <th>title</th>\n      <th>description</th>\n      <th>text</th>\n      <th>label</th>\n    </tr>\n  </thead>\n  <tbody>\n    <tr>\n      <th>0</th>\n      <td>CoinTelegraph</td>\n      <td>Bitcoin options data shows bulls aiming for $1...</td>\n      <td>BTC bulls could secure a $130 million profit i...</td>\n      <td>Source: CoinTelegraph Title: Bitcoin options d...</td>\n      <td>1</td>\n    </tr>\n    <tr>\n      <th>1</th>\n      <td>The Daily Hodl</td>\n      <td>Crypto Exchange Coinbase Adds Support for Two ...</td>\n      <td>Top US crypto exchange Coinbase has given supp...</td>\n      <td>Source: The Daily Hodl Title: Crypto Exchange ...</td>\n      <td>0</td>\n    </tr>\n    <tr>\n      <th>2</th>\n      <td>The Daily Hodl</td>\n      <td>BitKeep Wallet Goes Live With .Bayc and Other ...</td>\n      <td>December 5, 2022 As simplified wallet addresse...</td>\n      <td>Source: The Daily Hodl Title: BitKeep Wallet G...</td>\n      <td>0</td>\n    </tr>\n    <tr>\n      <th>3</th>\n      <td>Bitcoin Magazine</td>\n      <td>Kazakhstan Presses On With Restrictive Bitcoin...</td>\n      <td>A bill that would create new licensing and ele...</td>\n      <td>Source: Bitcoin Magazine Title: Kazakhstan Pre...</td>\n      <td>0</td>\n    </tr>\n    <tr>\n      <th>4</th>\n      <td>CoinTelegraph</td>\n      <td>The blockchain trilemma: Can it ever be tackled?</td>\n      <td>Blockchain trilemma is arguably the hardest te...</td>\n      <td>Source: CoinTelegraph Title: The blockchain tr...</td>\n      <td>0</td>\n    </tr>\n    <tr>\n      <th>...</th>\n      <td>...</td>\n      <td>...</td>\n      <td>...</td>\n      <td>...</td>\n      <td>...</td>\n    </tr>\n    <tr>\n      <th>1313</th>\n      <td>U.Today</td>\n      <td>Ethereum (ETH) Price Analysis for December 23</td>\n      <td>How great are chances for continued rise of Et...</td>\n      <td>Source: U.Today Title: Ethereum (ETH) Price An...</td>\n      <td>0</td>\n    </tr>\n    <tr>\n      <th>1314</th>\n      <td>ZyCrypto</td>\n      <td>Digital Assets Amongst Vulnerabilities Within ...</td>\n      <td>The Financial Stability Oversight Council (FSO...</td>\n      <td>Source: ZyCrypto Title: Digital Assets Amongst...</td>\n      <td>0</td>\n    </tr>\n    <tr>\n      <th>1315</th>\n      <td>The Daily Hodl</td>\n      <td>Cardano, Litecoin and Monero Will Not Be Added...</td>\n      <td>A top executive of peer-to-peer crypto exchang...</td>\n      <td>Source: The Daily Hodl Title: Cardano, Litecoi...</td>\n      <td>1</td>\n    </tr>\n    <tr>\n      <th>1316</th>\n      <td>ZyCrypto</td>\n      <td>Binance plans to invest in India’s web3 startu...</td>\n      <td>Binance’s Chief Technology Officer (CTO) Rohit...</td>\n      <td>Source: ZyCrypto Title: Binance plans to inves...</td>\n      <td>1</td>\n    </tr>\n    <tr>\n      <th>1317</th>\n      <td>ZyCrypto</td>\n      <td>Regulation Alone Isn’t Enough To Address Short...</td>\n      <td>According to Fabio Panetta, a Member of the Ex...</td>\n      <td>Source: ZyCrypto Title: Regulation Alone Isn’t...</td>\n      <td>0</td>\n    </tr>\n  </tbody>\n</table>\n<p>1318 rows × 5 columns</p>\n</div>"
     },
     "execution_count": 43,
     "metadata": {},
     "output_type": "execute_result"
    }
   ],
   "source": [
    "data = pd.read_csv('output/classification/FULL_source_title_description_bin_clf.csv')\n",
    "data"
   ],
   "metadata": {
    "collapsed": false,
    "ExecuteTime": {
     "start_time": "2023-12-07T11:53:24.098040Z",
     "end_time": "2023-12-07T11:53:24.130555Z"
    }
   }
  },
  {
   "cell_type": "code",
   "execution_count": 44,
   "outputs": [
    {
     "data": {
      "text/plain": "            source                                              title  \\\n0    CoinTelegraph  Allbridge to first begin repaying stuck bridge...   \n1     CryptoPotato  Bitcoin Hodl Patterns Indicate Cycle Shift to ...   \n2    CoinTelegraph  ETH hits 7-month high ahead of Shanghai and Ca...   \n3    CoinTelegraph  Marathon Digital posts quarterly record of 2,1...   \n4     CryptoPotato  Brazilian Finance Giant BTG Pactual to Issue a...   \n..             ...                                                ...   \n616   CryptoPotato  El Salvador Launches Bitcoin, Lightning Dev Tr...   \n617  CoinTelegraph  Worlds collide at Bitcoin-based DeFi project —...   \n618  CoinTelegraph  Euler Finance hacker starts returning stolen E...   \n619     CryptoNews  Bitcoin Price and Ethereum Prediction: BTC and...   \n620  CoinTelegraph  Bitcoin market cap grows 60% in 2023 as top Wa...   \n\n                                           description  \\\n0    The compensation process is expected to start ...   \n1    On-chain analytics revealed a sentiment shift ...   \n2    Ether has broken the $1,900 resistance level f...   \n3    With a new quarterly production record, Marath...   \n4    The stablecoin BTG Dol will supposedly become ...   \n..                                                 ...   \n616  The months-long program will offer credit and ...   \n617  Ordinals NFTs have split the Bitcoin community...   \n618  Chances that the hacker will return the entire...   \n619  Bitcoin (BTC) and Ethereum (ETH) have seen sig...   \n620  Bitcoin has decoupled from stocks and rising t...   \n\n                                                  text  label  \n0    Source: CoinTelegraph Title: Allbridge to firs...      0  \n1    Source: CryptoPotato Title: Bitcoin Hodl Patte...      1  \n2    Source: CoinTelegraph Title: ETH hits 7-month ...      1  \n3    Source: CoinTelegraph Title: Marathon Digital ...      1  \n4    Source: CryptoPotato Title: Brazilian Finance ...      0  \n..                                                 ...    ...  \n616  Source: CryptoPotato Title: El Salvador Launch...      0  \n617  Source: CoinTelegraph Title: Worlds collide at...      1  \n618  Source: CoinTelegraph Title: Euler Finance hac...      1  \n619  Source: CryptoNews Title: Bitcoin Price and Et...      1  \n620  Source: CoinTelegraph Title: Bitcoin market ca...      1  \n\n[621 rows x 5 columns]",
      "text/html": "<div>\n<style scoped>\n    .dataframe tbody tr th:only-of-type {\n        vertical-align: middle;\n    }\n\n    .dataframe tbody tr th {\n        vertical-align: top;\n    }\n\n    .dataframe thead th {\n        text-align: right;\n    }\n</style>\n<table border=\"1\" class=\"dataframe\">\n  <thead>\n    <tr style=\"text-align: right;\">\n      <th></th>\n      <th>source</th>\n      <th>title</th>\n      <th>description</th>\n      <th>text</th>\n      <th>label</th>\n    </tr>\n  </thead>\n  <tbody>\n    <tr>\n      <th>0</th>\n      <td>CoinTelegraph</td>\n      <td>Allbridge to first begin repaying stuck bridge...</td>\n      <td>The compensation process is expected to start ...</td>\n      <td>Source: CoinTelegraph Title: Allbridge to firs...</td>\n      <td>0</td>\n    </tr>\n    <tr>\n      <th>1</th>\n      <td>CryptoPotato</td>\n      <td>Bitcoin Hodl Patterns Indicate Cycle Shift to ...</td>\n      <td>On-chain analytics revealed a sentiment shift ...</td>\n      <td>Source: CryptoPotato Title: Bitcoin Hodl Patte...</td>\n      <td>1</td>\n    </tr>\n    <tr>\n      <th>2</th>\n      <td>CoinTelegraph</td>\n      <td>ETH hits 7-month high ahead of Shanghai and Ca...</td>\n      <td>Ether has broken the $1,900 resistance level f...</td>\n      <td>Source: CoinTelegraph Title: ETH hits 7-month ...</td>\n      <td>1</td>\n    </tr>\n    <tr>\n      <th>3</th>\n      <td>CoinTelegraph</td>\n      <td>Marathon Digital posts quarterly record of 2,1...</td>\n      <td>With a new quarterly production record, Marath...</td>\n      <td>Source: CoinTelegraph Title: Marathon Digital ...</td>\n      <td>1</td>\n    </tr>\n    <tr>\n      <th>4</th>\n      <td>CryptoPotato</td>\n      <td>Brazilian Finance Giant BTG Pactual to Issue a...</td>\n      <td>The stablecoin BTG Dol will supposedly become ...</td>\n      <td>Source: CryptoPotato Title: Brazilian Finance ...</td>\n      <td>0</td>\n    </tr>\n    <tr>\n      <th>...</th>\n      <td>...</td>\n      <td>...</td>\n      <td>...</td>\n      <td>...</td>\n      <td>...</td>\n    </tr>\n    <tr>\n      <th>616</th>\n      <td>CryptoPotato</td>\n      <td>El Salvador Launches Bitcoin, Lightning Dev Tr...</td>\n      <td>The months-long program will offer credit and ...</td>\n      <td>Source: CryptoPotato Title: El Salvador Launch...</td>\n      <td>0</td>\n    </tr>\n    <tr>\n      <th>617</th>\n      <td>CoinTelegraph</td>\n      <td>Worlds collide at Bitcoin-based DeFi project —...</td>\n      <td>Ordinals NFTs have split the Bitcoin community...</td>\n      <td>Source: CoinTelegraph Title: Worlds collide at...</td>\n      <td>1</td>\n    </tr>\n    <tr>\n      <th>618</th>\n      <td>CoinTelegraph</td>\n      <td>Euler Finance hacker starts returning stolen E...</td>\n      <td>Chances that the hacker will return the entire...</td>\n      <td>Source: CoinTelegraph Title: Euler Finance hac...</td>\n      <td>1</td>\n    </tr>\n    <tr>\n      <th>619</th>\n      <td>CryptoNews</td>\n      <td>Bitcoin Price and Ethereum Prediction: BTC and...</td>\n      <td>Bitcoin (BTC) and Ethereum (ETH) have seen sig...</td>\n      <td>Source: CryptoNews Title: Bitcoin Price and Et...</td>\n      <td>1</td>\n    </tr>\n    <tr>\n      <th>620</th>\n      <td>CoinTelegraph</td>\n      <td>Bitcoin market cap grows 60% in 2023 as top Wa...</td>\n      <td>Bitcoin has decoupled from stocks and rising t...</td>\n      <td>Source: CoinTelegraph Title: Bitcoin market ca...</td>\n      <td>1</td>\n    </tr>\n  </tbody>\n</table>\n<p>621 rows × 5 columns</p>\n</div>"
     },
     "execution_count": 44,
     "metadata": {},
     "output_type": "execute_result"
    }
   ],
   "source": [
    "unsupervised_data = pd.read_csv('output/classification/BING_source_title_description_bin_clf.csv')\n",
    "unsupervised_data"
   ],
   "metadata": {
    "collapsed": false,
    "ExecuteTime": {
     "start_time": "2023-12-07T11:53:24.287209Z",
     "end_time": "2023-12-07T11:53:24.320951Z"
    }
   }
  },
  {
   "cell_type": "code",
   "execution_count": 45,
   "outputs": [],
   "source": [
    "data = pd.concat([data, unsupervised_data], axis=0)"
   ],
   "metadata": {
    "collapsed": false,
    "ExecuteTime": {
     "start_time": "2023-12-07T11:53:24.969511Z",
     "end_time": "2023-12-07T11:53:24.973705Z"
    }
   }
  },
  {
   "cell_type": "code",
   "execution_count": 46,
   "outputs": [
    {
     "data": {
      "text/plain": "               source                                              title  \\\n0       CoinTelegraph  Bitcoin options data shows bulls aiming for $1...   \n1      The Daily Hodl  Crypto Exchange Coinbase Adds Support for Two ...   \n2      The Daily Hodl  BitKeep Wallet Goes Live With .Bayc and Other ...   \n3    Bitcoin Magazine  Kazakhstan Presses On With Restrictive Bitcoin...   \n4       CoinTelegraph   The blockchain trilemma: Can it ever be tackled?   \n..                ...                                                ...   \n616      CryptoPotato  El Salvador Launches Bitcoin, Lightning Dev Tr...   \n617     CoinTelegraph  Worlds collide at Bitcoin-based DeFi project —...   \n618     CoinTelegraph  Euler Finance hacker starts returning stolen E...   \n619        CryptoNews  Bitcoin Price and Ethereum Prediction: BTC and...   \n620     CoinTelegraph  Bitcoin market cap grows 60% in 2023 as top Wa...   \n\n                                           description  \\\n0    BTC bulls could secure a $130 million profit i...   \n1    Top US crypto exchange Coinbase has given supp...   \n2    December 5, 2022 As simplified wallet addresse...   \n3    A bill that would create new licensing and ele...   \n4    Blockchain trilemma is arguably the hardest te...   \n..                                                 ...   \n616  The months-long program will offer credit and ...   \n617  Ordinals NFTs have split the Bitcoin community...   \n618  Chances that the hacker will return the entire...   \n619  Bitcoin (BTC) and Ethereum (ETH) have seen sig...   \n620  Bitcoin has decoupled from stocks and rising t...   \n\n                                                  text  label  \n0    Source: CoinTelegraph Title: Bitcoin options d...      1  \n1    Source: The Daily Hodl Title: Crypto Exchange ...      0  \n2    Source: The Daily Hodl Title: BitKeep Wallet G...      0  \n3    Source: Bitcoin Magazine Title: Kazakhstan Pre...      0  \n4    Source: CoinTelegraph Title: The blockchain tr...      0  \n..                                                 ...    ...  \n616  Source: CryptoPotato Title: El Salvador Launch...      0  \n617  Source: CoinTelegraph Title: Worlds collide at...      1  \n618  Source: CoinTelegraph Title: Euler Finance hac...      1  \n619  Source: CryptoNews Title: Bitcoin Price and Et...      1  \n620  Source: CoinTelegraph Title: Bitcoin market ca...      1  \n\n[1939 rows x 5 columns]",
      "text/html": "<div>\n<style scoped>\n    .dataframe tbody tr th:only-of-type {\n        vertical-align: middle;\n    }\n\n    .dataframe tbody tr th {\n        vertical-align: top;\n    }\n\n    .dataframe thead th {\n        text-align: right;\n    }\n</style>\n<table border=\"1\" class=\"dataframe\">\n  <thead>\n    <tr style=\"text-align: right;\">\n      <th></th>\n      <th>source</th>\n      <th>title</th>\n      <th>description</th>\n      <th>text</th>\n      <th>label</th>\n    </tr>\n  </thead>\n  <tbody>\n    <tr>\n      <th>0</th>\n      <td>CoinTelegraph</td>\n      <td>Bitcoin options data shows bulls aiming for $1...</td>\n      <td>BTC bulls could secure a $130 million profit i...</td>\n      <td>Source: CoinTelegraph Title: Bitcoin options d...</td>\n      <td>1</td>\n    </tr>\n    <tr>\n      <th>1</th>\n      <td>The Daily Hodl</td>\n      <td>Crypto Exchange Coinbase Adds Support for Two ...</td>\n      <td>Top US crypto exchange Coinbase has given supp...</td>\n      <td>Source: The Daily Hodl Title: Crypto Exchange ...</td>\n      <td>0</td>\n    </tr>\n    <tr>\n      <th>2</th>\n      <td>The Daily Hodl</td>\n      <td>BitKeep Wallet Goes Live With .Bayc and Other ...</td>\n      <td>December 5, 2022 As simplified wallet addresse...</td>\n      <td>Source: The Daily Hodl Title: BitKeep Wallet G...</td>\n      <td>0</td>\n    </tr>\n    <tr>\n      <th>3</th>\n      <td>Bitcoin Magazine</td>\n      <td>Kazakhstan Presses On With Restrictive Bitcoin...</td>\n      <td>A bill that would create new licensing and ele...</td>\n      <td>Source: Bitcoin Magazine Title: Kazakhstan Pre...</td>\n      <td>0</td>\n    </tr>\n    <tr>\n      <th>4</th>\n      <td>CoinTelegraph</td>\n      <td>The blockchain trilemma: Can it ever be tackled?</td>\n      <td>Blockchain trilemma is arguably the hardest te...</td>\n      <td>Source: CoinTelegraph Title: The blockchain tr...</td>\n      <td>0</td>\n    </tr>\n    <tr>\n      <th>...</th>\n      <td>...</td>\n      <td>...</td>\n      <td>...</td>\n      <td>...</td>\n      <td>...</td>\n    </tr>\n    <tr>\n      <th>616</th>\n      <td>CryptoPotato</td>\n      <td>El Salvador Launches Bitcoin, Lightning Dev Tr...</td>\n      <td>The months-long program will offer credit and ...</td>\n      <td>Source: CryptoPotato Title: El Salvador Launch...</td>\n      <td>0</td>\n    </tr>\n    <tr>\n      <th>617</th>\n      <td>CoinTelegraph</td>\n      <td>Worlds collide at Bitcoin-based DeFi project —...</td>\n      <td>Ordinals NFTs have split the Bitcoin community...</td>\n      <td>Source: CoinTelegraph Title: Worlds collide at...</td>\n      <td>1</td>\n    </tr>\n    <tr>\n      <th>618</th>\n      <td>CoinTelegraph</td>\n      <td>Euler Finance hacker starts returning stolen E...</td>\n      <td>Chances that the hacker will return the entire...</td>\n      <td>Source: CoinTelegraph Title: Euler Finance hac...</td>\n      <td>1</td>\n    </tr>\n    <tr>\n      <th>619</th>\n      <td>CryptoNews</td>\n      <td>Bitcoin Price and Ethereum Prediction: BTC and...</td>\n      <td>Bitcoin (BTC) and Ethereum (ETH) have seen sig...</td>\n      <td>Source: CryptoNews Title: Bitcoin Price and Et...</td>\n      <td>1</td>\n    </tr>\n    <tr>\n      <th>620</th>\n      <td>CoinTelegraph</td>\n      <td>Bitcoin market cap grows 60% in 2023 as top Wa...</td>\n      <td>Bitcoin has decoupled from stocks and rising t...</td>\n      <td>Source: CoinTelegraph Title: Bitcoin market ca...</td>\n      <td>1</td>\n    </tr>\n  </tbody>\n</table>\n<p>1939 rows × 5 columns</p>\n</div>"
     },
     "execution_count": 46,
     "metadata": {},
     "output_type": "execute_result"
    }
   ],
   "source": [
    "data"
   ],
   "metadata": {
    "collapsed": false,
    "ExecuteTime": {
     "start_time": "2023-12-07T11:53:26.792648Z",
     "end_time": "2023-12-07T11:53:26.799230Z"
    }
   }
  },
  {
   "cell_type": "code",
   "execution_count": 47,
   "id": "7f001d14",
   "metadata": {
    "ExecuteTime": {
     "start_time": "2023-12-07T11:53:30.041939Z",
     "end_time": "2023-12-07T11:53:30.192995Z"
    }
   },
   "outputs": [
    {
     "data": {
      "text/plain": "<Axes: xlabel='label', ylabel='count'>"
     },
     "execution_count": 47,
     "metadata": {},
     "output_type": "execute_result"
    },
    {
     "data": {
      "text/plain": "<Figure size 1200x800 with 1 Axes>",
      "image/png": "[encoded data removed]"
     },
     "metadata": {},
     "output_type": "display_data"
    }
   ],
   "source": [
    "plt.figure(figsize=(12, 8))\n",
    "sns.countplot(x=data['label'])"
   ]
  },
  {
   "cell_type": "code",
   "execution_count": 48,
   "id": "c9834a67",
   "metadata": {
    "ExecuteTime": {
     "start_time": "2023-12-07T11:53:35.624724Z",
     "end_time": "2023-12-07T11:53:35.634948Z"
    }
   },
   "outputs": [],
   "source": [
    "from io import StringIO\n",
    "from html.parser import HTMLParser\n",
    "\n",
    "class MLStripper(HTMLParser):\n",
    "    def __init__(self):\n",
    "        super().__init__()\n",
    "        self.reset()\n",
    "        self.strict = False\n",
    "        self.convert_charrefs= True\n",
    "        self.text = StringIO()\n",
    "    def handle_data(self, d):\n",
    "        self.text.write(d)\n",
    "    def get_data(self):\n",
    "        return self.text.getvalue()\n",
    "\n",
    "def strip_tags(html):\n",
    "    s = MLStripper()\n",
    "    s.feed(html)\n",
    "    return s.get_data()"
   ]
  },
  {
   "cell_type": "code",
   "execution_count": 49,
   "id": "9cd5176a",
   "metadata": {
    "ExecuteTime": {
     "start_time": "2023-12-07T11:53:36.462216Z",
     "end_time": "2023-12-07T11:53:36.465306Z"
    }
   },
   "outputs": [
    {
     "name": "stdout",
     "output_type": "stream",
     "text": [
      "<class 'pandas.core.frame.DataFrame'>\n",
      "Int64Index: 1939 entries, 0 to 620\n",
      "Data columns (total 5 columns):\n",
      " #   Column       Non-Null Count  Dtype \n",
      "---  ------       --------------  ----- \n",
      " 0   source       1939 non-null   object\n",
      " 1   title        1939 non-null   object\n",
      " 2   description  1939 non-null   object\n",
      " 3   text         1939 non-null   object\n",
      " 4   label        1939 non-null   int64 \n",
      "dtypes: int64(1), object(4)\n",
      "memory usage: 90.9+ KB\n"
     ]
    }
   ],
   "source": [
    "data.info()"
   ]
  },
  {
   "cell_type": "code",
   "execution_count": 50,
   "id": "9b1e6485",
   "metadata": {
    "ExecuteTime": {
     "start_time": "2023-12-07T11:53:36.845379Z",
     "end_time": "2023-12-07T11:53:36.861943Z"
    }
   },
   "outputs": [
    {
     "data": {
      "text/plain": "               source                                              title  \\\n0       CoinTelegraph  Bitcoin options data shows bulls aiming for $1...   \n1      The Daily Hodl  Crypto Exchange Coinbase Adds Support for Two ...   \n2      The Daily Hodl  BitKeep Wallet Goes Live With .Bayc and Other ...   \n3    Bitcoin Magazine  Kazakhstan Presses On With Restrictive Bitcoin...   \n4       CoinTelegraph   The blockchain trilemma: Can it ever be tackled?   \n..                ...                                                ...   \n616      CryptoPotato  El Salvador Launches Bitcoin, Lightning Dev Tr...   \n617     CoinTelegraph  Worlds collide at Bitcoin-based DeFi project —...   \n618     CoinTelegraph  Euler Finance hacker starts returning stolen E...   \n619        CryptoNews  Bitcoin Price and Ethereum Prediction: BTC and...   \n620     CoinTelegraph  Bitcoin market cap grows 60% in 2023 as top Wa...   \n\n                                           description  \\\n0    BTC bulls could secure a $130 million profit i...   \n1    Top US crypto exchange Coinbase has given supp...   \n2    December 5, 2022 As simplified wallet addresse...   \n3    A bill that would create new licensing and ele...   \n4    Blockchain trilemma is arguably the hardest te...   \n..                                                 ...   \n616  The months-long program will offer credit and ...   \n617  Ordinals NFTs have split the Bitcoin community...   \n618  Chances that the hacker will return the entire...   \n619  Bitcoin (BTC) and Ethereum (ETH) have seen sig...   \n620  Bitcoin has decoupled from stocks and rising t...   \n\n                                                  text  label  \n0    Source: CoinTelegraph Title: Bitcoin options d...      1  \n1    Source: The Daily Hodl Title: Crypto Exchange ...      0  \n2    Source: The Daily Hodl Title: BitKeep Wallet G...      0  \n3    Source: Bitcoin Magazine Title: Kazakhstan Pre...      0  \n4    Source: CoinTelegraph Title: The blockchain tr...      0  \n..                                                 ...    ...  \n616  Source: CryptoPotato Title: El Salvador Launch...      0  \n617  Source: CoinTelegraph Title: Worlds collide at...      1  \n618  Source: CoinTelegraph Title: Euler Finance hac...      1  \n619  Source: CryptoNews Title: Bitcoin Price and Et...      1  \n620  Source: CoinTelegraph Title: Bitcoin market ca...      1  \n\n[1939 rows x 5 columns]",
      "text/html": "<div>\n<style scoped>\n    .dataframe tbody tr th:only-of-type {\n        vertical-align: middle;\n    }\n\n    .dataframe tbody tr th {\n        vertical-align: top;\n    }\n\n    .dataframe thead th {\n        text-align: right;\n    }\n</style>\n<table border=\"1\" class=\"dataframe\">\n  <thead>\n    <tr style=\"text-align: right;\">\n      <th></th>\n      <th>source</th>\n      <th>title</th>\n      <th>description</th>\n      <th>text</th>\n      <th>label</th>\n    </tr>\n  </thead>\n  <tbody>\n    <tr>\n      <th>0</th>\n      <td>CoinTelegraph</td>\n      <td>Bitcoin options data shows bulls aiming for $1...</td>\n      <td>BTC bulls could secure a $130 million profit i...</td>\n      <td>Source: CoinTelegraph Title: Bitcoin options d...</td>\n      <td>1</td>\n    </tr>\n    <tr>\n      <th>1</th>\n      <td>The Daily Hodl</td>\n      <td>Crypto Exchange Coinbase Adds Support for Two ...</td>\n      <td>Top US crypto exchange Coinbase has given supp...</td>\n      <td>Source: The Daily Hodl Title: Crypto Exchange ...</td>\n      <td>0</td>\n    </tr>\n    <tr>\n      <th>2</th>\n      <td>The Daily Hodl</td>\n      <td>BitKeep Wallet Goes Live With .Bayc and Other ...</td>\n      <td>December 5, 2022 As simplified wallet addresse...</td>\n      <td>Source: The Daily Hodl Title: BitKeep Wallet G...</td>\n      <td>0</td>\n    </tr>\n    <tr>\n      <th>3</th>\n      <td>Bitcoin Magazine</td>\n      <td>Kazakhstan Presses On With Restrictive Bitcoin...</td>\n      <td>A bill that would create new licensing and ele...</td>\n      <td>Source: Bitcoin Magazine Title: Kazakhstan Pre...</td>\n      <td>0</td>\n    </tr>\n    <tr>\n      <th>4</th>\n      <td>CoinTelegraph</td>\n      <td>The blockchain trilemma: Can it ever be tackled?</td>\n      <td>Blockchain trilemma is arguably the hardest te...</td>\n      <td>Source: CoinTelegraph Title: The blockchain tr...</td>\n      <td>0</td>\n    </tr>\n    <tr>\n      <th>...</th>\n      <td>...</td>\n      <td>...</td>\n      <td>...</td>\n      <td>...</td>\n      <td>...</td>\n    </tr>\n    <tr>\n      <th>616</th>\n      <td>CryptoPotato</td>\n      <td>El Salvador Launches Bitcoin, Lightning Dev Tr...</td>\n      <td>The months-long program will offer credit and ...</td>\n      <td>Source: CryptoPotato Title: El Salvador Launch...</td>\n      <td>0</td>\n    </tr>\n    <tr>\n      <th>617</th>\n      <td>CoinTelegraph</td>\n      <td>Worlds collide at Bitcoin-based DeFi project —...</td>\n      <td>Ordinals NFTs have split the Bitcoin community...</td>\n      <td>Source: CoinTelegraph Title: Worlds collide at...</td>\n      <td>1</td>\n    </tr>\n    <tr>\n      <th>618</th>\n      <td>CoinTelegraph</td>\n      <td>Euler Finance hacker starts returning stolen E...</td>\n      <td>Chances that the hacker will return the entire...</td>\n      <td>Source: CoinTelegraph Title: Euler Finance hac...</td>\n      <td>1</td>\n    </tr>\n    <tr>\n      <th>619</th>\n      <td>CryptoNews</td>\n      <td>Bitcoin Price and Ethereum Prediction: BTC and...</td>\n      <td>Bitcoin (BTC) and Ethereum (ETH) have seen sig...</td>\n      <td>Source: CryptoNews Title: Bitcoin Price and Et...</td>\n      <td>1</td>\n    </tr>\n    <tr>\n      <th>620</th>\n      <td>CoinTelegraph</td>\n      <td>Bitcoin market cap grows 60% in 2023 as top Wa...</td>\n      <td>Bitcoin has decoupled from stocks and rising t...</td>\n      <td>Source: CoinTelegraph Title: Bitcoin market ca...</td>\n      <td>1</td>\n    </tr>\n  </tbody>\n</table>\n<p>1939 rows × 5 columns</p>\n</div>"
     },
     "execution_count": 50,
     "metadata": {},
     "output_type": "execute_result"
    }
   ],
   "source": [
    "data = data[~data['description'].isna()]\n",
    "data"
   ]
  },
  {
   "cell_type": "code",
   "execution_count": 51,
   "id": "ae8bc4bf",
   "metadata": {
    "ExecuteTime": {
     "start_time": "2023-12-07T11:53:37.698270Z",
     "end_time": "2023-12-07T11:53:37.713513Z"
    }
   },
   "outputs": [
    {
     "data": {
      "text/plain": "               source                                              title  \\\n0       CoinTelegraph  Bitcoin options data shows bulls aiming for $1...   \n1      The Daily Hodl  Crypto Exchange Coinbase Adds Support for Two ...   \n2      The Daily Hodl  BitKeep Wallet Goes Live With .Bayc and Other ...   \n3    Bitcoin Magazine  Kazakhstan Presses On With Restrictive Bitcoin...   \n4       CoinTelegraph   The blockchain trilemma: Can it ever be tackled?   \n..                ...                                                ...   \n616      CryptoPotato  El Salvador Launches Bitcoin, Lightning Dev Tr...   \n617     CoinTelegraph  Worlds collide at Bitcoin-based DeFi project —...   \n618     CoinTelegraph  Euler Finance hacker starts returning stolen E...   \n619        CryptoNews  Bitcoin Price and Ethereum Prediction: BTC and...   \n620     CoinTelegraph  Bitcoin market cap grows 60% in 2023 as top Wa...   \n\n                                           description  \\\n0    BTC bulls could secure a $130 million profit i...   \n1    Top US crypto exchange Coinbase has given supp...   \n2    December 5, 2022 As simplified wallet addresse...   \n3    A bill that would create new licensing and ele...   \n4    Blockchain trilemma is arguably the hardest te...   \n..                                                 ...   \n616  The months-long program will offer credit and ...   \n617  Ordinals NFTs have split the Bitcoin community...   \n618  Chances that the hacker will return the entire...   \n619  Bitcoin (BTC) and Ethereum (ETH) have seen sig...   \n620  Bitcoin has decoupled from stocks and rising t...   \n\n                                                  text  label  \n0    Source: CoinTelegraph Title: Bitcoin options d...      1  \n1    Source: The Daily Hodl Title: Crypto Exchange ...      0  \n2    Source: The Daily Hodl Title: BitKeep Wallet G...      0  \n3    Source: Bitcoin Magazine Title: Kazakhstan Pre...      0  \n4    Source: CoinTelegraph Title: The blockchain tr...      0  \n..                                                 ...    ...  \n616  Source: CryptoPotato Title: El Salvador Launch...      0  \n617  Source: CoinTelegraph Title: Worlds collide at...      1  \n618  Source: CoinTelegraph Title: Euler Finance hac...      1  \n619  Source: CryptoNews Title: Bitcoin Price and Et...      1  \n620  Source: CoinTelegraph Title: Bitcoin market ca...      1  \n\n[1929 rows x 5 columns]",
      "text/html": "<div>\n<style scoped>\n    .dataframe tbody tr th:only-of-type {\n        vertical-align: middle;\n    }\n\n    .dataframe tbody tr th {\n        vertical-align: top;\n    }\n\n    .dataframe thead th {\n        text-align: right;\n    }\n</style>\n<table border=\"1\" class=\"dataframe\">\n  <thead>\n    <tr style=\"text-align: right;\">\n      <th></th>\n      <th>source</th>\n      <th>title</th>\n      <th>description</th>\n      <th>text</th>\n      <th>label</th>\n    </tr>\n  </thead>\n  <tbody>\n    <tr>\n      <th>0</th>\n      <td>CoinTelegraph</td>\n      <td>Bitcoin options data shows bulls aiming for $1...</td>\n      <td>BTC bulls could secure a $130 million profit i...</td>\n      <td>Source: CoinTelegraph Title: Bitcoin options d...</td>\n      <td>1</td>\n    </tr>\n    <tr>\n      <th>1</th>\n      <td>The Daily Hodl</td>\n      <td>Crypto Exchange Coinbase Adds Support for Two ...</td>\n      <td>Top US crypto exchange Coinbase has given supp...</td>\n      <td>Source: The Daily Hodl Title: Crypto Exchange ...</td>\n      <td>0</td>\n    </tr>\n    <tr>\n      <th>2</th>\n      <td>The Daily Hodl</td>\n      <td>BitKeep Wallet Goes Live With .Bayc and Other ...</td>\n      <td>December 5, 2022 As simplified wallet addresse...</td>\n      <td>Source: The Daily Hodl Title: BitKeep Wallet G...</td>\n      <td>0</td>\n    </tr>\n    <tr>\n      <th>3</th>\n      <td>Bitcoin Magazine</td>\n      <td>Kazakhstan Presses On With Restrictive Bitcoin...</td>\n      <td>A bill that would create new licensing and ele...</td>\n      <td>Source: Bitcoin Magazine Title: Kazakhstan Pre...</td>\n      <td>0</td>\n    </tr>\n    <tr>\n      <th>4</th>\n      <td>CoinTelegraph</td>\n      <td>The blockchain trilemma: Can it ever be tackled?</td>\n      <td>Blockchain trilemma is arguably the hardest te...</td>\n      <td>Source: CoinTelegraph Title: The blockchain tr...</td>\n      <td>0</td>\n    </tr>\n    <tr>\n      <th>...</th>\n      <td>...</td>\n      <td>...</td>\n      <td>...</td>\n      <td>...</td>\n      <td>...</td>\n    </tr>\n    <tr>\n      <th>616</th>\n      <td>CryptoPotato</td>\n      <td>El Salvador Launches Bitcoin, Lightning Dev Tr...</td>\n      <td>The months-long program will offer credit and ...</td>\n      <td>Source: CryptoPotato Title: El Salvador Launch...</td>\n      <td>0</td>\n    </tr>\n    <tr>\n      <th>617</th>\n      <td>CoinTelegraph</td>\n      <td>Worlds collide at Bitcoin-based DeFi project —...</td>\n      <td>Ordinals NFTs have split the Bitcoin community...</td>\n      <td>Source: CoinTelegraph Title: Worlds collide at...</td>\n      <td>1</td>\n    </tr>\n    <tr>\n      <th>618</th>\n      <td>CoinTelegraph</td>\n      <td>Euler Finance hacker starts returning stolen E...</td>\n      <td>Chances that the hacker will return the entire...</td>\n      <td>Source: CoinTelegraph Title: Euler Finance hac...</td>\n      <td>1</td>\n    </tr>\n    <tr>\n      <th>619</th>\n      <td>CryptoNews</td>\n      <td>Bitcoin Price and Ethereum Prediction: BTC and...</td>\n      <td>Bitcoin (BTC) and Ethereum (ETH) have seen sig...</td>\n      <td>Source: CryptoNews Title: Bitcoin Price and Et...</td>\n      <td>1</td>\n    </tr>\n    <tr>\n      <th>620</th>\n      <td>CoinTelegraph</td>\n      <td>Bitcoin market cap grows 60% in 2023 as top Wa...</td>\n      <td>Bitcoin has decoupled from stocks and rising t...</td>\n      <td>Source: CoinTelegraph Title: Bitcoin market ca...</td>\n      <td>1</td>\n    </tr>\n  </tbody>\n</table>\n<p>1929 rows × 5 columns</p>\n</div>"
     },
     "execution_count": 51,
     "metadata": {},
     "output_type": "execute_result"
    }
   ],
   "source": [
    "data = data.drop_duplicates(['description'])\n",
    "data"
   ]
  },
  {
   "cell_type": "code",
   "execution_count": 52,
   "id": "d97ee377",
   "metadata": {
    "ExecuteTime": {
     "start_time": "2023-12-07T11:53:38.597287Z",
     "end_time": "2023-12-07T11:53:38.614465Z"
    }
   },
   "outputs": [
    {
     "data": {
      "text/plain": "                source                                              title  \\\n0        CoinTelegraph  Bitcoin options data shows bulls aiming for $1...   \n1       The Daily Hodl  Crypto Exchange Coinbase Adds Support for Two ...   \n2       The Daily Hodl  BitKeep Wallet Goes Live With .Bayc and Other ...   \n3     Bitcoin Magazine  Kazakhstan Presses On With Restrictive Bitcoin...   \n4        CoinTelegraph   The blockchain trilemma: Can it ever be tackled?   \n...                ...                                                ...   \n1924      CryptoPotato  El Salvador Launches Bitcoin, Lightning Dev Tr...   \n1925     CoinTelegraph  Worlds collide at Bitcoin-based DeFi project —...   \n1926     CoinTelegraph  Euler Finance hacker starts returning stolen E...   \n1927        CryptoNews  Bitcoin Price and Ethereum Prediction: BTC and...   \n1928     CoinTelegraph  Bitcoin market cap grows 60% in 2023 as top Wa...   \n\n                                            description  \\\n0     BTC bulls could secure a $130 million profit i...   \n1     Top US crypto exchange Coinbase has given supp...   \n2     December 5, 2022 As simplified wallet addresse...   \n3     A bill that would create new licensing and ele...   \n4     Blockchain trilemma is arguably the hardest te...   \n...                                                 ...   \n1924  The months-long program will offer credit and ...   \n1925  Ordinals NFTs have split the Bitcoin community...   \n1926  Chances that the hacker will return the entire...   \n1927  Bitcoin (BTC) and Ethereum (ETH) have seen sig...   \n1928  Bitcoin has decoupled from stocks and rising t...   \n\n                                                   text  label  \n0     Source: CoinTelegraph Title: Bitcoin options d...      1  \n1     Source: The Daily Hodl Title: Crypto Exchange ...      0  \n2     Source: The Daily Hodl Title: BitKeep Wallet G...      0  \n3     Source: Bitcoin Magazine Title: Kazakhstan Pre...      0  \n4     Source: CoinTelegraph Title: The blockchain tr...      0  \n...                                                 ...    ...  \n1924  Source: CryptoPotato Title: El Salvador Launch...      0  \n1925  Source: CoinTelegraph Title: Worlds collide at...      1  \n1926  Source: CoinTelegraph Title: Euler Finance hac...      1  \n1927  Source: CryptoNews Title: Bitcoin Price and Et...      1  \n1928  Source: CoinTelegraph Title: Bitcoin market ca...      1  \n\n[1929 rows x 5 columns]",
      "text/html": "<div>\n<style scoped>\n    .dataframe tbody tr th:only-of-type {\n        vertical-align: middle;\n    }\n\n    .dataframe tbody tr th {\n        vertical-align: top;\n    }\n\n    .dataframe thead th {\n        text-align: right;\n    }\n</style>\n<table border=\"1\" class=\"dataframe\">\n  <thead>\n    <tr style=\"text-align: right;\">\n      <th></th>\n      <th>source</th>\n      <th>title</th>\n      <th>description</th>\n      <th>text</th>\n      <th>label</th>\n    </tr>\n  </thead>\n  <tbody>\n    <tr>\n      <th>0</th>\n      <td>CoinTelegraph</td>\n      <td>Bitcoin options data shows bulls aiming for $1...</td>\n      <td>BTC bulls could secure a $130 million profit i...</td>\n      <td>Source: CoinTelegraph Title: Bitcoin options d...</td>\n      <td>1</td>\n    </tr>\n    <tr>\n      <th>1</th>\n      <td>The Daily Hodl</td>\n      <td>Crypto Exchange Coinbase Adds Support for Two ...</td>\n      <td>Top US crypto exchange Coinbase has given supp...</td>\n      <td>Source: The Daily Hodl Title: Crypto Exchange ...</td>\n      <td>0</td>\n    </tr>\n    <tr>\n      <th>2</th>\n      <td>The Daily Hodl</td>\n      <td>BitKeep Wallet Goes Live With .Bayc and Other ...</td>\n      <td>December 5, 2022 As simplified wallet addresse...</td>\n      <td>Source: The Daily Hodl Title: BitKeep Wallet G...</td>\n      <td>0</td>\n    </tr>\n    <tr>\n      <th>3</th>\n      <td>Bitcoin Magazine</td>\n      <td>Kazakhstan Presses On With Restrictive Bitcoin...</td>\n      <td>A bill that would create new licensing and ele...</td>\n      <td>Source: Bitcoin Magazine Title: Kazakhstan Pre...</td>\n      <td>0</td>\n    </tr>\n    <tr>\n      <th>4</th>\n      <td>CoinTelegraph</td>\n      <td>The blockchain trilemma: Can it ever be tackled?</td>\n      <td>Blockchain trilemma is arguably the hardest te...</td>\n      <td>Source: CoinTelegraph Title: The blockchain tr...</td>\n      <td>0</td>\n    </tr>\n    <tr>\n      <th>...</th>\n      <td>...</td>\n      <td>...</td>\n      <td>...</td>\n      <td>...</td>\n      <td>...</td>\n    </tr>\n    <tr>\n      <th>1924</th>\n      <td>CryptoPotato</td>\n      <td>El Salvador Launches Bitcoin, Lightning Dev Tr...</td>\n      <td>The months-long program will offer credit and ...</td>\n      <td>Source: CryptoPotato Title: El Salvador Launch...</td>\n      <td>0</td>\n    </tr>\n    <tr>\n      <th>1925</th>\n      <td>CoinTelegraph</td>\n      <td>Worlds collide at Bitcoin-based DeFi project —...</td>\n      <td>Ordinals NFTs have split the Bitcoin community...</td>\n      <td>Source: CoinTelegraph Title: Worlds collide at...</td>\n      <td>1</td>\n    </tr>\n    <tr>\n      <th>1926</th>\n      <td>CoinTelegraph</td>\n      <td>Euler Finance hacker starts returning stolen E...</td>\n      <td>Chances that the hacker will return the entire...</td>\n      <td>Source: CoinTelegraph Title: Euler Finance hac...</td>\n      <td>1</td>\n    </tr>\n    <tr>\n      <th>1927</th>\n      <td>CryptoNews</td>\n      <td>Bitcoin Price and Ethereum Prediction: BTC and...</td>\n      <td>Bitcoin (BTC) and Ethereum (ETH) have seen sig...</td>\n      <td>Source: CryptoNews Title: Bitcoin Price and Et...</td>\n      <td>1</td>\n    </tr>\n    <tr>\n      <th>1928</th>\n      <td>CoinTelegraph</td>\n      <td>Bitcoin market cap grows 60% in 2023 as top Wa...</td>\n      <td>Bitcoin has decoupled from stocks and rising t...</td>\n      <td>Source: CoinTelegraph Title: Bitcoin market ca...</td>\n      <td>1</td>\n    </tr>\n  </tbody>\n</table>\n<p>1929 rows × 5 columns</p>\n</div>"
     },
     "execution_count": 52,
     "metadata": {},
     "output_type": "execute_result"
    }
   ],
   "source": [
    "data['description'] = data['description'].apply(strip_tags)\n",
    "data = data.reset_index(drop=True)\n",
    "data"
   ]
  },
  {
   "cell_type": "code",
   "execution_count": 53,
   "id": "64a69011",
   "metadata": {
    "ExecuteTime": {
     "start_time": "2023-12-07T11:53:40.049516Z",
     "end_time": "2023-12-07T11:53:40.060617Z"
    }
   },
   "outputs": [
    {
     "data": {
      "text/plain": "TfidfVectorizer(stop_words='english')",
      "text/html": "<style>#sk-container-id-2 {color: black;background-color: white;}#sk-container-id-2 pre{padding: 0;}#sk-container-id-2 div.sk-toggleable {background-color: white;}#sk-container-id-2 label.sk-toggleable__label {cursor: pointer;display: block;width: 100%;margin-bottom: 0;padding: 0.3em;box-sizing: border-box;text-align: center;}#sk-container-id-2 label.sk-toggleable__label-arrow:before {content: \"▸\";float: left;margin-right: 0.25em;color: #696969;}#sk-container-id-2 label.sk-toggleable__label-arrow:hover:before {color: black;}#sk-container-id-2 div.sk-estimator:hover label.sk-toggleable__label-arrow:before {color: black;}#sk-container-id-2 div.sk-toggleable__content {max-height: 0;max-width: 0;overflow: hidden;text-align: left;background-color: #f0f8ff;}#sk-container-id-2 div.sk-toggleable__content pre {margin: 0.2em;color: black;border-radius: 0.25em;background-color: #f0f8ff;}#sk-container-id-2 input.sk-toggleable__control:checked~div.sk-toggleable__content {max-height: 200px;max-width: 100%;overflow: auto;}#sk-container-id-2 input.sk-toggleable__control:checked~label.sk-toggleable__label-arrow:before {content: \"▾\";}#sk-container-id-2 div.sk-estimator input.sk-toggleable__control:checked~label.sk-toggleable__label {background-color: #d4ebff;}#sk-container-id-2 div.sk-label input.sk-toggleable__control:checked~label.sk-toggleable__label {background-color: #d4ebff;}#sk-container-id-2 input.sk-hidden--visually {border: 0;clip: rect(1px 1px 1px 1px);clip: rect(1px, 1px, 1px, 1px);height: 1px;margin: -1px;overflow: hidden;padding: 0;position: absolute;width: 1px;}#sk-container-id-2 div.sk-estimator {font-family: monospace;background-color: #f0f8ff;border: 1px dotted black;border-radius: 0.25em;box-sizing: border-box;margin-bottom: 0.5em;}#sk-container-id-2 div.sk-estimator:hover {background-color: #d4ebff;}#sk-container-id-2 div.sk-parallel-item::after {content: \"\";width: 100%;border-bottom: 1px solid gray;flex-grow: 1;}#sk-container-id-2 div.sk-label:hover label.sk-toggleable__label {background-color: #d4ebff;}#sk-container-id-2 div.sk-serial::before {content: \"\";position: absolute;border-left: 1px solid gray;box-sizing: border-box;top: 0;bottom: 0;left: 50%;z-index: 0;}#sk-container-id-2 div.sk-serial {display: flex;flex-direction: column;align-items: center;background-color: white;padding-right: 0.2em;padding-left: 0.2em;position: relative;}#sk-container-id-2 div.sk-item {position: relative;z-index: 1;}#sk-container-id-2 div.sk-parallel {display: flex;align-items: stretch;justify-content: center;background-color: white;position: relative;}#sk-container-id-2 div.sk-item::before, #sk-container-id-2 div.sk-parallel-item::before {content: \"\";position: absolute;border-left: 1px solid gray;box-sizing: border-box;top: 0;bottom: 0;left: 50%;z-index: -1;}#sk-container-id-2 div.sk-parallel-item {display: flex;flex-direction: column;z-index: 1;position: relative;background-color: white;}#sk-container-id-2 div.sk-parallel-item:first-child::after {align-self: flex-end;width: 50%;}#sk-container-id-2 div.sk-parallel-item:last-child::after {align-self: flex-start;width: 50%;}#sk-container-id-2 div.sk-parallel-item:only-child::after {width: 0;}#sk-container-id-2 div.sk-dashed-wrapped {border: 1px dashed gray;margin: 0 0.4em 0.5em 0.4em;box-sizing: border-box;padding-bottom: 0.4em;background-color: white;}#sk-container-id-2 div.sk-label label {font-family: monospace;font-weight: bold;display: inline-block;line-height: 1.2em;}#sk-container-id-2 div.sk-label-container {text-align: center;}#sk-container-id-2 div.sk-container {/* jupyter's `normalize.less` sets `[hidden] { display: none; }` but bootstrap.min.css set `[hidden] { display: none !important; }` so we also need the `!important` here to be able to override the default hidden behavior on the sphinx rendered scikit-learn.org. See: https://github.com/scikit-learn/scikit-learn/issues/21755 */display: inline-block !important;position: relative;}#sk-container-id-2 div.sk-text-repr-fallback {display: none;}</style><div id=\"sk-container-id-2\" class=\"sk-top-container\"><div class=\"sk-text-repr-fallback\"><pre>TfidfVectorizer(stop_words=&#x27;english&#x27;)</pre><b>In a Jupyter environment, please rerun this cell to show the HTML representation or trust the notebook. <br />On GitHub, the HTML representation is unable to render, please try loading this page with nbviewer.org.</b></div><div class=\"sk-container\" hidden><div class=\"sk-item\"><div class=\"sk-estimator sk-toggleable\"><input class=\"sk-toggleable__control sk-hidden--visually\" id=\"sk-estimator-id-2\" type=\"checkbox\" checked><label for=\"sk-estimator-id-2\" class=\"sk-toggleable__label sk-toggleable__label-arrow\">TfidfVectorizer</label><div class=\"sk-toggleable__content\"><pre>TfidfVectorizer(stop_words=&#x27;english&#x27;)</pre></div></div></div></div></div>"
     },
     "execution_count": 53,
     "metadata": {},
     "output_type": "execute_result"
    }
   ],
   "source": [
    "tfidf_vectorizer = TfidfVectorizer(analyzer='word', stop_words='english')\n",
    "tfidf_vectorizer"
   ]
  },
  {
   "cell_type": "code",
   "execution_count": 54,
   "id": "2b741d3f",
   "metadata": {
    "ExecuteTime": {
     "start_time": "2023-12-07T11:53:41.016678Z",
     "end_time": "2023-12-07T11:53:41.067649Z"
    }
   },
   "outputs": [
    {
     "data": {
      "text/plain": "<1929x7109 sparse matrix of type '<class 'numpy.float64'>'\n\twith 36268 stored elements in Compressed Sparse Row format>"
     },
     "execution_count": 54,
     "metadata": {},
     "output_type": "execute_result"
    }
   ],
   "source": [
    "tfidf_matrix = tfidf_vectorizer.fit_transform(data['description'])\n",
    "tfidf_matrix"
   ]
  },
  {
   "cell_type": "code",
   "execution_count": 55,
   "id": "fcd9ecaa",
   "metadata": {
    "ExecuteTime": {
     "start_time": "2023-12-07T11:53:41.817559Z",
     "end_time": "2023-12-07T11:53:41.880723Z"
    }
   },
   "outputs": [
    {
     "data": {
      "text/plain": "      0         1     2     3     4     5     6     7     8     9     ...  \\\n0      0.0  0.151081   0.0   0.0   0.0   0.0   0.0   0.0   0.0   0.0  ...   \n1      0.0  0.000000   0.0   0.0   0.0   0.0   0.0   0.0   0.0   0.0  ...   \n2      0.0  0.000000   0.0   0.0   0.0   0.0   0.0   0.0   0.0   0.0  ...   \n3      0.0  0.000000   0.0   0.0   0.0   0.0   0.0   0.0   0.0   0.0  ...   \n4      0.0  0.000000   0.0   0.0   0.0   0.0   0.0   0.0   0.0   0.0  ...   \n...    ...       ...   ...   ...   ...   ...   ...   ...   ...   ...  ...   \n1924   0.0  0.000000   0.0   0.0   0.0   0.0   0.0   0.0   0.0   0.0  ...   \n1925   0.0  0.000000   0.0   0.0   0.0   0.0   0.0   0.0   0.0   0.0  ...   \n1926   0.0  0.145955   0.0   0.0   0.0   0.0   0.0   0.0   0.0   0.0  ...   \n1927   0.0  0.000000   0.0   0.0   0.0   0.0   0.0   0.0   0.0   0.0  ...   \n1928   0.0  0.000000   0.0   0.0   0.0   0.0   0.0   0.0   0.0   0.0  ...   \n\n      7099  7100  7101  7102  7103  7104  7105  7106  7107  7108  \n0      0.0   0.0   0.0   0.0   0.0   0.0   0.0   0.0   0.0   0.0  \n1      0.0   0.0   0.0   0.0   0.0   0.0   0.0   0.0   0.0   0.0  \n2      0.0   0.0   0.0   0.0   0.0   0.0   0.0   0.0   0.0   0.0  \n3      0.0   0.0   0.0   0.0   0.0   0.0   0.0   0.0   0.0   0.0  \n4      0.0   0.0   0.0   0.0   0.0   0.0   0.0   0.0   0.0   0.0  \n...    ...   ...   ...   ...   ...   ...   ...   ...   ...   ...  \n1924   0.0   0.0   0.0   0.0   0.0   0.0   0.0   0.0   0.0   0.0  \n1925   0.0   0.0   0.0   0.0   0.0   0.0   0.0   0.0   0.0   0.0  \n1926   0.0   0.0   0.0   0.0   0.0   0.0   0.0   0.0   0.0   0.0  \n1927   0.0   0.0   0.0   0.0   0.0   0.0   0.0   0.0   0.0   0.0  \n1928   0.0   0.0   0.0   0.0   0.0   0.0   0.0   0.0   0.0   0.0  \n\n[1929 rows x 7109 columns]",
      "text/html": "<div>\n<style scoped>\n    .dataframe tbody tr th:only-of-type {\n        vertical-align: middle;\n    }\n\n    .dataframe tbody tr th {\n        vertical-align: top;\n    }\n\n    .dataframe thead th {\n        text-align: right;\n    }\n</style>\n<table border=\"1\" class=\"dataframe\">\n  <thead>\n    <tr style=\"text-align: right;\">\n      <th></th>\n      <th>0</th>\n      <th>1</th>\n      <th>2</th>\n      <th>3</th>\n      <th>4</th>\n      <th>5</th>\n      <th>6</th>\n      <th>7</th>\n      <th>8</th>\n      <th>9</th>\n      <th>...</th>\n      <th>7099</th>\n      <th>7100</th>\n      <th>7101</th>\n      <th>7102</th>\n      <th>7103</th>\n      <th>7104</th>\n      <th>7105</th>\n      <th>7106</th>\n      <th>7107</th>\n      <th>7108</th>\n    </tr>\n  </thead>\n  <tbody>\n    <tr>\n      <th>0</th>\n      <td>0.0</td>\n      <td>0.151081</td>\n      <td>0.0</td>\n      <td>0.0</td>\n      <td>0.0</td>\n      <td>0.0</td>\n      <td>0.0</td>\n      <td>0.0</td>\n      <td>0.0</td>\n      <td>0.0</td>\n      <td>...</td>\n      <td>0.0</td>\n      <td>0.0</td>\n      <td>0.0</td>\n      <td>0.0</td>\n      <td>0.0</td>\n      <td>0.0</td>\n      <td>0.0</td>\n      <td>0.0</td>\n      <td>0.0</td>\n      <td>0.0</td>\n    </tr>\n    <tr>\n      <th>1</th>\n      <td>0.0</td>\n      <td>0.000000</td>\n      <td>0.0</td>\n      <td>0.0</td>\n      <td>0.0</td>\n      <td>0.0</td>\n      <td>0.0</td>\n      <td>0.0</td>\n      <td>0.0</td>\n      <td>0.0</td>\n      <td>...</td>\n      <td>0.0</td>\n      <td>0.0</td>\n      <td>0.0</td>\n      <td>0.0</td>\n      <td>0.0</td>\n      <td>0.0</td>\n      <td>0.0</td>\n      <td>0.0</td>\n      <td>0.0</td>\n      <td>0.0</td>\n    </tr>\n    <tr>\n      <th>2</th>\n      <td>0.0</td>\n      <td>0.000000</td>\n      <td>0.0</td>\n      <td>0.0</td>\n      <td>0.0</td>\n      <td>0.0</td>\n      <td>0.0</td>\n      <td>0.0</td>\n      <td>0.0</td>\n      <td>0.0</td>\n      <td>...</td>\n      <td>0.0</td>\n      <td>0.0</td>\n      <td>0.0</td>\n      <td>0.0</td>\n      <td>0.0</td>\n      <td>0.0</td>\n      <td>0.0</td>\n      <td>0.0</td>\n      <td>0.0</td>\n      <td>0.0</td>\n    </tr>\n    <tr>\n      <th>3</th>\n      <td>0.0</td>\n      <td>0.000000</td>\n      <td>0.0</td>\n      <td>0.0</td>\n      <td>0.0</td>\n      <td>0.0</td>\n      <td>0.0</td>\n      <td>0.0</td>\n      <td>0.0</td>\n      <td>0.0</td>\n      <td>...</td>\n      <td>0.0</td>\n      <td>0.0</td>\n      <td>0.0</td>\n      <td>0.0</td>\n      <td>0.0</td>\n      <td>0.0</td>\n      <td>0.0</td>\n      <td>0.0</td>\n      <td>0.0</td>\n      <td>0.0</td>\n    </tr>\n    <tr>\n      <th>4</th>\n      <td>0.0</td>\n      <td>0.000000</td>\n      <td>0.0</td>\n      <td>0.0</td>\n      <td>0.0</td>\n      <td>0.0</td>\n      <td>0.0</td>\n      <td>0.0</td>\n      <td>0.0</td>\n      <td>0.0</td>\n      <td>...</td>\n      <td>0.0</td>\n      <td>0.0</td>\n      <td>0.0</td>\n      <td>0.0</td>\n      <td>0.0</td>\n      <td>0.0</td>\n      <td>0.0</td>\n      <td>0.0</td>\n      <td>0.0</td>\n      <td>0.0</td>\n    </tr>\n    <tr>\n      <th>...</th>\n      <td>...</td>\n      <td>...</td>\n      <td>...</td>\n      <td>...</td>\n      <td>...</td>\n      <td>...</td>\n      <td>...</td>\n      <td>...</td>\n      <td>...</td>\n      <td>...</td>\n      <td>...</td>\n      <td>...</td>\n      <td>...</td>\n      <td>...</td>\n      <td>...</td>\n      <td>...</td>\n      <td>...</td>\n      <td>...</td>\n      <td>...</td>\n      <td>...</td>\n      <td>...</td>\n    </tr>\n    <tr>\n      <th>1924</th>\n      <td>0.0</td>\n      <td>0.000000</td>\n      <td>0.0</td>\n      <td>0.0</td>\n      <td>0.0</td>\n      <td>0.0</td>\n      <td>0.0</td>\n      <td>0.0</td>\n      <td>0.0</td>\n      <td>0.0</td>\n      <td>...</td>\n      <td>0.0</td>\n      <td>0.0</td>\n      <td>0.0</td>\n      <td>0.0</td>\n      <td>0.0</td>\n      <td>0.0</td>\n      <td>0.0</td>\n      <td>0.0</td>\n      <td>0.0</td>\n      <td>0.0</td>\n    </tr>\n    <tr>\n      <th>1925</th>\n      <td>0.0</td>\n      <td>0.000000</td>\n      <td>0.0</td>\n      <td>0.0</td>\n      <td>0.0</td>\n      <td>0.0</td>\n      <td>0.0</td>\n      <td>0.0</td>\n      <td>0.0</td>\n      <td>0.0</td>\n      <td>...</td>\n      <td>0.0</td>\n      <td>0.0</td>\n      <td>0.0</td>\n      <td>0.0</td>\n      <td>0.0</td>\n      <td>0.0</td>\n      <td>0.0</td>\n      <td>0.0</td>\n      <td>0.0</td>\n      <td>0.0</td>\n    </tr>\n    <tr>\n      <th>1926</th>\n      <td>0.0</td>\n      <td>0.145955</td>\n      <td>0.0</td>\n      <td>0.0</td>\n      <td>0.0</td>\n      <td>0.0</td>\n      <td>0.0</td>\n      <td>0.0</td>\n      <td>0.0</td>\n      <td>0.0</td>\n      <td>...</td>\n      <td>0.0</td>\n      <td>0.0</td>\n      <td>0.0</td>\n      <td>0.0</td>\n      <td>0.0</td>\n      <td>0.0</td>\n      <td>0.0</td>\n      <td>0.0</td>\n      <td>0.0</td>\n      <td>0.0</td>\n    </tr>\n    <tr>\n      <th>1927</th>\n      <td>0.0</td>\n      <td>0.000000</td>\n      <td>0.0</td>\n      <td>0.0</td>\n      <td>0.0</td>\n      <td>0.0</td>\n      <td>0.0</td>\n      <td>0.0</td>\n      <td>0.0</td>\n      <td>0.0</td>\n      <td>...</td>\n      <td>0.0</td>\n      <td>0.0</td>\n      <td>0.0</td>\n      <td>0.0</td>\n      <td>0.0</td>\n      <td>0.0</td>\n      <td>0.0</td>\n      <td>0.0</td>\n      <td>0.0</td>\n      <td>0.0</td>\n    </tr>\n    <tr>\n      <th>1928</th>\n      <td>0.0</td>\n      <td>0.000000</td>\n      <td>0.0</td>\n      <td>0.0</td>\n      <td>0.0</td>\n      <td>0.0</td>\n      <td>0.0</td>\n      <td>0.0</td>\n      <td>0.0</td>\n      <td>0.0</td>\n      <td>...</td>\n      <td>0.0</td>\n      <td>0.0</td>\n      <td>0.0</td>\n      <td>0.0</td>\n      <td>0.0</td>\n      <td>0.0</td>\n      <td>0.0</td>\n      <td>0.0</td>\n      <td>0.0</td>\n      <td>0.0</td>\n    </tr>\n  </tbody>\n</table>\n<p>1929 rows × 7109 columns</p>\n</div>"
     },
     "execution_count": 55,
     "metadata": {},
     "output_type": "execute_result"
    }
   ],
   "source": [
    "tfidf_data = pd.DataFrame(tfidf_matrix.toarray())\n",
    "tfidf_data"
   ]
  },
  {
   "cell_type": "code",
   "execution_count": 56,
   "id": "a5582cd8",
   "metadata": {
    "ExecuteTime": {
     "start_time": "2023-12-07T11:53:42.813864Z",
     "end_time": "2023-12-07T11:53:42.823723Z"
    }
   },
   "outputs": [
    {
     "data": {
      "text/plain": "array(['00', '000', '00001', ..., 'zksync', 'zone', 'zuckerberg'],\n      dtype=object)"
     },
     "execution_count": 56,
     "metadata": {},
     "output_type": "execute_result"
    }
   ],
   "source": [
    "feature_names = tfidf_vectorizer.get_feature_names_out()\n",
    "feature_names"
   ]
  },
  {
   "cell_type": "code",
   "execution_count": 57,
   "id": "770036f0",
   "metadata": {
    "ExecuteTime": {
     "start_time": "2023-12-07T11:53:44.462921Z",
     "end_time": "2023-12-07T11:53:44.484879Z"
    }
   },
   "outputs": [
    {
     "data": {
      "text/plain": "       00       000  00001  00001085  00001087  00001088  00001120  00012616  \\\n0     0.0  0.151081    0.0       0.0       0.0       0.0       0.0       0.0   \n1     0.0  0.000000    0.0       0.0       0.0       0.0       0.0       0.0   \n2     0.0  0.000000    0.0       0.0       0.0       0.0       0.0       0.0   \n3     0.0  0.000000    0.0       0.0       0.0       0.0       0.0       0.0   \n4     0.0  0.000000    0.0       0.0       0.0       0.0       0.0       0.0   \n...   ...       ...    ...       ...       ...       ...       ...       ...   \n1924  0.0  0.000000    0.0       0.0       0.0       0.0       0.0       0.0   \n1925  0.0  0.000000    0.0       0.0       0.0       0.0       0.0       0.0   \n1926  0.0  0.145955    0.0       0.0       0.0       0.0       0.0       0.0   \n1927  0.0  0.000000    0.0       0.0       0.0       0.0       0.0       0.0   \n1928  0.0  0.000000    0.0       0.0       0.0       0.0       0.0       0.0   \n\n      00012738   01  ...  zeldin  zero  zhao  zipmex   zk  zk_nhpq0  zkevm  \\\n0          0.0  0.0  ...     0.0   0.0   0.0     0.0  0.0       0.0    0.0   \n1          0.0  0.0  ...     0.0   0.0   0.0     0.0  0.0       0.0    0.0   \n2          0.0  0.0  ...     0.0   0.0   0.0     0.0  0.0       0.0    0.0   \n3          0.0  0.0  ...     0.0   0.0   0.0     0.0  0.0       0.0    0.0   \n4          0.0  0.0  ...     0.0   0.0   0.0     0.0  0.0       0.0    0.0   \n...        ...  ...  ...     ...   ...   ...     ...  ...       ...    ...   \n1924       0.0  0.0  ...     0.0   0.0   0.0     0.0  0.0       0.0    0.0   \n1925       0.0  0.0  ...     0.0   0.0   0.0     0.0  0.0       0.0    0.0   \n1926       0.0  0.0  ...     0.0   0.0   0.0     0.0  0.0       0.0    0.0   \n1927       0.0  0.0  ...     0.0   0.0   0.0     0.0  0.0       0.0    0.0   \n1928       0.0  0.0  ...     0.0   0.0   0.0     0.0  0.0       0.0    0.0   \n\n      zksync  zone  zuckerberg  \n0        0.0   0.0         0.0  \n1        0.0   0.0         0.0  \n2        0.0   0.0         0.0  \n3        0.0   0.0         0.0  \n4        0.0   0.0         0.0  \n...      ...   ...         ...  \n1924     0.0   0.0         0.0  \n1925     0.0   0.0         0.0  \n1926     0.0   0.0         0.0  \n1927     0.0   0.0         0.0  \n1928     0.0   0.0         0.0  \n\n[1929 rows x 7109 columns]",
      "text/html": "<div>\n<style scoped>\n    .dataframe tbody tr th:only-of-type {\n        vertical-align: middle;\n    }\n\n    .dataframe tbody tr th {\n        vertical-align: top;\n    }\n\n    .dataframe thead th {\n        text-align: right;\n    }\n</style>\n<table border=\"1\" class=\"dataframe\">\n  <thead>\n    <tr style=\"text-align: right;\">\n      <th></th>\n      <th>00</th>\n      <th>000</th>\n      <th>00001</th>\n      <th>00001085</th>\n      <th>00001087</th>\n      <th>00001088</th>\n      <th>00001120</th>\n      <th>00012616</th>\n      <th>00012738</th>\n      <th>01</th>\n      <th>...</th>\n      <th>zeldin</th>\n      <th>zero</th>\n      <th>zhao</th>\n      <th>zipmex</th>\n      <th>zk</th>\n      <th>zk_nhpq0</th>\n      <th>zkevm</th>\n      <th>zksync</th>\n      <th>zone</th>\n      <th>zuckerberg</th>\n    </tr>\n  </thead>\n  <tbody>\n    <tr>\n      <th>0</th>\n      <td>0.0</td>\n      <td>0.151081</td>\n      <td>0.0</td>\n      <td>0.0</td>\n      <td>0.0</td>\n      <td>0.0</td>\n      <td>0.0</td>\n      <td>0.0</td>\n      <td>0.0</td>\n      <td>0.0</td>\n      <td>...</td>\n      <td>0.0</td>\n      <td>0.0</td>\n      <td>0.0</td>\n      <td>0.0</td>\n      <td>0.0</td>\n      <td>0.0</td>\n      <td>0.0</td>\n      <td>0.0</td>\n      <td>0.0</td>\n      <td>0.0</td>\n    </tr>\n    <tr>\n      <th>1</th>\n      <td>0.0</td>\n      <td>0.000000</td>\n      <td>0.0</td>\n      <td>0.0</td>\n      <td>0.0</td>\n      <td>0.0</td>\n      <td>0.0</td>\n      <td>0.0</td>\n      <td>0.0</td>\n      <td>0.0</td>\n      <td>...</td>\n      <td>0.0</td>\n      <td>0.0</td>\n      <td>0.0</td>\n      <td>0.0</td>\n      <td>0.0</td>\n      <td>0.0</td>\n      <td>0.0</td>\n      <td>0.0</td>\n      <td>0.0</td>\n      <td>0.0</td>\n    </tr>\n    <tr>\n      <th>2</th>\n      <td>0.0</td>\n      <td>0.000000</td>\n      <td>0.0</td>\n      <td>0.0</td>\n      <td>0.0</td>\n      <td>0.0</td>\n      <td>0.0</td>\n      <td>0.0</td>\n      <td>0.0</td>\n      <td>0.0</td>\n      <td>...</td>\n      <td>0.0</td>\n      <td>0.0</td>\n      <td>0.0</td>\n      <td>0.0</td>\n      <td>0.0</td>\n      <td>0.0</td>\n      <td>0.0</td>\n      <td>0.0</td>\n      <td>0.0</td>\n      <td>0.0</td>\n    </tr>\n    <tr>\n      <th>3</th>\n      <td>0.0</td>\n      <td>0.000000</td>\n      <td>0.0</td>\n      <td>0.0</td>\n      <td>0.0</td>\n      <td>0.0</td>\n      <td>0.0</td>\n      <td>0.0</td>\n      <td>0.0</td>\n      <td>0.0</td>\n      <td>...</td>\n      <td>0.0</td>\n      <td>0.0</td>\n      <td>0.0</td>\n      <td>0.0</td>\n      <td>0.0</td>\n      <td>0.0</td>\n      <td>0.0</td>\n      <td>0.0</td>\n      <td>0.0</td>\n      <td>0.0</td>\n    </tr>\n    <tr>\n      <th>4</th>\n      <td>0.0</td>\n      <td>0.000000</td>\n      <td>0.0</td>\n      <td>0.0</td>\n      <td>0.0</td>\n      <td>0.0</td>\n      <td>0.0</td>\n      <td>0.0</td>\n      <td>0.0</td>\n      <td>0.0</td>\n      <td>...</td>\n      <td>0.0</td>\n      <td>0.0</td>\n      <td>0.0</td>\n      <td>0.0</td>\n      <td>0.0</td>\n      <td>0.0</td>\n      <td>0.0</td>\n      <td>0.0</td>\n      <td>0.0</td>\n      <td>0.0</td>\n    </tr>\n    <tr>\n      <th>...</th>\n      <td>...</td>\n      <td>...</td>\n      <td>...</td>\n      <td>...</td>\n      <td>...</td>\n      <td>...</td>\n      <td>...</td>\n      <td>...</td>\n      <td>...</td>\n      <td>...</td>\n      <td>...</td>\n      <td>...</td>\n      <td>...</td>\n      <td>...</td>\n      <td>...</td>\n      <td>...</td>\n      <td>...</td>\n      <td>...</td>\n      <td>...</td>\n      <td>...</td>\n      <td>...</td>\n    </tr>\n    <tr>\n      <th>1924</th>\n      <td>0.0</td>\n      <td>0.000000</td>\n      <td>0.0</td>\n      <td>0.0</td>\n      <td>0.0</td>\n      <td>0.0</td>\n      <td>0.0</td>\n      <td>0.0</td>\n      <td>0.0</td>\n      <td>0.0</td>\n      <td>...</td>\n      <td>0.0</td>\n      <td>0.0</td>\n      <td>0.0</td>\n      <td>0.0</td>\n      <td>0.0</td>\n      <td>0.0</td>\n      <td>0.0</td>\n      <td>0.0</td>\n      <td>0.0</td>\n      <td>0.0</td>\n    </tr>\n    <tr>\n      <th>1925</th>\n      <td>0.0</td>\n      <td>0.000000</td>\n      <td>0.0</td>\n      <td>0.0</td>\n      <td>0.0</td>\n      <td>0.0</td>\n      <td>0.0</td>\n      <td>0.0</td>\n      <td>0.0</td>\n      <td>0.0</td>\n      <td>...</td>\n      <td>0.0</td>\n      <td>0.0</td>\n      <td>0.0</td>\n      <td>0.0</td>\n      <td>0.0</td>\n      <td>0.0</td>\n      <td>0.0</td>\n      <td>0.0</td>\n      <td>0.0</td>\n      <td>0.0</td>\n    </tr>\n    <tr>\n      <th>1926</th>\n      <td>0.0</td>\n      <td>0.145955</td>\n      <td>0.0</td>\n      <td>0.0</td>\n      <td>0.0</td>\n      <td>0.0</td>\n      <td>0.0</td>\n      <td>0.0</td>\n      <td>0.0</td>\n      <td>0.0</td>\n      <td>...</td>\n      <td>0.0</td>\n      <td>0.0</td>\n      <td>0.0</td>\n      <td>0.0</td>\n      <td>0.0</td>\n      <td>0.0</td>\n      <td>0.0</td>\n      <td>0.0</td>\n      <td>0.0</td>\n      <td>0.0</td>\n    </tr>\n    <tr>\n      <th>1927</th>\n      <td>0.0</td>\n      <td>0.000000</td>\n      <td>0.0</td>\n      <td>0.0</td>\n      <td>0.0</td>\n      <td>0.0</td>\n      <td>0.0</td>\n      <td>0.0</td>\n      <td>0.0</td>\n      <td>0.0</td>\n      <td>...</td>\n      <td>0.0</td>\n      <td>0.0</td>\n      <td>0.0</td>\n      <td>0.0</td>\n      <td>0.0</td>\n      <td>0.0</td>\n      <td>0.0</td>\n      <td>0.0</td>\n      <td>0.0</td>\n      <td>0.0</td>\n    </tr>\n    <tr>\n      <th>1928</th>\n      <td>0.0</td>\n      <td>0.000000</td>\n      <td>0.0</td>\n      <td>0.0</td>\n      <td>0.0</td>\n      <td>0.0</td>\n      <td>0.0</td>\n      <td>0.0</td>\n      <td>0.0</td>\n      <td>0.0</td>\n      <td>...</td>\n      <td>0.0</td>\n      <td>0.0</td>\n      <td>0.0</td>\n      <td>0.0</td>\n      <td>0.0</td>\n      <td>0.0</td>\n      <td>0.0</td>\n      <td>0.0</td>\n      <td>0.0</td>\n      <td>0.0</td>\n    </tr>\n  </tbody>\n</table>\n<p>1929 rows × 7109 columns</p>\n</div>"
     },
     "execution_count": 57,
     "metadata": {},
     "output_type": "execute_result"
    }
   ],
   "source": [
    "tfidf_data.columns = feature_names\n",
    "tfidf_data"
   ]
  },
  {
   "cell_type": "code",
   "execution_count": 58,
   "id": "884f2c62",
   "metadata": {
    "ExecuteTime": {
     "start_time": "2023-12-07T11:53:47.877275Z",
     "end_time": "2023-12-07T11:53:47.881923Z"
    }
   },
   "outputs": [],
   "source": [
    "names = [\n",
    "    'Nearest Neighbors',\n",
    "    'Linear SVM',\n",
    "    'RBF SVM',\n",
    "    'Gaussian Process',\n",
    "    'Decision Tree',\n",
    "    'Random Forest',\n",
    "    'Neural Net',\n",
    "    'AdaBoost',\n",
    "    'QDA',\n",
    "]\n",
    "\n",
    "grids = {\n",
    "    'Nearest Neighbors': {\n",
    "        'n_neighbors': [3, 5, 7],\n",
    "        'p': [1, 2]\n",
    "    },\n",
    "    'Linear SVM': {\n",
    "        'kernel': ['linear'],\n",
    "        'C': [0.025, 0.25, 0.5, 1]\n",
    "    },\n",
    "    'RBF SVM': {\n",
    "        'gamma': [1, 2, 'scale'],\n",
    "        'C': [0.025, 0.25, 0.5, 1]\n",
    "    },\n",
    "    'Gaussian Process': {\n",
    "        'kernel': [1.0 * RBF(1.0)]\n",
    "    },\n",
    "    'Decision Tree': {\n",
    "        'criterion': ['gini', 'entropy', 'log_loss'],\n",
    "        'max_depth': [5, 15, 50],\n",
    "        'min_samples_split': [2, 4, 8]\n",
    "    },\n",
    "    'Random Forest': {\n",
    "        'n_estimators': [10, 100, 500],\n",
    "        'max_depth': [5, 15, 50],\n",
    "        'max_features': [1, 'sqrt']\n",
    "    },\n",
    "    'Neural Net': {\n",
    "        'alpha': [0.25, 0.5, 1],\n",
    "        'max_iter': [1000]\n",
    "    },\n",
    "    'AdaBoost': {\n",
    "        'n_estimators': [10, 100, 500],\n",
    "        'learning_rate': [0.01, 0.1, 1]\n",
    "    },\n",
    "    'QDA': {}\n",
    "}\n",
    "\n",
    "classifiers = [\n",
    "    KNeighborsClassifier(5),\n",
    "    SVC(kernel=\"linear\", C=0.025),\n",
    "    SVC(gamma=2, C=1),\n",
    "    GaussianProcessClassifier(1.0 * RBF(1.0)),\n",
    "    DecisionTreeClassifier(max_depth=5),\n",
    "    RandomForestClassifier(max_depth=5, n_estimators=10, max_features=1),\n",
    "    MLPClassifier(alpha=1, max_iter=1000),\n",
    "    AdaBoostClassifier(),\n",
    "    QuadraticDiscriminantAnalysis(),\n",
    "]"
   ]
  },
  {
   "cell_type": "code",
   "execution_count": 59,
   "id": "c4af7299",
   "metadata": {
    "ExecuteTime": {
     "start_time": "2023-12-07T11:53:50.025617Z",
     "end_time": "2023-12-07T11:53:50.263636Z"
    }
   },
   "outputs": [
    {
     "data": {
      "text/plain": "array([[ 0.17864201,  0.06597145, -0.14956263, ..., -0.01820019,\n        -0.04501835,  0.02306437],\n       [ 0.18329592, -0.05720337,  0.15584034, ..., -0.02558097,\n         0.05190875, -0.02685252],\n       [ 0.06580177, -0.06439348,  0.09565665, ..., -0.00387603,\n         0.00574821,  0.03377501],\n       ...,\n       [ 0.081048  , -0.00527711,  0.00965817, ...,  0.01123897,\n         0.0303084 ,  0.01164039],\n       [ 0.28544778, -0.01620037, -0.04955858, ..., -0.00869978,\n         0.05042692,  0.06445445],\n       [ 0.14631325,  0.0309432 , -0.12378849, ...,  0.02359379,\n         0.02325984, -0.06412454]])"
     },
     "execution_count": 59,
     "metadata": {},
     "output_type": "execute_result"
    }
   ],
   "source": [
    "tsvd = TruncatedSVD(n_components=75, random_state=37)\n",
    "vec_matrix_tsvd = tsvd.fit_transform(tfidf_matrix)\n",
    "vec_matrix_tsvd"
   ]
  },
  {
   "cell_type": "code",
   "execution_count": 60,
   "id": "626c0e63",
   "metadata": {
    "ExecuteTime": {
     "start_time": "2023-12-07T11:53:52.352334Z",
     "end_time": "2023-12-07T11:53:52.358535Z"
    }
   },
   "outputs": [
    {
     "data": {
      "text/plain": "(1929, 75)"
     },
     "execution_count": 60,
     "metadata": {},
     "output_type": "execute_result"
    }
   ],
   "source": [
    "vec_matrix_tsvd.shape"
   ]
  },
  {
   "cell_type": "code",
   "execution_count": 61,
   "outputs": [],
   "source": [
    "# 1318 + 611"
   ],
   "metadata": {
    "collapsed": false,
    "ExecuteTime": {
     "start_time": "2023-12-07T11:53:55.246433Z",
     "end_time": "2023-12-07T11:53:55.252712Z"
    }
   }
  },
  {
   "cell_type": "code",
   "execution_count": 62,
   "id": "d7b91b5b",
   "metadata": {
    "ExecuteTime": {
     "start_time": "2023-12-07T11:53:57.751139Z",
     "end_time": "2023-12-07T11:53:57.755163Z"
    }
   },
   "outputs": [],
   "source": [
    "X, y = vec_matrix_tsvd, data['label']"
   ]
  },
  {
   "cell_type": "code",
   "execution_count": 63,
   "id": "eaf716a2",
   "metadata": {
    "ExecuteTime": {
     "start_time": "2023-12-07T11:54:22.400633Z",
     "end_time": "2023-12-07T11:54:22.407129Z"
    }
   },
   "outputs": [],
   "source": [
    "X_train, X_test, y_train, y_test = train_test_split(\n",
    "        X[:1318], y[:1318], test_size=0.3, random_state=42\n",
    "    )"
   ]
  },
  {
   "cell_type": "code",
   "execution_count": 68,
   "outputs": [],
   "source": [
    "X_train = np.concatenate([X_train, X[1318:]], axis=0)\n",
    "y_train = np.concatenate([y_train, y[1318:]], axis=0)"
   ],
   "metadata": {
    "collapsed": false,
    "ExecuteTime": {
     "start_time": "2023-12-07T11:56:28.327855Z",
     "end_time": "2023-12-07T11:56:28.335773Z"
    }
   }
  },
  {
   "cell_type": "code",
   "execution_count": 69,
   "id": "0fa85479",
   "metadata": {
    "ExecuteTime": {
     "start_time": "2023-12-07T11:56:31.191084Z",
     "end_time": "2023-12-07T11:56:31.196073Z"
    }
   },
   "outputs": [],
   "source": [
    "results = dict()"
   ]
  },
  {
   "cell_type": "code",
   "execution_count": 70,
   "id": "b0b55adb",
   "metadata": {
    "ExecuteTime": {
     "start_time": "2023-12-07T11:56:31.989067Z",
     "end_time": "2023-12-07T11:57:38.801098Z"
    }
   },
   "outputs": [
    {
     "name": "stdout",
     "output_type": "stream",
     "text": [
      "****************************** --> Classifying with Nearest Neighbors ******************************\n",
      "Fitting 5 folds for each of 6 candidates, totalling 30 fits\n",
      "{'n_neighbors': 7, 'p': 2}\n",
      "--> Score 0.6237373737373737\n",
      "****************************** --> Classifying with Linear SVM ******************************\n",
      "Fitting 5 folds for each of 4 candidates, totalling 20 fits\n",
      "{'C': 1, 'kernel': 'linear'}\n",
      "--> Score 0.6818181818181818\n",
      "****************************** --> Classifying with RBF SVM ******************************\n",
      "Fitting 5 folds for each of 12 candidates, totalling 60 fits\n",
      "{'C': 1, 'gamma': 'scale'}\n",
      "--> Score 0.6691919191919192\n",
      "****************************** --> Classifying with Gaussian Process ******************************\n",
      "Fitting 5 folds for each of 1 candidates, totalling 5 fits\n",
      "{'kernel': 1**2 * RBF(length_scale=1)}\n",
      "--> Score 0.6641414141414141\n",
      "****************************** --> Classifying with Decision Tree ******************************\n",
      "Fitting 5 folds for each of 27 candidates, totalling 135 fits\n",
      "{'criterion': 'gini', 'max_depth': 5, 'min_samples_split': 8}\n",
      "--> Score 0.6540404040404041\n",
      "****************************** --> Classifying with Random Forest ******************************\n",
      "Fitting 5 folds for each of 18 candidates, totalling 90 fits\n",
      "{'max_depth': 50, 'max_features': 1, 'n_estimators': 500}\n",
      "--> Score 0.6717171717171717\n",
      "****************************** --> Classifying with Neural Net ******************************\n",
      "Fitting 5 folds for each of 3 candidates, totalling 15 fits\n",
      "{'alpha': 0.25, 'max_iter': 1000}\n",
      "--> Score 0.6388888888888888\n",
      "****************************** --> Classifying with AdaBoost ******************************\n",
      "Fitting 5 folds for each of 9 candidates, totalling 45 fits\n",
      "{'learning_rate': 0.1, 'n_estimators': 500}\n",
      "--> Score 0.6338383838383839\n",
      "****************************** --> Classifying with QDA ******************************\n",
      "Fitting 5 folds for each of 1 candidates, totalling 5 fits\n",
      "{}\n",
      "--> Score 0.6111111111111112\n"
     ]
    }
   ],
   "source": [
    "for name, clf in zip(names, classifiers):\n",
    "    print('*' * 30, '--> Classifying with', name, '*' * 30)\n",
    "    \n",
    "    grid = GridSearchCV(clf, grids[name], refit=True, verbose=3, n_jobs=-1) \n",
    "   \n",
    "    # fitting the model for grid search \n",
    "    grid.fit(X_train, y_train) \n",
    "\n",
    "    # print best parameter after tuning \n",
    "    print(grid.best_params_) \n",
    "\n",
    "    score = grid.score(X_test, y_test)\n",
    "    y_pred = grid.predict(X_test)\n",
    "    print('--> Score', score)\n",
    "    results[name] = classification_report(y_test, y_pred)"
   ]
  },
  {
   "cell_type": "code",
   "execution_count": 71,
   "id": "1d184627",
   "metadata": {
    "ExecuteTime": {
     "start_time": "2023-12-07T11:57:43.706609Z",
     "end_time": "2023-12-07T11:57:43.716760Z"
    }
   },
   "outputs": [
    {
     "name": "stdout",
     "output_type": "stream",
     "text": [
      "--> Model Nearest Neighbors\n",
      "              precision    recall  f1-score   support\n",
      "\n",
      "           0       0.66      0.84      0.74       254\n",
      "           1       0.45      0.24      0.31       142\n",
      "\n",
      "    accuracy                           0.62       396\n",
      "   macro avg       0.56      0.54      0.53       396\n",
      "weighted avg       0.59      0.62      0.59       396\n",
      "\n",
      "--> Model Linear SVM\n",
      "              precision    recall  f1-score   support\n",
      "\n",
      "           0       0.68      0.94      0.79       254\n",
      "           1       0.68      0.21      0.32       142\n",
      "\n",
      "    accuracy                           0.68       396\n",
      "   macro avg       0.68      0.58      0.56       396\n",
      "weighted avg       0.68      0.68      0.62       396\n",
      "\n",
      "--> Model RBF SVM\n",
      "              precision    recall  f1-score   support\n",
      "\n",
      "           0       0.70      0.85      0.77       254\n",
      "           1       0.56      0.34      0.42       142\n",
      "\n",
      "    accuracy                           0.67       396\n",
      "   macro avg       0.63      0.60      0.60       396\n",
      "weighted avg       0.65      0.67      0.64       396\n",
      "\n",
      "--> Model Gaussian Process\n",
      "              precision    recall  f1-score   support\n",
      "\n",
      "           0       0.69      0.85      0.77       254\n",
      "           1       0.55      0.32      0.41       142\n",
      "\n",
      "    accuracy                           0.66       396\n",
      "   macro avg       0.62      0.59      0.59       396\n",
      "weighted avg       0.64      0.66      0.64       396\n",
      "\n",
      "--> Model Decision Tree\n",
      "              precision    recall  f1-score   support\n",
      "\n",
      "           0       0.69      0.85      0.76       254\n",
      "           1       0.53      0.30      0.39       142\n",
      "\n",
      "    accuracy                           0.65       396\n",
      "   macro avg       0.61      0.58      0.57       396\n",
      "weighted avg       0.63      0.65      0.63       396\n",
      "\n",
      "--> Model Random Forest\n",
      "              precision    recall  f1-score   support\n",
      "\n",
      "           0       0.68      0.91      0.78       254\n",
      "           1       0.60      0.25      0.36       142\n",
      "\n",
      "    accuracy                           0.67       396\n",
      "   macro avg       0.64      0.58      0.57       396\n",
      "weighted avg       0.65      0.67      0.63       396\n",
      "\n",
      "--> Model Neural Net\n",
      "              precision    recall  f1-score   support\n",
      "\n",
      "           0       0.69      0.80      0.74       254\n",
      "           1       0.49      0.35      0.41       142\n",
      "\n",
      "    accuracy                           0.64       396\n",
      "   macro avg       0.59      0.57      0.57       396\n",
      "weighted avg       0.62      0.64      0.62       396\n",
      "\n",
      "--> Model AdaBoost\n",
      "              precision    recall  f1-score   support\n",
      "\n",
      "           0       0.69      0.78      0.73       254\n",
      "           1       0.49      0.37      0.42       142\n",
      "\n",
      "    accuracy                           0.63       396\n",
      "   macro avg       0.59      0.57      0.58       396\n",
      "weighted avg       0.62      0.63      0.62       396\n",
      "\n",
      "--> Model QDA\n",
      "              precision    recall  f1-score   support\n",
      "\n",
      "           0       0.72      0.65      0.68       254\n",
      "           1       0.46      0.55      0.50       142\n",
      "\n",
      "    accuracy                           0.61       396\n",
      "   macro avg       0.59      0.60      0.59       396\n",
      "weighted avg       0.63      0.61      0.62       396\n",
      "\n"
     ]
    }
   ],
   "source": [
    "for key, res in results.items():\n",
    "    print('--> Model', key)\n",
    "    print(res)"
   ]
  },
  {
   "cell_type": "code",
   "execution_count": 111,
   "id": "06f62ea3",
   "metadata": {},
   "outputs": [
    {
     "data": {
      "text/plain": [
       "0       Source: CoinTelegraph Title: Bitcoin options d...\n",
       "1       Source: The Daily Hodl Title: Crypto Exchange ...\n",
       "2       Source: The Daily Hodl Title: BitKeep Wallet G...\n",
       "3       Source: Bitcoin Magazine Title: Kazakhstan Pre...\n",
       "4       Source: CoinTelegraph Title: The blockchain tr...\n",
       "                              ...                        \n",
       "1331    Source: U.Today Title: Ethereum (ETH) Price An...\n",
       "1332    Source: ZyCrypto Title: Digital Assets Amongst...\n",
       "1333    Source: The Daily Hodl Title: Cardano, Litecoi...\n",
       "1334    Source: ZyCrypto Title: Binance plans to inves...\n",
       "1335    Source: ZyCrypto Title: Regulation Alone Isn’t...\n",
       "Name: combined, Length: 1336, dtype: object"
      ]
     },
     "execution_count": 111,
     "metadata": {},
     "output_type": "execute_result"
    }
   ],
   "source": [
    "data['combined'] = 'Source: ' + data['source'] + ' Title: ' + data['title'] + ' Description: ' + data['description']\n",
    "data['combined']"
   ]
  },
  {
   "cell_type": "code",
   "execution_count": 112,
   "id": "e022d7a0",
   "metadata": {},
   "outputs": [
    {
     "data": {
      "text/plain": [
       "0       Source: CoinTelegraph Title: Bitcoin options d...\n",
       "1       Source: The Daily Hodl Title: Crypto Exchange ...\n",
       "2       Source: The Daily Hodl Title: BitKeep Wallet G...\n",
       "3       Source: Bitcoin Magazine Title: Kazakhstan Pre...\n",
       "4       Source: CoinTelegraph Title: The blockchain tr...\n",
       "                              ...                        \n",
       "1331    Source: U.Today Title: Ethereum (ETH) Price An...\n",
       "1332    Source: ZyCrypto Title: Digital Assets Amongst...\n",
       "1333    Source: The Daily Hodl Title: Cardano, Litecoi...\n",
       "1334    Source: ZyCrypto Title: Binance plans to inves...\n",
       "1335    Source: ZyCrypto Title: Regulation Alone Isn’t...\n",
       "Name: combined, Length: 1318, dtype: object"
      ]
     },
     "execution_count": 112,
     "metadata": {},
     "output_type": "execute_result"
    }
   ],
   "source": [
    "data = data[~data['combined'].isna()]\n",
    "data['combined']"
   ]
  },
  {
   "cell_type": "code",
   "execution_count": 113,
   "id": "6ac0a9ee",
   "metadata": {},
   "outputs": [
    {
     "data": {
      "text/html": [
       "<div>\n",
       "<style scoped>\n",
       "    .dataframe tbody tr th:only-of-type {\n",
       "        vertical-align: middle;\n",
       "    }\n",
       "\n",
       "    .dataframe tbody tr th {\n",
       "        vertical-align: top;\n",
       "    }\n",
       "\n",
       "    .dataframe thead th {\n",
       "        text-align: right;\n",
       "    }\n",
       "</style>\n",
       "<table border=\"1\" class=\"dataframe\">\n",
       "  <thead>\n",
       "    <tr style=\"text-align: right;\">\n",
       "      <th></th>\n",
       "      <th>text</th>\n",
       "      <th>label</th>\n",
       "    </tr>\n",
       "  </thead>\n",
       "  <tbody>\n",
       "    <tr>\n",
       "      <th>0</th>\n",
       "      <td>Source: CoinTelegraph Title: Bitcoin options d...</td>\n",
       "      <td>1</td>\n",
       "    </tr>\n",
       "    <tr>\n",
       "      <th>1</th>\n",
       "      <td>Source: The Daily Hodl Title: Crypto Exchange ...</td>\n",
       "      <td>0</td>\n",
       "    </tr>\n",
       "    <tr>\n",
       "      <th>2</th>\n",
       "      <td>Source: The Daily Hodl Title: BitKeep Wallet G...</td>\n",
       "      <td>0</td>\n",
       "    </tr>\n",
       "    <tr>\n",
       "      <th>3</th>\n",
       "      <td>Source: Bitcoin Magazine Title: Kazakhstan Pre...</td>\n",
       "      <td>0</td>\n",
       "    </tr>\n",
       "    <tr>\n",
       "      <th>4</th>\n",
       "      <td>Source: CoinTelegraph Title: The blockchain tr...</td>\n",
       "      <td>0</td>\n",
       "    </tr>\n",
       "    <tr>\n",
       "      <th>...</th>\n",
       "      <td>...</td>\n",
       "      <td>...</td>\n",
       "    </tr>\n",
       "    <tr>\n",
       "      <th>1331</th>\n",
       "      <td>Source: U.Today Title: Ethereum (ETH) Price An...</td>\n",
       "      <td>0</td>\n",
       "    </tr>\n",
       "    <tr>\n",
       "      <th>1332</th>\n",
       "      <td>Source: ZyCrypto Title: Digital Assets Amongst...</td>\n",
       "      <td>0</td>\n",
       "    </tr>\n",
       "    <tr>\n",
       "      <th>1333</th>\n",
       "      <td>Source: The Daily Hodl Title: Cardano, Litecoi...</td>\n",
       "      <td>1</td>\n",
       "    </tr>\n",
       "    <tr>\n",
       "      <th>1334</th>\n",
       "      <td>Source: ZyCrypto Title: Binance plans to inves...</td>\n",
       "      <td>1</td>\n",
       "    </tr>\n",
       "    <tr>\n",
       "      <th>1335</th>\n",
       "      <td>Source: ZyCrypto Title: Regulation Alone Isn’t...</td>\n",
       "      <td>0</td>\n",
       "    </tr>\n",
       "  </tbody>\n",
       "</table>\n",
       "<p>1318 rows × 2 columns</p>\n",
       "</div>"
      ],
      "text/plain": [
       "                                                   text  label\n",
       "0     Source: CoinTelegraph Title: Bitcoin options d...      1\n",
       "1     Source: The Daily Hodl Title: Crypto Exchange ...      0\n",
       "2     Source: The Daily Hodl Title: BitKeep Wallet G...      0\n",
       "3     Source: Bitcoin Magazine Title: Kazakhstan Pre...      0\n",
       "4     Source: CoinTelegraph Title: The blockchain tr...      0\n",
       "...                                                 ...    ...\n",
       "1331  Source: U.Today Title: Ethereum (ETH) Price An...      0\n",
       "1332  Source: ZyCrypto Title: Digital Assets Amongst...      0\n",
       "1333  Source: The Daily Hodl Title: Cardano, Litecoi...      1\n",
       "1334  Source: ZyCrypto Title: Binance plans to inves...      1\n",
       "1335  Source: ZyCrypto Title: Regulation Alone Isn’t...      0\n",
       "\n",
       "[1318 rows x 2 columns]"
      ]
     },
     "execution_count": 113,
     "metadata": {},
     "output_type": "execute_result"
    },
    {
     "name": "stderr",
     "output_type": "stream",
     "text": [
      "/Users/stepanwork/opt/anaconda3/envs/mlpy38/lib/python3.8/site-packages/sklearn/neighbors/_classification.py:228: FutureWarning: Unlike other reduction functions (e.g. `skew`, `kurtosis`), the default behavior of `mode` typically preserves the axis it acts along. In SciPy 1.11.0, this behavior will change: the default value of `keepdims` will become False, the `axis` over which the statistic is taken will be eliminated, and the value None will no longer be accepted. Set `keepdims` to True or False to avoid this warning.\n",
      "  mode, _ = stats.mode(_y[neigh_ind, k], axis=1)\n",
      "/Users/stepanwork/opt/anaconda3/envs/mlpy38/lib/python3.8/site-packages/sklearn/neighbors/_classification.py:228: FutureWarning: Unlike other reduction functions (e.g. `skew`, `kurtosis`), the default behavior of `mode` typically preserves the axis it acts along. In SciPy 1.11.0, this behavior will change: the default value of `keepdims` will become False, the `axis` over which the statistic is taken will be eliminated, and the value None will no longer be accepted. Set `keepdims` to True or False to avoid this warning.\n",
      "  mode, _ = stats.mode(_y[neigh_ind, k], axis=1)\n",
      "/Users/stepanwork/opt/anaconda3/envs/mlpy38/lib/python3.8/site-packages/sklearn/neighbors/_classification.py:228: FutureWarning: Unlike other reduction functions (e.g. `skew`, `kurtosis`), the default behavior of `mode` typically preserves the axis it acts along. In SciPy 1.11.0, this behavior will change: the default value of `keepdims` will become False, the `axis` over which the statistic is taken will be eliminated, and the value None will no longer be accepted. Set `keepdims` to True or False to avoid this warning.\n",
      "  mode, _ = stats.mode(_y[neigh_ind, k], axis=1)\n",
      "/Users/stepanwork/opt/anaconda3/envs/mlpy38/lib/python3.8/site-packages/sklearn/neighbors/_classification.py:228: FutureWarning: Unlike other reduction functions (e.g. `skew`, `kurtosis`), the default behavior of `mode` typically preserves the axis it acts along. In SciPy 1.11.0, this behavior will change: the default value of `keepdims` will become False, the `axis` over which the statistic is taken will be eliminated, and the value None will no longer be accepted. Set `keepdims` to True or False to avoid this warning.\n",
      "  mode, _ = stats.mode(_y[neigh_ind, k], axis=1)\n"
     ]
    },
    {
     "name": "stdout",
     "output_type": "stream",
     "text": [
      "[CV 4/5] END ................n_neighbors=3, p=1;, score=0.545 total time=   0.0s\n",
      "[CV 4/5] END ................n_neighbors=5, p=1;, score=0.567 total time=   0.0s\n",
      "[CV 5/5] END ................n_neighbors=5, p=2;, score=0.604 total time=   0.0s\n",
      "[CV 2/5] END ................n_neighbors=7, p=2;, score=0.668 total time=   0.0s\n",
      "[CV 2/5] END ............C=0.025, kernel=linear;, score=0.620 total time=   0.0s\n",
      "[CV 3/5] END .............C=0.25, kernel=linear;, score=0.620 total time=   0.0s\n",
      "[CV 5/5] END ..............C=0.5, kernel=linear;, score=0.620 total time=   0.0s\n",
      "[CV 5/5] END ................C=1, kernel=linear;, score=0.626 total time=   0.0s\n",
      "[CV 4/5] END ..................C=0.025, gamma=1;, score=0.620 total time=   0.1s\n",
      "[CV 1/5] END ..............C=0.025, gamma=scale;, score=0.620 total time=   0.1s\n",
      "[CV 4/5] END ...................C=0.25, gamma=1;, score=0.615 total time=   0.1s\n",
      "[CV 5/5] END ...................C=0.25, gamma=1;, score=0.626 total time=   0.1s\n",
      "[CV 5/5] END ....................C=0.5, gamma=1;, score=0.620 total time=   0.1s\n",
      "[CV 1/5] END ....................C=0.5, gamma=2;, score=0.652 total time=   0.1s\n",
      "[CV 1/5] END ......................C=1, gamma=2;, score=0.674 total time=   0.1s\n",
      "[CV 1/5] END ..................C=1, gamma=scale;, score=0.663 total time=   0.1s\n",
      "[CV 1/5] END criterion=gini, max_depth=5, min_samples_split=2;, score=0.663 total time=   0.0s\n",
      "[CV 3/5] END criterion=gini, max_depth=5, min_samples_split=4;, score=0.588 total time=   0.0s\n",
      "[CV 2/5] END criterion=gini, max_depth=5, min_samples_split=8;, score=0.647 total time=   0.0s\n",
      "[CV 1/5] END criterion=gini, max_depth=15, min_samples_split=4;, score=0.594 total time=   0.1s\n",
      "[CV 2/5] END criterion=gini, max_depth=15, min_samples_split=4;, score=0.642 total time=   0.0s\n",
      "[CV 2/5] END criterion=gini, max_depth=50, min_samples_split=4;, score=0.668 total time=   0.0s\n",
      "[CV 3/5] END criterion=gini, max_depth=50, min_samples_split=4;, score=0.508 total time=   0.0s\n",
      "[CV 3/5] END criterion=entropy, max_depth=5, min_samples_split=4;, score=0.615 total time=   0.1s\n",
      "[CV 4/5] END criterion=entropy, max_depth=5, min_samples_split=4;, score=0.599 total time=   0.0s\n",
      "[CV 5/5] END criterion=entropy, max_depth=5, min_samples_split=4;, score=0.615 total time=   0.0s\n",
      "[CV 1/5] END criterion=entropy, max_depth=5, min_samples_split=8;, score=0.636 total time=   0.0s\n",
      "[CV 4/5] END criterion=entropy, max_depth=50, min_samples_split=8;, score=0.583 total time=   0.1s\n",
      "[CV 5/5] END criterion=entropy, max_depth=50, min_samples_split=8;, score=0.604 total time=   0.1s\n",
      "[CV 1/5] END criterion=log_loss, max_depth=5, min_samples_split=2;, score=nan total time=   0.0s\n",
      "[CV 2/5] END criterion=log_loss, max_depth=5, min_samples_split=2;, score=nan total time=   0.0s\n",
      "[CV 2/5] END criterion=log_loss, max_depth=15, min_samples_split=8;, score=nan total time=   0.0s\n",
      "[CV 2/5] END criterion=log_loss, max_depth=50, min_samples_split=2;, score=nan total time=   0.0s\n",
      "[CV 3/5] END criterion=log_loss, max_depth=50, min_samples_split=4;, score=nan total time=   0.0s\n",
      "[CV 3/5] END criterion=log_loss, max_depth=50, min_samples_split=8;, score=nan total time=   0.0s\n",
      "[CV 4/5] END criterion=log_loss, max_depth=50, min_samples_split=8;, score=nan total time=   0.0s\n",
      "[CV 5/5] END criterion=log_loss, max_depth=50, min_samples_split=8;, score=nan total time=   0.0s\n",
      "[CV 1/5] END max_depth=5, max_features=1, n_estimators=10;, score=0.652 total time=   0.0s\n",
      "[CV 1/5] END max_depth=5, max_features=1, n_estimators=500;, score=0.626 total time=   0.7s\n",
      "[CV 4/5] END max_depth=5, max_features=sqrt, n_estimators=500;, score=0.631 total time=   1.5s\n",
      "[CV 5/5] END max_depth=5, max_features=sqrt, n_estimators=500;, score=0.615 total time=   1.5s\n",
      "[CV 4/5] END max_depth=50, max_features=sqrt, n_estimators=10;, score=0.642 total time=   0.0s\n",
      "[CV 5/5] END max_depth=50, max_features=sqrt, n_estimators=10;, score=0.588 total time=   0.0s\n",
      "[CV 2/5] END max_depth=50, max_features=sqrt, n_estimators=100;, score=0.663 total time=   0.4s\n",
      "[CV 5/5] END max_depth=50, max_features=sqrt, n_estimators=100;, score=0.631 total time=   0.4s\n",
      "[CV 1/5] END .........alpha=0.25, max_iter=1000;, score=0.583 total time=   3.0s\n",
      "[CV 5/5] END learning_rate=0.01, n_estimators=10;, score=0.631 total time=   0.1s\n",
      "[CV 3/5] END learning_rate=0.01, n_estimators=500;, score=0.658 total time=   3.6s\n",
      "[CV 3/5] END ..learning_rate=1, n_estimators=10;, score=0.615 total time=   0.1s\n",
      "[CV 5/5] END ..learning_rate=1, n_estimators=10;, score=0.599 total time=   0.1s\n",
      "[CV 3/5] END .learning_rate=1, n_estimators=100;, score=0.652 total time=   0.7s\n",
      "[CV 3/5] END .learning_rate=1, n_estimators=500;, score=0.647 total time=   3.7s\n",
      "[CV 1/5] END ................n_neighbors=3, p=2;, score=0.658 total time=   0.0s\n",
      "[CV 1/5] END ................n_neighbors=5, p=1;, score=0.626 total time=   0.0s\n",
      "[CV 1/5] END ................n_neighbors=7, p=2;, score=0.615 total time=   0.0s\n",
      "[CV 1/5] END ............C=0.025, kernel=linear;, score=0.620 total time=   0.0s\n",
      "[CV 4/5] END .............C=0.25, kernel=linear;, score=0.615 total time=   0.0s\n",
      "[CV 3/5] END ................C=1, kernel=linear;, score=0.620 total time=   0.0s\n",
      "[CV 3/5] END ..................C=0.025, gamma=2;, score=0.620 total time=   0.1s\n",
      "[CV 5/5] END ..............C=0.025, gamma=scale;, score=0.626 total time=   0.1s\n",
      "[CV 1/5] END ....................C=0.5, gamma=1;, score=0.647 total time=   0.1s\n",
      "[CV 2/5] END ....................C=0.5, gamma=1;, score=0.642 total time=   0.1s\n",
      "[CV 2/5] END ......................C=1, gamma=1;, score=0.679 total time=   0.1s\n",
      "[CV 3/5] END ......................C=1, gamma=1;, score=0.626 total time=   0.1s\n",
      "[CV 4/5] END ..................C=1, gamma=scale;, score=0.626 total time=   0.1s\n",
      "[CV 2/5] END .kernel=1**2 * RBF(length_scale=1);, score=0.695 total time=   3.2s\n",
      "[CV 1/5] END criterion=gini, max_depth=5, min_samples_split=4;, score=0.647 total time=   0.0s\n",
      "[CV 2/5] END criterion=gini, max_depth=15, min_samples_split=2;, score=0.626 total time=   0.0s\n",
      "[CV 3/5] END criterion=gini, max_depth=15, min_samples_split=2;, score=0.503 total time=   0.0s\n",
      "[CV 3/5] END criterion=gini, max_depth=50, min_samples_split=2;, score=0.503 total time=   0.0s\n",
      "[CV 4/5] END criterion=gini, max_depth=50, min_samples_split=2;, score=0.556 total time=   0.1s\n",
      "[CV 4/5] END criterion=entropy, max_depth=5, min_samples_split=2;, score=0.610 total time=   0.0s\n",
      "[CV 5/5] END criterion=entropy, max_depth=5, min_samples_split=2;, score=0.626 total time=   0.0s\n",
      "[CV 1/5] END criterion=entropy, max_depth=5, min_samples_split=4;, score=0.631 total time=   0.0s\n",
      "[CV 2/5] END criterion=entropy, max_depth=5, min_samples_split=4;, score=0.599 total time=   0.0s\n",
      "[CV 1/5] END criterion=entropy, max_depth=50, min_samples_split=4;, score=0.620 total time=   0.1s\n",
      "[CV 2/5] END criterion=entropy, max_depth=50, min_samples_split=4;, score=0.588 total time=   0.1s\n",
      "[CV 3/5] END criterion=entropy, max_depth=50, min_samples_split=4;, score=0.492 total time=   0.0s\n",
      "[CV 4/5] END criterion=entropy, max_depth=50, min_samples_split=4;, score=0.588 total time=   0.0s\n",
      "[CV 3/5] END max_depth=5, max_features=1, n_estimators=10;, score=0.631 total time=   0.0s\n",
      "[CV 4/5] END max_depth=5, max_features=1, n_estimators=100;, score=0.626 total time=   0.1s\n",
      "[CV 4/5] END max_depth=5, max_features=1, n_estimators=500;, score=0.626 total time=   0.7s\n",
      "[CV 3/5] END max_depth=15, max_features=1, n_estimators=500;, score=0.631 total time=   0.9s\n",
      "[CV 4/5] END max_depth=15, max_features=1, n_estimators=500;, score=0.615 total time=   0.8s\n",
      "[CV 1/5] END max_depth=50, max_features=1, n_estimators=500;, score=0.642 total time=   0.9s\n",
      "[CV 2/5] END max_depth=50, max_features=1, n_estimators=500;, score=0.658 total time=   0.9s\n",
      "[CV 2/5] END max_depth=50, max_features=sqrt, n_estimators=500;, score=0.636 total time=   2.2s\n",
      "[CV 5/5] END .........alpha=0.25, max_iter=1000;, score=0.594 total time=   2.6s\n",
      "[CV 1/5] END learning_rate=0.01, n_estimators=100;, score=0.626 total time=   0.7s\n",
      "[CV 5/5] END learning_rate=0.01, n_estimators=500;, score=0.620 total time=   3.7s\n",
      "[CV 5/5] END .learning_rate=1, n_estimators=100;, score=0.604 total time=   0.8s\n",
      "[CV 5/5] END .learning_rate=1, n_estimators=500;, score=0.572 total time=   3.6s\n"
     ]
    },
    {
     "name": "stderr",
     "output_type": "stream",
     "text": [
      "/Users/stepanwork/opt/anaconda3/envs/mlpy38/lib/python3.8/site-packages/sklearn/neighbors/_classification.py:228: FutureWarning: Unlike other reduction functions (e.g. `skew`, `kurtosis`), the default behavior of `mode` typically preserves the axis it acts along. In SciPy 1.11.0, this behavior will change: the default value of `keepdims` will become False, the `axis` over which the statistic is taken will be eliminated, and the value None will no longer be accepted. Set `keepdims` to True or False to avoid this warning.\n",
      "  mode, _ = stats.mode(_y[neigh_ind, k], axis=1)\n",
      "/Users/stepanwork/opt/anaconda3/envs/mlpy38/lib/python3.8/site-packages/sklearn/neighbors/_classification.py:228: FutureWarning: Unlike other reduction functions (e.g. `skew`, `kurtosis`), the default behavior of `mode` typically preserves the axis it acts along. In SciPy 1.11.0, this behavior will change: the default value of `keepdims` will become False, the `axis` over which the statistic is taken will be eliminated, and the value None will no longer be accepted. Set `keepdims` to True or False to avoid this warning.\n",
      "  mode, _ = stats.mode(_y[neigh_ind, k], axis=1)\n",
      "/Users/stepanwork/opt/anaconda3/envs/mlpy38/lib/python3.8/site-packages/sklearn/neighbors/_classification.py:228: FutureWarning: Unlike other reduction functions (e.g. `skew`, `kurtosis`), the default behavior of `mode` typically preserves the axis it acts along. In SciPy 1.11.0, this behavior will change: the default value of `keepdims` will become False, the `axis` over which the statistic is taken will be eliminated, and the value None will no longer be accepted. Set `keepdims` to True or False to avoid this warning.\n",
      "  mode, _ = stats.mode(_y[neigh_ind, k], axis=1)\n"
     ]
    },
    {
     "name": "stdout",
     "output_type": "stream",
     "text": [
      "[CV 1/5] END ................n_neighbors=3, p=1;, score=0.647 total time=   0.0s\n",
      "[CV 2/5] END ................n_neighbors=5, p=1;, score=0.642 total time=   0.0s\n",
      "[CV 1/5] END ................n_neighbors=7, p=1;, score=0.615 total time=   0.0s\n",
      "[CV 3/5] END ................n_neighbors=7, p=2;, score=0.663 total time=   0.0s\n",
      "[CV 5/5] END ............C=0.025, kernel=linear;, score=0.626 total time=   0.0s\n",
      "[CV 1/5] END ..............C=0.5, kernel=linear;, score=0.620 total time=   0.0s\n",
      "[CV 2/5] END ................C=1, kernel=linear;, score=0.636 total time=   0.0s\n",
      "[CV 5/5] END ..................C=0.025, gamma=1;, score=0.626 total time=   0.1s\n",
      "[CV 3/5] END ..............C=0.025, gamma=scale;, score=0.620 total time=   0.1s\n",
      "[CV 3/5] END ...................C=0.25, gamma=2;, score=0.620 total time=   0.1s\n",
      "[CV 4/5] END ...................C=0.25, gamma=2;, score=0.615 total time=   0.1s\n",
      "[CV 4/5] END ....................C=0.5, gamma=2;, score=0.626 total time=   0.1s\n",
      "[CV 5/5] END ....................C=0.5, gamma=2;, score=0.615 total time=   0.1s\n",
      "[CV 2/5] END ......................C=1, gamma=2;, score=0.679 total time=   0.1s\n",
      "[CV 5/5] END ..................C=1, gamma=scale;, score=0.626 total time=   0.0s\n",
      "[CV 5/5] END .kernel=1**2 * RBF(length_scale=1);, score=0.620 total time=   2.9s\n",
      "[CV 5/5] END criterion=gini, max_depth=5, min_samples_split=2;, score=0.652 total time=   0.0s\n",
      "[CV 1/5] END criterion=gini, max_depth=15, min_samples_split=2;, score=0.594 total time=   0.1s\n",
      "[CV 4/5] END criterion=gini, max_depth=15, min_samples_split=8;, score=0.545 total time=   0.0s\n",
      "[CV 5/5] END criterion=gini, max_depth=15, min_samples_split=8;, score=0.572 total time=   0.0s\n",
      "[CV 5/5] END criterion=gini, max_depth=50, min_samples_split=8;, score=0.572 total time=   0.0s\n",
      "[CV 1/5] END criterion=entropy, max_depth=5, min_samples_split=2;, score=0.631 total time=   0.0s\n",
      "[CV 4/5] END criterion=entropy, max_depth=15, min_samples_split=4;, score=0.604 total time=   0.1s\n",
      "[CV 5/5] END criterion=entropy, max_depth=15, min_samples_split=4;, score=0.578 total time=   0.1s\n",
      "[CV 1/5] END criterion=entropy, max_depth=15, min_samples_split=8;, score=0.572 total time=   0.1s\n",
      "[CV 2/5] END criterion=entropy, max_depth=15, min_samples_split=8;, score=0.599 total time=   0.1s\n",
      "[CV 5/5] END max_depth=5, max_features=1, n_estimators=10;, score=0.636 total time=   0.0s\n",
      "[CV 3/5] END max_depth=5, max_features=1, n_estimators=500;, score=0.615 total time=   0.7s\n",
      "[CV 1/5] END max_depth=15, max_features=1, n_estimators=10;, score=0.604 total time=   0.0s\n",
      "[CV 2/5] END max_depth=15, max_features=1, n_estimators=10;, score=0.631 total time=   0.0s\n",
      "[CV 3/5] END max_depth=15, max_features=1, n_estimators=10;, score=0.599 total time=   0.0s\n",
      "[CV 4/5] END max_depth=15, max_features=1, n_estimators=10;, score=0.561 total time=   0.0s\n",
      "[CV 1/5] END max_depth=15, max_features=1, n_estimators=500;, score=0.642 total time=   0.9s\n",
      "[CV 2/5] END max_depth=15, max_features=1, n_estimators=500;, score=0.647 total time=   0.9s\n",
      "[CV 4/5] END max_depth=50, max_features=1, n_estimators=100;, score=0.647 total time=   0.2s\n",
      "[CV 5/5] END max_depth=50, max_features=1, n_estimators=100;, score=0.631 total time=   0.2s\n",
      "[CV 5/5] END max_depth=50, max_features=1, n_estimators=500;, score=0.610 total time=   0.9s\n",
      "[CV 1/5] END max_depth=50, max_features=sqrt, n_estimators=10;, score=0.615 total time=   0.0s\n",
      "[CV 3/5] END max_depth=50, max_features=sqrt, n_estimators=100;, score=0.620 total time=   0.5s\n",
      "[CV 1/5] END max_depth=50, max_features=sqrt, n_estimators=500;, score=0.636 total time=   2.2s\n",
      "[CV 4/5] END .........alpha=0.25, max_iter=1000;, score=0.631 total time=   2.7s\n",
      "[CV 2/5] END learning_rate=0.01, n_estimators=10;, score=0.642 total time=   0.1s\n",
      "[CV 4/5] END learning_rate=0.01, n_estimators=100;, score=0.626 total time=   0.7s\n",
      "[CV 2/5] END learning_rate=0.1, n_estimators=10;, score=0.626 total time=   0.1s\n",
      "[CV 3/5] END learning_rate=0.1, n_estimators=10;, score=0.636 total time=   0.1s\n",
      "[CV 3/5] END learning_rate=0.1, n_estimators=100;, score=0.652 total time=   0.7s\n",
      "[CV 4/5] END learning_rate=0.1, n_estimators=100;, score=0.642 total time=   0.7s\n",
      "[CV 4/5] END learning_rate=0.1, n_estimators=500;, score=0.599 total time=   3.8s\n",
      "[CV 5/5] END learning_rate=0.1, n_estimators=500;, score=0.583 total time=   3.2s\n"
     ]
    },
    {
     "name": "stderr",
     "output_type": "stream",
     "text": [
      "/Users/stepanwork/opt/anaconda3/envs/mlpy38/lib/python3.8/site-packages/sklearn/neighbors/_classification.py:228: FutureWarning: Unlike other reduction functions (e.g. `skew`, `kurtosis`), the default behavior of `mode` typically preserves the axis it acts along. In SciPy 1.11.0, this behavior will change: the default value of `keepdims` will become False, the `axis` over which the statistic is taken will be eliminated, and the value None will no longer be accepted. Set `keepdims` to True or False to avoid this warning.\n",
      "  mode, _ = stats.mode(_y[neigh_ind, k], axis=1)\n",
      "/Users/stepanwork/opt/anaconda3/envs/mlpy38/lib/python3.8/site-packages/sklearn/neighbors/_classification.py:228: FutureWarning: Unlike other reduction functions (e.g. `skew`, `kurtosis`), the default behavior of `mode` typically preserves the axis it acts along. In SciPy 1.11.0, this behavior will change: the default value of `keepdims` will become False, the `axis` over which the statistic is taken will be eliminated, and the value None will no longer be accepted. Set `keepdims` to True or False to avoid this warning.\n",
      "  mode, _ = stats.mode(_y[neigh_ind, k], axis=1)\n",
      "/Users/stepanwork/opt/anaconda3/envs/mlpy38/lib/python3.8/site-packages/sklearn/neighbors/_classification.py:228: FutureWarning: Unlike other reduction functions (e.g. `skew`, `kurtosis`), the default behavior of `mode` typically preserves the axis it acts along. In SciPy 1.11.0, this behavior will change: the default value of `keepdims` will become False, the `axis` over which the statistic is taken will be eliminated, and the value None will no longer be accepted. Set `keepdims` to True or False to avoid this warning.\n",
      "  mode, _ = stats.mode(_y[neigh_ind, k], axis=1)\n",
      "/Users/stepanwork/opt/anaconda3/envs/mlpy38/lib/python3.8/site-packages/sklearn/neighbors/_classification.py:228: FutureWarning: Unlike other reduction functions (e.g. `skew`, `kurtosis`), the default behavior of `mode` typically preserves the axis it acts along. In SciPy 1.11.0, this behavior will change: the default value of `keepdims` will become False, the `axis` over which the statistic is taken will be eliminated, and the value None will no longer be accepted. Set `keepdims` to True or False to avoid this warning.\n",
      "  mode, _ = stats.mode(_y[neigh_ind, k], axis=1)\n"
     ]
    },
    {
     "name": "stdout",
     "output_type": "stream",
     "text": [
      "[CV 5/5] END ................n_neighbors=3, p=1;, score=0.599 total time=   0.0s\n",
      "[CV 1/5] END ................n_neighbors=5, p=2;, score=0.642 total time=   0.0s\n",
      "[CV 2/5] END ................n_neighbors=7, p=1;, score=0.658 total time=   0.0s\n",
      "[CV 4/5] END ................n_neighbors=7, p=2;, score=0.642 total time=   0.0s\n",
      "[CV 1/5] END .............C=0.25, kernel=linear;, score=0.620 total time=   0.0s\n",
      "[CV 4/5] END ..............C=0.5, kernel=linear;, score=0.610 total time=   0.0s\n",
      "[CV 1/5] END ..................C=0.025, gamma=1;, score=0.620 total time=   0.1s\n",
      "[CV 4/5] END ..................C=0.025, gamma=2;, score=0.620 total time=   0.1s\n",
      "[CV 2/5] END ...................C=0.25, gamma=1;, score=0.620 total time=   0.0s\n",
      "[CV 3/5] END ...................C=0.25, gamma=1;, score=0.620 total time=   0.1s\n",
      "[CV 3/5] END ....................C=0.5, gamma=1;, score=0.631 total time=   0.1s\n",
      "[CV 4/5] END ....................C=0.5, gamma=1;, score=0.626 total time=   0.0s\n",
      "[CV 4/5] END ......................C=1, gamma=1;, score=0.631 total time=   0.1s\n",
      "[CV 3/5] END ......................C=1, gamma=2;, score=0.620 total time=   0.1s\n",
      "[CV 1/5] END .kernel=1**2 * RBF(length_scale=1);, score=0.647 total time=   2.8s\n",
      "[CV 2/5] END criterion=gini, max_depth=5, min_samples_split=2;, score=0.642 total time=   0.0s\n",
      "[CV 4/5] END criterion=gini, max_depth=5, min_samples_split=4;, score=0.588 total time=   0.0s\n",
      "[CV 4/5] END criterion=gini, max_depth=5, min_samples_split=8;, score=0.583 total time=   0.0s\n",
      "[CV 5/5] END criterion=gini, max_depth=15, min_samples_split=4;, score=0.556 total time=   0.1s\n",
      "[CV 1/5] END criterion=gini, max_depth=15, min_samples_split=8;, score=0.556 total time=   0.1s\n",
      "[CV 3/5] END criterion=gini, max_depth=50, min_samples_split=8;, score=0.524 total time=   0.0s\n",
      "[CV 4/5] END criterion=gini, max_depth=50, min_samples_split=8;, score=0.535 total time=   0.1s\n",
      "[CV 3/5] END criterion=entropy, max_depth=15, min_samples_split=8;, score=0.529 total time=   0.1s\n",
      "[CV 4/5] END criterion=entropy, max_depth=15, min_samples_split=8;, score=0.583 total time=   0.1s\n",
      "[CV 5/5] END criterion=entropy, max_depth=15, min_samples_split=8;, score=0.583 total time=   0.1s\n",
      "[CV 1/5] END criterion=entropy, max_depth=50, min_samples_split=2;, score=0.610 total time=   0.1s\n",
      "[CV 4/5] END criterion=log_loss, max_depth=15, min_samples_split=2;, score=nan total time=   0.0s\n",
      "[CV 5/5] END criterion=log_loss, max_depth=15, min_samples_split=2;, score=nan total time=   0.0s\n",
      "[CV 1/5] END criterion=log_loss, max_depth=15, min_samples_split=4;, score=nan total time=   0.0s\n",
      "[CV 2/5] END criterion=log_loss, max_depth=15, min_samples_split=4;, score=nan total time=   0.0s\n",
      "[CV 3/5] END criterion=log_loss, max_depth=15, min_samples_split=8;, score=nan total time=   0.0s\n",
      "[CV 5/5] END criterion=log_loss, max_depth=15, min_samples_split=8;, score=nan total time=   0.0s\n",
      "[CV 3/5] END criterion=log_loss, max_depth=50, min_samples_split=2;, score=nan total time=   0.0s\n",
      "[CV 4/5] END criterion=log_loss, max_depth=50, min_samples_split=4;, score=nan total time=   0.0s\n",
      "[CV 1/5] END criterion=log_loss, max_depth=50, min_samples_split=8;, score=nan total time=   0.0s\n",
      "[CV 2/5] END max_depth=5, max_features=1, n_estimators=100;, score=0.636 total time=   0.1s\n",
      "[CV 4/5] END max_depth=5, max_features=sqrt, n_estimators=10;, score=0.615 total time=   0.0s\n",
      "[CV 5/5] END max_depth=5, max_features=sqrt, n_estimators=10;, score=0.599 total time=   0.0s\n",
      "[CV 5/5] END max_depth=5, max_features=sqrt, n_estimators=100;, score=0.594 total time=   0.3s\n",
      "[CV 1/5] END max_depth=5, max_features=sqrt, n_estimators=500;, score=0.631 total time=   1.4s\n",
      "[CV 2/5] END max_depth=15, max_features=sqrt, n_estimators=500;, score=0.679 total time=   2.3s\n",
      "[CV 3/5] END max_depth=15, max_features=sqrt, n_estimators=500;, score=0.642 total time=   2.2s\n",
      "[CV 3/5] END ..........alpha=0.5, max_iter=1000;, score=0.674 total time=   0.8s\n",
      "[CV 1/5] END ............alpha=1, max_iter=1000;, score=0.658 total time=   0.7s\n",
      "[CV 3/5] END ............alpha=1, max_iter=1000;, score=0.626 total time=   0.6s\n",
      "[CV 1/5] END learning_rate=0.01, n_estimators=10;, score=0.679 total time=   0.1s\n",
      "[CV 5/5] END learning_rate=0.01, n_estimators=100;, score=0.610 total time=   0.8s\n",
      "[CV 4/5] END learning_rate=0.1, n_estimators=10;, score=0.620 total time=   0.1s\n",
      "[CV 5/5] END learning_rate=0.1, n_estimators=10;, score=0.610 total time=   0.1s\n",
      "[CV 5/5] END learning_rate=0.1, n_estimators=100;, score=0.631 total time=   0.7s\n",
      "[CV 1/5] END learning_rate=0.1, n_estimators=500;, score=0.663 total time=   3.7s\n",
      "[CV 1/5] END ..................................., score=0.620 total time=   0.0s\n",
      "[CV 2/5] END ................n_neighbors=3, p=1;, score=0.636 total time=   0.0s\n",
      "[CV 3/5] END ................n_neighbors=5, p=2;, score=0.652 total time=   0.0s\n",
      "[CV 5/5] END ................n_neighbors=7, p=2;, score=0.610 total time=   0.0s\n",
      "[CV 3/5] END ............C=0.025, kernel=linear;, score=0.620 total time=   0.0s\n",
      "[CV 2/5] END ..............C=0.5, kernel=linear;, score=0.620 total time=   0.0s\n",
      "[CV 4/5] END ................C=1, kernel=linear;, score=0.631 total time=   0.0s\n",
      "[CV 2/5] END ..................C=0.025, gamma=1;, score=0.620 total time=   0.1s\n",
      "[CV 5/5] END ..................C=0.025, gamma=2;, score=0.626 total time=   0.1s\n",
      "[CV 1/5] END ...................C=0.25, gamma=2;, score=0.620 total time=   0.1s\n",
      "[CV 2/5] END ...................C=0.25, gamma=2;, score=0.620 total time=   0.1s\n",
      "[CV 2/5] END ....................C=0.5, gamma=2;, score=0.652 total time=   0.1s\n",
      "[CV 3/5] END ....................C=0.5, gamma=2;, score=0.620 total time=   0.1s\n",
      "[CV 5/5] END ......................C=1, gamma=1;, score=0.620 total time=   0.1s\n",
      "[CV 3/5] END ..................C=1, gamma=scale;, score=0.647 total time=   0.1s\n",
      "[CV 4/5] END .kernel=1**2 * RBF(length_scale=1);, score=0.631 total time=   2.7s\n",
      "[CV 2/5] END criterion=gini, max_depth=5, min_samples_split=4;, score=0.647 total time=   0.0s\n",
      "[CV 3/5] END criterion=gini, max_depth=15, min_samples_split=4;, score=0.503 total time=   0.0s\n",
      "[CV 4/5] END criterion=gini, max_depth=15, min_samples_split=4;, score=0.583 total time=   0.0s\n",
      "[CV 4/5] END criterion=gini, max_depth=50, min_samples_split=4;, score=0.588 total time=   0.0s\n",
      "[CV 5/5] END criterion=gini, max_depth=50, min_samples_split=4;, score=0.572 total time=   0.0s\n",
      "[CV 2/5] END criterion=entropy, max_depth=5, min_samples_split=8;, score=0.599 total time=   0.0s\n",
      "[CV 3/5] END criterion=entropy, max_depth=5, min_samples_split=8;, score=0.615 total time=   0.0s\n",
      "[CV 4/5] END criterion=entropy, max_depth=5, min_samples_split=8;, score=0.604 total time=   0.0s\n",
      "[CV 5/5] END criterion=entropy, max_depth=5, min_samples_split=8;, score=0.631 total time=   0.0s\n",
      "[CV 5/5] END criterion=entropy, max_depth=50, min_samples_split=4;, score=0.588 total time=   0.1s\n",
      "[CV 1/5] END criterion=entropy, max_depth=50, min_samples_split=8;, score=0.615 total time=   0.1s\n",
      "[CV 2/5] END criterion=entropy, max_depth=50, min_samples_split=8;, score=0.567 total time=   0.0s\n",
      "[CV 3/5] END criterion=entropy, max_depth=50, min_samples_split=8;, score=0.476 total time=   0.0s\n",
      "[CV 4/5] END max_depth=5, max_features=1, n_estimators=10;, score=0.647 total time=   0.0s\n",
      "[CV 2/5] END max_depth=5, max_features=1, n_estimators=500;, score=0.620 total time=   0.7s\n",
      "[CV 2/5] END max_depth=5, max_features=sqrt, n_estimators=500;, score=0.631 total time=   1.4s\n",
      "[CV 3/5] END max_depth=5, max_features=sqrt, n_estimators=500;, score=0.642 total time=   1.5s\n",
      "[CV 2/5] END max_depth=50, max_features=sqrt, n_estimators=10;, score=0.615 total time=   0.1s\n",
      "[CV 3/5] END max_depth=50, max_features=sqrt, n_estimators=10;, score=0.615 total time=   0.0s\n",
      "[CV 1/5] END max_depth=50, max_features=sqrt, n_estimators=100;, score=0.642 total time=   0.5s\n",
      "[CV 4/5] END max_depth=50, max_features=sqrt, n_estimators=100;, score=0.620 total time=   0.4s\n",
      "[CV 3/5] END max_depth=50, max_features=sqrt, n_estimators=500;, score=0.642 total time=   2.1s\n",
      "[CV 1/5] END ..........alpha=0.5, max_iter=1000;, score=0.652 total time=   0.8s\n",
      "[CV 5/5] END ..........alpha=0.5, max_iter=1000;, score=0.626 total time=   0.8s\n",
      "[CV 4/5] END ............alpha=1, max_iter=1000;, score=0.631 total time=   0.7s\n",
      "[CV 2/5] END learning_rate=0.01, n_estimators=100;, score=0.615 total time=   0.7s\n",
      "[CV 4/5] END learning_rate=0.01, n_estimators=500;, score=0.620 total time=   3.7s\n",
      "[CV 4/5] END .learning_rate=1, n_estimators=100;, score=0.604 total time=   0.7s\n",
      "[CV 4/5] END .learning_rate=1, n_estimators=500;, score=0.583 total time=   3.5s\n",
      "[CV 2/5] END ..................................., score=0.647 total time=   0.0s\n"
     ]
    },
    {
     "name": "stderr",
     "output_type": "stream",
     "text": [
      "/Users/stepanwork/opt/anaconda3/envs/mlpy38/lib/python3.8/site-packages/sklearn/neighbors/_classification.py:228: FutureWarning: Unlike other reduction functions (e.g. `skew`, `kurtosis`), the default behavior of `mode` typically preserves the axis it acts along. In SciPy 1.11.0, this behavior will change: the default value of `keepdims` will become False, the `axis` over which the statistic is taken will be eliminated, and the value None will no longer be accepted. Set `keepdims` to True or False to avoid this warning.\n",
      "  mode, _ = stats.mode(_y[neigh_ind, k], axis=1)\n",
      "/Users/stepanwork/opt/anaconda3/envs/mlpy38/lib/python3.8/site-packages/sklearn/neighbors/_classification.py:228: FutureWarning: Unlike other reduction functions (e.g. `skew`, `kurtosis`), the default behavior of `mode` typically preserves the axis it acts along. In SciPy 1.11.0, this behavior will change: the default value of `keepdims` will become False, the `axis` over which the statistic is taken will be eliminated, and the value None will no longer be accepted. Set `keepdims` to True or False to avoid this warning.\n",
      "  mode, _ = stats.mode(_y[neigh_ind, k], axis=1)\n",
      "/Users/stepanwork/opt/anaconda3/envs/mlpy38/lib/python3.8/site-packages/sklearn/neighbors/_classification.py:228: FutureWarning: Unlike other reduction functions (e.g. `skew`, `kurtosis`), the default behavior of `mode` typically preserves the axis it acts along. In SciPy 1.11.0, this behavior will change: the default value of `keepdims` will become False, the `axis` over which the statistic is taken will be eliminated, and the value None will no longer be accepted. Set `keepdims` to True or False to avoid this warning.\n",
      "  mode, _ = stats.mode(_y[neigh_ind, k], axis=1)\n",
      "/Users/stepanwork/opt/anaconda3/envs/mlpy38/lib/python3.8/site-packages/sklearn/neighbors/_classification.py:228: FutureWarning: Unlike other reduction functions (e.g. `skew`, `kurtosis`), the default behavior of `mode` typically preserves the axis it acts along. In SciPy 1.11.0, this behavior will change: the default value of `keepdims` will become False, the `axis` over which the statistic is taken will be eliminated, and the value None will no longer be accepted. Set `keepdims` to True or False to avoid this warning.\n",
      "  mode, _ = stats.mode(_y[neigh_ind, k], axis=1)\n",
      "/Users/stepanwork/opt/anaconda3/envs/mlpy38/lib/python3.8/site-packages/sklearn/neighbors/_classification.py:228: FutureWarning: Unlike other reduction functions (e.g. `skew`, `kurtosis`), the default behavior of `mode` typically preserves the axis it acts along. In SciPy 1.11.0, this behavior will change: the default value of `keepdims` will become False, the `axis` over which the statistic is taken will be eliminated, and the value None will no longer be accepted. Set `keepdims` to True or False to avoid this warning.\n",
      "  mode, _ = stats.mode(_y[neigh_ind, k], axis=1)\n",
      "/Users/stepanwork/opt/anaconda3/envs/mlpy38/lib/python3.8/site-packages/sklearn/neighbors/_classification.py:228: FutureWarning: Unlike other reduction functions (e.g. `skew`, `kurtosis`), the default behavior of `mode` typically preserves the axis it acts along. In SciPy 1.11.0, this behavior will change: the default value of `keepdims` will become False, the `axis` over which the statistic is taken will be eliminated, and the value None will no longer be accepted. Set `keepdims` to True or False to avoid this warning.\n",
      "  mode, _ = stats.mode(_y[neigh_ind, k], axis=1)\n",
      "/Users/stepanwork/opt/anaconda3/envs/mlpy38/lib/python3.8/site-packages/sklearn/neighbors/_classification.py:228: FutureWarning: Unlike other reduction functions (e.g. `skew`, `kurtosis`), the default behavior of `mode` typically preserves the axis it acts along. In SciPy 1.11.0, this behavior will change: the default value of `keepdims` will become False, the `axis` over which the statistic is taken will be eliminated, and the value None will no longer be accepted. Set `keepdims` to True or False to avoid this warning.\n",
      "  mode, _ = stats.mode(_y[neigh_ind, k], axis=1)\n"
     ]
    },
    {
     "name": "stdout",
     "output_type": "stream",
     "text": [
      "[CV 3/5] END ................n_neighbors=3, p=1;, score=0.545 total time=   0.0s\n",
      "[CV 5/5] END ................n_neighbors=5, p=1;, score=0.620 total time=   0.0s\n",
      "[CV 4/5] END ................n_neighbors=7, p=1;, score=0.663 total time=   0.0s\n",
      "[CV 3/5] END ..............C=0.5, kernel=linear;, score=0.620 total time=   0.0s\n",
      "[CV 3/5] END ..................C=0.025, gamma=1;, score=0.620 total time=   0.1s\n",
      "[CV 2/5] END ..............C=0.025, gamma=scale;, score=0.620 total time=   0.1s\n",
      "[CV 5/5] END ...................C=0.25, gamma=2;, score=0.620 total time=   0.1s\n",
      "[CV 1/5] END ...............C=0.25, gamma=scale;, score=0.631 total time=   0.1s\n",
      "[CV 3/5] END ................C=0.5, gamma=scale;, score=0.615 total time=   0.1s\n",
      "[CV 4/5] END ................C=0.5, gamma=scale;, score=0.620 total time=   0.1s\n",
      "[CV 5/5] END ......................C=1, gamma=2;, score=0.610 total time=   0.1s\n",
      "[CV 4/5] END criterion=gini, max_depth=5, min_samples_split=2;, score=0.594 total time=   0.0s\n",
      "[CV 1/5] END criterion=gini, max_depth=5, min_samples_split=8;, score=0.652 total time=   0.0s\n",
      "[CV 4/5] END criterion=gini, max_depth=15, min_samples_split=2;, score=0.545 total time=   0.0s\n",
      "[CV 5/5] END criterion=gini, max_depth=15, min_samples_split=2;, score=0.583 total time=   0.0s\n",
      "[CV 5/5] END criterion=gini, max_depth=50, min_samples_split=2;, score=0.572 total time=   0.1s\n",
      "[CV 1/5] END criterion=gini, max_depth=50, min_samples_split=4;, score=0.551 total time=   0.1s\n",
      "[CV 1/5] END criterion=entropy, max_depth=15, min_samples_split=2;, score=0.636 total time=   0.1s\n",
      "[CV 2/5] END criterion=entropy, max_depth=15, min_samples_split=2;, score=0.583 total time=   0.1s\n",
      "[CV 3/5] END criterion=entropy, max_depth=15, min_samples_split=2;, score=0.519 total time=   0.1s\n",
      "[CV 4/5] END criterion=entropy, max_depth=15, min_samples_split=2;, score=0.588 total time=   0.1s\n",
      "[CV 3/5] END criterion=log_loss, max_depth=5, min_samples_split=2;, score=nan total time=   0.0s\n",
      "[CV 4/5] END criterion=log_loss, max_depth=5, min_samples_split=2;, score=nan total time=   0.0s\n",
      "[CV 5/5] END criterion=log_loss, max_depth=5, min_samples_split=2;, score=nan total time=   0.0s\n",
      "[CV 1/5] END criterion=log_loss, max_depth=5, min_samples_split=4;, score=nan total time=   0.0s\n",
      "[CV 2/5] END criterion=log_loss, max_depth=5, min_samples_split=4;, score=nan total time=   0.0s\n",
      "[CV 3/5] END criterion=log_loss, max_depth=5, min_samples_split=4;, score=nan total time=   0.0s\n",
      "[CV 4/5] END criterion=log_loss, max_depth=5, min_samples_split=4;, score=nan total time=   0.0s\n",
      "[CV 5/5] END criterion=log_loss, max_depth=5, min_samples_split=4;, score=nan total time=   0.0s\n",
      "[CV 5/5] END criterion=log_loss, max_depth=5, min_samples_split=8;, score=nan total time=   0.0s\n",
      "[CV 1/5] END criterion=log_loss, max_depth=15, min_samples_split=2;, score=nan total time=   0.0s\n",
      "[CV 2/5] END criterion=log_loss, max_depth=15, min_samples_split=2;, score=nan total time=   0.0s\n",
      "[CV 3/5] END criterion=log_loss, max_depth=15, min_samples_split=2;, score=nan total time=   0.0s\n",
      "[CV 4/5] END criterion=log_loss, max_depth=15, min_samples_split=4;, score=nan total time=   0.0s\n",
      "[CV 1/5] END criterion=log_loss, max_depth=15, min_samples_split=8;, score=nan total time=   0.0s\n",
      "[CV 4/5] END criterion=log_loss, max_depth=15, min_samples_split=8;, score=nan total time=   0.0s\n",
      "[CV 5/5] END criterion=log_loss, max_depth=50, min_samples_split=2;, score=nan total time=   0.0s\n",
      "[CV 2/5] END criterion=log_loss, max_depth=50, min_samples_split=4;, score=nan total time=   0.0s\n",
      "[CV 1/5] END max_depth=5, max_features=1, n_estimators=100;, score=0.615 total time=   0.1s\n",
      "[CV 5/5] END max_depth=5, max_features=1, n_estimators=500;, score=0.626 total time=   0.7s\n",
      "[CV 2/5] END max_depth=15, max_features=1, n_estimators=100;, score=0.636 total time=   0.2s\n",
      "[CV 3/5] END max_depth=15, max_features=1, n_estimators=100;, score=0.631 total time=   0.2s\n",
      "[CV 2/5] END max_depth=15, max_features=sqrt, n_estimators=10;, score=0.615 total time=   0.0s\n",
      "[CV 3/5] END max_depth=15, max_features=sqrt, n_estimators=10;, score=0.604 total time=   0.1s\n",
      "[CV 1/5] END max_depth=15, max_features=sqrt, n_estimators=100;, score=0.647 total time=   0.4s\n",
      "[CV 2/5] END max_depth=15, max_features=sqrt, n_estimators=100;, score=0.663 total time=   0.5s\n",
      "[CV 4/5] END max_depth=15, max_features=sqrt, n_estimators=500;, score=0.620 total time=   2.2s\n",
      "[CV 5/5] END max_depth=15, max_features=sqrt, n_estimators=500;, score=0.610 total time=   2.1s\n",
      "[CV 2/5] END ..........alpha=0.5, max_iter=1000;, score=0.679 total time=   0.7s\n",
      "[CV 4/5] END ..........alpha=0.5, max_iter=1000;, score=0.652 total time=   0.7s\n",
      "[CV 2/5] END ............alpha=1, max_iter=1000;, score=0.674 total time=   0.6s\n",
      "[CV 5/5] END ............alpha=1, max_iter=1000;, score=0.599 total time=   0.6s\n",
      "[CV 3/5] END learning_rate=0.01, n_estimators=100;, score=0.620 total time=   0.7s\n",
      "[CV 1/5] END learning_rate=0.1, n_estimators=10;, score=0.631 total time=   0.1s\n",
      "[CV 1/5] END learning_rate=0.1, n_estimators=100;, score=0.658 total time=   0.7s\n",
      "[CV 2/5] END learning_rate=0.1, n_estimators=100;, score=0.663 total time=   0.7s\n",
      "[CV 2/5] END learning_rate=0.1, n_estimators=500;, score=0.684 total time=   3.7s\n",
      "[CV 3/5] END learning_rate=0.1, n_estimators=500;, score=0.674 total time=   3.3s\n",
      "[CV 4/5] END ..................................., score=0.647 total time=   0.0s\n",
      "[CV 2/5] END ................n_neighbors=3, p=2;, score=0.588 total time=   0.0s\n",
      "[CV 5/5] END ................n_neighbors=3, p=2;, score=0.588 total time=   0.0s\n",
      "[CV 2/5] END ................n_neighbors=5, p=2;, score=0.631 total time=   0.0s\n",
      "[CV 3/5] END ................n_neighbors=7, p=1;, score=0.668 total time=   0.0s\n",
      "[CV 2/5] END .............C=0.25, kernel=linear;, score=0.620 total time=   0.0s\n",
      "[CV 1/5] END ................C=1, kernel=linear;, score=0.647 total time=   0.0s\n",
      "[CV 2/5] END ..................C=0.025, gamma=2;, score=0.620 total time=   0.1s\n",
      "[CV 1/5] END ...................C=0.25, gamma=1;, score=0.620 total time=   0.1s\n",
      "[CV 4/5] END ...............C=0.25, gamma=scale;, score=0.615 total time=   0.1s\n",
      "[CV 5/5] END ...............C=0.25, gamma=scale;, score=0.626 total time=   0.1s\n",
      "[CV 1/5] END ................C=0.5, gamma=scale;, score=0.647 total time=   0.1s\n",
      "[CV 2/5] END ................C=0.5, gamma=scale;, score=0.658 total time=   0.1s\n",
      "[CV 4/5] END ......................C=1, gamma=2;, score=0.631 total time=   0.1s\n",
      "[CV 3/5] END .kernel=1**2 * RBF(length_scale=1);, score=0.636 total time=   2.9s\n",
      "[CV 3/5] END criterion=gini, max_depth=5, min_samples_split=8;, score=0.588 total time=   0.0s\n",
      "[CV 1/5] END criterion=gini, max_depth=50, min_samples_split=2;, score=0.583 total time=   0.1s\n",
      "[CV 2/5] END criterion=gini, max_depth=50, min_samples_split=2;, score=0.631 total time=   0.0s\n",
      "[CV 2/5] END criterion=entropy, max_depth=5, min_samples_split=2;, score=0.599 total time=   0.0s\n",
      "[CV 3/5] END criterion=entropy, max_depth=5, min_samples_split=2;, score=0.626 total time=   0.0s\n",
      "[CV 2/5] END criterion=entropy, max_depth=50, min_samples_split=2;, score=0.567 total time=   0.1s\n",
      "[CV 3/5] END criterion=entropy, max_depth=50, min_samples_split=2;, score=0.529 total time=   0.1s\n",
      "[CV 4/5] END criterion=entropy, max_depth=50, min_samples_split=2;, score=0.620 total time=   0.1s\n",
      "[CV 5/5] END criterion=entropy, max_depth=50, min_samples_split=2;, score=0.594 total time=   0.1s\n",
      "[CV 5/5] END criterion=log_loss, max_depth=50, min_samples_split=4;, score=nan total time=   0.0s\n",
      "[CV 3/5] END max_depth=5, max_features=1, n_estimators=100;, score=0.615 total time=   0.1s\n",
      "[CV 2/5] END max_depth=5, max_features=sqrt, n_estimators=10;, score=0.652 total time=   0.0s\n",
      "[CV 3/5] END max_depth=5, max_features=sqrt, n_estimators=10;, score=0.642 total time=   0.0s\n",
      "[CV 3/5] END max_depth=5, max_features=sqrt, n_estimators=100;, score=0.642 total time=   0.3s\n",
      "[CV 4/5] END max_depth=5, max_features=sqrt, n_estimators=100;, score=0.642 total time=   0.3s\n",
      "[CV 4/5] END max_depth=15, max_features=1, n_estimators=100;, score=0.636 total time=   0.2s\n",
      "[CV 5/5] END max_depth=15, max_features=1, n_estimators=100;, score=0.631 total time=   0.2s\n",
      "[CV 4/5] END max_depth=15, max_features=sqrt, n_estimators=10;, score=0.599 total time=   0.0s\n",
      "[CV 5/5] END max_depth=15, max_features=sqrt, n_estimators=10;, score=0.615 total time=   0.0s\n",
      "[CV 3/5] END max_depth=15, max_features=sqrt, n_estimators=100;, score=0.631 total time=   0.4s\n",
      "[CV 4/5] END max_depth=15, max_features=sqrt, n_estimators=100;, score=0.615 total time=   0.5s\n",
      "[CV 1/5] END max_depth=50, max_features=1, n_estimators=10;, score=0.626 total time=   0.0s\n",
      "[CV 2/5] END max_depth=50, max_features=1, n_estimators=10;, score=0.599 total time=   0.0s\n",
      "[CV 3/5] END max_depth=50, max_features=1, n_estimators=10;, score=0.631 total time=   0.0s\n",
      "[CV 4/5] END max_depth=50, max_features=1, n_estimators=10;, score=0.583 total time=   0.0s\n",
      "[CV 5/5] END max_depth=50, max_features=1, n_estimators=10;, score=0.588 total time=   0.0s\n",
      "[CV 1/5] END max_depth=50, max_features=1, n_estimators=100;, score=0.636 total time=   0.2s\n",
      "[CV 2/5] END max_depth=50, max_features=1, n_estimators=100;, score=0.647 total time=   0.2s\n",
      "[CV 3/5] END max_depth=50, max_features=1, n_estimators=100;, score=0.636 total time=   0.2s\n",
      "[CV 3/5] END max_depth=50, max_features=1, n_estimators=500;, score=0.636 total time=   0.9s\n",
      "[CV 4/5] END max_depth=50, max_features=1, n_estimators=500;, score=0.636 total time=   0.9s\n",
      "[CV 5/5] END max_depth=50, max_features=sqrt, n_estimators=500;, score=0.631 total time=   2.1s\n",
      "[CV 2/5] END .........alpha=0.25, max_iter=1000;, score=0.642 total time=   2.8s\n",
      "[CV 4/5] END learning_rate=0.01, n_estimators=10;, score=0.599 total time=   0.1s\n",
      "[CV 2/5] END learning_rate=0.01, n_estimators=500;, score=0.652 total time=   3.6s\n",
      "[CV 1/5] END ..learning_rate=1, n_estimators=10;, score=0.636 total time=   0.1s\n",
      "[CV 2/5] END ..learning_rate=1, n_estimators=10;, score=0.588 total time=   0.1s\n",
      "[CV 1/5] END .learning_rate=1, n_estimators=100;, score=0.620 total time=   0.8s\n",
      "[CV 1/5] END .learning_rate=1, n_estimators=500;, score=0.658 total time=   3.6s\n",
      "[CV 5/5] END ..................................., score=0.594 total time=   0.0s\n",
      "[CV 3/5] END ................n_neighbors=3, p=2;, score=0.604 total time=   0.0s\n",
      "[CV 4/5] END ................n_neighbors=3, p=2;, score=0.561 total time=   0.0s\n",
      "[CV 3/5] END ................n_neighbors=5, p=1;, score=0.652 total time=   0.0s\n",
      "[CV 4/5] END ................n_neighbors=5, p=2;, score=0.626 total time=   0.0s\n",
      "[CV 5/5] END ................n_neighbors=7, p=1;, score=0.620 total time=   0.0s\n",
      "[CV 4/5] END ............C=0.025, kernel=linear;, score=0.620 total time=   0.0s\n",
      "[CV 5/5] END .............C=0.25, kernel=linear;, score=0.626 total time=   0.0s\n",
      "[CV 1/5] END ..................C=0.025, gamma=2;, score=0.620 total time=   0.1s\n",
      "[CV 4/5] END ..............C=0.025, gamma=scale;, score=0.620 total time=   0.1s\n",
      "[CV 2/5] END ...............C=0.25, gamma=scale;, score=0.620 total time=   0.1s\n",
      "[CV 3/5] END ...............C=0.25, gamma=scale;, score=0.620 total time=   0.1s\n",
      "[CV 5/5] END ................C=0.5, gamma=scale;, score=0.615 total time=   0.1s\n",
      "[CV 1/5] END ......................C=1, gamma=1;, score=0.663 total time=   0.1s\n",
      "[CV 2/5] END ..................C=1, gamma=scale;, score=0.695 total time=   0.1s\n",
      "[CV 3/5] END criterion=gini, max_depth=5, min_samples_split=2;, score=0.588 total time=   0.0s\n",
      "[CV 5/5] END criterion=gini, max_depth=5, min_samples_split=4;, score=0.642 total time=   0.0s\n",
      "[CV 5/5] END criterion=gini, max_depth=5, min_samples_split=8;, score=0.642 total time=   0.0s\n",
      "[CV 2/5] END criterion=gini, max_depth=15, min_samples_split=8;, score=0.631 total time=   0.0s\n",
      "[CV 3/5] END criterion=gini, max_depth=15, min_samples_split=8;, score=0.545 total time=   0.0s\n",
      "[CV 1/5] END criterion=gini, max_depth=50, min_samples_split=8;, score=0.604 total time=   0.1s\n",
      "[CV 2/5] END criterion=gini, max_depth=50, min_samples_split=8;, score=0.615 total time=   0.0s\n",
      "[CV 5/5] END criterion=entropy, max_depth=15, min_samples_split=2;, score=0.583 total time=   0.1s\n",
      "[CV 1/5] END criterion=entropy, max_depth=15, min_samples_split=4;, score=0.599 total time=   0.1s\n",
      "[CV 2/5] END criterion=entropy, max_depth=15, min_samples_split=4;, score=0.583 total time=   0.1s\n",
      "[CV 3/5] END criterion=entropy, max_depth=15, min_samples_split=4;, score=0.497 total time=   0.1s\n",
      "[CV 1/5] END criterion=log_loss, max_depth=5, min_samples_split=8;, score=nan total time=   0.0s\n",
      "[CV 2/5] END criterion=log_loss, max_depth=5, min_samples_split=8;, score=nan total time=   0.0s\n",
      "[CV 3/5] END criterion=log_loss, max_depth=5, min_samples_split=8;, score=nan total time=   0.0s\n",
      "[CV 4/5] END criterion=log_loss, max_depth=5, min_samples_split=8;, score=nan total time=   0.0s\n",
      "[CV 3/5] END criterion=log_loss, max_depth=15, min_samples_split=4;, score=nan total time=   0.0s\n",
      "[CV 5/5] END criterion=log_loss, max_depth=15, min_samples_split=4;, score=nan total time=   0.0s\n",
      "[CV 1/5] END criterion=log_loss, max_depth=50, min_samples_split=2;, score=nan total time=   0.0s\n",
      "[CV 4/5] END criterion=log_loss, max_depth=50, min_samples_split=2;, score=nan total time=   0.0s\n",
      "[CV 1/5] END criterion=log_loss, max_depth=50, min_samples_split=4;, score=nan total time=   0.0s\n",
      "[CV 2/5] END criterion=log_loss, max_depth=50, min_samples_split=8;, score=nan total time=   0.0s\n",
      "[CV 2/5] END max_depth=5, max_features=1, n_estimators=10;, score=0.610 total time=   0.0s\n",
      "[CV 5/5] END max_depth=5, max_features=1, n_estimators=100;, score=0.620 total time=   0.1s\n",
      "[CV 1/5] END max_depth=5, max_features=sqrt, n_estimators=10;, score=0.631 total time=   0.0s\n",
      "[CV 1/5] END max_depth=5, max_features=sqrt, n_estimators=100;, score=0.658 total time=   0.3s\n",
      "[CV 2/5] END max_depth=5, max_features=sqrt, n_estimators=100;, score=0.652 total time=   0.3s\n",
      "[CV 5/5] END max_depth=15, max_features=1, n_estimators=10;, score=0.610 total time=   0.0s\n",
      "[CV 1/5] END max_depth=15, max_features=1, n_estimators=100;, score=0.652 total time=   0.2s\n",
      "[CV 5/5] END max_depth=15, max_features=1, n_estimators=500;, score=0.615 total time=   0.9s\n",
      "[CV 1/5] END max_depth=15, max_features=sqrt, n_estimators=10;, score=0.626 total time=   0.0s\n",
      "[CV 5/5] END max_depth=15, max_features=sqrt, n_estimators=100;, score=0.610 total time=   0.4s\n",
      "[CV 1/5] END max_depth=15, max_features=sqrt, n_estimators=500;, score=0.652 total time=   2.2s\n",
      "[CV 4/5] END max_depth=50, max_features=sqrt, n_estimators=500;, score=0.636 total time=   2.0s\n",
      "[CV 3/5] END .........alpha=0.25, max_iter=1000;, score=0.647 total time=   2.7s\n",
      "[CV 3/5] END learning_rate=0.01, n_estimators=10;, score=0.636 total time=   0.1s\n",
      "[CV 1/5] END learning_rate=0.01, n_estimators=500;, score=0.647 total time=   3.7s\n",
      "[CV 4/5] END ..learning_rate=1, n_estimators=10;, score=0.615 total time=   0.1s\n",
      "[CV 2/5] END .learning_rate=1, n_estimators=100;, score=0.658 total time=   0.8s\n",
      "[CV 2/5] END .learning_rate=1, n_estimators=500;, score=0.636 total time=   3.7s\n",
      "[CV 3/5] END ..................................., score=0.642 total time=   0.0s\n"
     ]
    },
    {
     "name": "stderr",
     "output_type": "stream",
     "text": [
      "/Users/stepanwork/opt/anaconda3/envs/mlpy38/lib/python3.8/site-packages/sklearn/neighbors/_classification.py:228: FutureWarning: Unlike other reduction functions (e.g. `skew`, `kurtosis`), the default behavior of `mode` typically preserves the axis it acts along. In SciPy 1.11.0, this behavior will change: the default value of `keepdims` will become False, the `axis` over which the statistic is taken will be eliminated, and the value None will no longer be accepted. Set `keepdims` to True or False to avoid this warning.\n",
      "  mode, _ = stats.mode(_y[neigh_ind, k], axis=1)\n",
      "/Users/stepanwork/opt/anaconda3/envs/mlpy38/lib/python3.8/site-packages/sklearn/neighbors/_classification.py:228: FutureWarning: Unlike other reduction functions (e.g. `skew`, `kurtosis`), the default behavior of `mode` typically preserves the axis it acts along. In SciPy 1.11.0, this behavior will change: the default value of `keepdims` will become False, the `axis` over which the statistic is taken will be eliminated, and the value None will no longer be accepted. Set `keepdims` to True or False to avoid this warning.\n",
      "  mode, _ = stats.mode(_y[neigh_ind, k], axis=1)\n",
      "/Users/stepanwork/opt/anaconda3/envs/mlpy38/lib/python3.8/site-packages/sklearn/neighbors/_classification.py:228: FutureWarning: Unlike other reduction functions (e.g. `skew`, `kurtosis`), the default behavior of `mode` typically preserves the axis it acts along. In SciPy 1.11.0, this behavior will change: the default value of `keepdims` will become False, the `axis` over which the statistic is taken will be eliminated, and the value None will no longer be accepted. Set `keepdims` to True or False to avoid this warning.\n",
      "  mode, _ = stats.mode(_y[neigh_ind, k], axis=1)\n",
      "/Users/stepanwork/opt/anaconda3/envs/mlpy38/lib/python3.8/site-packages/sklearn/neighbors/_classification.py:228: FutureWarning: Unlike other reduction functions (e.g. `skew`, `kurtosis`), the default behavior of `mode` typically preserves the axis it acts along. In SciPy 1.11.0, this behavior will change: the default value of `keepdims` will become False, the `axis` over which the statistic is taken will be eliminated, and the value None will no longer be accepted. Set `keepdims` to True or False to avoid this warning.\n",
      "  mode, _ = stats.mode(_y[neigh_ind, k], axis=1)\n",
      "/Users/stepanwork/opt/anaconda3/envs/mlpy38/lib/python3.8/site-packages/sklearn/neighbors/_classification.py:228: FutureWarning: Unlike other reduction functions (e.g. `skew`, `kurtosis`), the default behavior of `mode` typically preserves the axis it acts along. In SciPy 1.11.0, this behavior will change: the default value of `keepdims` will become False, the `axis` over which the statistic is taken will be eliminated, and the value None will no longer be accepted. Set `keepdims` to True or False to avoid this warning.\n",
      "  mode, _ = stats.mode(_y[neigh_ind, k], axis=1)\n",
      "/Users/stepanwork/opt/anaconda3/envs/mlpy38/lib/python3.8/site-packages/sklearn/neighbors/_classification.py:228: FutureWarning: Unlike other reduction functions (e.g. `skew`, `kurtosis`), the default behavior of `mode` typically preserves the axis it acts along. In SciPy 1.11.0, this behavior will change: the default value of `keepdims` will become False, the `axis` over which the statistic is taken will be eliminated, and the value None will no longer be accepted. Set `keepdims` to True or False to avoid this warning.\n",
      "  mode, _ = stats.mode(_y[neigh_ind, k], axis=1)\n",
      "/Users/stepanwork/opt/anaconda3/envs/mlpy38/lib/python3.8/site-packages/sklearn/neighbors/_classification.py:228: FutureWarning: Unlike other reduction functions (e.g. `skew`, `kurtosis`), the default behavior of `mode` typically preserves the axis it acts along. In SciPy 1.11.0, this behavior will change: the default value of `keepdims` will become False, the `axis` over which the statistic is taken will be eliminated, and the value None will no longer be accepted. Set `keepdims` to True or False to avoid this warning.\n",
      "  mode, _ = stats.mode(_y[neigh_ind, k], axis=1)\n",
      "/Users/stepanwork/opt/anaconda3/envs/mlpy38/lib/python3.8/site-packages/sklearn/neighbors/_classification.py:228: FutureWarning: Unlike other reduction functions (e.g. `skew`, `kurtosis`), the default behavior of `mode` typically preserves the axis it acts along. In SciPy 1.11.0, this behavior will change: the default value of `keepdims` will become False, the `axis` over which the statistic is taken will be eliminated, and the value None will no longer be accepted. Set `keepdims` to True or False to avoid this warning.\n",
      "  mode, _ = stats.mode(_y[neigh_ind, k], axis=1)\n",
      "/Users/stepanwork/opt/anaconda3/envs/mlpy38/lib/python3.8/site-packages/sklearn/neighbors/_classification.py:228: FutureWarning: Unlike other reduction functions (e.g. `skew`, `kurtosis`), the default behavior of `mode` typically preserves the axis it acts along. In SciPy 1.11.0, this behavior will change: the default value of `keepdims` will become False, the `axis` over which the statistic is taken will be eliminated, and the value None will no longer be accepted. Set `keepdims` to True or False to avoid this warning.\n",
      "  mode, _ = stats.mode(_y[neigh_ind, k], axis=1)\n",
      "/Users/stepanwork/opt/anaconda3/envs/mlpy38/lib/python3.8/site-packages/sklearn/neighbors/_classification.py:228: FutureWarning: Unlike other reduction functions (e.g. `skew`, `kurtosis`), the default behavior of `mode` typically preserves the axis it acts along. In SciPy 1.11.0, this behavior will change: the default value of `keepdims` will become False, the `axis` over which the statistic is taken will be eliminated, and the value None will no longer be accepted. Set `keepdims` to True or False to avoid this warning.\n",
      "  mode, _ = stats.mode(_y[neigh_ind, k], axis=1)\n",
      "/Users/stepanwork/opt/anaconda3/envs/mlpy38/lib/python3.8/site-packages/sklearn/neighbors/_classification.py:228: FutureWarning: Unlike other reduction functions (e.g. `skew`, `kurtosis`), the default behavior of `mode` typically preserves the axis it acts along. In SciPy 1.11.0, this behavior will change: the default value of `keepdims` will become False, the `axis` over which the statistic is taken will be eliminated, and the value None will no longer be accepted. Set `keepdims` to True or False to avoid this warning.\n",
      "  mode, _ = stats.mode(_y[neigh_ind, k], axis=1)\n",
      "/Users/stepanwork/opt/anaconda3/envs/mlpy38/lib/python3.8/site-packages/sklearn/neighbors/_classification.py:228: FutureWarning: Unlike other reduction functions (e.g. `skew`, `kurtosis`), the default behavior of `mode` typically preserves the axis it acts along. In SciPy 1.11.0, this behavior will change: the default value of `keepdims` will become False, the `axis` over which the statistic is taken will be eliminated, and the value None will no longer be accepted. Set `keepdims` to True or False to avoid this warning.\n",
      "  mode, _ = stats.mode(_y[neigh_ind, k], axis=1)\n"
     ]
    }
   ],
   "source": [
    "data_input = data[['combined', 'label']].copy()\n",
    "data_input.columns = ['text', 'label']\n",
    "data_input['text'] = data_input['text']\n",
    "data_input['label'] = data_input['label']\n",
    "data_input"
   ]
  },
  {
   "cell_type": "code",
   "execution_count": 114,
   "id": "c297a95a",
   "metadata": {},
   "outputs": [],
   "source": [
    "data_input.to_csv('./output/classification/source_title_description_bin_clf.csv', index=False)"
   ]
  },
  {
   "cell_type": "code",
   "execution_count": 72,
   "outputs": [
    {
     "data": {
      "text/plain": "                source                                              title  \\\n0        CoinTelegraph  Bitcoin options data shows bulls aiming for $1...   \n1       The Daily Hodl  Crypto Exchange Coinbase Adds Support for Two ...   \n2       The Daily Hodl  BitKeep Wallet Goes Live With .Bayc and Other ...   \n3     Bitcoin Magazine  Kazakhstan Presses On With Restrictive Bitcoin...   \n4        CoinTelegraph   The blockchain trilemma: Can it ever be tackled?   \n...                ...                                                ...   \n1924      CryptoPotato  El Salvador Launches Bitcoin, Lightning Dev Tr...   \n1925     CoinTelegraph  Worlds collide at Bitcoin-based DeFi project —...   \n1926     CoinTelegraph  Euler Finance hacker starts returning stolen E...   \n1927        CryptoNews  Bitcoin Price and Ethereum Prediction: BTC and...   \n1928     CoinTelegraph  Bitcoin market cap grows 60% in 2023 as top Wa...   \n\n                                            description  \\\n0     BTC bulls could secure a $130 million profit i...   \n1     Top US crypto exchange Coinbase has given supp...   \n2     December 5, 2022 As simplified wallet addresse...   \n3     A bill that would create new licensing and ele...   \n4     Blockchain trilemma is arguably the hardest te...   \n...                                                 ...   \n1924  The months-long program will offer credit and ...   \n1925  Ordinals NFTs have split the Bitcoin community...   \n1926  Chances that the hacker will return the entire...   \n1927  Bitcoin (BTC) and Ethereum (ETH) have seen sig...   \n1928  Bitcoin has decoupled from stocks and rising t...   \n\n                                                   text      label  \n0     Source: CoinTelegraph Title: Bitcoin options d...     change  \n1     Source: The Daily Hodl Title: Crypto Exchange ...  no effect  \n2     Source: The Daily Hodl Title: BitKeep Wallet G...  no effect  \n3     Source: Bitcoin Magazine Title: Kazakhstan Pre...  no effect  \n4     Source: CoinTelegraph Title: The blockchain tr...  no effect  \n...                                                 ...        ...  \n1924  Source: CryptoPotato Title: El Salvador Launch...  no effect  \n1925  Source: CoinTelegraph Title: Worlds collide at...     change  \n1926  Source: CoinTelegraph Title: Euler Finance hac...     change  \n1927  Source: CryptoNews Title: Bitcoin Price and Et...     change  \n1928  Source: CoinTelegraph Title: Bitcoin market ca...     change  \n\n[1929 rows x 5 columns]",
      "text/html": "<div>\n<style scoped>\n    .dataframe tbody tr th:only-of-type {\n        vertical-align: middle;\n    }\n\n    .dataframe tbody tr th {\n        vertical-align: top;\n    }\n\n    .dataframe thead th {\n        text-align: right;\n    }\n</style>\n<table border=\"1\" class=\"dataframe\">\n  <thead>\n    <tr style=\"text-align: right;\">\n      <th></th>\n      <th>source</th>\n      <th>title</th>\n      <th>description</th>\n      <th>text</th>\n      <th>label</th>\n    </tr>\n  </thead>\n  <tbody>\n    <tr>\n      <th>0</th>\n      <td>CoinTelegraph</td>\n      <td>Bitcoin options data shows bulls aiming for $1...</td>\n      <td>BTC bulls could secure a $130 million profit i...</td>\n      <td>Source: CoinTelegraph Title: Bitcoin options d...</td>\n      <td>change</td>\n    </tr>\n    <tr>\n      <th>1</th>\n      <td>The Daily Hodl</td>\n      <td>Crypto Exchange Coinbase Adds Support for Two ...</td>\n      <td>Top US crypto exchange Coinbase has given supp...</td>\n      <td>Source: The Daily Hodl Title: Crypto Exchange ...</td>\n      <td>no effect</td>\n    </tr>\n    <tr>\n      <th>2</th>\n      <td>The Daily Hodl</td>\n      <td>BitKeep Wallet Goes Live With .Bayc and Other ...</td>\n      <td>December 5, 2022 As simplified wallet addresse...</td>\n      <td>Source: The Daily Hodl Title: BitKeep Wallet G...</td>\n      <td>no effect</td>\n    </tr>\n    <tr>\n      <th>3</th>\n      <td>Bitcoin Magazine</td>\n      <td>Kazakhstan Presses On With Restrictive Bitcoin...</td>\n      <td>A bill that would create new licensing and ele...</td>\n      <td>Source: Bitcoin Magazine Title: Kazakhstan Pre...</td>\n      <td>no effect</td>\n    </tr>\n    <tr>\n      <th>4</th>\n      <td>CoinTelegraph</td>\n      <td>The blockchain trilemma: Can it ever be tackled?</td>\n      <td>Blockchain trilemma is arguably the hardest te...</td>\n      <td>Source: CoinTelegraph Title: The blockchain tr...</td>\n      <td>no effect</td>\n    </tr>\n    <tr>\n      <th>...</th>\n      <td>...</td>\n      <td>...</td>\n      <td>...</td>\n      <td>...</td>\n      <td>...</td>\n    </tr>\n    <tr>\n      <th>1924</th>\n      <td>CryptoPotato</td>\n      <td>El Salvador Launches Bitcoin, Lightning Dev Tr...</td>\n      <td>The months-long program will offer credit and ...</td>\n      <td>Source: CryptoPotato Title: El Salvador Launch...</td>\n      <td>no effect</td>\n    </tr>\n    <tr>\n      <th>1925</th>\n      <td>CoinTelegraph</td>\n      <td>Worlds collide at Bitcoin-based DeFi project —...</td>\n      <td>Ordinals NFTs have split the Bitcoin community...</td>\n      <td>Source: CoinTelegraph Title: Worlds collide at...</td>\n      <td>change</td>\n    </tr>\n    <tr>\n      <th>1926</th>\n      <td>CoinTelegraph</td>\n      <td>Euler Finance hacker starts returning stolen E...</td>\n      <td>Chances that the hacker will return the entire...</td>\n      <td>Source: CoinTelegraph Title: Euler Finance hac...</td>\n      <td>change</td>\n    </tr>\n    <tr>\n      <th>1927</th>\n      <td>CryptoNews</td>\n      <td>Bitcoin Price and Ethereum Prediction: BTC and...</td>\n      <td>Bitcoin (BTC) and Ethereum (ETH) have seen sig...</td>\n      <td>Source: CryptoNews Title: Bitcoin Price and Et...</td>\n      <td>change</td>\n    </tr>\n    <tr>\n      <th>1928</th>\n      <td>CoinTelegraph</td>\n      <td>Bitcoin market cap grows 60% in 2023 as top Wa...</td>\n      <td>Bitcoin has decoupled from stocks and rising t...</td>\n      <td>Source: CoinTelegraph Title: Bitcoin market ca...</td>\n      <td>change</td>\n    </tr>\n  </tbody>\n</table>\n<p>1929 rows × 5 columns</p>\n</div>"
     },
     "execution_count": 72,
     "metadata": {},
     "output_type": "execute_result"
    }
   ],
   "source": [
    "data['label'] = data['label'].apply(lambda x: 'change' if x in [-1, 1] else 'no effect')\n",
    "data"
   ],
   "metadata": {
    "collapsed": false,
    "ExecuteTime": {
     "start_time": "2023-12-07T12:03:57.797277Z",
     "end_time": "2023-12-07T12:03:57.817361Z"
    }
   }
  },
  {
   "cell_type": "code",
   "execution_count": 73,
   "id": "e9624a5a",
   "metadata": {
    "ExecuteTime": {
     "start_time": "2023-12-07T12:04:04.170797Z",
     "end_time": "2023-12-07T12:04:04.198476Z"
    }
   },
   "outputs": [
    {
     "data": {
      "text/plain": "                                                 prompt      completion\n0     Source: CoinTelegraph Title: Bitcoin options d...      change END\n1     Source: The Daily Hodl Title: Crypto Exchange ...   no effect END\n2     Source: The Daily Hodl Title: BitKeep Wallet G...   no effect END\n3     Source: Bitcoin Magazine Title: Kazakhstan Pre...   no effect END\n4     Source: CoinTelegraph Title: The blockchain tr...   no effect END\n...                                                 ...             ...\n1924  Source: CryptoPotato Title: El Salvador Launch...   no effect END\n1925  Source: CoinTelegraph Title: Worlds collide at...      change END\n1926  Source: CoinTelegraph Title: Euler Finance hac...      change END\n1927  Source: CryptoNews Title: Bitcoin Price and Et...      change END\n1928  Source: CoinTelegraph Title: Bitcoin market ca...      change END\n\n[1929 rows x 2 columns]",
      "text/html": "<div>\n<style scoped>\n    .dataframe tbody tr th:only-of-type {\n        vertical-align: middle;\n    }\n\n    .dataframe tbody tr th {\n        vertical-align: top;\n    }\n\n    .dataframe thead th {\n        text-align: right;\n    }\n</style>\n<table border=\"1\" class=\"dataframe\">\n  <thead>\n    <tr style=\"text-align: right;\">\n      <th></th>\n      <th>prompt</th>\n      <th>completion</th>\n    </tr>\n  </thead>\n  <tbody>\n    <tr>\n      <th>0</th>\n      <td>Source: CoinTelegraph Title: Bitcoin options d...</td>\n      <td>change END</td>\n    </tr>\n    <tr>\n      <th>1</th>\n      <td>Source: The Daily Hodl Title: Crypto Exchange ...</td>\n      <td>no effect END</td>\n    </tr>\n    <tr>\n      <th>2</th>\n      <td>Source: The Daily Hodl Title: BitKeep Wallet G...</td>\n      <td>no effect END</td>\n    </tr>\n    <tr>\n      <th>3</th>\n      <td>Source: Bitcoin Magazine Title: Kazakhstan Pre...</td>\n      <td>no effect END</td>\n    </tr>\n    <tr>\n      <th>4</th>\n      <td>Source: CoinTelegraph Title: The blockchain tr...</td>\n      <td>no effect END</td>\n    </tr>\n    <tr>\n      <th>...</th>\n      <td>...</td>\n      <td>...</td>\n    </tr>\n    <tr>\n      <th>1924</th>\n      <td>Source: CryptoPotato Title: El Salvador Launch...</td>\n      <td>no effect END</td>\n    </tr>\n    <tr>\n      <th>1925</th>\n      <td>Source: CoinTelegraph Title: Worlds collide at...</td>\n      <td>change END</td>\n    </tr>\n    <tr>\n      <th>1926</th>\n      <td>Source: CoinTelegraph Title: Euler Finance hac...</td>\n      <td>change END</td>\n    </tr>\n    <tr>\n      <th>1927</th>\n      <td>Source: CryptoNews Title: Bitcoin Price and Et...</td>\n      <td>change END</td>\n    </tr>\n    <tr>\n      <th>1928</th>\n      <td>Source: CoinTelegraph Title: Bitcoin market ca...</td>\n      <td>change END</td>\n    </tr>\n  </tbody>\n</table>\n<p>1929 rows × 2 columns</p>\n</div>"
     },
     "execution_count": 73,
     "metadata": {},
     "output_type": "execute_result"
    }
   ],
   "source": [
    "data_input = data[['text', 'label']].copy()\n",
    "data_input.columns = ['prompt', 'completion']\n",
    "data_input['prompt'] = data_input['prompt'] + '\\n\\n###\\n\\n'\n",
    "data_input['completion'] = ' ' + data_input['completion'] + ' END'\n",
    "data_input"
   ]
  },
  {
   "cell_type": "code",
   "execution_count": 75,
   "outputs": [],
   "source": [
    "data_input.to_json('./output/classification/FINAL_source_title_description.jsonl', orient='records', lines=True)\n",
    "data_input.to_csv('./output/classification/FINAL_source_title_description.csv', index=False)"
   ],
   "metadata": {
    "collapsed": false,
    "ExecuteTime": {
     "start_time": "2023-12-07T12:06:15.781837Z",
     "end_time": "2023-12-07T12:06:15.807841Z"
    }
   }
  },
  {
   "cell_type": "code",
   "execution_count": null,
   "outputs": [],
   "source": [],
   "metadata": {
    "collapsed": false
   }
  }
 ],
 "metadata": {
  "kernelspec": {
   "display_name": "Python 3 (ipykernel)",
   "language": "python",
   "name": "python3"
  },
  "language_info": {
   "codemirror_mode": {
    "name": "ipython",
    "version": 3
   },
   "file_extension": ".py",
   "mimetype": "text/x-python",
   "name": "python",
   "nbconvert_exporter": "python",
   "pygments_lexer": "ipython3",
   "version": "3.8.12"
  }
 },
 "nbformat": 4,
 "nbformat_minor": 5
}
