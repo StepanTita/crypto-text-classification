{
 "cells": [
  {
   "cell_type": "code",
   "execution_count": 1,
   "id": "77e875cb",
   "metadata": {
    "ExecuteTime": {
     "start_time": "2023-12-07T11:15:15.121804Z",
     "end_time": "2023-12-07T11:15:15.123908Z"
    }
   },
   "outputs": [],
   "source": [
    "import os\n",
    "\n",
    "import matplotlib.pyplot as plt\n",
    "# import nltk\n",
    "import pandas as pd\n",
    "import seaborn as sns"
   ]
  },
  {
   "cell_type": "code",
   "execution_count": 2,
   "id": "d9032083",
   "metadata": {},
   "outputs": [
    {
     "name": "stderr",
     "output_type": "stream",
     "text": [
      "[nltk_data] Downloading package stopwords to ../../Resources/...\n",
      "[nltk_data]   Package stopwords is already up-to-date!\n",
      "[nltk_data] Downloading package punkt to ../../Resources/...\n",
      "[nltk_data]   Package punkt is already up-to-date!\n",
      "[nltk_data] Downloading package wordnet to ../../Resources/...\n",
      "[nltk_data]   Package wordnet is already up-to-date!\n",
      "[nltk_data] Downloading package omw-1.4 to ../../Resources/...\n",
      "[nltk_data]   Package omw-1.4 is already up-to-date!\n",
      "[nltk_data] Downloading package words to ../../Resources/...\n",
      "[nltk_data]   Package words is already up-to-date!\n"
     ]
    },
    {
     "data": {
      "text/plain": [
       "True"
      ]
     },
     "execution_count": 2,
     "metadata": {},
     "output_type": "execute_result"
    }
   ],
   "source": [
    "# nltk.download('stopwords', download_dir='../../Resources/')\n",
    "# nltk.download('punkt', download_dir='../../Resources/')\n",
    "# nltk.download('wordnet', download_dir='../../Resources/')\n",
    "# nltk.download('omw-1.4', download_dir='../../Resources/')\n",
    "# nltk.download('words', download_dir='../../Resources/')"
   ]
  },
  {
   "cell_type": "code",
   "execution_count": 3,
   "id": "ba30f74e",
   "metadata": {},
   "outputs": [],
   "source": [
    "# nltk.data.path.append('../../Resources/')"
   ]
  },
  {
   "cell_type": "code",
   "execution_count": 4,
   "id": "10103764",
   "metadata": {},
   "outputs": [
    {
     "name": "stdout",
     "output_type": "stream",
     "text": [
      "news1.csv news3.csv news5.csv news7.csv news9.csv\r\n",
      "news2.csv news4.csv news6.csv news8.csv\r\n"
     ]
    }
   ],
   "source": [
    "! ls ../../Data/boost_labelled"
   ]
  },
  {
   "cell_type": "code",
   "execution_count": 17,
   "id": "f0aa0c12",
   "metadata": {
    "ExecuteTime": {
     "start_time": "2023-12-07T11:21:33.540457Z",
     "end_time": "2023-12-07T11:21:33.546154Z"
    }
   },
   "outputs": [],
   "source": [
    "BASIC_PATH = './data/boost_labelled'"
   ]
  },
  {
   "cell_type": "code",
   "execution_count": 18,
   "id": "a0207aa1",
   "metadata": {
    "ExecuteTime": {
     "start_time": "2023-12-07T11:21:34.090848Z",
     "end_time": "2023-12-07T11:21:34.097286Z"
    }
   },
   "outputs": [],
   "source": [
    "filenames = []"
   ]
  },
  {
   "cell_type": "code",
   "execution_count": 19,
   "id": "d911982c",
   "metadata": {
    "ExecuteTime": {
     "start_time": "2023-12-07T11:21:45.083911Z",
     "end_time": "2023-12-07T11:21:45.091198Z"
    }
   },
   "outputs": [
    {
     "data": {
      "text/plain": "['./data/boost_labelled/news3.csv',\n './data/boost_labelled/news2.csv',\n './data/boost_labelled/news1.csv',\n './data/boost_labelled/news5.csv',\n './data/boost_labelled/news4.csv',\n './data/boost_labelled/news6.csv',\n './data/boost_labelled/news7.csv',\n './data/boost_labelled/news9.csv',\n './data/boost_labelled/news8.csv']"
     },
     "execution_count": 19,
     "metadata": {},
     "output_type": "execute_result"
    }
   ],
   "source": [
    "for filename in os.listdir(BASIC_PATH):\n",
    "    if not filename.startswith('.'):\n",
    "        filenames.append(f'{BASIC_PATH}/{filename}')\n",
    "filenames"
   ]
  },
  {
   "cell_type": "code",
   "execution_count": 20,
   "id": "f8fc0110",
   "metadata": {
    "ExecuteTime": {
     "start_time": "2023-12-07T11:21:49.164422Z",
     "end_time": "2023-12-07T11:21:49.226635Z"
    }
   },
   "outputs": [
    {
     "name": "stdout",
     "output_type": "stream",
     "text": [
      "Reading ./data/boost_labelled/news3.csv\n",
      "Reading ./data/boost_labelled/news2.csv\n",
      "Reading ./data/boost_labelled/news1.csv\n",
      "Reading ./data/boost_labelled/news5.csv\n",
      "Reading ./data/boost_labelled/news4.csv\n",
      "Reading ./data/boost_labelled/news6.csv\n",
      "Reading ./data/boost_labelled/news7.csv\n",
      "Reading ./data/boost_labelled/news9.csv\n",
      "Reading ./data/boost_labelled/news8.csv\n"
     ]
    },
    {
     "data": {
      "text/plain": "                       source  \\\n0          Executive Chairman   \n1               CoinTelegraph   \n2              The Daily Hodl   \n3              The Daily Hodl   \n4            Bitcoin Magazine   \n...                       ...   \n1673  Feed - Cryptopotato.Com   \n1674              CryptoSlate   \n1675   Co-founder of Ethereum   \n1676           The Daily Hodl   \n1677            onXRP Twitter   \n\n                                                  title          published_at  \\\n0     RT @justmoon: This is a post I've been wanting...  2022-12-07T19:13:11Z   \n1     Bitcoin options data shows bulls aiming for $1...  2022-12-07T19:12:11Z   \n2     Crypto Exchange Coinbase Adds Support for Two ...  2022-12-07T19:05:54Z   \n3     BitKeep Wallet Goes Live With .Bayc and Other ...  2022-12-07T19:05:16Z   \n4     Kazakhstan Presses On With Restrictive Bitcoin...  2022-12-07T18:53:00Z   \n...                                                 ...                   ...   \n1673  OKX Proof-of-Reserves Report: Bitcoin, Ether, ...  2022-12-23T18:10:53Z   \n1674  Bitcoin miners increased hash rate and product...  2022-12-23T18:00:30Z   \n1675  Looking forward to seeing who the next CEO is ...  2022-12-23T17:57:19Z   \n1676  Twitter Adds Bitcoin (BTC) and Ethereum (ETH) ...  2022-12-23T17:55:29Z   \n1677  RT @AnonymousRealx: A.A. XRP Cyborg #NFTs LIVE...  2022-12-23T17:42:40Z   \n\n     currencies  News value  \\\n0           XRP         0.0   \n1           BTC         1.0   \n2       ETH,RPL         0.0   \n3           ETH         0.0   \n4           BTC         0.0   \n...         ...         ...   \n1673       USDT         1.0   \n1674        BTC         0.0   \n1675        ETH         0.0   \n1676    BTC,ETH         1.0   \n1677    OXP,XRP         0.0   \n\n                                          full_news_url  \\\n0     https://cryptopanic.com/news/17094657/RT-justm...   \n1     https://cryptopanic.com/news/17094680/Bitcoin-...   \n2     https://cryptopanic.com/news/17094653/Crypto-E...   \n3     https://cryptopanic.com/news/17094654/BitKeep-...   \n4     https://cryptopanic.com/news/17094603/Kazakhst...   \n...                                                 ...   \n1673  https://cryptopanic.com/news/17225884/OKX-Proo...   \n1674  https://cryptopanic.com/news/17225863/Bitcoin-...   \n1675  https://cryptopanic.com/news/17225833/Looking-...   \n1676  https://cryptopanic.com/news/17225843/Twitter-...   \n1677  https://cryptopanic.com/news/17231923/RT-Anony...   \n\n                                            description  \n0                                                   NaN  \n1     <p>BTC bulls could secure a $130 million profi...  \n2     <p>Top US crypto exchange Coinbase has given s...  \n3     <p>December 5, 2022 As simplified wallet addre...  \n4     <p>A bill that would create new licensing and ...  \n...                                                 ...  \n1673  <p>The recently published Merkle tree PoR prog...  \n1674  <p>The price of Bitcoin (BTC) fell by 64.68% t...  \n1675                                                NaN  \n1676  <p>Social media giant Twitter is adding Bitcoi...  \n1677                                                NaN  \n\n[1678 rows x 7 columns]",
      "text/html": "<div>\n<style scoped>\n    .dataframe tbody tr th:only-of-type {\n        vertical-align: middle;\n    }\n\n    .dataframe tbody tr th {\n        vertical-align: top;\n    }\n\n    .dataframe thead th {\n        text-align: right;\n    }\n</style>\n<table border=\"1\" class=\"dataframe\">\n  <thead>\n    <tr style=\"text-align: right;\">\n      <th></th>\n      <th>source</th>\n      <th>title</th>\n      <th>published_at</th>\n      <th>currencies</th>\n      <th>News value</th>\n      <th>full_news_url</th>\n      <th>description</th>\n    </tr>\n  </thead>\n  <tbody>\n    <tr>\n      <th>0</th>\n      <td>Executive Chairman</td>\n      <td>RT @justmoon: This is a post I've been wanting...</td>\n      <td>2022-12-07T19:13:11Z</td>\n      <td>XRP</td>\n      <td>0.0</td>\n      <td>https://cryptopanic.com/news/17094657/RT-justm...</td>\n      <td>NaN</td>\n    </tr>\n    <tr>\n      <th>1</th>\n      <td>CoinTelegraph</td>\n      <td>Bitcoin options data shows bulls aiming for $1...</td>\n      <td>2022-12-07T19:12:11Z</td>\n      <td>BTC</td>\n      <td>1.0</td>\n      <td>https://cryptopanic.com/news/17094680/Bitcoin-...</td>\n      <td>&lt;p&gt;BTC bulls could secure a $130 million profi...</td>\n    </tr>\n    <tr>\n      <th>2</th>\n      <td>The Daily Hodl</td>\n      <td>Crypto Exchange Coinbase Adds Support for Two ...</td>\n      <td>2022-12-07T19:05:54Z</td>\n      <td>ETH,RPL</td>\n      <td>0.0</td>\n      <td>https://cryptopanic.com/news/17094653/Crypto-E...</td>\n      <td>&lt;p&gt;Top US crypto exchange Coinbase has given s...</td>\n    </tr>\n    <tr>\n      <th>3</th>\n      <td>The Daily Hodl</td>\n      <td>BitKeep Wallet Goes Live With .Bayc and Other ...</td>\n      <td>2022-12-07T19:05:16Z</td>\n      <td>ETH</td>\n      <td>0.0</td>\n      <td>https://cryptopanic.com/news/17094654/BitKeep-...</td>\n      <td>&lt;p&gt;December 5, 2022 As simplified wallet addre...</td>\n    </tr>\n    <tr>\n      <th>4</th>\n      <td>Bitcoin Magazine</td>\n      <td>Kazakhstan Presses On With Restrictive Bitcoin...</td>\n      <td>2022-12-07T18:53:00Z</td>\n      <td>BTC</td>\n      <td>0.0</td>\n      <td>https://cryptopanic.com/news/17094603/Kazakhst...</td>\n      <td>&lt;p&gt;A bill that would create new licensing and ...</td>\n    </tr>\n    <tr>\n      <th>...</th>\n      <td>...</td>\n      <td>...</td>\n      <td>...</td>\n      <td>...</td>\n      <td>...</td>\n      <td>...</td>\n      <td>...</td>\n    </tr>\n    <tr>\n      <th>1673</th>\n      <td>Feed - Cryptopotato.Com</td>\n      <td>OKX Proof-of-Reserves Report: Bitcoin, Ether, ...</td>\n      <td>2022-12-23T18:10:53Z</td>\n      <td>USDT</td>\n      <td>1.0</td>\n      <td>https://cryptopanic.com/news/17225884/OKX-Proo...</td>\n      <td>&lt;p&gt;The recently published Merkle tree PoR prog...</td>\n    </tr>\n    <tr>\n      <th>1674</th>\n      <td>CryptoSlate</td>\n      <td>Bitcoin miners increased hash rate and product...</td>\n      <td>2022-12-23T18:00:30Z</td>\n      <td>BTC</td>\n      <td>0.0</td>\n      <td>https://cryptopanic.com/news/17225863/Bitcoin-...</td>\n      <td>&lt;p&gt;The price of Bitcoin (BTC) fell by 64.68% t...</td>\n    </tr>\n    <tr>\n      <th>1675</th>\n      <td>Co-founder of Ethereum</td>\n      <td>Looking forward to seeing who the next CEO is ...</td>\n      <td>2022-12-23T17:57:19Z</td>\n      <td>ETH</td>\n      <td>0.0</td>\n      <td>https://cryptopanic.com/news/17225833/Looking-...</td>\n      <td>NaN</td>\n    </tr>\n    <tr>\n      <th>1676</th>\n      <td>The Daily Hodl</td>\n      <td>Twitter Adds Bitcoin (BTC) and Ethereum (ETH) ...</td>\n      <td>2022-12-23T17:55:29Z</td>\n      <td>BTC,ETH</td>\n      <td>1.0</td>\n      <td>https://cryptopanic.com/news/17225843/Twitter-...</td>\n      <td>&lt;p&gt;Social media giant Twitter is adding Bitcoi...</td>\n    </tr>\n    <tr>\n      <th>1677</th>\n      <td>onXRP Twitter</td>\n      <td>RT @AnonymousRealx: A.A. XRP Cyborg #NFTs LIVE...</td>\n      <td>2022-12-23T17:42:40Z</td>\n      <td>OXP,XRP</td>\n      <td>0.0</td>\n      <td>https://cryptopanic.com/news/17231923/RT-Anony...</td>\n      <td>NaN</td>\n    </tr>\n  </tbody>\n</table>\n<p>1678 rows × 7 columns</p>\n</div>"
     },
     "execution_count": 20,
     "metadata": {},
     "output_type": "execute_result"
    }
   ],
   "source": [
    "data = pd.DataFrame()\n",
    "for filename in filenames:\n",
    "    print('Reading', filename)\n",
    "    df = pd.read_csv(filename, sep=';', header=0)\n",
    "    data = pd.concat([data, df]).reset_index(drop=True)\n",
    "data"
   ]
  },
  {
   "cell_type": "code",
   "execution_count": 22,
   "id": "a0813d96",
   "metadata": {
    "ExecuteTime": {
     "start_time": "2023-12-07T11:21:56.124311Z",
     "end_time": "2023-12-07T11:21:56.261748Z"
    }
   },
   "outputs": [
    {
     "data": {
      "text/plain": "<Axes: xlabel='News value', ylabel='count'>"
     },
     "execution_count": 22,
     "metadata": {},
     "output_type": "execute_result"
    },
    {
     "data": {
      "text/plain": "<Figure size 1200x800 with 1 Axes>",
      "image/png": "[encoded data removed]"
     },
     "metadata": {},
     "output_type": "display_data"
    }
   ],
   "source": [
    "plt.figure(figsize=(12, 8))\n",
    "sns.countplot(x=data['News value'])"
   ]
  },
  {
   "cell_type": "code",
   "execution_count": 23,
   "id": "c9834a67",
   "metadata": {
    "ExecuteTime": {
     "start_time": "2023-12-07T11:22:58.758875Z",
     "end_time": "2023-12-07T11:22:58.774976Z"
    }
   },
   "outputs": [],
   "source": [
    "from io import StringIO\n",
    "from html.parser import HTMLParser\n",
    "\n",
    "class MLStripper(HTMLParser):\n",
    "    def __init__(self):\n",
    "        super().__init__()\n",
    "        self.reset()\n",
    "        self.strict = False\n",
    "        self.convert_charrefs= True\n",
    "        self.text = StringIO()\n",
    "    def handle_data(self, d):\n",
    "        self.text.write(d)\n",
    "    def get_data(self):\n",
    "        return self.text.getvalue()\n",
    "\n",
    "def strip_tags(html):\n",
    "    s = MLStripper()\n",
    "    s.feed(html)\n",
    "    return s.get_data()"
   ]
  },
  {
   "cell_type": "code",
   "execution_count": 24,
   "id": "9cd5176a",
   "metadata": {
    "ExecuteTime": {
     "start_time": "2023-12-07T11:22:59.379920Z",
     "end_time": "2023-12-07T11:22:59.391439Z"
    }
   },
   "outputs": [
    {
     "name": "stdout",
     "output_type": "stream",
     "text": [
      "<class 'pandas.core.frame.DataFrame'>\n",
      "RangeIndex: 1678 entries, 0 to 1677\n",
      "Data columns (total 7 columns):\n",
      " #   Column         Non-Null Count  Dtype  \n",
      "---  ------         --------------  -----  \n",
      " 0   source         1657 non-null   object \n",
      " 1   title          1668 non-null   object \n",
      " 2   published_at   1657 non-null   object \n",
      " 3   currencies     1626 non-null   object \n",
      " 4   News value     1669 non-null   float64\n",
      " 5   full_news_url  1677 non-null   object \n",
      " 6   description    1357 non-null   object \n",
      "dtypes: float64(1), object(6)\n",
      "memory usage: 91.9+ KB\n"
     ]
    }
   ],
   "source": [
    "data.info()"
   ]
  },
  {
   "cell_type": "code",
   "execution_count": 25,
   "id": "9b1e6485",
   "metadata": {
    "ExecuteTime": {
     "start_time": "2023-12-07T11:23:00.821694Z",
     "end_time": "2023-12-07T11:23:00.850308Z"
    }
   },
   "outputs": [
    {
     "data": {
      "text/plain": "                       source  \\\n1               CoinTelegraph   \n2              The Daily Hodl   \n3              The Daily Hodl   \n4            Bitcoin Magazine   \n5               CoinTelegraph   \n...                       ...   \n1668                AMBCrypto   \n1670               Blockworks   \n1673  Feed - Cryptopotato.Com   \n1674              CryptoSlate   \n1676           The Daily Hodl   \n\n                                                  title          published_at  \\\n1     Bitcoin options data shows bulls aiming for $1...  2022-12-07T19:12:11Z   \n2     Crypto Exchange Coinbase Adds Support for Two ...  2022-12-07T19:05:54Z   \n3     BitKeep Wallet Goes Live With .Bayc and Other ...  2022-12-07T19:05:16Z   \n4     Kazakhstan Presses On With Restrictive Bitcoin...  2022-12-07T18:53:00Z   \n5      The blockchain trilemma: Can it ever be tackled?  2022-12-07T18:33:00Z   \n...                                                 ...                   ...   \n1668  Binance takes measures to end attacks; BNB’s o...  2022-12-23T18:30:25Z   \n1670  Crypto ETFs Sank in 2022, but These 3 ‘Blockch...  2022-12-23T18:16:12Z   \n1673  OKX Proof-of-Reserves Report: Bitcoin, Ether, ...  2022-12-23T18:10:53Z   \n1674  Bitcoin miners increased hash rate and product...  2022-12-23T18:00:30Z   \n1676  Twitter Adds Bitcoin (BTC) and Ethereum (ETH) ...  2022-12-23T17:55:29Z   \n\n     currencies  News value  \\\n1           BTC         1.0   \n2       ETH,RPL         0.0   \n3           ETH         0.0   \n4           BTC         0.0   \n5     ETH,MATIC         0.0   \n...         ...         ...   \n1668        BNB         0.0   \n1670        BTC         0.0   \n1673       USDT         1.0   \n1674        BTC         0.0   \n1676    BTC,ETH         1.0   \n\n                                          full_news_url  \\\n1     https://cryptopanic.com/news/17094680/Bitcoin-...   \n2     https://cryptopanic.com/news/17094653/Crypto-E...   \n3     https://cryptopanic.com/news/17094654/BitKeep-...   \n4     https://cryptopanic.com/news/17094603/Kazakhst...   \n5     https://cryptopanic.com/news/17094549/The-bloc...   \n...                                                 ...   \n1668  https://cryptopanic.com/news/17225912/Binance-...   \n1670  https://cryptopanic.com/news/17225879/Crypto-E...   \n1673  https://cryptopanic.com/news/17225884/OKX-Proo...   \n1674  https://cryptopanic.com/news/17225863/Bitcoin-...   \n1676  https://cryptopanic.com/news/17225843/Twitter-...   \n\n                                            description  \n1     <p>BTC bulls could secure a $130 million profi...  \n2     <p>Top US crypto exchange Coinbase has given s...  \n3     <p>December 5, 2022 As simplified wallet addre...  \n4     <p>A bill that would create new licensing and ...  \n5     <p>Blockchain trilemma is arguably the hardest...  \n...                                                 ...  \n1668  Binance clears the air of doubts about its com...  \n1670  <p>Amplify’s actively managed BLOK fund is dow...  \n1673  <p>The recently published Merkle tree PoR prog...  \n1674  <p>The price of Bitcoin (BTC) fell by 64.68% t...  \n1676  <p>Social media giant Twitter is adding Bitcoi...  \n\n[1357 rows x 7 columns]",
      "text/html": "<div>\n<style scoped>\n    .dataframe tbody tr th:only-of-type {\n        vertical-align: middle;\n    }\n\n    .dataframe tbody tr th {\n        vertical-align: top;\n    }\n\n    .dataframe thead th {\n        text-align: right;\n    }\n</style>\n<table border=\"1\" class=\"dataframe\">\n  <thead>\n    <tr style=\"text-align: right;\">\n      <th></th>\n      <th>source</th>\n      <th>title</th>\n      <th>published_at</th>\n      <th>currencies</th>\n      <th>News value</th>\n      <th>full_news_url</th>\n      <th>description</th>\n    </tr>\n  </thead>\n  <tbody>\n    <tr>\n      <th>1</th>\n      <td>CoinTelegraph</td>\n      <td>Bitcoin options data shows bulls aiming for $1...</td>\n      <td>2022-12-07T19:12:11Z</td>\n      <td>BTC</td>\n      <td>1.0</td>\n      <td>https://cryptopanic.com/news/17094680/Bitcoin-...</td>\n      <td>&lt;p&gt;BTC bulls could secure a $130 million profi...</td>\n    </tr>\n    <tr>\n      <th>2</th>\n      <td>The Daily Hodl</td>\n      <td>Crypto Exchange Coinbase Adds Support for Two ...</td>\n      <td>2022-12-07T19:05:54Z</td>\n      <td>ETH,RPL</td>\n      <td>0.0</td>\n      <td>https://cryptopanic.com/news/17094653/Crypto-E...</td>\n      <td>&lt;p&gt;Top US crypto exchange Coinbase has given s...</td>\n    </tr>\n    <tr>\n      <th>3</th>\n      <td>The Daily Hodl</td>\n      <td>BitKeep Wallet Goes Live With .Bayc and Other ...</td>\n      <td>2022-12-07T19:05:16Z</td>\n      <td>ETH</td>\n      <td>0.0</td>\n      <td>https://cryptopanic.com/news/17094654/BitKeep-...</td>\n      <td>&lt;p&gt;December 5, 2022 As simplified wallet addre...</td>\n    </tr>\n    <tr>\n      <th>4</th>\n      <td>Bitcoin Magazine</td>\n      <td>Kazakhstan Presses On With Restrictive Bitcoin...</td>\n      <td>2022-12-07T18:53:00Z</td>\n      <td>BTC</td>\n      <td>0.0</td>\n      <td>https://cryptopanic.com/news/17094603/Kazakhst...</td>\n      <td>&lt;p&gt;A bill that would create new licensing and ...</td>\n    </tr>\n    <tr>\n      <th>5</th>\n      <td>CoinTelegraph</td>\n      <td>The blockchain trilemma: Can it ever be tackled?</td>\n      <td>2022-12-07T18:33:00Z</td>\n      <td>ETH,MATIC</td>\n      <td>0.0</td>\n      <td>https://cryptopanic.com/news/17094549/The-bloc...</td>\n      <td>&lt;p&gt;Blockchain trilemma is arguably the hardest...</td>\n    </tr>\n    <tr>\n      <th>...</th>\n      <td>...</td>\n      <td>...</td>\n      <td>...</td>\n      <td>...</td>\n      <td>...</td>\n      <td>...</td>\n      <td>...</td>\n    </tr>\n    <tr>\n      <th>1668</th>\n      <td>AMBCrypto</td>\n      <td>Binance takes measures to end attacks; BNB’s o...</td>\n      <td>2022-12-23T18:30:25Z</td>\n      <td>BNB</td>\n      <td>0.0</td>\n      <td>https://cryptopanic.com/news/17225912/Binance-...</td>\n      <td>Binance clears the air of doubts about its com...</td>\n    </tr>\n    <tr>\n      <th>1670</th>\n      <td>Blockworks</td>\n      <td>Crypto ETFs Sank in 2022, but These 3 ‘Blockch...</td>\n      <td>2022-12-23T18:16:12Z</td>\n      <td>BTC</td>\n      <td>0.0</td>\n      <td>https://cryptopanic.com/news/17225879/Crypto-E...</td>\n      <td>&lt;p&gt;Amplify’s actively managed BLOK fund is dow...</td>\n    </tr>\n    <tr>\n      <th>1673</th>\n      <td>Feed - Cryptopotato.Com</td>\n      <td>OKX Proof-of-Reserves Report: Bitcoin, Ether, ...</td>\n      <td>2022-12-23T18:10:53Z</td>\n      <td>USDT</td>\n      <td>1.0</td>\n      <td>https://cryptopanic.com/news/17225884/OKX-Proo...</td>\n      <td>&lt;p&gt;The recently published Merkle tree PoR prog...</td>\n    </tr>\n    <tr>\n      <th>1674</th>\n      <td>CryptoSlate</td>\n      <td>Bitcoin miners increased hash rate and product...</td>\n      <td>2022-12-23T18:00:30Z</td>\n      <td>BTC</td>\n      <td>0.0</td>\n      <td>https://cryptopanic.com/news/17225863/Bitcoin-...</td>\n      <td>&lt;p&gt;The price of Bitcoin (BTC) fell by 64.68% t...</td>\n    </tr>\n    <tr>\n      <th>1676</th>\n      <td>The Daily Hodl</td>\n      <td>Twitter Adds Bitcoin (BTC) and Ethereum (ETH) ...</td>\n      <td>2022-12-23T17:55:29Z</td>\n      <td>BTC,ETH</td>\n      <td>1.0</td>\n      <td>https://cryptopanic.com/news/17225843/Twitter-...</td>\n      <td>&lt;p&gt;Social media giant Twitter is adding Bitcoi...</td>\n    </tr>\n  </tbody>\n</table>\n<p>1357 rows × 7 columns</p>\n</div>"
     },
     "execution_count": 25,
     "metadata": {},
     "output_type": "execute_result"
    }
   ],
   "source": [
    "data = data[~data['description'].isna()]\n",
    "data"
   ]
  },
  {
   "cell_type": "code",
   "execution_count": 26,
   "id": "ae8bc4bf",
   "metadata": {
    "ExecuteTime": {
     "start_time": "2023-12-07T11:23:04.382029Z",
     "end_time": "2023-12-07T11:23:04.401127Z"
    }
   },
   "outputs": [
    {
     "data": {
      "text/plain": "                source                                              title  \\\n1        CoinTelegraph  Bitcoin options data shows bulls aiming for $1...   \n2       The Daily Hodl  Crypto Exchange Coinbase Adds Support for Two ...   \n3       The Daily Hodl  BitKeep Wallet Goes Live With .Bayc and Other ...   \n4     Bitcoin Magazine  Kazakhstan Presses On With Restrictive Bitcoin...   \n5        CoinTelegraph   The blockchain trilemma: Can it ever be tackled?   \n...                ...                                                ...   \n1654           U.Today      Ethereum (ETH) Price Analysis for December 23   \n1657          ZyCrypto  Digital Assets Amongst Vulnerabilities Within ...   \n1658    The Daily Hodl  Cardano, Litecoin and Monero Will Not Be Added...   \n1660          ZyCrypto  Binance plans to invest in India’s web3 startu...   \n1663          ZyCrypto  Regulation Alone Isn’t Enough To Address Short...   \n\n              published_at           currencies  News value  \\\n1     2022-12-07T19:12:11Z                  BTC         1.0   \n2     2022-12-07T19:05:54Z              ETH,RPL         0.0   \n3     2022-12-07T19:05:16Z                  ETH         0.0   \n4     2022-12-07T18:53:00Z                  BTC         0.0   \n5     2022-12-07T18:33:00Z            ETH,MATIC         0.0   \n...                    ...                  ...         ...   \n1654  2022-12-23T20:00:00Z                  ETH         0.0   \n1657  2022-12-23T19:47:30Z              ETH,XRP         0.0   \n1658  2022-12-23T19:41:41Z  BTC,ETH,ADA,LTC,XMR         1.0   \n1660  2022-12-23T19:24:08Z          BTC,ETH,XRP         1.0   \n1663  2022-12-23T19:04:34Z              ETH,XRP         0.0   \n\n                                          full_news_url  \\\n1     https://cryptopanic.com/news/17094680/Bitcoin-...   \n2     https://cryptopanic.com/news/17094653/Crypto-E...   \n3     https://cryptopanic.com/news/17094654/BitKeep-...   \n4     https://cryptopanic.com/news/17094603/Kazakhst...   \n5     https://cryptopanic.com/news/17094549/The-bloc...   \n...                                                 ...   \n1654  https://cryptopanic.com/news/17226113/Ethereum...   \n1657  https://cryptopanic.com/news/17226085/Digital-...   \n1658  https://cryptopanic.com/news/17226084/Cardano-...   \n1660  https://cryptopanic.com/news/17226053/Binance-...   \n1663  https://cryptopanic.com/news/17226015/Regulati...   \n\n                                            description  \n1     <p>BTC bulls could secure a $130 million profi...  \n2     <p>Top US crypto exchange Coinbase has given s...  \n3     <p>December 5, 2022 As simplified wallet addre...  \n4     <p>A bill that would create new licensing and ...  \n5     <p>Blockchain trilemma is arguably the hardest...  \n...                                                 ...  \n1654  <p>How great are chances for continued rise of...  \n1657  The Financial Stability Oversight Council (FSO...  \n1658  <p>A top executive of peer-to-peer crypto exch...  \n1660  Binance’s Chief Technology Officer (CTO) Rohit...  \n1663  According to Fabio Panetta, a Member of the Ex...  \n\n[1336 rows x 7 columns]",
      "text/html": "<div>\n<style scoped>\n    .dataframe tbody tr th:only-of-type {\n        vertical-align: middle;\n    }\n\n    .dataframe tbody tr th {\n        vertical-align: top;\n    }\n\n    .dataframe thead th {\n        text-align: right;\n    }\n</style>\n<table border=\"1\" class=\"dataframe\">\n  <thead>\n    <tr style=\"text-align: right;\">\n      <th></th>\n      <th>source</th>\n      <th>title</th>\n      <th>published_at</th>\n      <th>currencies</th>\n      <th>News value</th>\n      <th>full_news_url</th>\n      <th>description</th>\n    </tr>\n  </thead>\n  <tbody>\n    <tr>\n      <th>1</th>\n      <td>CoinTelegraph</td>\n      <td>Bitcoin options data shows bulls aiming for $1...</td>\n      <td>2022-12-07T19:12:11Z</td>\n      <td>BTC</td>\n      <td>1.0</td>\n      <td>https://cryptopanic.com/news/17094680/Bitcoin-...</td>\n      <td>&lt;p&gt;BTC bulls could secure a $130 million profi...</td>\n    </tr>\n    <tr>\n      <th>2</th>\n      <td>The Daily Hodl</td>\n      <td>Crypto Exchange Coinbase Adds Support for Two ...</td>\n      <td>2022-12-07T19:05:54Z</td>\n      <td>ETH,RPL</td>\n      <td>0.0</td>\n      <td>https://cryptopanic.com/news/17094653/Crypto-E...</td>\n      <td>&lt;p&gt;Top US crypto exchange Coinbase has given s...</td>\n    </tr>\n    <tr>\n      <th>3</th>\n      <td>The Daily Hodl</td>\n      <td>BitKeep Wallet Goes Live With .Bayc and Other ...</td>\n      <td>2022-12-07T19:05:16Z</td>\n      <td>ETH</td>\n      <td>0.0</td>\n      <td>https://cryptopanic.com/news/17094654/BitKeep-...</td>\n      <td>&lt;p&gt;December 5, 2022 As simplified wallet addre...</td>\n    </tr>\n    <tr>\n      <th>4</th>\n      <td>Bitcoin Magazine</td>\n      <td>Kazakhstan Presses On With Restrictive Bitcoin...</td>\n      <td>2022-12-07T18:53:00Z</td>\n      <td>BTC</td>\n      <td>0.0</td>\n      <td>https://cryptopanic.com/news/17094603/Kazakhst...</td>\n      <td>&lt;p&gt;A bill that would create new licensing and ...</td>\n    </tr>\n    <tr>\n      <th>5</th>\n      <td>CoinTelegraph</td>\n      <td>The blockchain trilemma: Can it ever be tackled?</td>\n      <td>2022-12-07T18:33:00Z</td>\n      <td>ETH,MATIC</td>\n      <td>0.0</td>\n      <td>https://cryptopanic.com/news/17094549/The-bloc...</td>\n      <td>&lt;p&gt;Blockchain trilemma is arguably the hardest...</td>\n    </tr>\n    <tr>\n      <th>...</th>\n      <td>...</td>\n      <td>...</td>\n      <td>...</td>\n      <td>...</td>\n      <td>...</td>\n      <td>...</td>\n      <td>...</td>\n    </tr>\n    <tr>\n      <th>1654</th>\n      <td>U.Today</td>\n      <td>Ethereum (ETH) Price Analysis for December 23</td>\n      <td>2022-12-23T20:00:00Z</td>\n      <td>ETH</td>\n      <td>0.0</td>\n      <td>https://cryptopanic.com/news/17226113/Ethereum...</td>\n      <td>&lt;p&gt;How great are chances for continued rise of...</td>\n    </tr>\n    <tr>\n      <th>1657</th>\n      <td>ZyCrypto</td>\n      <td>Digital Assets Amongst Vulnerabilities Within ...</td>\n      <td>2022-12-23T19:47:30Z</td>\n      <td>ETH,XRP</td>\n      <td>0.0</td>\n      <td>https://cryptopanic.com/news/17226085/Digital-...</td>\n      <td>The Financial Stability Oversight Council (FSO...</td>\n    </tr>\n    <tr>\n      <th>1658</th>\n      <td>The Daily Hodl</td>\n      <td>Cardano, Litecoin and Monero Will Not Be Added...</td>\n      <td>2022-12-23T19:41:41Z</td>\n      <td>BTC,ETH,ADA,LTC,XMR</td>\n      <td>1.0</td>\n      <td>https://cryptopanic.com/news/17226084/Cardano-...</td>\n      <td>&lt;p&gt;A top executive of peer-to-peer crypto exch...</td>\n    </tr>\n    <tr>\n      <th>1660</th>\n      <td>ZyCrypto</td>\n      <td>Binance plans to invest in India’s web3 startu...</td>\n      <td>2022-12-23T19:24:08Z</td>\n      <td>BTC,ETH,XRP</td>\n      <td>1.0</td>\n      <td>https://cryptopanic.com/news/17226053/Binance-...</td>\n      <td>Binance’s Chief Technology Officer (CTO) Rohit...</td>\n    </tr>\n    <tr>\n      <th>1663</th>\n      <td>ZyCrypto</td>\n      <td>Regulation Alone Isn’t Enough To Address Short...</td>\n      <td>2022-12-23T19:04:34Z</td>\n      <td>ETH,XRP</td>\n      <td>0.0</td>\n      <td>https://cryptopanic.com/news/17226015/Regulati...</td>\n      <td>According to Fabio Panetta, a Member of the Ex...</td>\n    </tr>\n  </tbody>\n</table>\n<p>1336 rows × 7 columns</p>\n</div>"
     },
     "execution_count": 26,
     "metadata": {},
     "output_type": "execute_result"
    }
   ],
   "source": [
    "data = data.drop_duplicates(['description'])\n",
    "data"
   ]
  },
  {
   "cell_type": "code",
   "execution_count": 27,
   "id": "d97ee377",
   "metadata": {
    "ExecuteTime": {
     "start_time": "2023-12-07T11:23:06.296315Z",
     "end_time": "2023-12-07T11:23:06.335909Z"
    }
   },
   "outputs": [
    {
     "name": "stderr",
     "output_type": "stream",
     "text": [
      "/var/folders/tn/_r_b9n8d0bg1fzccsh7yq_sc0000gn/T/ipykernel_22630/1640379453.py:1: SettingWithCopyWarning: \n",
      "A value is trying to be set on a copy of a slice from a DataFrame.\n",
      "Try using .loc[row_indexer,col_indexer] = value instead\n",
      "\n",
      "See the caveats in the documentation: https://pandas.pydata.org/pandas-docs/stable/user_guide/indexing.html#returning-a-view-versus-a-copy\n",
      "  data['description'] = data['description'].apply(strip_tags)\n"
     ]
    },
    {
     "data": {
      "text/plain": "                source                                              title  \\\n0        CoinTelegraph  Bitcoin options data shows bulls aiming for $1...   \n1       The Daily Hodl  Crypto Exchange Coinbase Adds Support for Two ...   \n2       The Daily Hodl  BitKeep Wallet Goes Live With .Bayc and Other ...   \n3     Bitcoin Magazine  Kazakhstan Presses On With Restrictive Bitcoin...   \n4        CoinTelegraph   The blockchain trilemma: Can it ever be tackled?   \n...                ...                                                ...   \n1331           U.Today      Ethereum (ETH) Price Analysis for December 23   \n1332          ZyCrypto  Digital Assets Amongst Vulnerabilities Within ...   \n1333    The Daily Hodl  Cardano, Litecoin and Monero Will Not Be Added...   \n1334          ZyCrypto  Binance plans to invest in India’s web3 startu...   \n1335          ZyCrypto  Regulation Alone Isn’t Enough To Address Short...   \n\n              published_at           currencies  News value  \\\n0     2022-12-07T19:12:11Z                  BTC         1.0   \n1     2022-12-07T19:05:54Z              ETH,RPL         0.0   \n2     2022-12-07T19:05:16Z                  ETH         0.0   \n3     2022-12-07T18:53:00Z                  BTC         0.0   \n4     2022-12-07T18:33:00Z            ETH,MATIC         0.0   \n...                    ...                  ...         ...   \n1331  2022-12-23T20:00:00Z                  ETH         0.0   \n1332  2022-12-23T19:47:30Z              ETH,XRP         0.0   \n1333  2022-12-23T19:41:41Z  BTC,ETH,ADA,LTC,XMR         1.0   \n1334  2022-12-23T19:24:08Z          BTC,ETH,XRP         1.0   \n1335  2022-12-23T19:04:34Z              ETH,XRP         0.0   \n\n                                          full_news_url  \\\n0     https://cryptopanic.com/news/17094680/Bitcoin-...   \n1     https://cryptopanic.com/news/17094653/Crypto-E...   \n2     https://cryptopanic.com/news/17094654/BitKeep-...   \n3     https://cryptopanic.com/news/17094603/Kazakhst...   \n4     https://cryptopanic.com/news/17094549/The-bloc...   \n...                                                 ...   \n1331  https://cryptopanic.com/news/17226113/Ethereum...   \n1332  https://cryptopanic.com/news/17226085/Digital-...   \n1333  https://cryptopanic.com/news/17226084/Cardano-...   \n1334  https://cryptopanic.com/news/17226053/Binance-...   \n1335  https://cryptopanic.com/news/17226015/Regulati...   \n\n                                            description  \n0     BTC bulls could secure a $130 million profit i...  \n1     Top US crypto exchange Coinbase has given supp...  \n2     December 5, 2022 As simplified wallet addresse...  \n3     A bill that would create new licensing and ele...  \n4     Blockchain trilemma is arguably the hardest te...  \n...                                                 ...  \n1331  How great are chances for continued rise of Et...  \n1332  The Financial Stability Oversight Council (FSO...  \n1333  A top executive of peer-to-peer crypto exchang...  \n1334  Binance’s Chief Technology Officer (CTO) Rohit...  \n1335  According to Fabio Panetta, a Member of the Ex...  \n\n[1336 rows x 7 columns]",
      "text/html": "<div>\n<style scoped>\n    .dataframe tbody tr th:only-of-type {\n        vertical-align: middle;\n    }\n\n    .dataframe tbody tr th {\n        vertical-align: top;\n    }\n\n    .dataframe thead th {\n        text-align: right;\n    }\n</style>\n<table border=\"1\" class=\"dataframe\">\n  <thead>\n    <tr style=\"text-align: right;\">\n      <th></th>\n      <th>source</th>\n      <th>title</th>\n      <th>published_at</th>\n      <th>currencies</th>\n      <th>News value</th>\n      <th>full_news_url</th>\n      <th>description</th>\n    </tr>\n  </thead>\n  <tbody>\n    <tr>\n      <th>0</th>\n      <td>CoinTelegraph</td>\n      <td>Bitcoin options data shows bulls aiming for $1...</td>\n      <td>2022-12-07T19:12:11Z</td>\n      <td>BTC</td>\n      <td>1.0</td>\n      <td>https://cryptopanic.com/news/17094680/Bitcoin-...</td>\n      <td>BTC bulls could secure a $130 million profit i...</td>\n    </tr>\n    <tr>\n      <th>1</th>\n      <td>The Daily Hodl</td>\n      <td>Crypto Exchange Coinbase Adds Support for Two ...</td>\n      <td>2022-12-07T19:05:54Z</td>\n      <td>ETH,RPL</td>\n      <td>0.0</td>\n      <td>https://cryptopanic.com/news/17094653/Crypto-E...</td>\n      <td>Top US crypto exchange Coinbase has given supp...</td>\n    </tr>\n    <tr>\n      <th>2</th>\n      <td>The Daily Hodl</td>\n      <td>BitKeep Wallet Goes Live With .Bayc and Other ...</td>\n      <td>2022-12-07T19:05:16Z</td>\n      <td>ETH</td>\n      <td>0.0</td>\n      <td>https://cryptopanic.com/news/17094654/BitKeep-...</td>\n      <td>December 5, 2022 As simplified wallet addresse...</td>\n    </tr>\n    <tr>\n      <th>3</th>\n      <td>Bitcoin Magazine</td>\n      <td>Kazakhstan Presses On With Restrictive Bitcoin...</td>\n      <td>2022-12-07T18:53:00Z</td>\n      <td>BTC</td>\n      <td>0.0</td>\n      <td>https://cryptopanic.com/news/17094603/Kazakhst...</td>\n      <td>A bill that would create new licensing and ele...</td>\n    </tr>\n    <tr>\n      <th>4</th>\n      <td>CoinTelegraph</td>\n      <td>The blockchain trilemma: Can it ever be tackled?</td>\n      <td>2022-12-07T18:33:00Z</td>\n      <td>ETH,MATIC</td>\n      <td>0.0</td>\n      <td>https://cryptopanic.com/news/17094549/The-bloc...</td>\n      <td>Blockchain trilemma is arguably the hardest te...</td>\n    </tr>\n    <tr>\n      <th>...</th>\n      <td>...</td>\n      <td>...</td>\n      <td>...</td>\n      <td>...</td>\n      <td>...</td>\n      <td>...</td>\n      <td>...</td>\n    </tr>\n    <tr>\n      <th>1331</th>\n      <td>U.Today</td>\n      <td>Ethereum (ETH) Price Analysis for December 23</td>\n      <td>2022-12-23T20:00:00Z</td>\n      <td>ETH</td>\n      <td>0.0</td>\n      <td>https://cryptopanic.com/news/17226113/Ethereum...</td>\n      <td>How great are chances for continued rise of Et...</td>\n    </tr>\n    <tr>\n      <th>1332</th>\n      <td>ZyCrypto</td>\n      <td>Digital Assets Amongst Vulnerabilities Within ...</td>\n      <td>2022-12-23T19:47:30Z</td>\n      <td>ETH,XRP</td>\n      <td>0.0</td>\n      <td>https://cryptopanic.com/news/17226085/Digital-...</td>\n      <td>The Financial Stability Oversight Council (FSO...</td>\n    </tr>\n    <tr>\n      <th>1333</th>\n      <td>The Daily Hodl</td>\n      <td>Cardano, Litecoin and Monero Will Not Be Added...</td>\n      <td>2022-12-23T19:41:41Z</td>\n      <td>BTC,ETH,ADA,LTC,XMR</td>\n      <td>1.0</td>\n      <td>https://cryptopanic.com/news/17226084/Cardano-...</td>\n      <td>A top executive of peer-to-peer crypto exchang...</td>\n    </tr>\n    <tr>\n      <th>1334</th>\n      <td>ZyCrypto</td>\n      <td>Binance plans to invest in India’s web3 startu...</td>\n      <td>2022-12-23T19:24:08Z</td>\n      <td>BTC,ETH,XRP</td>\n      <td>1.0</td>\n      <td>https://cryptopanic.com/news/17226053/Binance-...</td>\n      <td>Binance’s Chief Technology Officer (CTO) Rohit...</td>\n    </tr>\n    <tr>\n      <th>1335</th>\n      <td>ZyCrypto</td>\n      <td>Regulation Alone Isn’t Enough To Address Short...</td>\n      <td>2022-12-23T19:04:34Z</td>\n      <td>ETH,XRP</td>\n      <td>0.0</td>\n      <td>https://cryptopanic.com/news/17226015/Regulati...</td>\n      <td>According to Fabio Panetta, a Member of the Ex...</td>\n    </tr>\n  </tbody>\n</table>\n<p>1336 rows × 7 columns</p>\n</div>"
     },
     "execution_count": 27,
     "metadata": {},
     "output_type": "execute_result"
    }
   ],
   "source": [
    "data['description'] = data['description'].apply(strip_tags)\n",
    "data = data.reset_index(drop=True)\n",
    "data"
   ]
  },
  {
   "cell_type": "code",
   "execution_count": 28,
   "id": "06f62ea3",
   "metadata": {
    "ExecuteTime": {
     "start_time": "2023-12-07T11:23:12.322081Z",
     "end_time": "2023-12-07T11:23:12.337916Z"
    }
   },
   "outputs": [
    {
     "data": {
      "text/plain": "0       Source: CoinTelegraph Title: Bitcoin options d...\n1       Source: The Daily Hodl Title: Crypto Exchange ...\n2       Source: The Daily Hodl Title: BitKeep Wallet G...\n3       Source: Bitcoin Magazine Title: Kazakhstan Pre...\n4       Source: CoinTelegraph Title: The blockchain tr...\n                              ...                        \n1331    Source: U.Today Title: Ethereum (ETH) Price An...\n1332    Source: ZyCrypto Title: Digital Assets Amongst...\n1333    Source: The Daily Hodl Title: Cardano, Litecoi...\n1334    Source: ZyCrypto Title: Binance plans to inves...\n1335    Source: ZyCrypto Title: Regulation Alone Isn’t...\nName: combined, Length: 1336, dtype: object"
     },
     "execution_count": 28,
     "metadata": {},
     "output_type": "execute_result"
    }
   ],
   "source": [
    "data['combined'] = 'Source: ' + data['source'] + ' Title: ' + data['title'] + ' Description: ' + data['description']\n",
    "data['combined']"
   ]
  },
  {
   "cell_type": "code",
   "execution_count": 29,
   "id": "e022d7a0",
   "metadata": {
    "ExecuteTime": {
     "start_time": "2023-12-07T11:23:14.003504Z",
     "end_time": "2023-12-07T11:23:14.009298Z"
    }
   },
   "outputs": [
    {
     "data": {
      "text/plain": "0       Source: CoinTelegraph Title: Bitcoin options d...\n1       Source: The Daily Hodl Title: Crypto Exchange ...\n2       Source: The Daily Hodl Title: BitKeep Wallet G...\n3       Source: Bitcoin Magazine Title: Kazakhstan Pre...\n4       Source: CoinTelegraph Title: The blockchain tr...\n                              ...                        \n1331    Source: U.Today Title: Ethereum (ETH) Price An...\n1332    Source: ZyCrypto Title: Digital Assets Amongst...\n1333    Source: The Daily Hodl Title: Cardano, Litecoi...\n1334    Source: ZyCrypto Title: Binance plans to inves...\n1335    Source: ZyCrypto Title: Regulation Alone Isn’t...\nName: combined, Length: 1318, dtype: object"
     },
     "execution_count": 29,
     "metadata": {},
     "output_type": "execute_result"
    }
   ],
   "source": [
    "data = data[~data['combined'].isna()]\n",
    "data['combined']"
   ]
  },
  {
   "cell_type": "code",
   "execution_count": 30,
   "id": "cbc52ef9",
   "metadata": {
    "ExecuteTime": {
     "start_time": "2023-12-07T11:23:21.478319Z",
     "end_time": "2023-12-07T11:23:21.504228Z"
    }
   },
   "outputs": [
    {
     "data": {
      "text/plain": "                source                                              title  \\\n0        CoinTelegraph  Bitcoin options data shows bulls aiming for $1...   \n1       The Daily Hodl  Crypto Exchange Coinbase Adds Support for Two ...   \n2       The Daily Hodl  BitKeep Wallet Goes Live With .Bayc and Other ...   \n3     Bitcoin Magazine  Kazakhstan Presses On With Restrictive Bitcoin...   \n4        CoinTelegraph   The blockchain trilemma: Can it ever be tackled?   \n...                ...                                                ...   \n1313           U.Today      Ethereum (ETH) Price Analysis for December 23   \n1314          ZyCrypto  Digital Assets Amongst Vulnerabilities Within ...   \n1315    The Daily Hodl  Cardano, Litecoin and Monero Will Not Be Added...   \n1316          ZyCrypto  Binance plans to invest in India’s web3 startu...   \n1317          ZyCrypto  Regulation Alone Isn’t Enough To Address Short...   \n\n              published_at           currencies  News value  \\\n0     2022-12-07T19:12:11Z                  BTC         1.0   \n1     2022-12-07T19:05:54Z              ETH,RPL         0.0   \n2     2022-12-07T19:05:16Z                  ETH         0.0   \n3     2022-12-07T18:53:00Z                  BTC         0.0   \n4     2022-12-07T18:33:00Z            ETH,MATIC         0.0   \n...                    ...                  ...         ...   \n1313  2022-12-23T20:00:00Z                  ETH         0.0   \n1314  2022-12-23T19:47:30Z              ETH,XRP         0.0   \n1315  2022-12-23T19:41:41Z  BTC,ETH,ADA,LTC,XMR         1.0   \n1316  2022-12-23T19:24:08Z          BTC,ETH,XRP         1.0   \n1317  2022-12-23T19:04:34Z              ETH,XRP         0.0   \n\n                                          full_news_url  \\\n0     https://cryptopanic.com/news/17094680/Bitcoin-...   \n1     https://cryptopanic.com/news/17094653/Crypto-E...   \n2     https://cryptopanic.com/news/17094654/BitKeep-...   \n3     https://cryptopanic.com/news/17094603/Kazakhst...   \n4     https://cryptopanic.com/news/17094549/The-bloc...   \n...                                                 ...   \n1313  https://cryptopanic.com/news/17226113/Ethereum...   \n1314  https://cryptopanic.com/news/17226085/Digital-...   \n1315  https://cryptopanic.com/news/17226084/Cardano-...   \n1316  https://cryptopanic.com/news/17226053/Binance-...   \n1317  https://cryptopanic.com/news/17226015/Regulati...   \n\n                                            description  \\\n0     BTC bulls could secure a $130 million profit i...   \n1     Top US crypto exchange Coinbase has given supp...   \n2     December 5, 2022 As simplified wallet addresse...   \n3     A bill that would create new licensing and ele...   \n4     Blockchain trilemma is arguably the hardest te...   \n...                                                 ...   \n1313  How great are chances for continued rise of Et...   \n1314  The Financial Stability Oversight Council (FSO...   \n1315  A top executive of peer-to-peer crypto exchang...   \n1316  Binance’s Chief Technology Officer (CTO) Rohit...   \n1317  According to Fabio Panetta, a Member of the Ex...   \n\n                                               combined  \n0     Source: CoinTelegraph Title: Bitcoin options d...  \n1     Source: The Daily Hodl Title: Crypto Exchange ...  \n2     Source: The Daily Hodl Title: BitKeep Wallet G...  \n3     Source: Bitcoin Magazine Title: Kazakhstan Pre...  \n4     Source: CoinTelegraph Title: The blockchain tr...  \n...                                                 ...  \n1313  Source: U.Today Title: Ethereum (ETH) Price An...  \n1314  Source: ZyCrypto Title: Digital Assets Amongst...  \n1315  Source: The Daily Hodl Title: Cardano, Litecoi...  \n1316  Source: ZyCrypto Title: Binance plans to inves...  \n1317  Source: ZyCrypto Title: Regulation Alone Isn’t...  \n\n[1318 rows x 8 columns]",
      "text/html": "<div>\n<style scoped>\n    .dataframe tbody tr th:only-of-type {\n        vertical-align: middle;\n    }\n\n    .dataframe tbody tr th {\n        vertical-align: top;\n    }\n\n    .dataframe thead th {\n        text-align: right;\n    }\n</style>\n<table border=\"1\" class=\"dataframe\">\n  <thead>\n    <tr style=\"text-align: right;\">\n      <th></th>\n      <th>source</th>\n      <th>title</th>\n      <th>published_at</th>\n      <th>currencies</th>\n      <th>News value</th>\n      <th>full_news_url</th>\n      <th>description</th>\n      <th>combined</th>\n    </tr>\n  </thead>\n  <tbody>\n    <tr>\n      <th>0</th>\n      <td>CoinTelegraph</td>\n      <td>Bitcoin options data shows bulls aiming for $1...</td>\n      <td>2022-12-07T19:12:11Z</td>\n      <td>BTC</td>\n      <td>1.0</td>\n      <td>https://cryptopanic.com/news/17094680/Bitcoin-...</td>\n      <td>BTC bulls could secure a $130 million profit i...</td>\n      <td>Source: CoinTelegraph Title: Bitcoin options d...</td>\n    </tr>\n    <tr>\n      <th>1</th>\n      <td>The Daily Hodl</td>\n      <td>Crypto Exchange Coinbase Adds Support for Two ...</td>\n      <td>2022-12-07T19:05:54Z</td>\n      <td>ETH,RPL</td>\n      <td>0.0</td>\n      <td>https://cryptopanic.com/news/17094653/Crypto-E...</td>\n      <td>Top US crypto exchange Coinbase has given supp...</td>\n      <td>Source: The Daily Hodl Title: Crypto Exchange ...</td>\n    </tr>\n    <tr>\n      <th>2</th>\n      <td>The Daily Hodl</td>\n      <td>BitKeep Wallet Goes Live With .Bayc and Other ...</td>\n      <td>2022-12-07T19:05:16Z</td>\n      <td>ETH</td>\n      <td>0.0</td>\n      <td>https://cryptopanic.com/news/17094654/BitKeep-...</td>\n      <td>December 5, 2022 As simplified wallet addresse...</td>\n      <td>Source: The Daily Hodl Title: BitKeep Wallet G...</td>\n    </tr>\n    <tr>\n      <th>3</th>\n      <td>Bitcoin Magazine</td>\n      <td>Kazakhstan Presses On With Restrictive Bitcoin...</td>\n      <td>2022-12-07T18:53:00Z</td>\n      <td>BTC</td>\n      <td>0.0</td>\n      <td>https://cryptopanic.com/news/17094603/Kazakhst...</td>\n      <td>A bill that would create new licensing and ele...</td>\n      <td>Source: Bitcoin Magazine Title: Kazakhstan Pre...</td>\n    </tr>\n    <tr>\n      <th>4</th>\n      <td>CoinTelegraph</td>\n      <td>The blockchain trilemma: Can it ever be tackled?</td>\n      <td>2022-12-07T18:33:00Z</td>\n      <td>ETH,MATIC</td>\n      <td>0.0</td>\n      <td>https://cryptopanic.com/news/17094549/The-bloc...</td>\n      <td>Blockchain trilemma is arguably the hardest te...</td>\n      <td>Source: CoinTelegraph Title: The blockchain tr...</td>\n    </tr>\n    <tr>\n      <th>...</th>\n      <td>...</td>\n      <td>...</td>\n      <td>...</td>\n      <td>...</td>\n      <td>...</td>\n      <td>...</td>\n      <td>...</td>\n      <td>...</td>\n    </tr>\n    <tr>\n      <th>1313</th>\n      <td>U.Today</td>\n      <td>Ethereum (ETH) Price Analysis for December 23</td>\n      <td>2022-12-23T20:00:00Z</td>\n      <td>ETH</td>\n      <td>0.0</td>\n      <td>https://cryptopanic.com/news/17226113/Ethereum...</td>\n      <td>How great are chances for continued rise of Et...</td>\n      <td>Source: U.Today Title: Ethereum (ETH) Price An...</td>\n    </tr>\n    <tr>\n      <th>1314</th>\n      <td>ZyCrypto</td>\n      <td>Digital Assets Amongst Vulnerabilities Within ...</td>\n      <td>2022-12-23T19:47:30Z</td>\n      <td>ETH,XRP</td>\n      <td>0.0</td>\n      <td>https://cryptopanic.com/news/17226085/Digital-...</td>\n      <td>The Financial Stability Oversight Council (FSO...</td>\n      <td>Source: ZyCrypto Title: Digital Assets Amongst...</td>\n    </tr>\n    <tr>\n      <th>1315</th>\n      <td>The Daily Hodl</td>\n      <td>Cardano, Litecoin and Monero Will Not Be Added...</td>\n      <td>2022-12-23T19:41:41Z</td>\n      <td>BTC,ETH,ADA,LTC,XMR</td>\n      <td>1.0</td>\n      <td>https://cryptopanic.com/news/17226084/Cardano-...</td>\n      <td>A top executive of peer-to-peer crypto exchang...</td>\n      <td>Source: The Daily Hodl Title: Cardano, Litecoi...</td>\n    </tr>\n    <tr>\n      <th>1316</th>\n      <td>ZyCrypto</td>\n      <td>Binance plans to invest in India’s web3 startu...</td>\n      <td>2022-12-23T19:24:08Z</td>\n      <td>BTC,ETH,XRP</td>\n      <td>1.0</td>\n      <td>https://cryptopanic.com/news/17226053/Binance-...</td>\n      <td>Binance’s Chief Technology Officer (CTO) Rohit...</td>\n      <td>Source: ZyCrypto Title: Binance plans to inves...</td>\n    </tr>\n    <tr>\n      <th>1317</th>\n      <td>ZyCrypto</td>\n      <td>Regulation Alone Isn’t Enough To Address Short...</td>\n      <td>2022-12-23T19:04:34Z</td>\n      <td>ETH,XRP</td>\n      <td>0.0</td>\n      <td>https://cryptopanic.com/news/17226015/Regulati...</td>\n      <td>According to Fabio Panetta, a Member of the Ex...</td>\n      <td>Source: ZyCrypto Title: Regulation Alone Isn’t...</td>\n    </tr>\n  </tbody>\n</table>\n<p>1318 rows × 8 columns</p>\n</div>"
     },
     "execution_count": 30,
     "metadata": {},
     "output_type": "execute_result"
    }
   ],
   "source": [
    "data = data.drop_duplicates(['combined']).reset_index(drop=True)\n",
    "data"
   ]
  },
  {
   "cell_type": "code",
   "execution_count": 31,
   "outputs": [],
   "source": [
    "data['label'] = data['News value'].apply(lambda x: 1 if x in [1, -1] else 0)"
   ],
   "metadata": {
    "collapsed": false,
    "ExecuteTime": {
     "start_time": "2023-12-07T11:24:11.059099Z",
     "end_time": "2023-12-07T11:24:11.063344Z"
    }
   }
  },
  {
   "cell_type": "code",
   "execution_count": 32,
   "outputs": [],
   "source": [
    "data[['source', 'title', 'description', 'combined', 'label']].rename({'combined': 'text'}, axis=1).to_csv('output/classification/FULL_source_title_description_bin_clf.csv', index=False)"
   ],
   "metadata": {
    "collapsed": false,
    "ExecuteTime": {
     "start_time": "2023-12-07T11:25:04.424890Z",
     "end_time": "2023-12-07T11:25:04.454536Z"
    }
   }
  },
  {
   "cell_type": "code",
   "execution_count": 18,
   "id": "270edac4",
   "metadata": {},
   "outputs": [],
   "source": [
    "sources = list(data['source'].unique())"
   ]
  },
  {
   "cell_type": "code",
   "execution_count": 19,
   "id": "ec674f70",
   "metadata": {},
   "outputs": [
    {
     "data": {
      "text/plain": [
       "0       0\n",
       "1       1\n",
       "2       1\n",
       "3       2\n",
       "4       0\n",
       "       ..\n",
       "1313    9\n",
       "1314    5\n",
       "1315    1\n",
       "1316    5\n",
       "1317    5\n",
       "Name: source_one_hot, Length: 1318, dtype: int64"
      ]
     },
     "execution_count": 19,
     "metadata": {},
     "output_type": "execute_result"
    }
   ],
   "source": [
    "data['source_one_hot'] = data['source'].apply(lambda x: sources.index(x))\n",
    "data['source_one_hot']"
   ]
  },
  {
   "cell_type": "code",
   "execution_count": 20,
   "id": "75f1b239",
   "metadata": {},
   "outputs": [
    {
     "data": {
      "text/html": [
       "<div>\n",
       "<style scoped>\n",
       "    .dataframe tbody tr th:only-of-type {\n",
       "        vertical-align: middle;\n",
       "    }\n",
       "\n",
       "    .dataframe tbody tr th {\n",
       "        vertical-align: top;\n",
       "    }\n",
       "\n",
       "    .dataframe thead th {\n",
       "        text-align: right;\n",
       "    }\n",
       "</style>\n",
       "<table border=\"1\" class=\"dataframe\">\n",
       "  <thead>\n",
       "    <tr style=\"text-align: right;\">\n",
       "      <th></th>\n",
       "      <th>source_one_hot</th>\n",
       "      <th>News value</th>\n",
       "    </tr>\n",
       "  </thead>\n",
       "  <tbody>\n",
       "    <tr>\n",
       "      <th>source_one_hot</th>\n",
       "      <td>1.000000</td>\n",
       "      <td>-0.041552</td>\n",
       "    </tr>\n",
       "    <tr>\n",
       "      <th>News value</th>\n",
       "      <td>-0.041552</td>\n",
       "      <td>1.000000</td>\n",
       "    </tr>\n",
       "  </tbody>\n",
       "</table>\n",
       "</div>"
      ],
      "text/plain": [
       "                source_one_hot  News value\n",
       "source_one_hot        1.000000   -0.041552\n",
       "News value           -0.041552    1.000000"
      ]
     },
     "execution_count": 20,
     "metadata": {},
     "output_type": "execute_result"
    }
   ],
   "source": [
    "data[['source_one_hot', 'News value']].corr()"
   ]
  },
  {
   "cell_type": "code",
   "execution_count": 21,
   "id": "b9f69207",
   "metadata": {},
   "outputs": [],
   "source": [
    "# data['label'] = data['News value'].apply(lambda x: 'growth' if x == 1 else 'decay' if x == -1 else 'no effect')"
   ]
  },
  {
   "cell_type": "code",
   "execution_count": 26,
   "id": "8adb5702",
   "metadata": {},
   "outputs": [],
   "source": [
    "data['label'] = data['News value'].apply(lambda x: 'change' if x in [-1, 1] else 'no effect')"
   ]
  },
  {
   "cell_type": "code",
   "execution_count": 27,
   "id": "6ac0a9ee",
   "metadata": {},
   "outputs": [
    {
     "data": {
      "text/html": [
       "<div>\n",
       "<style scoped>\n",
       "    .dataframe tbody tr th:only-of-type {\n",
       "        vertical-align: middle;\n",
       "    }\n",
       "\n",
       "    .dataframe tbody tr th {\n",
       "        vertical-align: top;\n",
       "    }\n",
       "\n",
       "    .dataframe thead th {\n",
       "        text-align: right;\n",
       "    }\n",
       "</style>\n",
       "<table border=\"1\" class=\"dataframe\">\n",
       "  <thead>\n",
       "    <tr style=\"text-align: right;\">\n",
       "      <th></th>\n",
       "      <th>prompt</th>\n",
       "      <th>completion</th>\n",
       "    </tr>\n",
       "  </thead>\n",
       "  <tbody>\n",
       "    <tr>\n",
       "      <th>0</th>\n",
       "      <td>Source: CoinTelegraph Title: Bitcoin options d...</td>\n",
       "      <td>change END</td>\n",
       "    </tr>\n",
       "    <tr>\n",
       "      <th>1</th>\n",
       "      <td>Source: The Daily Hodl Title: Crypto Exchange ...</td>\n",
       "      <td>no effect END</td>\n",
       "    </tr>\n",
       "    <tr>\n",
       "      <th>2</th>\n",
       "      <td>Source: The Daily Hodl Title: BitKeep Wallet G...</td>\n",
       "      <td>no effect END</td>\n",
       "    </tr>\n",
       "    <tr>\n",
       "      <th>3</th>\n",
       "      <td>Source: Bitcoin Magazine Title: Kazakhstan Pre...</td>\n",
       "      <td>no effect END</td>\n",
       "    </tr>\n",
       "    <tr>\n",
       "      <th>4</th>\n",
       "      <td>Source: CoinTelegraph Title: The blockchain tr...</td>\n",
       "      <td>no effect END</td>\n",
       "    </tr>\n",
       "    <tr>\n",
       "      <th>...</th>\n",
       "      <td>...</td>\n",
       "      <td>...</td>\n",
       "    </tr>\n",
       "    <tr>\n",
       "      <th>1313</th>\n",
       "      <td>Source: U.Today Title: Ethereum (ETH) Price An...</td>\n",
       "      <td>no effect END</td>\n",
       "    </tr>\n",
       "    <tr>\n",
       "      <th>1314</th>\n",
       "      <td>Source: ZyCrypto Title: Digital Assets Amongst...</td>\n",
       "      <td>no effect END</td>\n",
       "    </tr>\n",
       "    <tr>\n",
       "      <th>1315</th>\n",
       "      <td>Source: The Daily Hodl Title: Cardano, Litecoi...</td>\n",
       "      <td>change END</td>\n",
       "    </tr>\n",
       "    <tr>\n",
       "      <th>1316</th>\n",
       "      <td>Source: ZyCrypto Title: Binance plans to inves...</td>\n",
       "      <td>change END</td>\n",
       "    </tr>\n",
       "    <tr>\n",
       "      <th>1317</th>\n",
       "      <td>Source: ZyCrypto Title: Regulation Alone Isn’t...</td>\n",
       "      <td>no effect END</td>\n",
       "    </tr>\n",
       "  </tbody>\n",
       "</table>\n",
       "<p>1318 rows × 2 columns</p>\n",
       "</div>"
      ],
      "text/plain": [
       "                                                 prompt      completion\n",
       "0     Source: CoinTelegraph Title: Bitcoin options d...      change END\n",
       "1     Source: The Daily Hodl Title: Crypto Exchange ...   no effect END\n",
       "2     Source: The Daily Hodl Title: BitKeep Wallet G...   no effect END\n",
       "3     Source: Bitcoin Magazine Title: Kazakhstan Pre...   no effect END\n",
       "4     Source: CoinTelegraph Title: The blockchain tr...   no effect END\n",
       "...                                                 ...             ...\n",
       "1313  Source: U.Today Title: Ethereum (ETH) Price An...   no effect END\n",
       "1314  Source: ZyCrypto Title: Digital Assets Amongst...   no effect END\n",
       "1315  Source: The Daily Hodl Title: Cardano, Litecoi...      change END\n",
       "1316  Source: ZyCrypto Title: Binance plans to inves...      change END\n",
       "1317  Source: ZyCrypto Title: Regulation Alone Isn’t...   no effect END\n",
       "\n",
       "[1318 rows x 2 columns]"
      ]
     },
     "execution_count": 27,
     "metadata": {},
     "output_type": "execute_result"
    }
   ],
   "source": [
    "data_input = data[['combined', 'label']].copy()\n",
    "data_input.columns = ['prompt', 'completion']\n",
    "data_input['prompt'] = data_input['prompt'] + '\\n\\n###\\n\\n'\n",
    "data_input['completion'] = ' ' + data_input['completion'] + ' END'\n",
    "data_input"
   ]
  },
  {
   "cell_type": "code",
   "execution_count": 29,
   "id": "c297a95a",
   "metadata": {},
   "outputs": [],
   "source": [
    "data_input.to_json('./output/classification/source_title_description.jsonl', orient='records', lines=True)\n",
    "data_input.to_csv('./output/classification/source_title_description.csv', index=False)"
   ]
  },
  {
   "cell_type": "code",
   "execution_count": null,
   "id": "e9624a5a",
   "metadata": {},
   "outputs": [],
   "source": []
  }
 ],
 "metadata": {
  "kernelspec": {
   "display_name": "Python 3 (ipykernel)",
   "language": "python",
   "name": "python3"
  },
  "language_info": {
   "codemirror_mode": {
    "name": "ipython",
    "version": 3
   },
   "file_extension": ".py",
   "mimetype": "text/x-python",
   "name": "python",
   "nbconvert_exporter": "python",
   "pygments_lexer": "ipython3",
   "version": "3.8.12"
  }
 },
 "nbformat": 4,
 "nbformat_minor": 5
}
